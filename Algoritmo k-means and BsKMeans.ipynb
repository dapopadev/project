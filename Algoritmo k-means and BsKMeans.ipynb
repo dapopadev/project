{
  "cells": [
    {
      "cell_type": "markdown",
      "metadata": {
        "id": "view-in-github",
        "colab_type": "text"
      },
      "source": [
        "<a href=\"https://colab.research.google.com/github/dapopadev/project/blob/main/Algoritmo%20k-means%20and%20BsKMeans.ipynb\" target=\"_parent\"><img src=\"https://colab.research.google.com/assets/colab-badge.svg\" alt=\"Open In Colab\"/></a>"
      ]
    },
    {
      "cell_type": "code",
      "execution_count": 1,
      "metadata": {
        "colab": {
          "base_uri": "https://localhost:8080/"
        },
        "id": "GoaCoPI3R7RG",
        "outputId": "371b3105-c4fd-488d-b8cc-480cec5ad68e"
      },
      "outputs": [
        {
          "output_type": "stream",
          "name": "stdout",
          "text": [
            "Collecting pyspark\n",
            "  Downloading pyspark-3.4.1.tar.gz (310.8 MB)\n",
            "\u001b[2K     \u001b[90m━━━━━━━━━━━━━━━━━━━━━━━━━━━━━━━━━━━━━━━\u001b[0m \u001b[32m310.8/310.8 MB\u001b[0m \u001b[31m2.1 MB/s\u001b[0m eta \u001b[36m0:00:00\u001b[0m\n",
            "\u001b[?25h  Preparing metadata (setup.py) ... \u001b[?25l\u001b[?25hdone\n",
            "Requirement already satisfied: py4j==0.10.9.7 in /usr/local/lib/python3.10/dist-packages (from pyspark) (0.10.9.7)\n",
            "Building wheels for collected packages: pyspark\n",
            "  Building wheel for pyspark (setup.py) ... \u001b[?25l\u001b[?25hdone\n",
            "  Created wheel for pyspark: filename=pyspark-3.4.1-py2.py3-none-any.whl size=311285387 sha256=bfacee3b42dc6185f9c6f20ab232dbf33d561bf1a9d8120fd985e83d32295147\n",
            "  Stored in directory: /root/.cache/pip/wheels/0d/77/a3/ff2f74cc9ab41f8f594dabf0579c2a7c6de920d584206e0834\n",
            "Successfully built pyspark\n",
            "Installing collected packages: pyspark\n",
            "Successfully installed pyspark-3.4.1\n"
          ]
        }
      ],
      "source": [
        "!pip install pyspark"
      ]
    },
    {
      "cell_type": "markdown",
      "metadata": {
        "id": "pCyO5RPbe5aa"
      },
      "source": [
        "\n",
        "\n",
        "\n",
        "\n",
        "**2.INSTALAMOS EL MÓDULO PYSPARK**\n",
        "\n"
      ]
    },
    {
      "cell_type": "markdown",
      "metadata": {
        "id": "qjXjLjnqfHTI"
      },
      "source": [
        "3.**CREAMOS LA SESIÓN PYSPARK***"
      ]
    },
    {
      "cell_type": "code",
      "execution_count": 2,
      "metadata": {
        "id": "eflvuMECSJE8"
      },
      "outputs": [],
      "source": [
        "from pyspark.sql import SparkSession"
      ]
    },
    {
      "cell_type": "code",
      "execution_count": 3,
      "metadata": {
        "id": "awxCEo3-SWHS"
      },
      "outputs": [],
      "source": [
        "from google.colab import drive"
      ]
    },
    {
      "cell_type": "markdown",
      "metadata": {
        "id": "-mX2Dlp6ldAC"
      },
      "source": [
        " 4. **DISEÑAMOS UNA UNIDAD PERSONAL DE GOOGLE DRIVE**"
      ]
    },
    {
      "cell_type": "code",
      "execution_count": 4,
      "metadata": {
        "id": "toyStXuoScU9",
        "colab": {
          "base_uri": "https://localhost:8080/"
        },
        "outputId": "98cdec87-bd0d-488c-b94d-cb0d5ff6c3eb"
      },
      "outputs": [
        {
          "output_type": "stream",
          "name": "stdout",
          "text": [
            "Mounted at /drive\n"
          ]
        }
      ],
      "source": [
        "drive.mount(\"/drive\")"
      ]
    },
    {
      "cell_type": "code",
      "execution_count": 5,
      "metadata": {
        "id": "HpztO3AISs-D"
      },
      "outputs": [],
      "source": [
        "spark=SparkSession.builder.appName(\"my_app\").getOrCreate()"
      ]
    },
    {
      "cell_type": "markdown",
      "metadata": {
        "id": "0pl0Mn7yfeqZ"
      },
      "source": [
        "5.***CARGAMOS EL ARCHIVO STOCKS_2021***"
      ]
    },
    {
      "cell_type": "code",
      "execution_count": 6,
      "metadata": {
        "id": "JBcTTBS5S_wX"
      },
      "outputs": [],
      "source": [
        "df=spark.read.option(\"Header\",True).csv(\"/drive/MyDrive/CSV_stocks_2021.csv\")"
      ]
    },
    {
      "cell_type": "markdown",
      "metadata": {
        "id": "MX3cYH-Mlo6C"
      },
      "source": [
        " 6.**IMPORTAREMOS LOS OBJETOS K-MEANS Y VECTORASSEMBLER DEL MÓDULO PYSPARK.ML**"
      ]
    },
    {
      "cell_type": "code",
      "execution_count": 7,
      "metadata": {
        "id": "TdjleIGeMYgB"
      },
      "outputs": [],
      "source": [
        "from pyspark.ml.clustering import KMeans"
      ]
    },
    {
      "cell_type": "code",
      "execution_count": 8,
      "metadata": {
        "id": "61jynZvJ7rv6"
      },
      "outputs": [],
      "source": [
        "from pyspark.ml.feature import VectorAssembler"
      ]
    },
    {
      "cell_type": "markdown",
      "metadata": {
        "id": "SGieNALIMo01"
      },
      "source": [
        "**7.MODIFICAMOS EL TIPO DE DATOS DE LAS COLUMNAS OPEN,LOW Y CLOSE A FLOAT**"
      ]
    },
    {
      "cell_type": "code",
      "execution_count": 9,
      "metadata": {
        "id": "Q5U0FE05EOMl"
      },
      "outputs": [],
      "source": [
        "df=df.withColumn('open',df.open.cast('float'))"
      ]
    },
    {
      "cell_type": "code",
      "execution_count": 10,
      "metadata": {
        "id": "KrlIeqQLE-Hi"
      },
      "outputs": [],
      "source": [
        "df=df.withColumn('low',df.low.cast('float'))"
      ]
    },
    {
      "cell_type": "code",
      "execution_count": 11,
      "metadata": {
        "id": "jNHeMQEU_qcu"
      },
      "outputs": [],
      "source": [
        "df=df.withColumn('close',df.close.cast('float'))"
      ]
    },
    {
      "cell_type": "code",
      "execution_count": 12,
      "metadata": {
        "id": "Zje6ePwhM0Xf",
        "colab": {
          "base_uri": "https://localhost:8080/"
        },
        "outputId": "07f680df-1ca4-448e-c45d-d7eb0bb97ded"
      },
      "outputs": [
        {
          "output_type": "stream",
          "name": "stdout",
          "text": [
            "root\n",
            " |-- ticker: string (nullable = true)\n",
            " |-- open: float (nullable = true)\n",
            " |-- high: string (nullable = true)\n",
            " |-- low: float (nullable = true)\n",
            " |-- close: float (nullable = true)\n",
            " |-- volume: string (nullable = true)\n",
            " |-- dividends: string (nullable = true)\n",
            " |-- stock splits: string (nullable = true)\n",
            " |-- date: string (nullable = true)\n",
            " |-- ccy: string (nullable = true)\n",
            "\n"
          ]
        }
      ],
      "source": [
        "df.printSchema()"
      ]
    },
    {
      "cell_type": "markdown",
      "metadata": {
        "id": "FaQN26wsFkdd"
      },
      "source": [
        "**8.CREAREMOS UNA COLUMNA'FEATURES' UTILIZANDO LAS COLUMNAS OPEN,LOW,Y CLOSE MEDIANTE VECTORASSEMBLER**"
      ]
    },
    {
      "cell_type": "code",
      "execution_count": 13,
      "metadata": {
        "id": "8qaOMnziFxfC"
      },
      "outputs": [],
      "source": [
        "va=VectorAssembler(inputCols=['open','low','close'],outputCol='features')"
      ]
    },
    {
      "cell_type": "code",
      "execution_count": 14,
      "metadata": {
        "id": "Cxdzez3yLrby"
      },
      "outputs": [],
      "source": [
        "va_df=va.transform(df)"
      ]
    },
    {
      "cell_type": "code",
      "execution_count": 15,
      "metadata": {
        "id": "jC7PPhZ7gKvZ",
        "colab": {
          "base_uri": "https://localhost:8080/"
        },
        "outputId": "ff01e646-30a8-4567-de7c-da9e0a84c638"
      },
      "outputs": [
        {
          "output_type": "stream",
          "name": "stdout",
          "text": [
            "+------+---------+------------------+---------+---------+-------+---------+------------+----------+---+--------------------+\n",
            "|ticker|     open|              high|      low|    close| volume|dividends|stock splits|      date|ccy|            features|\n",
            "+------+---------+------------------+---------+---------+-------+---------+------------+----------+---+--------------------+\n",
            "|   HON|207.45502|209.42141232111007|206.14735|209.12645|1406400|      0.0|           0|2020-12-31|USD|[207.455017089843...|\n",
            "|   HON| 209.2641|209.43123817541044|202.89297|204.45625|2328900|      0.0|           0|2021-01-04|USD|[209.264099121093...|\n",
            "|   HON|203.50256| 206.6586329757187|203.50256| 204.9577|2172100|      0.0|           0|2021-01-05|USD|[203.502563476562...|\n",
            "|   HON|205.93106|210.38495140642195|205.71475|208.69385|2747900|      0.0|           0|2021-01-06|USD|[205.931060791015...|\n",
            "|   HON|209.31328|210.41445198270796|207.25839|209.03798|2057300|      0.0|           0|2021-01-07|USD|[209.313278198242...|\n",
            "|   HON|209.22478|209.82453011896777|204.18097|206.50131|3278900|      0.0|           0|2021-01-08|USD|[209.224777221679...|\n",
            "|   HON|204.61356|206.09818517407587|204.33827|204.85936|2938900|      0.0|           0|2021-01-11|USD|[204.613555908203...|\n",
            "|   HON|204.36778| 205.9605617566175|201.81146|205.37065|2498800|      0.0|           0|2021-01-12|USD|[204.367782592773...|\n",
            "|   HON|204.78072| 205.1149949615185| 202.9323|203.54189|2145100|      0.0|           0|2021-01-13|USD|[204.780715942382...|\n",
            "|   HON|204.54475|206.25552005813464| 203.6992|205.10518|3661500|      0.0|           0|2021-01-14|USD|[204.544754028320...|\n",
            "|   HON| 204.0433|204.36776719848436|201.75246|202.50952|3887500|      0.0|           0|2021-01-15|USD|[204.043304443359...|\n",
            "|   HON| 204.7414|205.25265322179186|202.98146|203.28625|2656300|      0.0|           0|2021-01-19|USD|[204.741394042968...|\n",
            "|   HON|204.42676|205.16415981146147|203.19777|204.58408|2452400|      0.0|           0|2021-01-20|USD|[204.4267578125,2...|\n",
            "|   HON|203.38457|204.31860744308085|201.65414|201.78195|2705100|      0.0|           0|2021-01-21|USD|[203.384567260742...|\n",
            "|   HON|200.82826|201.02491232627204|198.00648|198.85204|3502700|      0.0|           0|2021-01-22|USD|[200.828262329101...|\n",
            "|   HON|197.95732|199.15681863147958|196.73816|198.47841|4737700|      0.0|           0|2021-01-25|USD|[197.957321166992...|\n",
            "|   HON| 200.4153|201.32968206461314|197.60335|  197.682|2201900|      0.0|           0|2021-01-26|USD|[200.415298461914...|\n",
            "|   HON|194.78159|197.38706285147768|193.22813|196.03026|4108600|      0.0|           0|2021-01-27|USD|[194.781585693359...|\n",
            "|   HON| 197.2494|201.89995313608185|196.27605|199.43211|3731700|      0.0|           0|2021-01-28|USD|[197.249404907226...|\n",
            "|   HON|193.20847|197.56404251420506| 191.2814|192.08762|4635100|      0.0|           0|2021-01-29|USD|[193.208465576171...|\n",
            "+------+---------+------------------+---------+---------+-------+---------+------------+----------+---+--------------------+\n",
            "only showing top 20 rows\n",
            "\n"
          ]
        }
      ],
      "source": [
        "va_df.show()"
      ]
    },
    {
      "cell_type": "markdown",
      "metadata": {
        "id": "C0FtE2LUBKSf"
      },
      "source": [
        "**9.CREAREMOS EL OBJETO K-MEANS Y LO VAMOS A CONFIGURAR PARA ESTABLECER 5 CLUSTERS'**"
      ]
    },
    {
      "cell_type": "code",
      "source": [
        "kmeans=KMeans(k=5)"
      ],
      "metadata": {
        "id": "LcjAkFTnt29m"
      },
      "execution_count": 16,
      "outputs": []
    },
    {
      "cell_type": "code",
      "source": [
        "model=kmeans.fit(va_df.select('features'))"
      ],
      "metadata": {
        "id": "kOagU_r9uBX1"
      },
      "execution_count": 17,
      "outputs": []
    },
    {
      "cell_type": "code",
      "source": [
        "transformed=model.transform(va_df)"
      ],
      "metadata": {
        "id": "fwlxOyI0uW1R"
      },
      "execution_count": 18,
      "outputs": []
    },
    {
      "cell_type": "code",
      "source": [
        "import matplotlib.pyplot as plt\n"
      ],
      "metadata": {
        "id": "lk8U-JFizciP"
      },
      "execution_count": 19,
      "outputs": []
    },
    {
      "cell_type": "markdown",
      "metadata": {
        "id": "_e8c2YBMJ5fn"
      },
      "source": [
        "**10.ENTRENAMOS EL MODELO Y VAMOS A MOSTRAR LOS RESULTADOS DE NUESTRA PREDICCIÓN**"
      ]
    },
    {
      "cell_type": "code",
      "source": [
        "from pyspark.ml.clustering import BisectingKMeans"
      ],
      "metadata": {
        "id": "NVIJxt3Vv9SF"
      },
      "execution_count": 20,
      "outputs": []
    },
    {
      "cell_type": "code",
      "source": [
        "bkm=BisectingKMeans().setK(5).setSeed(1)"
      ],
      "metadata": {
        "id": "5RJUHLzTwppS"
      },
      "execution_count": 21,
      "outputs": []
    },
    {
      "cell_type": "code",
      "source": [
        "model=bkm.fit(va_df)"
      ],
      "metadata": {
        "id": "6kvr23fOxMm5"
      },
      "execution_count": 22,
      "outputs": []
    },
    {
      "cell_type": "code",
      "source": [
        "predictions=model.transform(va_df)"
      ],
      "metadata": {
        "id": "QIPFsbzKxfnQ"
      },
      "execution_count": 23,
      "outputs": []
    },
    {
      "cell_type": "code",
      "source": [
        "predictions.show(10)"
      ],
      "metadata": {
        "colab": {
          "base_uri": "https://localhost:8080/"
        },
        "id": "t1nd934Px4dm",
        "outputId": "cdaa24fa-90f7-4162-976c-642605ae506c"
      },
      "execution_count": 24,
      "outputs": [
        {
          "output_type": "stream",
          "name": "stdout",
          "text": [
            "+------+---------+------------------+---------+---------+-------+---------+------------+----------+---+--------------------+----------+\n",
            "|ticker|     open|              high|      low|    close| volume|dividends|stock splits|      date|ccy|            features|prediction|\n",
            "+------+---------+------------------+---------+---------+-------+---------+------------+----------+---+--------------------+----------+\n",
            "|   HON|207.45502|209.42141232111007|206.14735|209.12645|1406400|      0.0|           0|2020-12-31|USD|[207.455017089843...|         1|\n",
            "|   HON| 209.2641|209.43123817541044|202.89297|204.45625|2328900|      0.0|           0|2021-01-04|USD|[209.264099121093...|         1|\n",
            "|   HON|203.50256| 206.6586329757187|203.50256| 204.9577|2172100|      0.0|           0|2021-01-05|USD|[203.502563476562...|         1|\n",
            "|   HON|205.93106|210.38495140642195|205.71475|208.69385|2747900|      0.0|           0|2021-01-06|USD|[205.931060791015...|         1|\n",
            "|   HON|209.31328|210.41445198270796|207.25839|209.03798|2057300|      0.0|           0|2021-01-07|USD|[209.313278198242...|         1|\n",
            "|   HON|209.22478|209.82453011896777|204.18097|206.50131|3278900|      0.0|           0|2021-01-08|USD|[209.224777221679...|         1|\n",
            "|   HON|204.61356|206.09818517407587|204.33827|204.85936|2938900|      0.0|           0|2021-01-11|USD|[204.613555908203...|         1|\n",
            "|   HON|204.36778| 205.9605617566175|201.81146|205.37065|2498800|      0.0|           0|2021-01-12|USD|[204.367782592773...|         1|\n",
            "|   HON|204.78072| 205.1149949615185| 202.9323|203.54189|2145100|      0.0|           0|2021-01-13|USD|[204.780715942382...|         1|\n",
            "|   HON|204.54475|206.25552005813464| 203.6992|205.10518|3661500|      0.0|           0|2021-01-14|USD|[204.544754028320...|         1|\n",
            "+------+---------+------------------+---------+---------+-------+---------+------------+----------+---+--------------------+----------+\n",
            "only showing top 10 rows\n",
            "\n"
          ]
        }
      ]
    }
  ],
  "metadata": {
    "colab": {
      "provenance": [],
      "toc_visible": true,
      "authorship_tag": "ABX9TyNqE1c4nwL5NqT4ejDJEJzY",
      "include_colab_link": true
    },
    "kernelspec": {
      "display_name": "Python 3",
      "name": "python3"
    },
    "language_info": {
      "name": "python"
    }
  },
  "nbformat": 4,
  "nbformat_minor": 0
}