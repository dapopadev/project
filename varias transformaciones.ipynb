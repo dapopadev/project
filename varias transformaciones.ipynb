{
  "cells": [
    {
      "cell_type": "markdown",
      "metadata": {
        "id": "view-in-github",
        "colab_type": "text"
      },
      "source": [
        "<a href=\"https://colab.research.google.com/github/dapopadev/project/blob/main/varias%20transformaciones.ipynb\" target=\"_parent\"><img src=\"https://colab.research.google.com/assets/colab-badge.svg\" alt=\"Open In Colab\"/></a>"
      ]
    },
    {
      "cell_type": "code",
      "execution_count": 1,
      "metadata": {
        "colab": {
          "base_uri": "https://localhost:8080/"
        },
        "id": "GoaCoPI3R7RG",
        "outputId": "fb6c1906-02e9-4173-f077-57106d24a094"
      },
      "outputs": [
        {
          "output_type": "stream",
          "name": "stdout",
          "text": [
            "Collecting pyspark\n",
            "  Downloading pyspark-3.4.1.tar.gz (310.8 MB)\n",
            "\u001b[2K     \u001b[90m━━━━━━━━━━━━━━━━━━━━━━━━━━━━━━━━━━━━━━━\u001b[0m \u001b[32m310.8/310.8 MB\u001b[0m \u001b[31m3.3 MB/s\u001b[0m eta \u001b[36m0:00:00\u001b[0m\n",
            "\u001b[?25h  Preparing metadata (setup.py) ... \u001b[?25l\u001b[?25hdone\n",
            "Requirement already satisfied: py4j==0.10.9.7 in /usr/local/lib/python3.10/dist-packages (from pyspark) (0.10.9.7)\n",
            "Building wheels for collected packages: pyspark\n",
            "  Building wheel for pyspark (setup.py) ... \u001b[?25l\u001b[?25hdone\n",
            "  Created wheel for pyspark: filename=pyspark-3.4.1-py2.py3-none-any.whl size=311285387 sha256=ca044e8460c64e54628deb7b0a78416656fc6cb430b342e71fa885c3c9bb7b92\n",
            "  Stored in directory: /root/.cache/pip/wheels/0d/77/a3/ff2f74cc9ab41f8f594dabf0579c2a7c6de920d584206e0834\n",
            "Successfully built pyspark\n",
            "Installing collected packages: pyspark\n",
            "Successfully installed pyspark-3.4.1\n"
          ]
        }
      ],
      "source": [
        "!pip install pyspark"
      ]
    },
    {
      "cell_type": "markdown",
      "metadata": {
        "id": "pCyO5RPbe5aa"
      },
      "source": [
        "\n",
        "\n",
        "\n",
        "\n",
        "**2.INSTALAMOS EL MÓDULO PYSPARK**\n",
        "\n"
      ]
    },
    {
      "cell_type": "markdown",
      "metadata": {
        "id": "qjXjLjnqfHTI"
      },
      "source": [
        "3.**CREAMOS LA SESIÓN PYSPARK***"
      ]
    },
    {
      "cell_type": "code",
      "execution_count": 2,
      "metadata": {
        "id": "eflvuMECSJE8"
      },
      "outputs": [],
      "source": [
        "from pyspark.sql import SparkSession"
      ]
    },
    {
      "cell_type": "code",
      "execution_count": 3,
      "metadata": {
        "id": "awxCEo3-SWHS"
      },
      "outputs": [],
      "source": [
        "from google.colab import drive"
      ]
    },
    {
      "cell_type": "markdown",
      "metadata": {
        "id": "-mX2Dlp6ldAC"
      },
      "source": [
        " 4. **DISEÑAMOS UNA UNIDAD PERSONAL DE GOOGLE DRIVE**"
      ]
    },
    {
      "cell_type": "code",
      "execution_count": 4,
      "metadata": {
        "id": "toyStXuoScU9",
        "colab": {
          "base_uri": "https://localhost:8080/"
        },
        "outputId": "d245b279-269a-4f36-8909-e9102fdcca2a"
      },
      "outputs": [
        {
          "output_type": "stream",
          "name": "stdout",
          "text": [
            "Mounted at /drive\n"
          ]
        }
      ],
      "source": [
        "drive.mount(\"/drive\")"
      ]
    },
    {
      "cell_type": "code",
      "execution_count": 5,
      "metadata": {
        "id": "HpztO3AISs-D"
      },
      "outputs": [],
      "source": [
        "spark=SparkSession.builder.appName(\"my_app\").getOrCreate()"
      ]
    },
    {
      "cell_type": "markdown",
      "metadata": {
        "id": "0pl0Mn7yfeqZ"
      },
      "source": [
        "5.***CARGAMOS EL ARCHIVO STOCKS_2021***"
      ]
    },
    {
      "cell_type": "code",
      "execution_count": 6,
      "metadata": {
        "id": "JBcTTBS5S_wX"
      },
      "outputs": [],
      "source": [
        "df=spark.read.option(\"Header\",True).csv(\"/drive/MyDrive/CSV_stocks_2021.csv\")"
      ]
    },
    {
      "cell_type": "markdown",
      "metadata": {
        "id": "MX3cYH-Mlo6C"
      },
      "source": [
        " 6.**REALIZAMOS UN FILTRO DE LOS DATOS QUE SE CORRESPONDEN CON EL VALOR 'BA' EN LA COLUMNA 'TICKER'**"
      ]
    },
    {
      "cell_type": "code",
      "execution_count": 7,
      "metadata": {
        "id": "kpNOahnmhBm3"
      },
      "outputs": [],
      "source": [
        "df_ba=df.filter(df.ticker=='BA')"
      ]
    },
    {
      "cell_type": "code",
      "execution_count": 8,
      "metadata": {
        "id": "oDFHxaqm9oCY",
        "colab": {
          "base_uri": "https://localhost:8080/"
        },
        "outputId": "88ba4dc7-8e37-466e-f907-9b2874009710"
      },
      "outputs": [
        {
          "output_type": "stream",
          "name": "stdout",
          "text": [
            "+------+------------------+------------------+------------------+------------------+--------+---------+------------+----------+---+\n",
            "|ticker|              open|              high|               low|             close|  volume|dividends|stock splits|      date|ccy|\n",
            "+------+------------------+------------------+------------------+------------------+--------+---------+------------+----------+---+\n",
            "|    BA|216.24000549316406|216.89999389648438| 212.6999969482422|214.05999755859375|10487600|        0|           0|2020-12-31|USD|\n",
            "|    BA|             210.0| 210.1999969482422|202.49000549316406|202.72000122070312|21225600|        0|           0|2021-01-04|USD|\n",
            "|    BA|204.74000549316406|213.35000610351562|204.60000610351562| 211.6300048828125|19338300|        0|           0|2021-01-05|USD|\n",
            "|    BA|210.22000122070312|215.61000061035156|209.33999633789062|211.02999877929688|16202200|        0|           0|2021-01-06|USD|\n",
            "|    BA|213.38999938964844|216.60000610351562|211.77999877929688| 212.7100067138672|14474100|        0|           0|2021-01-07|USD|\n",
            "|    BA|213.61000061035156|214.10000610351562|208.16000366210938|209.89999389648438|14144000|        0|           0|2021-01-08|USD|\n",
            "|    BA|203.02999877929688|207.77999877929688|201.00999450683594| 206.7899932861328|16770300|        0|           0|2021-01-11|USD|\n",
            "|    BA|206.64999389648438|209.05999755859375|204.80999755859375|208.41000366210938|12836200|        0|           0|2021-01-12|USD|\n",
            "|    BA|207.14999389648438| 208.7899932861328|204.85000610351562| 207.2100067138672| 8570500|        0|           0|2021-01-13|USD|\n",
            "|    BA| 208.7899932861328|214.19000244140625| 208.2100067138672|209.91000366210938|12446800|        0|           0|2021-01-14|USD|\n",
            "|    BA| 208.9600067138672|            209.25| 204.1999969482422|204.32000732421875|11103300|        0|           0|2021-01-15|USD|\n",
            "|    BA|206.99000549316406|211.52000427246094|206.52000427246094| 210.7100067138672|11947200|        0|           0|2021-01-19|USD|\n",
            "|    BA|213.24000549316406|215.58999633789062| 211.2100067138672| 211.4499969482422| 9727000|        0|           0|2021-01-20|USD|\n",
            "|    BA|211.72000122070312|211.92999267578125|206.33999633789062|207.41000366210938|11091300|        0|           0|2021-01-21|USD|\n",
            "|    BA| 205.5500030517578| 206.6999969482422|204.27000427246094|205.83999633789062| 7514600|        0|           0|2021-01-22|USD|\n",
            "|    BA|203.27000427246094| 203.8000030517578| 199.3000030517578|203.36000061035156|14276200|        0|           0|2021-01-25|USD|\n",
            "|    BA|205.33999633789062|208.35000610351562| 201.7899932861328|202.05999755859375|11011800|        0|           0|2021-01-26|USD|\n",
            "|    BA|196.89999389648438|199.47000122070312|191.85000610351562|194.02999877929688|20948500|        0|           0|2021-01-27|USD|\n",
            "|    BA| 198.0500030517578| 200.4199981689453|             196.0|197.22999572753906|10403200|        0|           0|2021-01-28|USD|\n",
            "|    BA| 198.3000030517578|201.57000732421875| 193.1199951171875|194.19000244140625|13683700|        0|           0|2021-01-29|USD|\n",
            "+------+------------------+------------------+------------------+------------------+--------+---------+------------+----------+---+\n",
            "only showing top 20 rows\n",
            "\n"
          ]
        }
      ],
      "source": [
        "df_ba.show()"
      ]
    },
    {
      "cell_type": "markdown",
      "metadata": {
        "id": "CfuS5YfHmcJL"
      },
      "source": [
        " **7.IMPORTAMOS LOS OBJETOS DECISIONTREECLASSIFIER Y VECTORASSEMBLER DEL MÓDULO PYSPARK.ML **"
      ]
    },
    {
      "cell_type": "code",
      "execution_count": 9,
      "metadata": {
        "id": "TdjleIGeMYgB"
      },
      "outputs": [],
      "source": [
        "from pyspark.ml.classification import DecisionTreeClassifier"
      ]
    },
    {
      "cell_type": "code",
      "execution_count": 10,
      "metadata": {
        "id": "61jynZvJ7rv6"
      },
      "outputs": [],
      "source": [
        "from pyspark.ml.feature import VectorAssembler"
      ]
    },
    {
      "cell_type": "code",
      "execution_count": 11,
      "metadata": {
        "id": "ywPKo3Ps7z99"
      },
      "outputs": [],
      "source": [
        "from pyspark.ml.evaluation import MulticlassClassificationEvaluator"
      ]
    },
    {
      "cell_type": "markdown",
      "metadata": {
        "id": "SGieNALIMo01"
      },
      "source": [
        "**8.MODIFICAMOS EL TIPO DE DATOS DE LAS COLUMNAS OPEN,LOW Y CLOSE A FLOAT"
      ]
    },
    {
      "cell_type": "code",
      "execution_count": 12,
      "metadata": {
        "id": "Q5U0FE05EOMl"
      },
      "outputs": [],
      "source": [
        "df=df.withColumn('open',df.open.cast('float'))"
      ]
    },
    {
      "cell_type": "code",
      "execution_count": 13,
      "metadata": {
        "id": "KrlIeqQLE-Hi"
      },
      "outputs": [],
      "source": [
        "df=df.withColumn('low',df.low.cast('float'))"
      ]
    },
    {
      "cell_type": "code",
      "execution_count": 14,
      "metadata": {
        "id": "jNHeMQEU_qcu"
      },
      "outputs": [],
      "source": [
        "df=df.withColumn('close',df.close.cast('float'))"
      ]
    },
    {
      "cell_type": "code",
      "execution_count": 15,
      "metadata": {
        "id": "Zje6ePwhM0Xf",
        "colab": {
          "base_uri": "https://localhost:8080/"
        },
        "outputId": "a48d7222-ad23-48f2-e0e1-497389817314"
      },
      "outputs": [
        {
          "output_type": "stream",
          "name": "stdout",
          "text": [
            "root\n",
            " |-- ticker: string (nullable = true)\n",
            " |-- open: float (nullable = true)\n",
            " |-- high: string (nullable = true)\n",
            " |-- low: float (nullable = true)\n",
            " |-- close: float (nullable = true)\n",
            " |-- volume: string (nullable = true)\n",
            " |-- dividends: string (nullable = true)\n",
            " |-- stock splits: string (nullable = true)\n",
            " |-- date: string (nullable = true)\n",
            " |-- ccy: string (nullable = true)\n",
            "\n"
          ]
        }
      ],
      "source": [
        "df.printSchema()"
      ]
    },
    {
      "cell_type": "markdown",
      "metadata": {
        "id": "FaQN26wsFkdd"
      },
      "source": [
        "**9.CREAREMOS UNA COLUMNA'FEATURES' UTILIZANDO LAS COLUMNAS OPEN,LOW,Y CLOSE MEDIANTE VECTORASSEMBLER**"
      ]
    },
    {
      "cell_type": "code",
      "execution_count": 16,
      "metadata": {
        "id": "8qaOMnziFxfC"
      },
      "outputs": [],
      "source": [
        "va=VectorAssembler(inputCols=['open','low','close'],outputCol='features')"
      ]
    },
    {
      "cell_type": "code",
      "execution_count": 17,
      "metadata": {
        "id": "Cxdzez3yLrby"
      },
      "outputs": [],
      "source": [
        "va_df=va.transform(df)"
      ]
    },
    {
      "cell_type": "code",
      "execution_count": 18,
      "metadata": {
        "id": "jC7PPhZ7gKvZ",
        "colab": {
          "base_uri": "https://localhost:8080/"
        },
        "outputId": "9c323c11-8878-4c62-ff7b-4de23953998f"
      },
      "outputs": [
        {
          "output_type": "stream",
          "name": "stdout",
          "text": [
            "+------+---------+------------------+---------+---------+-------+---------+------------+----------+---+--------------------+\n",
            "|ticker|     open|              high|      low|    close| volume|dividends|stock splits|      date|ccy|            features|\n",
            "+------+---------+------------------+---------+---------+-------+---------+------------+----------+---+--------------------+\n",
            "|   HON|207.45502|209.42141232111007|206.14735|209.12645|1406400|      0.0|           0|2020-12-31|USD|[207.455017089843...|\n",
            "|   HON| 209.2641|209.43123817541044|202.89297|204.45625|2328900|      0.0|           0|2021-01-04|USD|[209.264099121093...|\n",
            "|   HON|203.50256| 206.6586329757187|203.50256| 204.9577|2172100|      0.0|           0|2021-01-05|USD|[203.502563476562...|\n",
            "|   HON|205.93106|210.38495140642195|205.71475|208.69385|2747900|      0.0|           0|2021-01-06|USD|[205.931060791015...|\n",
            "|   HON|209.31328|210.41445198270796|207.25839|209.03798|2057300|      0.0|           0|2021-01-07|USD|[209.313278198242...|\n",
            "|   HON|209.22478|209.82453011896777|204.18097|206.50131|3278900|      0.0|           0|2021-01-08|USD|[209.224777221679...|\n",
            "|   HON|204.61356|206.09818517407587|204.33827|204.85936|2938900|      0.0|           0|2021-01-11|USD|[204.613555908203...|\n",
            "|   HON|204.36778| 205.9605617566175|201.81146|205.37065|2498800|      0.0|           0|2021-01-12|USD|[204.367782592773...|\n",
            "|   HON|204.78072| 205.1149949615185| 202.9323|203.54189|2145100|      0.0|           0|2021-01-13|USD|[204.780715942382...|\n",
            "|   HON|204.54475|206.25552005813464| 203.6992|205.10518|3661500|      0.0|           0|2021-01-14|USD|[204.544754028320...|\n",
            "|   HON| 204.0433|204.36776719848436|201.75246|202.50952|3887500|      0.0|           0|2021-01-15|USD|[204.043304443359...|\n",
            "|   HON| 204.7414|205.25265322179186|202.98146|203.28625|2656300|      0.0|           0|2021-01-19|USD|[204.741394042968...|\n",
            "|   HON|204.42676|205.16415981146147|203.19777|204.58408|2452400|      0.0|           0|2021-01-20|USD|[204.4267578125,2...|\n",
            "|   HON|203.38457|204.31860744308085|201.65414|201.78195|2705100|      0.0|           0|2021-01-21|USD|[203.384567260742...|\n",
            "|   HON|200.82826|201.02491232627204|198.00648|198.85204|3502700|      0.0|           0|2021-01-22|USD|[200.828262329101...|\n",
            "|   HON|197.95732|199.15681863147958|196.73816|198.47841|4737700|      0.0|           0|2021-01-25|USD|[197.957321166992...|\n",
            "|   HON| 200.4153|201.32968206461314|197.60335|  197.682|2201900|      0.0|           0|2021-01-26|USD|[200.415298461914...|\n",
            "|   HON|194.78159|197.38706285147768|193.22813|196.03026|4108600|      0.0|           0|2021-01-27|USD|[194.781585693359...|\n",
            "|   HON| 197.2494|201.89995313608185|196.27605|199.43211|3731700|      0.0|           0|2021-01-28|USD|[197.249404907226...|\n",
            "|   HON|193.20847|197.56404251420506| 191.2814|192.08762|4635100|      0.0|           0|2021-01-29|USD|[193.208465576171...|\n",
            "+------+---------+------------------+---------+---------+-------+---------+------------+----------+---+--------------------+\n",
            "only showing top 20 rows\n",
            "\n"
          ]
        }
      ],
      "source": [
        "va_df.show()"
      ]
    },
    {
      "cell_type": "markdown",
      "metadata": {
        "id": "C0FtE2LUBKSf"
      },
      "source": [
        "**10.CONVERTIMOS LA COLUMNA 'TICKER' A TIPO NUMÉRICO, UTILIZANDO STRINGINDEXER Y LLAMARLA'LABEL'**"
      ]
    },
    {
      "cell_type": "code",
      "execution_count": 19,
      "metadata": {
        "id": "8DPabV41Bn1s"
      },
      "outputs": [],
      "source": [
        "from pyspark.ml.feature import StringIndexer"
      ]
    },
    {
      "cell_type": "code",
      "execution_count": 20,
      "metadata": {
        "id": "cmTKrpBeBxbN"
      },
      "outputs": [],
      "source": [
        "df=df.withColumn('ticker',df.ticker.cast('int'))"
      ]
    },
    {
      "cell_type": "code",
      "execution_count": 21,
      "metadata": {
        "id": "P8MArzCLFyTR"
      },
      "outputs": [],
      "source": [
        "df=df.withColumnRenamed('ticker','label')"
      ]
    },
    {
      "cell_type": "code",
      "execution_count": 22,
      "metadata": {
        "id": "HzROlvf8IXGP",
        "colab": {
          "base_uri": "https://localhost:8080/"
        },
        "outputId": "5de96ae1-c520-4ace-c28c-15631bcd9ab9"
      },
      "outputs": [
        {
          "output_type": "stream",
          "name": "stdout",
          "text": [
            "root\n",
            " |-- label: integer (nullable = true)\n",
            " |-- open: float (nullable = true)\n",
            " |-- high: string (nullable = true)\n",
            " |-- low: float (nullable = true)\n",
            " |-- close: float (nullable = true)\n",
            " |-- volume: string (nullable = true)\n",
            " |-- dividends: string (nullable = true)\n",
            " |-- stock splits: string (nullable = true)\n",
            " |-- date: string (nullable = true)\n",
            " |-- ccy: string (nullable = true)\n",
            "\n"
          ]
        }
      ],
      "source": [
        "df.printSchema()"
      ]
    },
    {
      "cell_type": "markdown",
      "metadata": {
        "id": "_e8c2YBMJ5fn"
      },
      "source": [
        "**11.CREAMOS EL OBJETO DECISSIONTREECLASSIFIER**"
      ]
    },
    {
      "cell_type": "code",
      "execution_count": 23,
      "metadata": {
        "id": "gbGLyr-vhvRe"
      },
      "outputs": [],
      "source": [
        "dtc=DecisionTreeClassifier(featuresCol='features',labelCol='label')"
      ]
    },
    {
      "cell_type": "markdown",
      "metadata": {
        "id": "PYe1mpETKwTY"
      },
      "source": [
        "**12. ENTRENAMOS EL MODELO UTILIZANDO EL 20% DEL DATAFRAME COMO DATOS DEL TRAINING Y EL 80% RESTANTE COMO DATOS DEL TEST**"
      ]
    },
    {
      "cell_type": "code",
      "execution_count": 24,
      "metadata": {
        "id": "HvyP0ZerLC0B"
      },
      "outputs": [],
      "source": [
        "(train,test)=va_df.randomSplit([0.2,0.8])"
      ]
    },
    {
      "cell_type": "code",
      "execution_count": 25,
      "metadata": {
        "id": "zDUbi9EQyBq5",
        "colab": {
          "base_uri": "https://localhost:8080/"
        },
        "outputId": "c6c98a40-3d9a-4bba-980d-49888a3265e0"
      },
      "outputs": [
        {
          "output_type": "execute_result",
          "data": {
            "text/plain": [
              "1033"
            ]
          },
          "metadata": {},
          "execution_count": 25
        }
      ],
      "source": [
        "train.count()"
      ]
    },
    {
      "cell_type": "code",
      "execution_count": 26,
      "metadata": {
        "id": "X0rf_1s0PTj8",
        "colab": {
          "base_uri": "https://localhost:8080/"
        },
        "outputId": "7f1bde53-b956-4f78-e839-ed95c675b011"
      },
      "outputs": [
        {
          "output_type": "stream",
          "name": "stdout",
          "text": [
            "+------+----------+------------------+----------+----------+---------+---------+------------+----------+---+--------------------+\n",
            "|ticker|      open|              high|       low|     close|   volume|dividends|stock splits|      date|ccy|            features|\n",
            "+------+----------+------------------+----------+----------+---------+---------+------------+----------+---+--------------------+\n",
            "|  AAPL| 121.08532|122.01100143225499| 120.16959| 120.82652| 80819200|      0.0|           0|2021-03-29|USD|[121.085319519042...|\n",
            "|  AAPL| 122.75752|123.66329726241875|121.573044| 121.97119| 95467100|      0.0|           0|2021-03-23|USD|[122.757522583007...|\n",
            "|  AAPL| 122.79654|124.55133845622976| 122.49742| 124.32202| 92612000|      0.0|           0|2021-05-19|USD|[122.796539306640...|\n",
            "|  AAPL|124.230644|125.12646681524532| 121.27443| 121.49341|112966300|      0.0|           0|2021-03-03|USD|[124.230644226074...|\n",
            "|  AAPL| 124.31205|124.48154658984885|122.766624|123.175415| 76229200|      0.0|           0|2021-06-03|USD|[124.312049865722...|\n",
            "|  AAPL|125.199425| 125.4287467145665|124.182434|124.242256| 71311100|      0.0|           0|2021-05-28|USD|[125.199424743652...|\n",
            "|  AAPL| 125.87741|127.51257170847384| 125.47859| 127.07387| 81918000|      0.0|           0|2021-05-14|USD|[125.877410888671...|\n",
            "|  AAPL| 125.91281|126.53988082677132| 125.06676| 125.62415| 80171300|      0.0|           0|2021-04-06|USD|[125.912811279296...|\n",
            "|  AAPL| 126.58531|127.01404661057596|126.046906| 126.47564| 56575900|      0.0|           0|2021-05-26|USD|[126.585311889648...|\n",
            "|  AAPL| 126.64514|  127.811694549929| 125.56834| 125.73783| 71186400|      0.0|           0|2021-06-10|USD|[126.645141601562...|\n",
            "|  AAPL| 126.99709|127.92140419479874| 126.16225| 127.04679| 90757300|      0.0|           0|2021-01-19|USD|[126.997093200683...|\n",
            "|  AAPL| 127.44278|127.94131254950479|125.947205|  126.5255| 72009500|      0.0|           0|2021-05-25|USD|[127.442779541015...|\n",
            "|  AAPL| 127.44278|130.15474542136712| 126.69499| 130.09492| 96906500|      0.0|           0|2021-06-14|USD|[127.442779541015...|\n",
            "|  AAPL| 127.44279|127.62225257705717|124.840485| 125.05984| 79295400|      0.0|           0|2021-05-21|USD|[127.442787170410...|\n",
            "|  AAPL| 127.57355| 130.8235154303766| 127.07661| 130.11786|109578200|      0.0|           0|2021-01-07|USD|[127.573547363281...|\n",
            "|  AAPL| 127.99096|129.42213823100548| 126.22186| 126.36101|111598500|      0.0|           0|2021-01-15|USD|[127.990959167480...|\n",
            "|  AAPL| 128.60025|129.39654203930863|126.818565|  129.1079| 96856700|      0.0|           0|2021-02-18|USD|[128.600250244140...|\n",
            "|  AAPL| 129.19748|  132.422437036459| 128.86902| 132.38263|106686700|      0.0|           0|2021-04-09|USD|[129.197479248046...|\n",
            "|  AAPL| 129.41695|132.15882887893133| 129.26738| 131.40106| 96721700|      0.0|           0|2021-06-17|USD|[129.416946411132...|\n",
            "|  AAPL| 129.98524|  130.503721272308|  128.0809|  129.7659| 91815000|      0.0|           0|2021-06-16|USD|[129.985244750976...|\n",
            "+------+----------+------------------+----------+----------+---------+---------+------------+----------+---+--------------------+\n",
            "only showing top 20 rows\n",
            "\n"
          ]
        }
      ],
      "source": [
        "train.show()"
      ]
    },
    {
      "cell_type": "code",
      "execution_count": 27,
      "metadata": {
        "id": "yrpN-fEKPbPI",
        "colab": {
          "base_uri": "https://localhost:8080/"
        },
        "outputId": "bbcaa665-d156-482c-81f7-2451ff749c91"
      },
      "outputs": [
        {
          "output_type": "stream",
          "name": "stdout",
          "text": [
            "+------+----------+------------------+----------+----------+---------+---------+------------+----------+---+--------------------+\n",
            "|ticker|      open|              high|       low|     close|   volume|dividends|stock splits|      date|ccy|            features|\n",
            "+------+----------+------------------+----------+----------+---------+---------+------------+----------+---+--------------------+\n",
            "|  AAPL| 118.47748|121.49341458486911|118.238594|120.527916|129525800|      0.0|           0|2021-03-09|USD|[118.477478027343...|\n",
            "|  AAPL|118.985115|121.09527579793972| 118.44762|120.030235| 98844700|      0.0|           0|2021-03-25|USD|[118.985115051269...|\n",
            "|  AAPL|119.343445| 120.8663397025217|119.124466| 119.43302|185549500|      0.0|           0|2021-03-19|USD|[119.343444824218...|\n",
            "|  AAPL| 119.55246| 119.8411162426809|118.308266| 119.34344| 85671900|      0.0|           0|2021-03-30|USD|[119.552459716796...|\n",
            "|  AAPL|119.771454|123.29502075216398|119.701775|122.817245|111912300|      0.0|           0|2021-03-22|USD|[119.771453857421...|\n",
            "|  AAPL| 119.79135|120.91611271140722| 118.36799| 120.64736| 94071200|      0.0|           0|2021-03-26|USD|[119.791351318359...|\n",
            "|  AAPL| 119.84112|120.60754258464408| 118.60688| 120.46819| 88105100|      0.0|           0|2021-03-12|USD|[119.841117858886...|\n",
            "|  AAPL| 120.36866|120.43833100635491| 115.67056| 115.81987|154376600|      0.0|           0|2021-03-08|USD|[120.368659973144...|\n",
            "|  AAPL|120.418434|121.37397476594641|117.024254|120.856384|153766600|      0.0|           0|2021-03-05|USD|[120.418434143066...|\n",
            "|  AAPL| 120.84644|123.42441493667984| 119.86103| 123.41446| 92403800|      0.0|           0|2021-03-15|USD|[120.846443176269...|\n",
            "|  AAPL| 121.08532|122.94663599565658| 120.58764|   121.583|118323800|      0.0|           0|2021-03-31|USD|[121.085319519042...|\n",
            "|  AAPL|121.125145|121.60290974330253| 118.89553| 119.42308|111943300|      0.0|           0|2021-03-10|USD|[121.125144958496...|\n",
            "|  AAPL|121.184845|123.02625859993252| 118.06938|119.572365|178155000|      0.0|           0|2021-03-04|USD|[121.184844970703...|\n",
            "|  AAPL| 121.97118|122.63807276918155| 120.69713|121.393875|103026500|      0.0|           0|2021-03-11|USD|[121.971183776855...|\n",
            "|  AAPL| 122.02095|124.27046031752742|120.637405| 120.69713|164560400|      0.0|           0|2021-02-26|USD|[122.020950317382...|\n",
            "|  AAPL|122.249886|122.32951614596386| 119.51265|119.532555| 88530500|      0.0|           0|2021-03-24|USD|[122.249885559082...|\n",
            "|  AAPL|  122.3096|122.60821291377552| 119.76149| 119.97051|121229700|      0.0|           0|2021-03-18|USD|[122.309600830078...|\n",
            "|  AAPL| 123.03583|124.27216841961196| 121.88922|122.407684|112172300|      0.0|           0|2021-05-12|USD|[123.035827636718...|\n",
            "|  AAPL| 123.08598|123.60356949579266| 121.92141| 122.42905| 75089100|      0.0|           0|2021-04-01|USD|[123.085983276367...|\n",
            "|  AAPL| 123.13553|125.89735221074257|122.407684| 125.53842|126142800|      0.0|           0|2021-05-11|USD|[123.135528564453...|\n",
            "+------+----------+------------------+----------+----------+---------+---------+------------+----------+---+--------------------+\n",
            "only showing top 20 rows\n",
            "\n"
          ]
        }
      ],
      "source": [
        "test.show()"
      ]
    },
    {
      "cell_type": "code",
      "execution_count": 28,
      "metadata": {
        "id": "ZMq22DsPyIRA",
        "colab": {
          "base_uri": "https://localhost:8080/"
        },
        "outputId": "c1240388-7371-44e8-949e-91b6ac10533c"
      },
      "outputs": [
        {
          "output_type": "execute_result",
          "data": {
            "text/plain": [
              "4027"
            ]
          },
          "metadata": {},
          "execution_count": 28
        }
      ],
      "source": [
        "test.count()"
      ]
    },
    {
      "cell_type": "markdown",
      "metadata": {
        "id": "Qv26GABfMDcv"
      },
      "source": [
        "**13.CONVERTIMOS DE NUEVO LOS VALORES DE'TICKER A SU ESTADO ORIGINAL CON INDEXTOSTRING**"
      ]
    },
    {
      "cell_type": "code",
      "execution_count": 29,
      "metadata": {
        "id": "GkTB6u9VMejh",
        "colab": {
          "base_uri": "https://localhost:8080/"
        },
        "outputId": "51d9d35f-7a8a-4372-ac36-a9c64c4f2847"
      },
      "outputs": [
        {
          "output_type": "stream",
          "name": "stdout",
          "text": [
            "root\n",
            " |-- label: integer (nullable = true)\n",
            " |-- open: float (nullable = true)\n",
            " |-- high: string (nullable = true)\n",
            " |-- low: float (nullable = true)\n",
            " |-- close: float (nullable = true)\n",
            " |-- volume: string (nullable = true)\n",
            " |-- dividends: string (nullable = true)\n",
            " |-- stock splits: string (nullable = true)\n",
            " |-- date: string (nullable = true)\n",
            " |-- ccy: string (nullable = true)\n",
            "\n"
          ]
        }
      ],
      "source": [
        "df.printSchema()"
      ]
    },
    {
      "cell_type": "code",
      "execution_count": 30,
      "metadata": {
        "id": "YQNV65Pjq72f",
        "colab": {
          "base_uri": "https://localhost:8080/"
        },
        "outputId": "c6cc09e9-e2d6-40be-ad9e-7cae21190f17"
      },
      "outputs": [
        {
          "output_type": "stream",
          "name": "stdout",
          "text": [
            "+-----+---------+------------------+---------+---------+-------+---------+------------+----------+---+\n",
            "|label|     open|              high|      low|    close| volume|dividends|stock splits|      date|ccy|\n",
            "+-----+---------+------------------+---------+---------+-------+---------+------------+----------+---+\n",
            "| null|207.45502|209.42141232111007|206.14735|209.12645|1406400|      0.0|           0|2020-12-31|USD|\n",
            "| null| 209.2641|209.43123817541044|202.89297|204.45625|2328900|      0.0|           0|2021-01-04|USD|\n",
            "| null|203.50256| 206.6586329757187|203.50256| 204.9577|2172100|      0.0|           0|2021-01-05|USD|\n",
            "| null|205.93106|210.38495140642195|205.71475|208.69385|2747900|      0.0|           0|2021-01-06|USD|\n",
            "| null|209.31328|210.41445198270796|207.25839|209.03798|2057300|      0.0|           0|2021-01-07|USD|\n",
            "| null|209.22478|209.82453011896777|204.18097|206.50131|3278900|      0.0|           0|2021-01-08|USD|\n",
            "| null|204.61356|206.09818517407587|204.33827|204.85936|2938900|      0.0|           0|2021-01-11|USD|\n",
            "| null|204.36778| 205.9605617566175|201.81146|205.37065|2498800|      0.0|           0|2021-01-12|USD|\n",
            "| null|204.78072| 205.1149949615185| 202.9323|203.54189|2145100|      0.0|           0|2021-01-13|USD|\n",
            "| null|204.54475|206.25552005813464| 203.6992|205.10518|3661500|      0.0|           0|2021-01-14|USD|\n",
            "| null| 204.0433|204.36776719848436|201.75246|202.50952|3887500|      0.0|           0|2021-01-15|USD|\n",
            "| null| 204.7414|205.25265322179186|202.98146|203.28625|2656300|      0.0|           0|2021-01-19|USD|\n",
            "| null|204.42676|205.16415981146147|203.19777|204.58408|2452400|      0.0|           0|2021-01-20|USD|\n",
            "| null|203.38457|204.31860744308085|201.65414|201.78195|2705100|      0.0|           0|2021-01-21|USD|\n",
            "| null|200.82826|201.02491232627204|198.00648|198.85204|3502700|      0.0|           0|2021-01-22|USD|\n",
            "| null|197.95732|199.15681863147958|196.73816|198.47841|4737700|      0.0|           0|2021-01-25|USD|\n",
            "| null| 200.4153|201.32968206461314|197.60335|  197.682|2201900|      0.0|           0|2021-01-26|USD|\n",
            "| null|194.78159|197.38706285147768|193.22813|196.03026|4108600|      0.0|           0|2021-01-27|USD|\n",
            "| null| 197.2494|201.89995313608185|196.27605|199.43211|3731700|      0.0|           0|2021-01-28|USD|\n",
            "| null|193.20847|197.56404251420506| 191.2814|192.08762|4635100|      0.0|           0|2021-01-29|USD|\n",
            "+-----+---------+------------------+---------+---------+-------+---------+------------+----------+---+\n",
            "only showing top 20 rows\n",
            "\n"
          ]
        }
      ],
      "source": [
        "df.show()"
      ]
    },
    {
      "cell_type": "markdown",
      "metadata": {
        "id": "pXNZQ2-wNEmg"
      },
      "source": [
        "**14.UNIMOS MEDIANTE UN INNER JOIN EL DATAFRAME CON LAS PREDICCIONES Y EL QUE CONTIENE LOS VALORES REESTABLECIDOS DE LA COLUMNA 'TICKER' ** **bold text**"
      ]
    },
    {
      "cell_type": "code",
      "execution_count": 31,
      "metadata": {
        "id": "PNM88gHHpAfP"
      },
      "outputs": [],
      "source": [
        "spark=SparkSession.builder.getOrCreate()"
      ]
    },
    {
      "cell_type": "code",
      "source": [
        "df=spark.read.csv(\"/drive/MyDrive/CSV_stocks_2021.csv\",header=True,inferSchema=True)"
      ],
      "metadata": {
        "id": "LUBqgf09PVUJ"
      },
      "execution_count": 32,
      "outputs": []
    },
    {
      "cell_type": "code",
      "source": [
        "va_df=spark.read.csv(\"/drive/MyDrive/CSV_stocks_2021.csv\",header=True,inferSchema=True)"
      ],
      "metadata": {
        "id": "9PN51xAlQEVf"
      },
      "execution_count": 33,
      "outputs": []
    },
    {
      "cell_type": "code",
      "source": [
        "join_column=['ticker','features']"
      ],
      "metadata": {
        "id": "UKzLXgEPQPI1"
      },
      "execution_count": 34,
      "outputs": []
    }
  ],
  "metadata": {
    "colab": {
      "provenance": [],
      "authorship_tag": "ABX9TyPb50pvpwRPn04BFqq1sPsj",
      "include_colab_link": true
    },
    "kernelspec": {
      "display_name": "Python 3",
      "name": "python3"
    },
    "language_info": {
      "name": "python"
    }
  },
  "nbformat": 4,
  "nbformat_minor": 0
}