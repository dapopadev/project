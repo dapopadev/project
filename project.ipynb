{
  "nbformat": 4,
  "nbformat_minor": 0,
  "metadata": {
    "colab": {
      "provenance": [],
      "include_colab_link": true
    },
    "kernelspec": {
      "name": "python3",
      "display_name": "Python 3"
    },
    "language_info": {
      "name": "python"
    }
  },
  "cells": [
    {
      "cell_type": "markdown",
      "metadata": {
        "id": "view-in-github",
        "colab_type": "text"
      },
      "source": [
        "<a href=\"https://colab.research.google.com/github/dapopadev/dapopadev/blob/main/project.ipynb\" target=\"_parent\"><img src=\"https://colab.research.google.com/assets/colab-badge.svg\" alt=\"Open In Colab\"/></a>"
      ]
    },
    {
      "cell_type": "code",
      "execution_count": null,
      "metadata": {
        "id": "GoaCoPI3R7RG",
        "colab": {
          "base_uri": "https://localhost:8080/"
        },
        "outputId": "e6abb27b-2ad2-43e5-cd64-a31fc3dc23e4"
      },
      "outputs": [
        {
          "output_type": "stream",
          "name": "stdout",
          "text": [
            "Requirement already satisfied: pyspark in /usr/local/lib/python3.10/dist-packages (3.4.1)\n",
            "Requirement already satisfied: py4j==0.10.9.7 in /usr/local/lib/python3.10/dist-packages (from pyspark) (0.10.9.7)\n"
          ]
        }
      ],
      "source": [
        "!pip install pyspark"
      ]
    },
    {
      "cell_type": "markdown",
      "source": [
        "# New section"
      ],
      "metadata": {
        "id": "gX9TPM1lxZWj"
      }
    },
    {
      "cell_type": "markdown",
      "source": [
        "\n",
        "\n",
        "\n",
        "\n",
        "**2.INSTALAMOS EL MÓDULO PYSPARK**\n",
        "\n"
      ],
      "metadata": {
        "id": "pCyO5RPbe5aa"
      }
    },
    {
      "cell_type": "markdown",
      "source": [
        "3.**CREAMOS LA SESIÓN PYSPARK***"
      ],
      "metadata": {
        "id": "qjXjLjnqfHTI"
      }
    },
    {
      "cell_type": "code",
      "source": [
        "from pyspark.sql import SparkSession"
      ],
      "metadata": {
        "id": "eflvuMECSJE8"
      },
      "execution_count": null,
      "outputs": []
    },
    {
      "cell_type": "code",
      "source": [
        "from pyspark.sql.functions import col,sum"
      ],
      "metadata": {
        "id": "wtx0cf261i3C"
      },
      "execution_count": null,
      "outputs": []
    },
    {
      "cell_type": "code",
      "source": [
        "from google.colab import drive"
      ],
      "metadata": {
        "id": "awxCEo3-SWHS"
      },
      "execution_count": null,
      "outputs": []
    },
    {
      "cell_type": "markdown",
      "source": [
        " **DISEÑAMOS UNA UNIDAD PERSONAL DE GOOGLE DRIVE**"
      ],
      "metadata": {
        "id": "-mX2Dlp6ldAC"
      }
    },
    {
      "cell_type": "code",
      "source": [
        "drive.mount(\"/drive\")"
      ],
      "metadata": {
        "id": "toyStXuoScU9",
        "colab": {
          "base_uri": "https://localhost:8080/"
        },
        "outputId": "267e9448-1dbf-496b-9e11-d303f28e081d"
      },
      "execution_count": null,
      "outputs": [
        {
          "output_type": "stream",
          "name": "stdout",
          "text": [
            "Drive already mounted at /drive; to attempt to forcibly remount, call drive.mount(\"/drive\", force_remount=True).\n"
          ]
        }
      ]
    },
    {
      "cell_type": "code",
      "source": [
        "spark=SparkSession.builder.appName(\"my_app\").getOrCreate()"
      ],
      "metadata": {
        "id": "HpztO3AISs-D"
      },
      "execution_count": null,
      "outputs": []
    },
    {
      "cell_type": "markdown",
      "source": [
        "**3.1.CARGAMOS EL ARCHIVO Air_Traffic_Passenge_Statisitics**"
      ],
      "metadata": {
        "id": "0pl0Mn7yfeqZ"
      }
    },
    {
      "cell_type": "code",
      "source": [
        "df=spark.read.option(\"Header\",True).csv(\"/drive/MyDrive/Air_Traffic_Passenger_Statistics.csv\")"
      ],
      "metadata": {
        "id": "JBcTTBS5S_wX"
      },
      "execution_count": null,
      "outputs": []
    },
    {
      "cell_type": "code",
      "source": [
        "df.show()"
      ],
      "metadata": {
        "id": "i48wTG04Dsqd",
        "colab": {
          "base_uri": "https://localhost:8080/"
        },
        "outputId": "e62ab089-7016-4328-9cbc-c26fb2bf249e"
      },
      "execution_count": null,
      "outputs": [
        {
          "output_type": "stream",
          "name": "stdout",
          "text": [
            "+---------------+-----------------+---------------------------+-----------------+---------------------------+-------------+-------------------+------------------+-------------------+-------------+-------------+---------------+---------------------------+------------------------+----+-----+\n",
            "|Activity Period|Operating Airline|Operating Airline IATA Code|Published Airline|Published Airline IATA Code|  GEO Summary|         GEO Region|Activity Type Code|Price Category Code|     Terminal|Boarding Area|Passenger Count|Adjusted Activity Type Code|Adjusted Passenger Count|Year|Month|\n",
            "+---------------+-----------------+---------------------------+-----------------+---------------------------+-------------+-------------------+------------------+-------------------+-------------+-------------+---------------+---------------------------+------------------------+----+-----+\n",
            "|         200507|     ATA Airlines|                         TZ|     ATA Airlines|                         TZ|     Domestic|                 US|          Deplaned|           Low Fare|   Terminal 1|            B|          27271|                   Deplaned|                   27271|2005| July|\n",
            "|         200507|     ATA Airlines|                         TZ|     ATA Airlines|                         TZ|     Domestic|                 US|          Enplaned|           Low Fare|   Terminal 1|            B|          29131|                   Enplaned|                   29131|2005| July|\n",
            "|         200507|     ATA Airlines|                         TZ|     ATA Airlines|                         TZ|     Domestic|                 US|    Thru / Transit|           Low Fare|   Terminal 1|            B|           5415|         Thru / Transit * 2|                   10830|2005| July|\n",
            "|         200507|      Air Canada |                         AC|      Air Canada |                         AC|International|             Canada|          Deplaned|              Other|   Terminal 1|            B|          35156|                   Deplaned|                   35156|2005| July|\n",
            "|         200507|      Air Canada |                         AC|      Air Canada |                         AC|International|             Canada|          Enplaned|              Other|   Terminal 1|            B|          34090|                   Enplaned|                   34090|2005| July|\n",
            "|         200507|        Air China|                         CA|        Air China|                         CA|International|               Asia|          Deplaned|              Other|International|            G|           6263|                   Deplaned|                    6263|2005| July|\n",
            "|         200507|        Air China|                         CA|        Air China|                         CA|International|               Asia|          Enplaned|              Other|International|            G|           5500|                   Enplaned|                    5500|2005| July|\n",
            "|         200507|       Air France|                         AF|       Air France|                         AF|International|             Europe|          Deplaned|              Other|International|            A|          12050|                   Deplaned|                   12050|2005| July|\n",
            "|         200507|       Air France|                         AF|       Air France|                         AF|International|             Europe|          Enplaned|              Other|International|            A|          11638|                   Enplaned|                   11638|2005| July|\n",
            "|         200507|  Air New Zealand|                         NZ|  Air New Zealand|                         NZ|International|Australia / Oceania|          Deplaned|              Other|International|            G|           4998|                   Deplaned|                    4998|2005| July|\n",
            "|         200507|  Air New Zealand|                         NZ|  Air New Zealand|                         NZ|International|Australia / Oceania|          Enplaned|              Other|International|            G|           4962|                   Enplaned|                    4962|2005| July|\n",
            "|         200507|  AirTran Airways|                         FL|  AirTran Airways|                         FL|     Domestic|                 US|          Deplaned|           Low Fare|International|            A|           8055|                   Deplaned|                    8055|2005| July|\n",
            "|         200507|  AirTran Airways|                         FL|  AirTran Airways|                         FL|     Domestic|                 US|          Enplaned|           Low Fare|International|            A|           7984|                   Enplaned|                    7984|2005| July|\n",
            "|         200507|  Alaska Airlines|                         AS|  Alaska Airlines|                         AS|     Domestic|                 US|          Deplaned|              Other|International|            A|          36641|                   Deplaned|                   36641|2005| July|\n",
            "|         200507|  Alaska Airlines|                         AS|  Alaska Airlines|                         AS|     Domestic|                 US|          Enplaned|              Other|International|            A|          39379|                   Enplaned|                   39379|2005| July|\n",
            "|         200507|  Alaska Airlines|                         AS|  Alaska Airlines|                         AS|     Domestic|                 US|    Thru / Transit|              Other|International|            A|           3678|         Thru / Transit * 2|                    7356|2005| July|\n",
            "|         200507|  Alaska Airlines|                         AS|  Alaska Airlines|                         AS|International|             Canada|          Deplaned|              Other|International|            A|           7977|                   Deplaned|                    7977|2005| July|\n",
            "|         200507|  Alaska Airlines|                         AS|  Alaska Airlines|                         AS|International|             Canada|          Enplaned|              Other|International|            A|           8837|                   Enplaned|                    8837|2005| July|\n",
            "|         200507|  Alaska Airlines|                         AS|  Alaska Airlines|                         AS|International|             Mexico|          Deplaned|              Other|International|            A|           6969|                   Deplaned|                    6969|2005| July|\n",
            "|         200507|  Alaska Airlines|                         AS|  Alaska Airlines|                         AS|International|             Mexico|          Enplaned|              Other|International|            A|          10046|                   Enplaned|                   10046|2005| July|\n",
            "+---------------+-----------------+---------------------------+-----------------+---------------------------+-------------+-------------------+------------------+-------------------+-------------+-------------+---------------+---------------------------+------------------------+----+-----+\n",
            "only showing top 20 rows\n",
            "\n"
          ]
        }
      ]
    },
    {
      "cell_type": "markdown",
      "source": [
        "*COPIAMOS EL ARCHIVO Y LE ASIGNAMOS OTRO NOMBRE PARA HACER OTRAS TRANSFORMACIONES MÁS ADELANTE"
      ],
      "metadata": {
        "id": "GJOqvED2vH5x"
      }
    },
    {
      "cell_type": "code",
      "source": [
        "df2=df"
      ],
      "metadata": {
        "id": "_wsQoaDdeIb3"
      },
      "execution_count": null,
      "outputs": []
    },
    {
      "cell_type": "code",
      "source": [
        "df2.show()"
      ],
      "metadata": {
        "id": "brIHNVCMFHY6",
        "colab": {
          "base_uri": "https://localhost:8080/"
        },
        "outputId": "98892036-7afe-4cd2-ab0d-b886322742e8"
      },
      "execution_count": null,
      "outputs": [
        {
          "output_type": "stream",
          "name": "stdout",
          "text": [
            "+---------------+-----------------+---------------------------+-----------------+---------------------------+-------------+-------------------+------------------+-------------------+-------------+-------------+---------------+---------------------------+------------------------+----+-----+\n",
            "|Activity Period|Operating Airline|Operating Airline IATA Code|Published Airline|Published Airline IATA Code|  GEO Summary|         GEO Region|Activity Type Code|Price Category Code|     Terminal|Boarding Area|Passenger Count|Adjusted Activity Type Code|Adjusted Passenger Count|Year|Month|\n",
            "+---------------+-----------------+---------------------------+-----------------+---------------------------+-------------+-------------------+------------------+-------------------+-------------+-------------+---------------+---------------------------+------------------------+----+-----+\n",
            "|         200507|     ATA Airlines|                         TZ|     ATA Airlines|                         TZ|     Domestic|                 US|          Deplaned|           Low Fare|   Terminal 1|            B|          27271|                   Deplaned|                   27271|2005| July|\n",
            "|         200507|     ATA Airlines|                         TZ|     ATA Airlines|                         TZ|     Domestic|                 US|          Enplaned|           Low Fare|   Terminal 1|            B|          29131|                   Enplaned|                   29131|2005| July|\n",
            "|         200507|     ATA Airlines|                         TZ|     ATA Airlines|                         TZ|     Domestic|                 US|    Thru / Transit|           Low Fare|   Terminal 1|            B|           5415|         Thru / Transit * 2|                   10830|2005| July|\n",
            "|         200507|      Air Canada |                         AC|      Air Canada |                         AC|International|             Canada|          Deplaned|              Other|   Terminal 1|            B|          35156|                   Deplaned|                   35156|2005| July|\n",
            "|         200507|      Air Canada |                         AC|      Air Canada |                         AC|International|             Canada|          Enplaned|              Other|   Terminal 1|            B|          34090|                   Enplaned|                   34090|2005| July|\n",
            "|         200507|        Air China|                         CA|        Air China|                         CA|International|               Asia|          Deplaned|              Other|International|            G|           6263|                   Deplaned|                    6263|2005| July|\n",
            "|         200507|        Air China|                         CA|        Air China|                         CA|International|               Asia|          Enplaned|              Other|International|            G|           5500|                   Enplaned|                    5500|2005| July|\n",
            "|         200507|       Air France|                         AF|       Air France|                         AF|International|             Europe|          Deplaned|              Other|International|            A|          12050|                   Deplaned|                   12050|2005| July|\n",
            "|         200507|       Air France|                         AF|       Air France|                         AF|International|             Europe|          Enplaned|              Other|International|            A|          11638|                   Enplaned|                   11638|2005| July|\n",
            "|         200507|  Air New Zealand|                         NZ|  Air New Zealand|                         NZ|International|Australia / Oceania|          Deplaned|              Other|International|            G|           4998|                   Deplaned|                    4998|2005| July|\n",
            "|         200507|  Air New Zealand|                         NZ|  Air New Zealand|                         NZ|International|Australia / Oceania|          Enplaned|              Other|International|            G|           4962|                   Enplaned|                    4962|2005| July|\n",
            "|         200507|  AirTran Airways|                         FL|  AirTran Airways|                         FL|     Domestic|                 US|          Deplaned|           Low Fare|International|            A|           8055|                   Deplaned|                    8055|2005| July|\n",
            "|         200507|  AirTran Airways|                         FL|  AirTran Airways|                         FL|     Domestic|                 US|          Enplaned|           Low Fare|International|            A|           7984|                   Enplaned|                    7984|2005| July|\n",
            "|         200507|  Alaska Airlines|                         AS|  Alaska Airlines|                         AS|     Domestic|                 US|          Deplaned|              Other|International|            A|          36641|                   Deplaned|                   36641|2005| July|\n",
            "|         200507|  Alaska Airlines|                         AS|  Alaska Airlines|                         AS|     Domestic|                 US|          Enplaned|              Other|International|            A|          39379|                   Enplaned|                   39379|2005| July|\n",
            "|         200507|  Alaska Airlines|                         AS|  Alaska Airlines|                         AS|     Domestic|                 US|    Thru / Transit|              Other|International|            A|           3678|         Thru / Transit * 2|                    7356|2005| July|\n",
            "|         200507|  Alaska Airlines|                         AS|  Alaska Airlines|                         AS|International|             Canada|          Deplaned|              Other|International|            A|           7977|                   Deplaned|                    7977|2005| July|\n",
            "|         200507|  Alaska Airlines|                         AS|  Alaska Airlines|                         AS|International|             Canada|          Enplaned|              Other|International|            A|           8837|                   Enplaned|                    8837|2005| July|\n",
            "|         200507|  Alaska Airlines|                         AS|  Alaska Airlines|                         AS|International|             Mexico|          Deplaned|              Other|International|            A|           6969|                   Deplaned|                    6969|2005| July|\n",
            "|         200507|  Alaska Airlines|                         AS|  Alaska Airlines|                         AS|International|             Mexico|          Enplaned|              Other|International|            A|          10046|                   Enplaned|                   10046|2005| July|\n",
            "+---------------+-----------------+---------------------------+-----------------+---------------------------+-------------+-------------------+------------------+-------------------+-------------+-------------+---------------+---------------------------+------------------------+----+-----+\n",
            "only showing top 20 rows\n",
            "\n"
          ]
        }
      ]
    },
    {
      "cell_type": "code",
      "source": [
        "df.count()"
      ],
      "metadata": {
        "id": "H2yKsOMcGtLD",
        "colab": {
          "base_uri": "https://localhost:8080/"
        },
        "outputId": "d6654068-22cc-4ddc-c931-811cf4e5ecd7"
      },
      "execution_count": null,
      "outputs": [
        {
          "output_type": "execute_result",
          "data": {
            "text/plain": [
              "15007"
            ]
          },
          "metadata": {},
          "execution_count": 155
        }
      ]
    },
    {
      "cell_type": "code",
      "source": [
        "df1=df.where(col(\"GEO Region\").isNotNull())"
      ],
      "metadata": {
        "id": "FU0QdzWzHFLw"
      },
      "execution_count": null,
      "outputs": []
    },
    {
      "cell_type": "code",
      "source": [
        "df1.count()"
      ],
      "metadata": {
        "id": "X97MjE6YHzvV",
        "colab": {
          "base_uri": "https://localhost:8080/"
        },
        "outputId": "0bf34538-b7bd-46a2-e7bc-c683f9474a8a"
      },
      "execution_count": null,
      "outputs": [
        {
          "output_type": "execute_result",
          "data": {
            "text/plain": [
              "15007"
            ]
          },
          "metadata": {},
          "execution_count": 157
        }
      ]
    },
    {
      "cell_type": "markdown",
      "source": [
        "*QUITAMOS ALGUNAS DE LAS COLUMNAS QUE NO NECESITAMOS PARA NUESTRO ANÁLISIS"
      ],
      "metadata": {
        "id": "WG9CaUdo_Pwd"
      }
    },
    {
      "cell_type": "code",
      "source": [
        "df = df.drop(\"Published Airline IATA Code\",\"Published airline\",\"Activity Type Code\",\"Price Category Code\",\"Terminal\",\"Boarding Area\",\"Adjusted Activity Type Code\")\n"
      ],
      "metadata": {
        "id": "UPxYTCRk6QO7"
      },
      "execution_count": null,
      "outputs": []
    },
    {
      "cell_type": "code",
      "source": [
        "df.show()"
      ],
      "metadata": {
        "id": "1M_FAxXY_AEJ",
        "colab": {
          "base_uri": "https://localhost:8080/"
        },
        "outputId": "3cc538db-3187-48ef-8438-91b609919297"
      },
      "execution_count": null,
      "outputs": [
        {
          "output_type": "stream",
          "name": "stdout",
          "text": [
            "+---------------+-----------------+---------------------------+-------------+-------------------+---------------+------------------------+----+-----+\n",
            "|Activity Period|Operating Airline|Operating Airline IATA Code|  GEO Summary|         GEO Region|Passenger Count|Adjusted Passenger Count|Year|Month|\n",
            "+---------------+-----------------+---------------------------+-------------+-------------------+---------------+------------------------+----+-----+\n",
            "|         200507|     ATA Airlines|                         TZ|     Domestic|                 US|          27271|                   27271|2005| July|\n",
            "|         200507|     ATA Airlines|                         TZ|     Domestic|                 US|          29131|                   29131|2005| July|\n",
            "|         200507|     ATA Airlines|                         TZ|     Domestic|                 US|           5415|                   10830|2005| July|\n",
            "|         200507|      Air Canada |                         AC|International|             Canada|          35156|                   35156|2005| July|\n",
            "|         200507|      Air Canada |                         AC|International|             Canada|          34090|                   34090|2005| July|\n",
            "|         200507|        Air China|                         CA|International|               Asia|           6263|                    6263|2005| July|\n",
            "|         200507|        Air China|                         CA|International|               Asia|           5500|                    5500|2005| July|\n",
            "|         200507|       Air France|                         AF|International|             Europe|          12050|                   12050|2005| July|\n",
            "|         200507|       Air France|                         AF|International|             Europe|          11638|                   11638|2005| July|\n",
            "|         200507|  Air New Zealand|                         NZ|International|Australia / Oceania|           4998|                    4998|2005| July|\n",
            "|         200507|  Air New Zealand|                         NZ|International|Australia / Oceania|           4962|                    4962|2005| July|\n",
            "|         200507|  AirTran Airways|                         FL|     Domestic|                 US|           8055|                    8055|2005| July|\n",
            "|         200507|  AirTran Airways|                         FL|     Domestic|                 US|           7984|                    7984|2005| July|\n",
            "|         200507|  Alaska Airlines|                         AS|     Domestic|                 US|          36641|                   36641|2005| July|\n",
            "|         200507|  Alaska Airlines|                         AS|     Domestic|                 US|          39379|                   39379|2005| July|\n",
            "|         200507|  Alaska Airlines|                         AS|     Domestic|                 US|           3678|                    7356|2005| July|\n",
            "|         200507|  Alaska Airlines|                         AS|International|             Canada|           7977|                    7977|2005| July|\n",
            "|         200507|  Alaska Airlines|                         AS|International|             Canada|           8837|                    8837|2005| July|\n",
            "|         200507|  Alaska Airlines|                         AS|International|             Mexico|           6969|                    6969|2005| July|\n",
            "|         200507|  Alaska Airlines|                         AS|International|             Mexico|          10046|                   10046|2005| July|\n",
            "+---------------+-----------------+---------------------------+-------------+-------------------+---------------+------------------------+----+-----+\n",
            "only showing top 20 rows\n",
            "\n"
          ]
        }
      ]
    },
    {
      "cell_type": "code",
      "source": [
        "df.dtypes\n"
      ],
      "metadata": {
        "id": "9_Lp5OIpPUlr",
        "colab": {
          "base_uri": "https://localhost:8080/"
        },
        "outputId": "8d216f5f-f3c5-4272-d032-f62ce3cd7eb1"
      },
      "execution_count": null,
      "outputs": [
        {
          "output_type": "execute_result",
          "data": {
            "text/plain": [
              "[('Activity Period', 'string'),\n",
              " ('Operating Airline', 'string'),\n",
              " ('Operating Airline IATA Code', 'string'),\n",
              " ('GEO Summary', 'string'),\n",
              " ('GEO Region', 'string'),\n",
              " ('Passenger Count', 'string'),\n",
              " ('Adjusted Passenger Count', 'string'),\n",
              " ('Year', 'string'),\n",
              " ('Month', 'string')]"
            ]
          },
          "metadata": {},
          "execution_count": 160
        }
      ]
    },
    {
      "cell_type": "markdown",
      "source": [
        "*CONVERTIMOS ALGUNAS COLUMNAS DE TIPO STRING A NÚMERICAS PARA PODER HACER OPERACIONES CON ELLAS"
      ],
      "metadata": {
        "id": "JXROqtjK_jTW"
      }
    },
    {
      "cell_type": "code",
      "source": [
        "df=df.withColumn(\"Year\",df[\"Year\"].cast(\"int\"))"
      ],
      "metadata": {
        "id": "kHlgW_RwCD04"
      },
      "execution_count": null,
      "outputs": []
    },
    {
      "cell_type": "code",
      "source": [
        "df=df.withColumn(\"Passenger Count\",df[\"Passenger Count\"].cast(\"int\"))"
      ],
      "metadata": {
        "id": "QHpKmY1rFzvu"
      },
      "execution_count": null,
      "outputs": []
    },
    {
      "cell_type": "code",
      "source": [
        "df=df.withColumn(\"Adjusted Passenger Count\",df[\"Adjusted Passenger Count\"].cast(\"int\"))"
      ],
      "metadata": {
        "id": "bqX_VEmjRFZU"
      },
      "execution_count": null,
      "outputs": []
    },
    {
      "cell_type": "code",
      "source": [
        "df.printSchema()"
      ],
      "metadata": {
        "id": "3d5kmdQcC2WM",
        "colab": {
          "base_uri": "https://localhost:8080/"
        },
        "outputId": "5e6c32e3-74ea-47f1-94eb-9961bd327ff4"
      },
      "execution_count": null,
      "outputs": [
        {
          "output_type": "stream",
          "name": "stdout",
          "text": [
            "root\n",
            " |-- Activity Period: string (nullable = true)\n",
            " |-- Operating Airline: string (nullable = true)\n",
            " |-- Operating Airline IATA Code: string (nullable = true)\n",
            " |-- GEO Summary: string (nullable = true)\n",
            " |-- GEO Region: string (nullable = true)\n",
            " |-- Passenger Count: integer (nullable = true)\n",
            " |-- Adjusted Passenger Count: integer (nullable = true)\n",
            " |-- Year: integer (nullable = true)\n",
            " |-- Month: string (nullable = true)\n",
            "\n"
          ]
        }
      ]
    },
    {
      "cell_type": "markdown",
      "source": [
        "**3.2¿CUÁNTAS COMPAÑÍAS DIFERENTES APARECEN EN EL FICHERO?**"
      ],
      "metadata": {
        "id": "QAibm38Eihpd"
      }
    },
    {
      "cell_type": "code",
      "source": [
        "from pyspark.sql import SparkSession"
      ],
      "metadata": {
        "id": "Ndz_3pvPrTc8"
      },
      "execution_count": null,
      "outputs": []
    },
    {
      "cell_type": "code",
      "source": [
        "from pyspark.sql.functions import count_distinct"
      ],
      "metadata": {
        "id": "ghbY3FVkWGFW"
      },
      "execution_count": null,
      "outputs": []
    },
    {
      "cell_type": "code",
      "source": [
        "spark=SparkSession.builder.appName(\"DistinctCountExample\").getOrCreate()"
      ],
      "metadata": {
        "id": "EgsphvLQcAZ5"
      },
      "execution_count": null,
      "outputs": []
    },
    {
      "cell_type": "markdown",
      "source": [
        "*EL RESULTADO SEGÚN NUESTRA CONSULTA ES:77 COMPAÑIAS AEREAS"
      ],
      "metadata": {
        "id": "89UZqZ0PAZrc"
      }
    },
    {
      "cell_type": "code",
      "source": [
        "distinct_companies_count=df.select(count_distinct(\"Operating Airline\")).show()"
      ],
      "metadata": {
        "id": "A4t9Qx1DGPMH",
        "colab": {
          "base_uri": "https://localhost:8080/"
        },
        "outputId": "3e458a69-617e-478d-9cd5-9a8588ec1625"
      },
      "execution_count": null,
      "outputs": [
        {
          "output_type": "stream",
          "name": "stdout",
          "text": [
            "+---------------------------------+\n",
            "|count(DISTINCT Operating Airline)|\n",
            "+---------------------------------+\n",
            "|                               77|\n",
            "+---------------------------------+\n",
            "\n"
          ]
        }
      ]
    },
    {
      "cell_type": "markdown",
      "source": [
        "*TENEMOS 9 REGIONES DIFERENTES DONDE DICHAS COMPAÑIAS OPERAN EN EL MARCO GEO REGION"
      ],
      "metadata": {
        "id": "F-cVKwq2Arv0"
      }
    },
    {
      "cell_type": "code",
      "source": [
        "df.select(\"GEO Region\").distinct().count()"
      ],
      "metadata": {
        "id": "It58IRO9ZA52",
        "colab": {
          "base_uri": "https://localhost:8080/"
        },
        "outputId": "7474ceb0-545d-4995-d044-535ad42ff508"
      },
      "execution_count": null,
      "outputs": [
        {
          "output_type": "execute_result",
          "data": {
            "text/plain": [
              "9"
            ]
          },
          "metadata": {},
          "execution_count": 169
        }
      ]
    },
    {
      "cell_type": "markdown",
      "source": [
        "*HE DESCUBIERTO LA FUNCIÓN DESCRIBE QUE ME INDICA UN RESUMEN DE LAS PRINCIPALES OPERACIONES A REALIZAR"
      ],
      "metadata": {
        "id": "QlimmSWoA5D1"
      }
    },
    {
      "cell_type": "code",
      "source": [
        "df.describe().show()"
      ],
      "metadata": {
        "id": "0PLgkv9bfUdQ",
        "colab": {
          "base_uri": "https://localhost:8080/"
        },
        "outputId": "d8d85018-f548-4d7b-aca6-126b133c16ae"
      },
      "execution_count": null,
      "outputs": [
        {
          "output_type": "stream",
          "name": "stdout",
          "text": [
            "+-------+------------------+-----------------+---------------------------+-------------+----------+------------------+------------------------+-----------------+---------+\n",
            "|summary|   Activity Period|Operating Airline|Operating Airline IATA Code|  GEO Summary|GEO Region|   Passenger Count|Adjusted Passenger Count|             Year|    Month|\n",
            "+-------+------------------+-----------------+---------------------------+-------------+----------+------------------+------------------------+-----------------+---------+\n",
            "|  count|             15007|            15007|                      14953|        15007|     15007|             15007|                   15007|            15007|    15007|\n",
            "|   mean|201045.07336576266|             null|                       null|         null|      null|29240.521090157927|      29331.917105350836|2010.385220230559|     null|\n",
            "| stddev|313.33619609986414|             null|                       null|         null|      null|58319.509284123524|        58284.1822186625|3.137589043169972|     null|\n",
            "|    min|            200507|     ATA Airlines|                         4T|     Domestic|      Asia|                 1|                       1|             2005|    April|\n",
            "|    max|            201603|     Xtra Airways|                         YX|International|        US|            659837|                  659837|             2016|September|\n",
            "+-------+------------------+-----------------+---------------------------+-------------+----------+------------------+------------------------+-----------------+---------+\n",
            "\n"
          ]
        }
      ]
    },
    {
      "cell_type": "markdown",
      "source": [
        "**3.3.¿CUÁNTOS PASAJEROS HAY DE MEDIA LOS VUELOS?**"
      ],
      "metadata": {
        "id": "3uQ7qY7NkRBC"
      }
    },
    {
      "cell_type": "code",
      "source": [
        "from pyspark.sql.functions import sum,count,avg,max"
      ],
      "metadata": {
        "id": "L1QP1qVOkhfu"
      },
      "execution_count": null,
      "outputs": []
    },
    {
      "cell_type": "code",
      "source": [
        "df.select(avg(\"Passenger Count\")).show()"
      ],
      "metadata": {
        "id": "bbr02AWIkuqX",
        "colab": {
          "base_uri": "https://localhost:8080/"
        },
        "outputId": "22f5ccf1-b9cf-4f79-cbb5-d32b1f3f2911"
      },
      "execution_count": null,
      "outputs": [
        {
          "output_type": "stream",
          "name": "stdout",
          "text": [
            "+--------------------+\n",
            "|avg(Passenger Count)|\n",
            "+--------------------+\n",
            "|  29240.521090157927|\n",
            "+--------------------+\n",
            "\n"
          ]
        }
      ]
    },
    {
      "cell_type": "code",
      "source": [
        "df.select(avg(\"Adjusted Passenger Count\")).show()"
      ],
      "metadata": {
        "id": "rTZAFMNUCdVT",
        "colab": {
          "base_uri": "https://localhost:8080/"
        },
        "outputId": "29e34cc0-f56e-4a13-f3a7-447f30129ac1"
      },
      "execution_count": null,
      "outputs": [
        {
          "output_type": "stream",
          "name": "stdout",
          "text": [
            "+-----------------------------+\n",
            "|avg(Adjusted Passenger Count)|\n",
            "+-----------------------------+\n",
            "|           29331.917105350836|\n",
            "+-----------------------------+\n",
            "\n"
          ]
        }
      ]
    },
    {
      "cell_type": "markdown",
      "source": [
        "**3.3¿CUÁNTOS PASAJEROS TIENEN DE MEDIA LOS VUELOS DE CADA COMPAÑIA?**"
      ],
      "metadata": {
        "id": "8QeIp6EIntpl"
      }
    },
    {
      "cell_type": "code",
      "source": [
        "MediaCompania=df.groupBy(\"Operating Airline\").agg({\"Passenger Count\":\"avg\",\"Adjusted Passenger Count\":\"avg\"})"
      ],
      "metadata": {
        "id": "PsAC4zNolcw9"
      },
      "execution_count": null,
      "outputs": []
    },
    {
      "cell_type": "code",
      "source": [
        "MediaCompania.write.mode(\"overwrite\").csv(\"resultados media compañia.csv\",header=True)"
      ],
      "metadata": {
        "id": "3diTzL1gPM4W"
      },
      "execution_count": null,
      "outputs": []
    },
    {
      "cell_type": "markdown",
      "source": [
        "*CALCULAMOS LA MEDIA DE PASAJEROS POR REGIÓN"
      ],
      "metadata": {
        "id": "MpzKW8uwweQ6"
      }
    },
    {
      "cell_type": "code",
      "source": [
        "df.groupBy(\"GEO Region\").agg({\"Passenger Count\":\"avg\"}).show()"
      ],
      "metadata": {
        "id": "x2uzJqm4Jv_-",
        "colab": {
          "base_uri": "https://localhost:8080/"
        },
        "outputId": "f4990d22-4fcb-434d-ba9b-2573a052817d"
      },
      "execution_count": null,
      "outputs": [
        {
          "output_type": "stream",
          "name": "stdout",
          "text": [
            "+-------------------+--------------------+\n",
            "|         GEO Region|avg(Passenger Count)|\n",
            "+-------------------+--------------------+\n",
            "|             Europe|  12755.652465294399|\n",
            "|    Central America|   4946.715328467153|\n",
            "|                 US|   58330.34345351044|\n",
            "|      South America|   2786.011111111111|\n",
            "|             Mexico|    7173.62062780269|\n",
            "|        Middle East|    8658.61214953271|\n",
            "|             Canada|     9777.9682651622|\n",
            "|Australia / Oceania|   6417.016282225238|\n",
            "|               Asia|   13435.00458295142|\n",
            "+-------------------+--------------------+\n",
            "\n"
          ]
        }
      ]
    },
    {
      "cell_type": "code",
      "source": [
        "MediaRegion=df.groupBy(\"GEO Region\").agg({\"Passenger Count\":\"avg\"})"
      ],
      "metadata": {
        "id": "OVyPIlsL1g6G"
      },
      "execution_count": null,
      "outputs": []
    },
    {
      "cell_type": "code",
      "source": [
        "MediaRegion.write.mode(\"overwrite\").csv(\"resultados media region.csv\",header=True)"
      ],
      "metadata": {
        "id": "AYSjY1YWTQ5m"
      },
      "execution_count": null,
      "outputs": []
    },
    {
      "cell_type": "markdown",
      "source": [
        "*CALCULAMOS LA MEDIA POR COMPANIA AÉREA"
      ],
      "metadata": {
        "id": "jev1lZVKwuQ7"
      }
    },
    {
      "cell_type": "code",
      "source": [
        "MediaCompania=df.groupBy(\"Operating Airline\").agg({\"Passenger Count\":\"avg\"}).show()"
      ],
      "metadata": {
        "id": "AwHuPTI4DirF",
        "colab": {
          "base_uri": "https://localhost:8080/"
        },
        "outputId": "13d7024e-b171-4c33-e740-3f801357f6dd"
      },
      "execution_count": null,
      "outputs": [
        {
          "output_type": "stream",
          "name": "stdout",
          "text": [
            "+--------------------+--------------------+\n",
            "|   Operating Airline|avg(Passenger Count)|\n",
            "+--------------------+--------------------+\n",
            "|          Icelandair|              2799.7|\n",
            "|         Ameriflight|                 5.0|\n",
            "|      Cathay Pacific|  17121.325581395347|\n",
            "|          Aeromexico|   5463.822222222222|\n",
            "|      Etihad Airways|   6476.088235294118|\n",
            "| Philippine Airlines|  10248.635658914729|\n",
            "|United Airlines -...|   48915.46750232126|\n",
            "|    Turkish Airlines|   8162.416666666667|\n",
            "| Swiss International|   6061.640287769784|\n",
            "|    Independence Air|              6391.3|\n",
            "|Miami Air Interna...|             107.375|\n",
            "|          Air France|  11589.077519379845|\n",
            "|      Japan Airlines|   6470.332046332046|\n",
            "|    Midwest Airlines|              3883.0|\n",
            "|      Atlas Air, Inc|                34.0|\n",
            "|    JetBlue Airways |   35261.13963963964|\n",
            "|       China Eastern|   5498.402777777777|\n",
            "|   Mexicana Airlines|   7993.806451612903|\n",
            "|         Air Canada |  18251.560109289618|\n",
            "|       Allegiant Air|           1516.8125|\n",
            "+--------------------+--------------------+\n",
            "only showing top 20 rows\n",
            "\n"
          ]
        }
      ]
    },
    {
      "cell_type": "markdown",
      "source": [
        " **3.4 ELIMINAMOS LOS REGISTROS DUPLICADOS POR EL CAMPO \"GEO REGION\", MANTENIENDO ÚNICAMENTE AQUEL CON MAYOR NÚMERO DE PASAJEROS**"
      ],
      "metadata": {
        "id": "MX3cYH-Mlo6C"
      }
    },
    {
      "cell_type": "code",
      "source": [
        "df.dropDuplicates([\"GEO Region\"]).select(\"GEO Region\").show()"
      ],
      "metadata": {
        "id": "A4VfWIt5l411",
        "colab": {
          "base_uri": "https://localhost:8080/"
        },
        "outputId": "c7428b3d-d21e-4557-8e21-02c672269b16"
      },
      "execution_count": null,
      "outputs": [
        {
          "output_type": "stream",
          "name": "stdout",
          "text": [
            "+-------------------+\n",
            "|         GEO Region|\n",
            "+-------------------+\n",
            "|             Europe|\n",
            "|    Central America|\n",
            "|                 US|\n",
            "|      South America|\n",
            "|             Mexico|\n",
            "|        Middle East|\n",
            "|             Canada|\n",
            "|Australia / Oceania|\n",
            "|               Asia|\n",
            "+-------------------+\n",
            "\n"
          ]
        }
      ]
    },
    {
      "cell_type": "code",
      "source": [
        "maximo=df.groupBy('GEO Region').agg({\"Passenger Count\":\"max\"}).alias(\"maximo\")"
      ],
      "metadata": {
        "id": "EcuYlrwDB4Gx"
      },
      "execution_count": null,
      "outputs": []
    },
    {
      "cell_type": "markdown",
      "source": [
        "*AVERIGUAMOS LA FUNCIÓN\"col.COLUMNS\" PARA SABER EXACTAMENTE EL NOMBRE DE LA COLUMNA MAXIMO"
      ],
      "metadata": {
        "id": "TjLqjUpWEGTc"
      }
    },
    {
      "cell_type": "code",
      "source": [
        "maximo.columns"
      ],
      "metadata": {
        "id": "DGONkrCfMvia",
        "colab": {
          "base_uri": "https://localhost:8080/"
        },
        "outputId": "a6b3698a-ba67-43b3-8fce-542f301706c7"
      },
      "execution_count": null,
      "outputs": [
        {
          "output_type": "execute_result",
          "data": {
            "text/plain": [
              "['GEO Region', 'max(Passenger Count)']"
            ]
          },
          "metadata": {},
          "execution_count": 182
        }
      ]
    },
    {
      "cell_type": "code",
      "source": [
        "from pyspark.sql.functions import desc"
      ],
      "metadata": {
        "id": "q6rnS6Ka41Cj"
      },
      "execution_count": null,
      "outputs": []
    },
    {
      "cell_type": "markdown",
      "source": [
        "*GUARDAMOS LA COLUMNA CON MAYOR NUMERO DE PASAJEROS ORDENANDO LA CONSULTA DE MAYOR A MENOR LIMITANDOLA A 1 PARA GUARDARLA EN UN NUEVO CSV"
      ],
      "metadata": {
        "id": "8UoiMl3vIq1a"
      }
    },
    {
      "cell_type": "code",
      "source": [
        "maximo.orderBy(desc(\"max(Passenger Count)\")).limit(1).write.mode(\"overwrite\").csv(\"maximo pasajeros por region.csv\",header=True)"
      ],
      "metadata": {
        "id": "8Y7NWL_v35bk"
      },
      "execution_count": null,
      "outputs": []
    },
    {
      "cell_type": "markdown",
      "source": [
        "*OTRA FORMA DE ELIMINAR DUPLICADOS"
      ],
      "metadata": {
        "id": "w1gDSQR1JKhI"
      }
    },
    {
      "cell_type": "code",
      "source": [
        "dropDisDF=df.dropDuplicates([\"GEO Region\"])"
      ],
      "metadata": {
        "id": "aWmDA8Pqjozm"
      },
      "execution_count": null,
      "outputs": []
    },
    {
      "cell_type": "code",
      "source": [
        "df.dropDuplicates().show()"
      ],
      "metadata": {
        "id": "DlVfQ8uTk5h3",
        "colab": {
          "base_uri": "https://localhost:8080/"
        },
        "outputId": "0a0a85d7-7025-4d0a-93a2-b1c6a740fe6a"
      },
      "execution_count": null,
      "outputs": [
        {
          "output_type": "stream",
          "name": "stdout",
          "text": [
            "+---------------+--------------------+---------------------------+-------------+----------+---------------+------------------------+----+---------+\n",
            "|Activity Period|   Operating Airline|Operating Airline IATA Code|  GEO Summary|GEO Region|Passenger Count|Adjusted Passenger Count|Year|    Month|\n",
            "+---------------+--------------------+---------------------------+-------------+----------+---------------+------------------------+----+---------+\n",
            "|         200508|        ATA Airlines|                         TZ|     Domestic|        US|          26535|                   26535|2005|   August|\n",
            "|         200508|        ATA Airlines|                         TZ|     Domestic|        US|           5712|                   11424|2005|   August|\n",
            "|         200510|United Airlines -...|                         UA|International|    Europe|          27617|                   27617|2005|  October|\n",
            "|         200512|    SkyWest Airlines|                         OO|     Domestic|        US|          90500|                   90500|2005| December|\n",
            "|         200603|American Eagle Ai...|                         MQ|     Domestic|        US|           4432|                    4432|2006|    March|\n",
            "|         200604| Philippine Airlines|                         PR|International|      Asia|          13143|                   13143|2006|    April|\n",
            "|         200608|      China Airlines|                         CI|International|      Asia|          11965|                   11965|2006|   August|\n",
            "|         200701|           Air China|                         CA|International|      Asia|           4397|                    4397|2007|  January|\n",
            "|         200702|  Northwest Airlines|                         NW|     Domestic|        US|          36931|                   36931|2007| February|\n",
            "|         200703|     Alaska Airlines|                         AS|     Domestic|        US|          47844|                   47844|2007|    March|\n",
            "|         200704|    SkyWest Airlines|                         OO|     Domestic|        US|           5929|                    5929|2007|    April|\n",
            "|         200706|    Midwest Airlines|                         YX|     Domestic|        US|          10072|                   10072|2007|     June|\n",
            "|         200708|Lufthansa German ...|                         LH|International|    Europe|          18278|                   18278|2007|   August|\n",
            "|         200709|         Air Canada |                         AC|International|    Canada|          29614|                   29614|2007|September|\n",
            "|         200710|  Singapore Airlines|                         SQ|International|      Asia|          12962|                   12962|2007|  October|\n",
            "|         200802|     Alaska Airlines|                         AS|     Domestic|        US|          32165|                   32165|2008| February|\n",
            "|         200803|United Airlines -...|                         UA|International|      Asia|          78589|                   78589|2008|    March|\n",
            "|         200806|         Air Canada |                         AC|International|    Canada|          26682|                   26682|2008|     June|\n",
            "|         200807|Sun Country Airlines|                         SY|     Domestic|        US|           4596|                    4596|2008|     July|\n",
            "|         200808|     Virgin Atlantic|                         VS|International|    Europe|          10116|                   10116|2008|   August|\n",
            "+---------------+--------------------+---------------------------+-------------+----------+---------------+------------------------+----+---------+\n",
            "only showing top 20 rows\n",
            "\n"
          ]
        }
      ]
    },
    {
      "cell_type": "code",
      "source": [
        "print(\"Distinct count of GEO Region:\"+str(dropDisDF.count()))"
      ],
      "metadata": {
        "id": "1a8NPhyukCfb",
        "colab": {
          "base_uri": "https://localhost:8080/"
        },
        "outputId": "8185afa9-439d-4ac2-d720-855a8f9040bd"
      },
      "execution_count": null,
      "outputs": [
        {
          "output_type": "stream",
          "name": "stdout",
          "text": [
            "Distinct count of GEO Region:9\n"
          ]
        }
      ]
    },
    {
      "cell_type": "code",
      "source": [
        "distinctDF=df.distinct()"
      ],
      "metadata": {
        "id": "gsfQSAgQhT1T"
      },
      "execution_count": null,
      "outputs": []
    },
    {
      "cell_type": "code",
      "source": [
        "print(\"Distinct count:\"+str(distinctDF.count()))"
      ],
      "metadata": {
        "id": "zYH3gJEQjHnh",
        "colab": {
          "base_uri": "https://localhost:8080/"
        },
        "outputId": "a0a0e8b0-4dd8-453c-9f21-5f7209eb730e"
      },
      "execution_count": null,
      "outputs": [
        {
          "output_type": "stream",
          "name": "stdout",
          "text": [
            "Distinct count:14975\n"
          ]
        }
      ]
    },
    {
      "cell_type": "code",
      "source": [
        "distinctDF.show(truncate=False)"
      ],
      "metadata": {
        "id": "wCK9fGnmjcAp",
        "colab": {
          "base_uri": "https://localhost:8080/"
        },
        "outputId": "31ab90b5-1190-418e-a52e-912972db69f4"
      },
      "execution_count": null,
      "outputs": [
        {
          "output_type": "stream",
          "name": "stdout",
          "text": [
            "+---------------+--------------------------------+---------------------------+-------------+----------+---------------+------------------------+----+---------+\n",
            "|Activity Period|Operating Airline               |Operating Airline IATA Code|GEO Summary  |GEO Region|Passenger Count|Adjusted Passenger Count|Year|Month    |\n",
            "+---------------+--------------------------------+---------------------------+-------------+----------+---------------+------------------------+----+---------+\n",
            "|200508         |ATA Airlines                    |TZ                         |Domestic     |US        |26535          |26535                   |2005|August   |\n",
            "|200508         |ATA Airlines                    |TZ                         |Domestic     |US        |5712           |11424                   |2005|August   |\n",
            "|200510         |United Airlines - Pre 07/01/2013|UA                         |International|Europe    |27617          |27617                   |2005|October  |\n",
            "|200512         |SkyWest Airlines                |OO                         |Domestic     |US        |90500          |90500                   |2005|December |\n",
            "|200603         |American Eagle Airlines         |MQ                         |Domestic     |US        |4432           |4432                    |2006|March    |\n",
            "|200604         |Philippine Airlines             |PR                         |International|Asia      |13143          |13143                   |2006|April    |\n",
            "|200608         |China Airlines                  |CI                         |International|Asia      |11965          |11965                   |2006|August   |\n",
            "|200701         |Air China                       |CA                         |International|Asia      |4397           |4397                    |2007|January  |\n",
            "|200702         |Northwest Airlines              |NW                         |Domestic     |US        |36931          |36931                   |2007|February |\n",
            "|200703         |Alaska Airlines                 |AS                         |Domestic     |US        |47844          |47844                   |2007|March    |\n",
            "|200704         |SkyWest Airlines                |OO                         |Domestic     |US        |5929           |5929                    |2007|April    |\n",
            "|200706         |Midwest Airlines                |YX                         |Domestic     |US        |10072          |10072                   |2007|June     |\n",
            "|200708         |Lufthansa German Airlines       |LH                         |International|Europe    |18278          |18278                   |2007|August   |\n",
            "|200709         |Air Canada                      |AC                         |International|Canada    |29614          |29614                   |2007|September|\n",
            "|200710         |Singapore Airlines              |SQ                         |International|Asia      |12962          |12962                   |2007|October  |\n",
            "|200802         |Alaska Airlines                 |AS                         |Domestic     |US        |32165          |32165                   |2008|February |\n",
            "|200803         |United Airlines - Pre 07/01/2013|UA                         |International|Asia      |78589          |78589                   |2008|March    |\n",
            "|200806         |Air Canada                      |AC                         |International|Canada    |26682          |26682                   |2008|June     |\n",
            "|200807         |Sun Country Airlines            |SY                         |Domestic     |US        |4596           |4596                    |2008|July     |\n",
            "|200808         |Virgin Atlantic                 |VS                         |International|Europe    |10116          |10116                   |2008|August   |\n",
            "+---------------+--------------------------------+---------------------------+-------------+----------+---------------+------------------------+----+---------+\n",
            "only showing top 20 rows\n",
            "\n"
          ]
        }
      ]
    },
    {
      "cell_type": "markdown",
      "source": [
        "**4. ANÁLISIS DESCRIPTIVO DE LOS DATOS**"
      ],
      "metadata": {
        "id": "xHIGdMAocjHD"
      }
    },
    {
      "cell_type": "markdown",
      "source": [
        "*VISUALIZAMOS LOS DIFERENTES TIPOS DE DATOS POR SI NECESITAMOS HACER MÁS CAMBIOS DE TIPO DE DATO"
      ],
      "metadata": {
        "id": "i8wgLwxKJqK6"
      }
    },
    {
      "cell_type": "code",
      "source": [
        "df.printSchema()"
      ],
      "metadata": {
        "id": "ussphVaJDCvN",
        "colab": {
          "base_uri": "https://localhost:8080/"
        },
        "outputId": "1eb563de-58d7-4261-d44c-55a92e67f7cc"
      },
      "execution_count": null,
      "outputs": [
        {
          "output_type": "stream",
          "name": "stdout",
          "text": [
            "root\n",
            " |-- Activity Period: string (nullable = true)\n",
            " |-- Operating Airline: string (nullable = true)\n",
            " |-- Operating Airline IATA Code: string (nullable = true)\n",
            " |-- GEO Summary: string (nullable = true)\n",
            " |-- GEO Region: string (nullable = true)\n",
            " |-- Passenger Count: integer (nullable = true)\n",
            " |-- Adjusted Passenger Count: integer (nullable = true)\n",
            " |-- Year: integer (nullable = true)\n",
            " |-- Month: string (nullable = true)\n",
            "\n"
          ]
        }
      ]
    },
    {
      "cell_type": "markdown",
      "source": [
        "**CALCULAR LA MEDIA EN FUNCIÓN DE LOS DIFERENTES CAMPOS**"
      ],
      "metadata": {
        "id": "zd3XXuoKc1q_"
      }
    },
    {
      "cell_type": "code",
      "source": [
        "from pyspark.sql import SparkSession"
      ],
      "metadata": {
        "id": "0K-_1y_QcwP2"
      },
      "execution_count": null,
      "outputs": []
    },
    {
      "cell_type": "code",
      "source": [
        "from pyspark.sql import functions as F"
      ],
      "metadata": {
        "id": "kzELX2jjnyaD"
      },
      "execution_count": null,
      "outputs": []
    },
    {
      "cell_type": "code",
      "source": [
        "from pyspark.sql.functions import count,sum,avg,round,mean,asc"
      ],
      "metadata": {
        "id": "lubVdevkw-jO"
      },
      "execution_count": null,
      "outputs": []
    },
    {
      "cell_type": "code",
      "source": [
        "mediaYear=df.groupBy(\"Year\").agg({\"Passenger Count\":\"mean\",\"Adjusted Passenger Count\":\"mean\"}).alias(\"Year\")"
      ],
      "metadata": {
        "id": "IBGJaB4KtOx9"
      },
      "execution_count": null,
      "outputs": []
    },
    {
      "cell_type": "code",
      "source": [
        "mediaYear.columns"
      ],
      "metadata": {
        "id": "iEsZcNGXMe8C",
        "colab": {
          "base_uri": "https://localhost:8080/"
        },
        "outputId": "deb9e436-3021-4f4f-dea5-6404e817faec"
      },
      "execution_count": null,
      "outputs": [
        {
          "output_type": "execute_result",
          "data": {
            "text/plain": [
              "['Year', 'avg(Passenger Count)', 'avg(Adjusted Passenger Count)']"
            ]
          },
          "metadata": {},
          "execution_count": 196
        }
      ]
    },
    {
      "cell_type": "code",
      "source": [
        "mediaYear.orderBy(asc(\"Year\")).show()"
      ],
      "metadata": {
        "id": "eI-FZNMKMjyS",
        "colab": {
          "base_uri": "https://localhost:8080/"
        },
        "outputId": "28f083f0-4937-4fb5-983b-8c653aff8ad5"
      },
      "execution_count": null,
      "outputs": [
        {
          "output_type": "stream",
          "name": "stdout",
          "text": [
            "+----+--------------------+-----------------------------+\n",
            "|Year|avg(Passenger Count)|avg(Adjusted Passenger Count)|\n",
            "+----+--------------------+-----------------------------+\n",
            "|2005|  24779.903597122302|           25002.343884892085|\n",
            "|2006|  24348.407596785975|            24529.88458728999|\n",
            "|2007|   25233.55713271824|           25401.585521646557|\n",
            "|2008|   25983.72505233775|           26100.866015352407|\n",
            "|2009|  26804.696338837042|            26887.03086862886|\n",
            "|2010|  28383.224150397687|           28482.454085321766|\n",
            "|2011|   29444.45035971223|            29529.08705035971|\n",
            "|2012|  32220.526124818578|           32276.639332365747|\n",
            "|2013|   33097.02503681885|            33145.62886597938|\n",
            "|2014|   34440.51973684211|           34470.102339181285|\n",
            "|2015|   34286.22397260274|             34292.5301369863|\n",
            "|2016|  30808.212938005392|           30811.854447439353|\n",
            "+----+--------------------+-----------------------------+\n",
            "\n"
          ]
        }
      ]
    },
    {
      "cell_type": "markdown",
      "source": [
        "*EL AÑO QUE MÁS PASAJEROS POR VUELOS HUBO FUE 2016. PODEMOS OBSERVAR QUE CADA AÑO LA TENDENCIA ES ASCENDENTE CON RESPETO AL ANTERIOR"
      ],
      "metadata": {
        "id": "UM9YcfFdPMoL"
      }
    },
    {
      "cell_type": "code",
      "source": [
        "mediaCompania=df.groupBy(\"Operating Airline\").agg({\"Passenger Count\":\"mean\",\"Adjusted Passenger Count\":\"mean\"}).alias(\"media Compania\")"
      ],
      "metadata": {
        "id": "b0rgNqnB-MhU"
      },
      "execution_count": null,
      "outputs": []
    },
    {
      "cell_type": "code",
      "source": [
        "mediaCompania.orderBy(desc(\"avg(Passenger Count)\")).show()"
      ],
      "metadata": {
        "id": "Rtno95OfN-LK",
        "colab": {
          "base_uri": "https://localhost:8080/"
        },
        "outputId": "9403cb0c-7d80-4254-c627-cf07bb907fce"
      },
      "execution_count": null,
      "outputs": [
        {
          "output_type": "stream",
          "name": "stdout",
          "text": [
            "+--------------------+--------------------+-----------------------------+\n",
            "|   Operating Airline|avg(Passenger Count)|avg(Adjusted Passenger Count)|\n",
            "+--------------------+--------------------+-----------------------------+\n",
            "|   American Airlines|  127164.38970588235|           127164.38970588235|\n",
            "|  Southwest Airlines|   81188.15857605178|             81223.3495145631|\n",
            "|      Virgin America|   74405.35359116022|            74405.35359116022|\n",
            "|     United Airlines|   72732.05829596413|            72827.21973094171|\n",
            "|     Delta Air Lines|   68498.49740932643|            68515.41968911917|\n",
            "|          US Airways|   55317.81578947369|            55317.81578947369|\n",
            "|United Airlines -...|   48915.46750232126|            49365.51671309192|\n",
            "|    SkyWest Airlines|   37083.83904465213|             37083.8764278297|\n",
            "|    JetBlue Airways |   35261.13963963964|            35261.13963963964|\n",
            "|  Northwest Airlines|            26109.25|           26205.504166666666|\n",
            "|    Compass Airlines|   23358.55681818182|           23359.840909090908|\n",
            "|Lufthansa German ...|   19301.96511627907|            19301.96511627907|\n",
            "|         Air Canada |  18251.560109289618|           18251.560109289618|\n",
            "|   Frontier Airlines|  17787.676923076924|           17787.676923076924|\n",
            "|     British Airways|  17625.124031007752|           17625.124031007752|\n",
            "|     Alaska Airlines|  17251.637816245006|            17564.67776298269|\n",
            "|      Cathay Pacific|  17121.325581395347|           17121.325581395347|\n",
            "|  Singapore Airlines|  14746.647286821706|           14746.647286821706|\n",
            "|         EVA Airways|  13116.356589147286|           13116.356589147286|\n",
            "|          Air France|  11589.077519379845|           11589.077519379845|\n",
            "+--------------------+--------------------+-----------------------------+\n",
            "only showing top 20 rows\n",
            "\n"
          ]
        }
      ]
    },
    {
      "cell_type": "code",
      "source": [
        "mediaCompania.orderBy(asc(\"avg(Passenger Count)\")).show()"
      ],
      "metadata": {
        "id": "yPXRxhDVPkyN",
        "colab": {
          "base_uri": "https://localhost:8080/"
        },
        "outputId": "682fff0f-8954-4546-acb9-f25ae9ecbd46"
      },
      "execution_count": null,
      "outputs": [
        {
          "output_type": "stream",
          "name": "stdout",
          "text": [
            "+--------------------+--------------------+-----------------------------+\n",
            "|   Operating Airline|avg(Passenger Count)|avg(Adjusted Passenger Count)|\n",
            "+--------------------+--------------------+-----------------------------+\n",
            "|Evergreen Interna...|                 2.0|                          2.0|\n",
            "|         Ameriflight|                 5.0|            5.363636363636363|\n",
            "|      Boeing Company|                18.0|                         18.0|\n",
            "|      Atlas Air, Inc|                34.0|                         35.5|\n",
            "|        Xtra Airways|                73.0|                         73.0|\n",
            "|           Servisair|   90.05555555555556|            90.05555555555556|\n",
            "|Miami Air Interna...|             107.375|                      107.375|\n",
            "|    Pacific Aviation|               160.0|                        160.0|\n",
            "|       Swissport USA|               258.6|                        264.8|\n",
            "|       World Airways|   261.6666666666667|            261.6666666666667|\n",
            "|     Air Canada Jazz|   294.2142857142857|            294.2142857142857|\n",
            "|     BelAir Airlines|   415.3636363636364|                        428.0|\n",
            "|       Allegiant Air|           1516.8125|                    1516.8125|\n",
            "|Atlantic Southeas...|   2176.909090909091|            2176.909090909091|\n",
            "|   XL Airways France|  2223.1612903225805|           2240.1290322580644|\n",
            "|          Air Berlin|             2320.75|                      2320.75|\n",
            "|   Republic Airlines|              2452.5|                       2452.5|\n",
            "|            LAN Peru|   2786.011111111111|            2786.011111111111|\n",
            "|          Icelandair|              2799.7|                       2799.7|\n",
            "|   Air India Limited|              2834.5|                       2834.5|\n",
            "+--------------------+--------------------+-----------------------------+\n",
            "only showing top 20 rows\n",
            "\n"
          ]
        }
      ]
    },
    {
      "cell_type": "markdown",
      "source": [
        "* CON REFERENCIA A LAS COMPANIAS QUE MÁS VUELOS HAN REALIZADO SE ENCUENTRA EN LA CABEZA AMERICAN AIRLINES CON 127.164 PASAJEROS SEGUIDA DE LEJOS DE SOUTHWEST AIRLINES CON 81188 PASAJEROS Y LAS QUE MENOS VUELOS HAN REALIZADO HAN SIDO EVERGREEN INTERNATIONAL CON 2 PASAJEROS?¿?? Y AMERICAN FLIGHT CON 5 PASAJEROS?¿?¿?  "
      ],
      "metadata": {
        "id": "twb8IQPdQWnD"
      }
    },
    {
      "cell_type": "code",
      "source": [
        "mediaRegion=df.groupBy(\"GEO REgion\").agg({\"Passenger Count\":\"mean\",\"Adjusted Passenger Count\":\"mean\"}).alias(\"media Region\")"
      ],
      "metadata": {
        "id": "_Kjr9nFqRE_8"
      },
      "execution_count": null,
      "outputs": []
    },
    {
      "cell_type": "code",
      "source": [
        "mediaRegion.orderBy(desc(\"avg(Passenger Count)\")).show()"
      ],
      "metadata": {
        "id": "Z8oXZwj-TK4O",
        "colab": {
          "base_uri": "https://localhost:8080/"
        },
        "outputId": "ca6b58bf-b2bf-4d07-de8c-e530c52823ed"
      },
      "execution_count": null,
      "outputs": [
        {
          "output_type": "stream",
          "name": "stdout",
          "text": [
            "+-------------------+--------------------+-----------------------------+\n",
            "|         GEO REgion|avg(Passenger Count)|avg(Adjusted Passenger Count)|\n",
            "+-------------------+--------------------+-----------------------------+\n",
            "|                 US|   58330.34345351044|            58485.87838537175|\n",
            "|               Asia|   13435.00458295142|           13508.552703941337|\n",
            "|             Europe|  12755.652465294399|           12779.055050263283|\n",
            "|             Canada|     9777.9682651622|             9803.79125528914|\n",
            "|        Middle East|    8658.61214953271|             8658.61214953271|\n",
            "|             Mexico|    7173.62062780269|            7250.898654708521|\n",
            "|Australia / Oceania|   6417.016282225238|            6495.104477611941|\n",
            "|    Central America|   4946.715328467153|            4946.715328467153|\n",
            "|      South America|   2786.011111111111|            2786.011111111111|\n",
            "+-------------------+--------------------+-----------------------------+\n",
            "\n"
          ]
        }
      ]
    },
    {
      "cell_type": "markdown",
      "source": [
        "*LA REGIÓN QUE MÁS VUELOS DE MEDIA REALIZA ES US Y LA QUE MENOS SOUTH AMERICA"
      ],
      "metadata": {
        "id": "s-6loO-RTiCk"
      }
    },
    {
      "cell_type": "code",
      "source": [
        "mediaTipo=df.groupBy(\"GEO Summary\").agg({\"Passenger Count\":\"mean\",\"Adjusted Passenger Count\":\"mean\"}).alias(\"media Tipo\")"
      ],
      "metadata": {
        "id": "gmF3nsVMT16-"
      },
      "execution_count": null,
      "outputs": []
    },
    {
      "cell_type": "code",
      "source": [
        "mediaTipo.orderBy(asc(\"avg(Passenger Count)\")).show()"
      ],
      "metadata": {
        "id": "f6-cASh_UbFy",
        "colab": {
          "base_uri": "https://localhost:8080/"
        },
        "outputId": "d9a637a5-cab0-4485-ec8d-2d6752911de4"
      },
      "execution_count": null,
      "outputs": [
        {
          "output_type": "stream",
          "name": "stdout",
          "text": [
            "+-------------+--------------------+-----------------------------+\n",
            "|  GEO Summary|avg(Passenger Count)|avg(Adjusted Passenger Count)|\n",
            "+-------------+--------------------+-----------------------------+\n",
            "|International|  10930.673072747015|           10981.698479913139|\n",
            "|     Domestic|   58330.34345351044|            58485.87838537175|\n",
            "+-------------+--------------------+-----------------------------+\n",
            "\n"
          ]
        }
      ]
    },
    {
      "cell_type": "markdown",
      "source": [
        "*SEGÚN ESTA CONSULTA EN CONCRETO LA MEDIA DE LOS VUELOS INTERNACIONALES DOBLAN A LOS VUELOS NACIONALES"
      ],
      "metadata": {
        "id": "UHGpA5-XU3WQ"
      }
    },
    {
      "cell_type": "markdown",
      "source": [
        "***LA FORMULA DE LA MEDIA TOMANDO EN CUENTA SOLAMENTE EL CAMPO QUE NOS INTERESA***"
      ],
      "metadata": {
        "id": "ZA9Ac1UPx7_V"
      }
    },
    {
      "cell_type": "code",
      "source": [
        "df.agg({'Passenger Count':'mean'}).show()"
      ],
      "metadata": {
        "id": "jWhFpD3V3htE",
        "colab": {
          "base_uri": "https://localhost:8080/"
        },
        "outputId": "2b2f199f-1fec-4216-c042-7dd2ae94b1bb"
      },
      "execution_count": null,
      "outputs": [
        {
          "output_type": "stream",
          "name": "stdout",
          "text": [
            "+--------------------+\n",
            "|avg(Passenger Count)|\n",
            "+--------------------+\n",
            "|  29240.521090157927|\n",
            "+--------------------+\n",
            "\n"
          ]
        }
      ]
    },
    {
      "cell_type": "code",
      "source": [
        "df.agg({'Adjusted Passenger Count':'mean'}).show()"
      ],
      "metadata": {
        "id": "gofblySn2l7W",
        "colab": {
          "base_uri": "https://localhost:8080/"
        },
        "outputId": "1d657113-8adc-47db-8da3-3bcf00ef8f56"
      },
      "execution_count": null,
      "outputs": [
        {
          "output_type": "stream",
          "name": "stdout",
          "text": [
            "+-----------------------------+\n",
            "|avg(Adjusted Passenger Count)|\n",
            "+-----------------------------+\n",
            "|           29331.917105350836|\n",
            "+-----------------------------+\n",
            "\n"
          ]
        }
      ]
    },
    {
      "cell_type": "markdown",
      "source": [
        "*CALCULAMOS EL MÁXIMO Y EL MINIMO DE NÚMERO DE PASAJEROS QUE HEMOS AGRUPADO ANTERIORMENTE"
      ],
      "metadata": {
        "id": "1aBniTijYqUz"
      }
    },
    {
      "cell_type": "code",
      "source": [
        "df.agg({'Adjusted Passenger Count':'max'}).show()"
      ],
      "metadata": {
        "id": "omVzE5oV6PcW",
        "colab": {
          "base_uri": "https://localhost:8080/"
        },
        "outputId": "afc0ae43-c8a4-478c-ee94-411987861489"
      },
      "execution_count": null,
      "outputs": [
        {
          "output_type": "stream",
          "name": "stdout",
          "text": [
            "+-----------------------------+\n",
            "|max(Adjusted Passenger Count)|\n",
            "+-----------------------------+\n",
            "|                       659837|\n",
            "+-----------------------------+\n",
            "\n"
          ]
        }
      ]
    },
    {
      "cell_type": "code",
      "source": [
        "df.agg({'Passenger Count':'max'}).show()"
      ],
      "metadata": {
        "id": "fRv-9Sbc6i5W",
        "colab": {
          "base_uri": "https://localhost:8080/"
        },
        "outputId": "3ad71b9b-9d37-4357-8ca8-4e596b202310"
      },
      "execution_count": null,
      "outputs": [
        {
          "output_type": "stream",
          "name": "stdout",
          "text": [
            "+--------------------+\n",
            "|max(Passenger Count)|\n",
            "+--------------------+\n",
            "|              659837|\n",
            "+--------------------+\n",
            "\n"
          ]
        }
      ]
    },
    {
      "cell_type": "code",
      "source": [
        "df.agg({'Passenger Count':'min'}).show()"
      ],
      "metadata": {
        "id": "QijGy2D8YKtE",
        "colab": {
          "base_uri": "https://localhost:8080/"
        },
        "outputId": "4e24d0e9-54ee-489f-f693-11c363fef747"
      },
      "execution_count": null,
      "outputs": [
        {
          "output_type": "stream",
          "name": "stdout",
          "text": [
            "+--------------------+\n",
            "|min(Passenger Count)|\n",
            "+--------------------+\n",
            "|                   1|\n",
            "+--------------------+\n",
            "\n"
          ]
        }
      ]
    },
    {
      "cell_type": "code",
      "source": [
        "df.agg({'Adjusted Passenger Count':'min'}).show()"
      ],
      "metadata": {
        "id": "ZVid8_UrZhlw",
        "colab": {
          "base_uri": "https://localhost:8080/"
        },
        "outputId": "4e27a8ac-455a-407f-eda9-5d88eef1c415"
      },
      "execution_count": null,
      "outputs": [
        {
          "output_type": "stream",
          "name": "stdout",
          "text": [
            "+-----------------------------+\n",
            "|min(Adjusted Passenger Count)|\n",
            "+-----------------------------+\n",
            "|                            1|\n",
            "+-----------------------------+\n",
            "\n"
          ]
        }
      ]
    },
    {
      "cell_type": "markdown",
      "source": [
        "***4.1 CALCULAMOS LA DESVIACIÓN ESTÁNDAR EN FUNCIÓN DE LAS DIFERENTES COLUMNAS***"
      ],
      "metadata": {
        "id": "c0mRrJz0a1YD"
      }
    },
    {
      "cell_type": "code",
      "source": [
        "desviacionRegion=df.groupBy(\"GEO Region\").agg({\"Passenger Count\":\"std\",\"Adjusted Passenger Count\":\"std\"}).alias(\"desviacion Region\")"
      ],
      "metadata": {
        "id": "qcD72Ly-bKza"
      },
      "execution_count": null,
      "outputs": []
    },
    {
      "cell_type": "code",
      "source": [
        "desviacionRegion.columns"
      ],
      "metadata": {
        "id": "WnbVlD_Ib-Kx",
        "colab": {
          "base_uri": "https://localhost:8080/"
        },
        "outputId": "84c5240e-cd8e-42d5-e3e8-522191b4acd6"
      },
      "execution_count": null,
      "outputs": [
        {
          "output_type": "execute_result",
          "data": {
            "text/plain": [
              "['GEO Region', 'stddev(Passenger Count)', 'stddev(Adjusted Passenger Count)']"
            ]
          },
          "metadata": {},
          "execution_count": 212
        }
      ]
    },
    {
      "cell_type": "code",
      "source": [
        "desviacionRegion.orderBy(desc(\"stddev(Passenger Count)\")).show()"
      ],
      "metadata": {
        "id": "yh_2Rn8Gbzy7",
        "colab": {
          "base_uri": "https://localhost:8080/"
        },
        "outputId": "6bbfd371-c175-45fd-ee63-aa71d4f127b9"
      },
      "execution_count": null,
      "outputs": [
        {
          "output_type": "stream",
          "name": "stdout",
          "text": [
            "+-------------------+-----------------------+--------------------------------+\n",
            "|         GEO Region|stddev(Passenger Count)|stddev(Adjusted Passenger Count)|\n",
            "+-------------------+-----------------------+--------------------------------+\n",
            "|                 US|      84951.31664013123|               84859.99154024843|\n",
            "|               Asia|     16188.148775860833|              16147.810666731062|\n",
            "|             Europe|      8634.076411562175|                8602.12804355499|\n",
            "|             Canada|      7833.110588404248|               7805.730643538237|\n",
            "|             Mexico|      5336.223001980255|               5274.346847133504|\n",
            "|Australia / Oceania|     2799.8406500183883|               2650.383265187285|\n",
            "|        Middle East|        2732.7195183986|                 2732.7195183986|\n",
            "|    Central America|     1220.8403125914656|              1220.8403125914656|\n",
            "|      South America|      396.7586506195526|               396.7586506195526|\n",
            "+-------------------+-----------------------+--------------------------------+\n",
            "\n"
          ]
        }
      ]
    },
    {
      "cell_type": "markdown",
      "source": [
        "*LA MAYOR DESVIACIÓN SEGÚN LA REGIÓN LA TIENE US Y LA QUE MENOS SOUTH AMERICA"
      ],
      "metadata": {
        "id": "yGCbDFeIctwY"
      }
    },
    {
      "cell_type": "code",
      "source": [
        "desviacionCompania=df.groupBy(\"Operating Airline\").agg({\"passenger Count\":\"std\",\"Adjusted Passenger Count\":\"std\"}).alias(\"desviacion Compania\")"
      ],
      "metadata": {
        "id": "gHtD38YOc_q7"
      },
      "execution_count": null,
      "outputs": []
    },
    {
      "cell_type": "code",
      "source": [
        "desviacionCompania.orderBy(desc(\"stddev(Passenger Count)\")).show()"
      ],
      "metadata": {
        "id": "CUdNLkPjdeMr",
        "colab": {
          "base_uri": "https://localhost:8080/"
        },
        "outputId": "214e0750-68fd-40aa-872d-371745e88fb5"
      },
      "execution_count": null,
      "outputs": [
        {
          "output_type": "stream",
          "name": "stdout",
          "text": [
            "+--------------------+-----------------------+--------------------------------+\n",
            "|   Operating Airline|stddev(passenger Count)|stddev(Adjusted Passenger Count)|\n",
            "+--------------------+-----------------------+--------------------------------+\n",
            "|     United Airlines|      111407.6096590275|              111353.44506100845|\n",
            "|United Airlines -...|     101345.43251928187|              101159.04786282202|\n",
            "|      Virgin America|      68539.60912970702|               68539.60912970702|\n",
            "|  Southwest Airlines|      60358.22460648464|              60310.953620260676|\n",
            "|     Delta Air Lines|     52441.708028502915|              52420.016941335474|\n",
            "|    SkyWest Airlines|     47114.391824800696|               47114.36241270175|\n",
            "|  Northwest Airlines|      23299.20468096906|              23201.110752157398|\n",
            "|   American Airlines|     22044.236526572004|              22044.236526572004|\n",
            "|          US Airways|     17368.956304696872|              17368.956304696872|\n",
            "|     Alaska Airlines|     16964.719658926915|              16729.119711928208|\n",
            "|    JetBlue Airways |     15781.559972653462|              15781.559972653462|\n",
            "|    Compass Airlines|     13643.171391063379|               13640.95590903843|\n",
            "|        ATA Airlines|      8883.122531587927|                8595.72732407883|\n",
            "|         Air Canada |     8036.2267292755105|              8036.2267292755105|\n",
            "|     AirTran Airways|      6649.343369117933|               6649.343369117933|\n",
            "|   Frontier Airlines|      4894.093465088834|               4894.093465088834|\n",
            "|          Air France|       4566.33970456309|                4566.33970456309|\n",
            "|      Cathay Pacific|     4000.2209037499756|              4000.2209037499756|\n",
            "|          Aeromexico|     3718.8715161582777|              3718.8715161582777|\n",
            "|    Independence Air|      3566.162520444381|               3566.162520444381|\n",
            "+--------------------+-----------------------+--------------------------------+\n",
            "only showing top 20 rows\n",
            "\n"
          ]
        }
      ]
    },
    {
      "cell_type": "code",
      "source": [
        "desviacionCompania.orderBy(asc(\"stddev(Passenger Count)\")).show()"
      ],
      "metadata": {
        "id": "SC8YCSvVd40N",
        "colab": {
          "base_uri": "https://localhost:8080/"
        },
        "outputId": "64e3f147-30db-4d1d-c538-6bc815c1cd00"
      },
      "execution_count": null,
      "outputs": [
        {
          "output_type": "stream",
          "name": "stdout",
          "text": [
            "+--------------------+-----------------------+--------------------------------+\n",
            "|   Operating Airline|stddev(passenger Count)|stddev(Adjusted Passenger Count)|\n",
            "+--------------------+-----------------------+--------------------------------+\n",
            "|      Boeing Company|                   null|                            null|\n",
            "|Evergreen Interna...|                    0.0|                             0.0|\n",
            "|    Pacific Aviation|                    0.0|                             0.0|\n",
            "|        Xtra Airways|                    0.0|                             0.0|\n",
            "|         Ameriflight|      2.811540841738193|               3.619332410758523|\n",
            "|       World Airways|       8.32666399786453|                8.32666399786453|\n",
            "|      Atlas Air, Inc|     43.840620433565945|               41.71930009000631|\n",
            "|Miami Air Interna...|     57.147615873280316|              57.147615873280316|\n",
            "|           Servisair|      58.46461417910078|               58.46461417910078|\n",
            "|       Swissport USA|     108.63161865418637|              100.88267584533175|\n",
            "|     Air Canada Jazz|     123.74612881057895|              123.74612881057895|\n",
            "|       Allegiant Air|        296.28594718616|                 296.28594718616|\n",
            "|     BelAir Airlines|       307.386920044947|              298.41374282154277|\n",
            "|   Air India Limited|     332.53657156555187|              332.53657156555187|\n",
            "|            LAN Peru|      396.7586506195526|               396.7586506195526|\n",
            "|  All Nippon Airways|      729.6152772279747|               729.6152772279747|\n",
            "|          Air Berlin|      752.8463464934738|               752.8463464934738|\n",
            "|Atlantic Southeas...|      805.7488034115435|               805.7488034115435|\n",
            "| COPA Airlines, Inc.|      925.0276889232697|               925.0276889232697|\n",
            "|American Eagle Ai...|      972.0801476612352|               972.0801476612352|\n",
            "+--------------------+-----------------------+--------------------------------+\n",
            "only showing top 20 rows\n",
            "\n"
          ]
        }
      ]
    },
    {
      "cell_type": "markdown",
      "source": [
        "*LA MAYOR DESVIACIÓN EN FUNCIÓN DE CADA COMPAÑIA ES LA DE UNITED AIRLINES Y LA QUE MENOS ES LA DE AMERICAN FLIGHT"
      ],
      "metadata": {
        "id": "yLQ1NsEzecej"
      }
    },
    {
      "cell_type": "code",
      "source": [
        "desviacionTipo=df.groupBy(\"GEO Summary\").agg({\"Passenger Count\":\"std\",\"Adjusted Passenger Count\":\"std\"}).alias(\"desviacion Tipo\")"
      ],
      "metadata": {
        "id": "n8OpUqx0e_cF"
      },
      "execution_count": null,
      "outputs": []
    },
    {
      "cell_type": "code",
      "source": [
        "desviacionTipo.orderBy(asc(\"stddev(Passenger Count)\")).show()"
      ],
      "metadata": {
        "id": "rU8BzQ_IgA_p",
        "colab": {
          "base_uri": "https://localhost:8080/"
        },
        "outputId": "3b2bd603-dd7f-41e8-bca4-ce4a2774e527"
      },
      "execution_count": null,
      "outputs": [
        {
          "output_type": "stream",
          "name": "stdout",
          "text": [
            "+-------------+-----------------------+--------------------------------+\n",
            "|  GEO Summary|stddev(Passenger Count)|stddev(Adjusted Passenger Count)|\n",
            "+-------------+-----------------------+--------------------------------+\n",
            "|International|     11493.706383971215|              11459.569919328736|\n",
            "|     Domestic|      84951.31664013123|               84859.99154024843|\n",
            "+-------------+-----------------------+--------------------------------+\n",
            "\n"
          ]
        }
      ]
    },
    {
      "cell_type": "code",
      "source": [
        "desviacionYear=df.groupBy(\"Year\").agg({\"Passenger Count\":\"std\",\"Adjusted Passenger Count\":\"std\"}).alias(\"deviacion Year\")"
      ],
      "metadata": {
        "id": "waSiuwyohTRh"
      },
      "execution_count": null,
      "outputs": []
    },
    {
      "cell_type": "code",
      "source": [
        "desviacionYear.orderBy(asc(\"stddev(Passenger Count)\")).show()"
      ],
      "metadata": {
        "id": "gUUO2iSKhwcc",
        "colab": {
          "base_uri": "https://localhost:8080/"
        },
        "outputId": "96e664b0-f635-4d45-b02a-c60f43e187e0"
      },
      "execution_count": null,
      "outputs": [
        {
          "output_type": "stream",
          "name": "stdout",
          "text": [
            "+----+-----------------------+--------------------------------+\n",
            "|Year|stddev(Passenger Count)|stddev(Adjusted Passenger Count)|\n",
            "+----+-----------------------+--------------------------------+\n",
            "|2008|       50774.2273603889|               50726.95614634388|\n",
            "|2007|     52686.333022728555|               52626.74622716829|\n",
            "|2006|      53418.13826968551|               53358.71428377348|\n",
            "|2005|      54774.38414321783|               54707.74430644306|\n",
            "|2009|      55096.04274953367|               55063.05908647803|\n",
            "|2016|     56351.917740411474|               56349.96176502073|\n",
            "|2010|       57782.3443543718|               57745.14106412592|\n",
            "|2011|     57938.886803724185|               57905.04645191029|\n",
            "|2012|     58612.368565066805|                58587.4853792429|\n",
            "|2015|     62735.130892386165|               62731.74505650158|\n",
            "|2014|      63694.36786274649|               63681.87984916423|\n",
            "|2013|      69500.20489950952|               69484.16000796498|\n",
            "+----+-----------------------+--------------------------------+\n",
            "\n"
          ]
        }
      ]
    },
    {
      "cell_type": "markdown",
      "source": [
        "LA MENOR DESVIACIÓN TOMANDO EN CONSIDERACIÓN EL AÑO ES 2008 Y LA QUE MÁS 2013"
      ],
      "metadata": {
        "id": "mSt-CJmGyl6G"
      }
    },
    {
      "cell_type": "markdown",
      "source": [
        "*LA FORMULA DE LA DESVIACIÓN EN FUNCIÓN DE CADA CAMPO EN CONCRETO"
      ],
      "metadata": {
        "id": "kQwzAgPOy1yg"
      }
    },
    {
      "cell_type": "code",
      "source": [
        "df.agg({'Passenger count':'std'}).show()"
      ],
      "metadata": {
        "id": "BlB6yc1NUHov",
        "colab": {
          "base_uri": "https://localhost:8080/"
        },
        "outputId": "98824c04-2bb2-4f79-d83e-dbd8b4614f78"
      },
      "execution_count": null,
      "outputs": [
        {
          "output_type": "stream",
          "name": "stdout",
          "text": [
            "+-----------------------+\n",
            "|stddev(Passenger count)|\n",
            "+-----------------------+\n",
            "|     58319.509284123524|\n",
            "+-----------------------+\n",
            "\n"
          ]
        }
      ]
    },
    {
      "cell_type": "code",
      "source": [
        "df.agg({'Adjusted Passenger count':'std'}).show()"
      ],
      "metadata": {
        "id": "gGukChDLWXR6",
        "colab": {
          "base_uri": "https://localhost:8080/"
        },
        "outputId": "9d2c408e-6056-4780-e393-469bb4cadafc"
      },
      "execution_count": null,
      "outputs": [
        {
          "output_type": "stream",
          "name": "stdout",
          "text": [
            "+--------------------------------+\n",
            "|stddev(Adjusted Passenger count)|\n",
            "+--------------------------------+\n",
            "|                58284.1822186625|\n",
            "+--------------------------------+\n",
            "\n"
          ]
        }
      ]
    },
    {
      "cell_type": "markdown",
      "source": [
        "**4.2 ANÁLISIS DE CORRELACIÓN**"
      ],
      "metadata": {
        "id": "QiEfHp-feNrw"
      }
    },
    {
      "cell_type": "code",
      "source": [
        "df.printSchema()"
      ],
      "metadata": {
        "id": "QGeQuqkOqMDk",
        "colab": {
          "base_uri": "https://localhost:8080/"
        },
        "outputId": "6e8da70c-4f89-4a78-eb4a-f3d3d5dc5b40"
      },
      "execution_count": null,
      "outputs": [
        {
          "output_type": "stream",
          "name": "stdout",
          "text": [
            "root\n",
            " |-- Activity Period: string (nullable = true)\n",
            " |-- Operating Airline: string (nullable = true)\n",
            " |-- Operating Airline IATA Code: string (nullable = true)\n",
            " |-- GEO Summary: string (nullable = true)\n",
            " |-- GEO Region: string (nullable = true)\n",
            " |-- Passenger Count: integer (nullable = true)\n",
            " |-- Adjusted Passenger Count: integer (nullable = true)\n",
            " |-- Year: integer (nullable = true)\n",
            " |-- Month: string (nullable = true)\n",
            "\n"
          ]
        }
      ]
    },
    {
      "cell_type": "code",
      "source": [
        "df.show(6)"
      ],
      "metadata": {
        "id": "QJ7ptH5LV9PV",
        "colab": {
          "base_uri": "https://localhost:8080/"
        },
        "outputId": "7a417d06-945f-4f9f-8f52-fa0a7dabfcd9"
      },
      "execution_count": null,
      "outputs": [
        {
          "output_type": "stream",
          "name": "stdout",
          "text": [
            "+---------------+-----------------+---------------------------+-------------+----------+---------------+------------------------+----+-----+\n",
            "|Activity Period|Operating Airline|Operating Airline IATA Code|  GEO Summary|GEO Region|Passenger Count|Adjusted Passenger Count|Year|Month|\n",
            "+---------------+-----------------+---------------------------+-------------+----------+---------------+------------------------+----+-----+\n",
            "|         200507|     ATA Airlines|                         TZ|     Domestic|        US|          27271|                   27271|2005| July|\n",
            "|         200507|     ATA Airlines|                         TZ|     Domestic|        US|          29131|                   29131|2005| July|\n",
            "|         200507|     ATA Airlines|                         TZ|     Domestic|        US|           5415|                   10830|2005| July|\n",
            "|         200507|      Air Canada |                         AC|International|    Canada|          35156|                   35156|2005| July|\n",
            "|         200507|      Air Canada |                         AC|International|    Canada|          34090|                   34090|2005| July|\n",
            "|         200507|        Air China|                         CA|International|      Asia|           6263|                    6263|2005| July|\n",
            "+---------------+-----------------+---------------------------+-------------+----------+---------------+------------------------+----+-----+\n",
            "only showing top 6 rows\n",
            "\n"
          ]
        }
      ]
    },
    {
      "cell_type": "code",
      "source": [
        "no_str_df=df.drop(\"Activity Period\",\"Operating Airline\",\"Operating Airline IATA Code\",\"GEO Summary\",\"GEO Region\",\"Month\")"
      ],
      "metadata": {
        "id": "CQNfr8IacDjL"
      },
      "execution_count": null,
      "outputs": []
    },
    {
      "cell_type": "code",
      "source": [
        "from pyspark.ml.feature import VectorAssembler\n",
        "from pyspark.ml.stat import Correlation"
      ],
      "metadata": {
        "id": "CFOl1lf4Z0tu"
      },
      "execution_count": null,
      "outputs": []
    },
    {
      "cell_type": "code",
      "source": [
        "vector_col=\"corr_vars\""
      ],
      "metadata": {
        "id": "aLTPTrppaNQ_"
      },
      "execution_count": null,
      "outputs": []
    },
    {
      "cell_type": "code",
      "source": [
        "assembler=VectorAssembler(inputCols=no_str_df.columns,outputCol=vector_col)"
      ],
      "metadata": {
        "id": "daYO_6VpopzS"
      },
      "execution_count": null,
      "outputs": []
    },
    {
      "cell_type": "code",
      "source": [
        "no_str_df.columns"
      ],
      "metadata": {
        "id": "thmIHiJrKyee",
        "colab": {
          "base_uri": "https://localhost:8080/"
        },
        "outputId": "e2fa3436-f308-45d2-8703-809466c1f75b"
      },
      "execution_count": null,
      "outputs": [
        {
          "output_type": "execute_result",
          "data": {
            "text/plain": [
              "['Passenger Count', 'Adjusted Passenger Count', 'Year']"
            ]
          },
          "metadata": {},
          "execution_count": 229
        }
      ]
    },
    {
      "cell_type": "code",
      "source": [
        "no_str_df.show()"
      ],
      "metadata": {
        "id": "eF9UQBmgH3b1",
        "colab": {
          "base_uri": "https://localhost:8080/"
        },
        "outputId": "5bdd675e-b98f-4cb5-910a-a914c4a892f3"
      },
      "execution_count": null,
      "outputs": [
        {
          "output_type": "stream",
          "name": "stdout",
          "text": [
            "+---------------+------------------------+----+\n",
            "|Passenger Count|Adjusted Passenger Count|Year|\n",
            "+---------------+------------------------+----+\n",
            "|          27271|                   27271|2005|\n",
            "|          29131|                   29131|2005|\n",
            "|           5415|                   10830|2005|\n",
            "|          35156|                   35156|2005|\n",
            "|          34090|                   34090|2005|\n",
            "|           6263|                    6263|2005|\n",
            "|           5500|                    5500|2005|\n",
            "|          12050|                   12050|2005|\n",
            "|          11638|                   11638|2005|\n",
            "|           4998|                    4998|2005|\n",
            "|           4962|                    4962|2005|\n",
            "|           8055|                    8055|2005|\n",
            "|           7984|                    7984|2005|\n",
            "|          36641|                   36641|2005|\n",
            "|          39379|                   39379|2005|\n",
            "|           3678|                    7356|2005|\n",
            "|           7977|                    7977|2005|\n",
            "|           8837|                    8837|2005|\n",
            "|           6969|                    6969|2005|\n",
            "|          10046|                   10046|2005|\n",
            "+---------------+------------------------+----+\n",
            "only showing top 20 rows\n",
            "\n"
          ]
        }
      ]
    },
    {
      "cell_type": "code",
      "source": [
        "no_str_df.printSchema()"
      ],
      "metadata": {
        "id": "oLsKyLFHJGIH",
        "colab": {
          "base_uri": "https://localhost:8080/"
        },
        "outputId": "b3a7d6fa-2b6d-4422-dcfb-5c0559d08947"
      },
      "execution_count": null,
      "outputs": [
        {
          "output_type": "stream",
          "name": "stdout",
          "text": [
            "root\n",
            " |-- Passenger Count: integer (nullable = true)\n",
            " |-- Adjusted Passenger Count: integer (nullable = true)\n",
            " |-- Year: integer (nullable = true)\n",
            "\n"
          ]
        }
      ]
    },
    {
      "cell_type": "code",
      "source": [
        "df_vector=assembler.transform(no_str_df).select(vector_col)"
      ],
      "metadata": {
        "id": "jpqGPHW_pBrc"
      },
      "execution_count": null,
      "outputs": []
    },
    {
      "cell_type": "code",
      "source": [
        "corr_matrix=Correlation.corr(df_vector,vector_col).collect()[0][0].toArray().tolist()"
      ],
      "metadata": {
        "id": "8Z1jZfHCpOtJ"
      },
      "execution_count": null,
      "outputs": []
    },
    {
      "cell_type": "code",
      "source": [
        "corr_matrix_df=spark.createDataFrame(corr_matrix,no_str_df.columns)"
      ],
      "metadata": {
        "id": "X0Q5oxa8p3Ki"
      },
      "execution_count": null,
      "outputs": []
    },
    {
      "cell_type": "code",
      "source": [
        "corr_matrix_df.show()"
      ],
      "metadata": {
        "id": "5-JEUhWkqHkk",
        "colab": {
          "base_uri": "https://localhost:8080/"
        },
        "outputId": "40144c8c-d718-4404-920e-66c6185104dd"
      },
      "execution_count": null,
      "outputs": [
        {
          "output_type": "stream",
          "name": "stdout",
          "text": [
            "+-------------------+------------------------+--------------------+\n",
            "|    Passenger Count|Adjusted Passenger Count|                Year|\n",
            "+-------------------+------------------------+--------------------+\n",
            "|                1.0|      0.9999408877427237| 0.06006904043285836|\n",
            "| 0.9999408877427237|                     1.0|0.059096234917787455|\n",
            "|0.06006904043285836|    0.059096234917787455|                 1.0|\n",
            "+-------------------+------------------------+--------------------+\n",
            "\n"
          ]
        }
      ]
    },
    {
      "cell_type": "markdown",
      "source": [
        "REALIZAMOS UNA CORRELACIÓN DE LAS COLUMNAS NÚMERICAS.HAY UNA CORRELACIÓN POSITIVA ENTRE EL CAMPO AÑO Y EL CAMPO DEL Nº DE PASAJEROS/Nº DE PASAJEROS AJUSTADO"
      ],
      "metadata": {
        "id": "eJXUN24w0vyk"
      }
    },
    {
      "cell_type": "markdown",
      "source": [
        "INTENTAMOS CORRELACIONAR LOS CAMPOS CATEGORICOS AHORA PARA VER DE QUE MANERA ESTÁN CORRELACIONADOS.\n",
        "VOLVEMOS A CARGAR EL DATAFRAME ORIGINAL CON TODAS SUS COLUMNAS"
      ],
      "metadata": {
        "id": "ZahIRh_c1cl2"
      }
    },
    {
      "cell_type": "code",
      "source": [
        "df2.show()"
      ],
      "metadata": {
        "id": "_gtB50GHB8Zv",
        "colab": {
          "base_uri": "https://localhost:8080/"
        },
        "outputId": "b8b45271-5bd1-4c76-94d7-920a4c175bfe"
      },
      "execution_count": null,
      "outputs": [
        {
          "output_type": "stream",
          "name": "stdout",
          "text": [
            "+---------------+-----------------+---------------------------+-----------------+---------------------------+-------------+-------------------+------------------+-------------------+-------------+-------------+---------------+---------------------------+------------------------+----+-----+\n",
            "|Activity Period|Operating Airline|Operating Airline IATA Code|Published Airline|Published Airline IATA Code|  GEO Summary|         GEO Region|Activity Type Code|Price Category Code|     Terminal|Boarding Area|Passenger Count|Adjusted Activity Type Code|Adjusted Passenger Count|Year|Month|\n",
            "+---------------+-----------------+---------------------------+-----------------+---------------------------+-------------+-------------------+------------------+-------------------+-------------+-------------+---------------+---------------------------+------------------------+----+-----+\n",
            "|         200507|     ATA Airlines|                         TZ|     ATA Airlines|                         TZ|     Domestic|                 US|          Deplaned|           Low Fare|   Terminal 1|            B|          27271|                   Deplaned|                   27271|2005| July|\n",
            "|         200507|     ATA Airlines|                         TZ|     ATA Airlines|                         TZ|     Domestic|                 US|          Enplaned|           Low Fare|   Terminal 1|            B|          29131|                   Enplaned|                   29131|2005| July|\n",
            "|         200507|     ATA Airlines|                         TZ|     ATA Airlines|                         TZ|     Domestic|                 US|    Thru / Transit|           Low Fare|   Terminal 1|            B|           5415|         Thru / Transit * 2|                   10830|2005| July|\n",
            "|         200507|      Air Canada |                         AC|      Air Canada |                         AC|International|             Canada|          Deplaned|              Other|   Terminal 1|            B|          35156|                   Deplaned|                   35156|2005| July|\n",
            "|         200507|      Air Canada |                         AC|      Air Canada |                         AC|International|             Canada|          Enplaned|              Other|   Terminal 1|            B|          34090|                   Enplaned|                   34090|2005| July|\n",
            "|         200507|        Air China|                         CA|        Air China|                         CA|International|               Asia|          Deplaned|              Other|International|            G|           6263|                   Deplaned|                    6263|2005| July|\n",
            "|         200507|        Air China|                         CA|        Air China|                         CA|International|               Asia|          Enplaned|              Other|International|            G|           5500|                   Enplaned|                    5500|2005| July|\n",
            "|         200507|       Air France|                         AF|       Air France|                         AF|International|             Europe|          Deplaned|              Other|International|            A|          12050|                   Deplaned|                   12050|2005| July|\n",
            "|         200507|       Air France|                         AF|       Air France|                         AF|International|             Europe|          Enplaned|              Other|International|            A|          11638|                   Enplaned|                   11638|2005| July|\n",
            "|         200507|  Air New Zealand|                         NZ|  Air New Zealand|                         NZ|International|Australia / Oceania|          Deplaned|              Other|International|            G|           4998|                   Deplaned|                    4998|2005| July|\n",
            "|         200507|  Air New Zealand|                         NZ|  Air New Zealand|                         NZ|International|Australia / Oceania|          Enplaned|              Other|International|            G|           4962|                   Enplaned|                    4962|2005| July|\n",
            "|         200507|  AirTran Airways|                         FL|  AirTran Airways|                         FL|     Domestic|                 US|          Deplaned|           Low Fare|International|            A|           8055|                   Deplaned|                    8055|2005| July|\n",
            "|         200507|  AirTran Airways|                         FL|  AirTran Airways|                         FL|     Domestic|                 US|          Enplaned|           Low Fare|International|            A|           7984|                   Enplaned|                    7984|2005| July|\n",
            "|         200507|  Alaska Airlines|                         AS|  Alaska Airlines|                         AS|     Domestic|                 US|          Deplaned|              Other|International|            A|          36641|                   Deplaned|                   36641|2005| July|\n",
            "|         200507|  Alaska Airlines|                         AS|  Alaska Airlines|                         AS|     Domestic|                 US|          Enplaned|              Other|International|            A|          39379|                   Enplaned|                   39379|2005| July|\n",
            "|         200507|  Alaska Airlines|                         AS|  Alaska Airlines|                         AS|     Domestic|                 US|    Thru / Transit|              Other|International|            A|           3678|         Thru / Transit * 2|                    7356|2005| July|\n",
            "|         200507|  Alaska Airlines|                         AS|  Alaska Airlines|                         AS|International|             Canada|          Deplaned|              Other|International|            A|           7977|                   Deplaned|                    7977|2005| July|\n",
            "|         200507|  Alaska Airlines|                         AS|  Alaska Airlines|                         AS|International|             Canada|          Enplaned|              Other|International|            A|           8837|                   Enplaned|                    8837|2005| July|\n",
            "|         200507|  Alaska Airlines|                         AS|  Alaska Airlines|                         AS|International|             Mexico|          Deplaned|              Other|International|            A|           6969|                   Deplaned|                    6969|2005| July|\n",
            "|         200507|  Alaska Airlines|                         AS|  Alaska Airlines|                         AS|International|             Mexico|          Enplaned|              Other|International|            A|          10046|                   Enplaned|                   10046|2005| July|\n",
            "+---------------+-----------------+---------------------------+-----------------+---------------------------+-------------+-------------------+------------------+-------------------+-------------+-------------+---------------+---------------------------+------------------------+----+-----+\n",
            "only showing top 20 rows\n",
            "\n"
          ]
        }
      ]
    },
    {
      "cell_type": "markdown",
      "source": [
        "CRUZAMOS 2 CAMPOS CATEGORICOS:LA CATEGORIA DEL PRECIO Y EL TIPO DE ACTIVIDAD"
      ],
      "metadata": {
        "id": "KNHqcaIn1ytA"
      }
    },
    {
      "cell_type": "code",
      "source": [
        "df2.crosstab(\"Price Category Code\",\"Activity Type code\").show()"
      ],
      "metadata": {
        "id": "nabS-nVoAxIP",
        "colab": {
          "base_uri": "https://localhost:8080/"
        },
        "outputId": "badb4ad4-c615-41a0-fa78-bb912c117034"
      },
      "execution_count": null,
      "outputs": [
        {
          "output_type": "stream",
          "name": "stdout",
          "text": [
            "+--------------------------------------+--------+--------+--------------+\n",
            "|Price Category Code_Activity Type code|Deplaned|Enplaned|Thru / Transit|\n",
            "+--------------------------------------+--------+--------+--------------+\n",
            "|                                 Other|    6168|    6112|           807|\n",
            "|                              Low Fare|     903|     904|           113|\n",
            "+--------------------------------------+--------+--------+--------------+\n",
            "\n"
          ]
        }
      ]
    },
    {
      "cell_type": "code",
      "source": [
        "df2.crosstab(\"GEO Summary\",\"GEO Region\").show()"
      ],
      "metadata": {
        "id": "32Lb3qTsLni1",
        "colab": {
          "base_uri": "https://localhost:8080/"
        },
        "outputId": "4939af66-dcbe-4697-d087-09c7793c0c8f"
      },
      "execution_count": null,
      "outputs": [
        {
          "output_type": "stream",
          "name": "stdout",
          "text": [
            "+----------------------+----+-------------------+------+---------------+------+------+-----------+-------------+----+\n",
            "|GEO Summary_GEO Region|Asia|Australia / Oceania|Canada|Central America|Europe|Mexico|Middle East|South America|  US|\n",
            "+----------------------+----+-------------------+------+---------------+------+------+-----------+-------------+----+\n",
            "|         International|3273|                737|  1418|            274|  2089|  1115|        214|           90|   0|\n",
            "|              Domestic|   0|                  0|     0|              0|     0|     0|          0|            0|5797|\n",
            "+----------------------+----+-------------------+------+---------------+------+------+-----------+-------------+----+\n",
            "\n"
          ]
        }
      ]
    },
    {
      "cell_type": "code",
      "source": [
        "df2.crosstab(\"GEO Region\",\"Price Category Code\").show()"
      ],
      "metadata": {
        "id": "tsPqaA4W2OL3",
        "colab": {
          "base_uri": "https://localhost:8080/"
        },
        "outputId": "f7433ee5-4988-4906-d7dc-ffdb50789d18"
      },
      "execution_count": null,
      "outputs": [
        {
          "output_type": "stream",
          "name": "stdout",
          "text": [
            "+------------------------------+--------+-----+\n",
            "|GEO Region_Price Category Code|Low Fare|Other|\n",
            "+------------------------------+--------+-----+\n",
            "|                        Europe|       2| 2087|\n",
            "|               Central America|       0|  274|\n",
            "|                            US|    1746| 4051|\n",
            "|                 South America|       0|   90|\n",
            "|                        Mexico|     140|  975|\n",
            "|                   Middle East|       2|  212|\n",
            "|                        Canada|      26| 1392|\n",
            "|           Australia / Oceania|       2|  735|\n",
            "|                          Asia|       2| 3271|\n",
            "+------------------------------+--------+-----+\n",
            "\n"
          ]
        }
      ]
    },
    {
      "cell_type": "markdown",
      "source": [
        "HACEMOS LA MATRÍZ DE CORRELACIÓN ENTRE PASSENGR COUNT/ADJUSTED PASSENGER COUNT Y EL AÑO Y VEMOS QUE NO HAY CASI CORRELACIÓN. eSTÁ PROXIMA A LA NULA 0.06 LO QUE NOS INDICA UE NO TIENEN UNA INFLUENCIA UNA SOBRE LA OTRA"
      ],
      "metadata": {
        "id": "a-umLccC2316"
      }
    },
    {
      "cell_type": "code",
      "source": [
        "plot_corr=corr_matrix_df.toPandas()\n",
        "plot_corr.index=corr_matrix_df.columns\n",
        "plot_corr.style.background_gradient(cmap='Blues')"
      ],
      "metadata": {
        "id": "Zzo-tPCKqeyS",
        "colab": {
          "base_uri": "https://localhost:8080/",
          "height": 143
        },
        "outputId": "04714aa6-e910-48e9-d0f5-1c6f636cf0c2"
      },
      "execution_count": null,
      "outputs": [
        {
          "output_type": "execute_result",
          "data": {
            "text/plain": [
              "<pandas.io.formats.style.Styler at 0x794a8ce300d0>"
            ],
            "text/html": [
              "<style type=\"text/css\">\n",
              "#T_b32bd_row0_col0, #T_b32bd_row0_col1, #T_b32bd_row1_col0, #T_b32bd_row1_col1, #T_b32bd_row2_col2 {\n",
              "  background-color: #08306b;\n",
              "  color: #f1f1f1;\n",
              "}\n",
              "#T_b32bd_row0_col2, #T_b32bd_row1_col2, #T_b32bd_row2_col0, #T_b32bd_row2_col1 {\n",
              "  background-color: #f7fbff;\n",
              "  color: #000000;\n",
              "}\n",
              "</style>\n",
              "<table id=\"T_b32bd\" class=\"dataframe\">\n",
              "  <thead>\n",
              "    <tr>\n",
              "      <th class=\"blank level0\" >&nbsp;</th>\n",
              "      <th id=\"T_b32bd_level0_col0\" class=\"col_heading level0 col0\" >Passenger Count</th>\n",
              "      <th id=\"T_b32bd_level0_col1\" class=\"col_heading level0 col1\" >Adjusted Passenger Count</th>\n",
              "      <th id=\"T_b32bd_level0_col2\" class=\"col_heading level0 col2\" >Year</th>\n",
              "    </tr>\n",
              "  </thead>\n",
              "  <tbody>\n",
              "    <tr>\n",
              "      <th id=\"T_b32bd_level0_row0\" class=\"row_heading level0 row0\" >Passenger Count</th>\n",
              "      <td id=\"T_b32bd_row0_col0\" class=\"data row0 col0\" >1.000000</td>\n",
              "      <td id=\"T_b32bd_row0_col1\" class=\"data row0 col1\" >0.999941</td>\n",
              "      <td id=\"T_b32bd_row0_col2\" class=\"data row0 col2\" >0.060069</td>\n",
              "    </tr>\n",
              "    <tr>\n",
              "      <th id=\"T_b32bd_level0_row1\" class=\"row_heading level0 row1\" >Adjusted Passenger Count</th>\n",
              "      <td id=\"T_b32bd_row1_col0\" class=\"data row1 col0\" >0.999941</td>\n",
              "      <td id=\"T_b32bd_row1_col1\" class=\"data row1 col1\" >1.000000</td>\n",
              "      <td id=\"T_b32bd_row1_col2\" class=\"data row1 col2\" >0.059096</td>\n",
              "    </tr>\n",
              "    <tr>\n",
              "      <th id=\"T_b32bd_level0_row2\" class=\"row_heading level0 row2\" >Year</th>\n",
              "      <td id=\"T_b32bd_row2_col0\" class=\"data row2 col0\" >0.060069</td>\n",
              "      <td id=\"T_b32bd_row2_col1\" class=\"data row2 col1\" >0.059096</td>\n",
              "      <td id=\"T_b32bd_row2_col2\" class=\"data row2 col2\" >1.000000</td>\n",
              "    </tr>\n",
              "  </tbody>\n",
              "</table>\n"
            ]
          },
          "metadata": {},
          "execution_count": 240
        }
      ]
    },
    {
      "cell_type": "code",
      "source": [
        "corr_matrix_s=Correlation.corr(df_vector,vector_col,\"spearman\").collect()[0][0].toArray().tolist()"
      ],
      "metadata": {
        "id": "OAcixW__rETE"
      },
      "execution_count": null,
      "outputs": []
    },
    {
      "cell_type": "code",
      "source": [
        "corr_matrix_s_df=spark.createDataFrame(corr_matrix_s,no_str_df.columns)"
      ],
      "metadata": {
        "id": "esnWy-399EPL"
      },
      "execution_count": null,
      "outputs": []
    },
    {
      "cell_type": "code",
      "source": [
        "corr_matrix_s_df.show()"
      ],
      "metadata": {
        "id": "rFTHo3hS9Tfa",
        "colab": {
          "base_uri": "https://localhost:8080/"
        },
        "outputId": "90182422-868b-490b-9e79-26fee3698039"
      },
      "execution_count": null,
      "outputs": [
        {
          "output_type": "stream",
          "name": "stdout",
          "text": [
            "+-------------------+------------------------+-------------------+\n",
            "|    Passenger Count|Adjusted Passenger Count|               Year|\n",
            "+-------------------+------------------------+-------------------+\n",
            "|                1.0|      0.9946303895085199|0.06538464949207762|\n",
            "| 0.9946303895085199|                     1.0|0.05661651859812159|\n",
            "|0.06538464949207762|     0.05661651859812159|                1.0|\n",
            "+-------------------+------------------------+-------------------+\n",
            "\n"
          ]
        }
      ]
    },
    {
      "cell_type": "code",
      "source": [
        "plot_corr_s=corr_matrix_s_df.toPandas()"
      ],
      "metadata": {
        "id": "KjYviHH49f1S"
      },
      "execution_count": null,
      "outputs": []
    },
    {
      "cell_type": "code",
      "source": [
        "plot_corr_s.index=corr_matrix_s_df.columns"
      ],
      "metadata": {
        "id": "2HI0QL8X9oen"
      },
      "execution_count": null,
      "outputs": []
    },
    {
      "cell_type": "code",
      "source": [
        "plot_corr_s.style.background_gradient(cmap='Reds')"
      ],
      "metadata": {
        "id": "iWWXir2W9y6H",
        "colab": {
          "base_uri": "https://localhost:8080/",
          "height": 143
        },
        "outputId": "532dc295-62eb-45ae-f0e7-9e653c6033eb"
      },
      "execution_count": null,
      "outputs": [
        {
          "output_type": "execute_result",
          "data": {
            "text/plain": [
              "<pandas.io.formats.style.Styler at 0x794a8ce6da50>"
            ],
            "text/html": [
              "<style type=\"text/css\">\n",
              "#T_bdaaf_row0_col0, #T_bdaaf_row1_col1, #T_bdaaf_row2_col2 {\n",
              "  background-color: #67000d;\n",
              "  color: #f1f1f1;\n",
              "}\n",
              "#T_bdaaf_row0_col1, #T_bdaaf_row1_col0 {\n",
              "  background-color: #69000d;\n",
              "  color: #f1f1f1;\n",
              "}\n",
              "#T_bdaaf_row0_col2 {\n",
              "  background-color: #fff4ee;\n",
              "  color: #000000;\n",
              "}\n",
              "#T_bdaaf_row1_col2, #T_bdaaf_row2_col0, #T_bdaaf_row2_col1 {\n",
              "  background-color: #fff5f0;\n",
              "  color: #000000;\n",
              "}\n",
              "</style>\n",
              "<table id=\"T_bdaaf\" class=\"dataframe\">\n",
              "  <thead>\n",
              "    <tr>\n",
              "      <th class=\"blank level0\" >&nbsp;</th>\n",
              "      <th id=\"T_bdaaf_level0_col0\" class=\"col_heading level0 col0\" >Passenger Count</th>\n",
              "      <th id=\"T_bdaaf_level0_col1\" class=\"col_heading level0 col1\" >Adjusted Passenger Count</th>\n",
              "      <th id=\"T_bdaaf_level0_col2\" class=\"col_heading level0 col2\" >Year</th>\n",
              "    </tr>\n",
              "  </thead>\n",
              "  <tbody>\n",
              "    <tr>\n",
              "      <th id=\"T_bdaaf_level0_row0\" class=\"row_heading level0 row0\" >Passenger Count</th>\n",
              "      <td id=\"T_bdaaf_row0_col0\" class=\"data row0 col0\" >1.000000</td>\n",
              "      <td id=\"T_bdaaf_row0_col1\" class=\"data row0 col1\" >0.994630</td>\n",
              "      <td id=\"T_bdaaf_row0_col2\" class=\"data row0 col2\" >0.065385</td>\n",
              "    </tr>\n",
              "    <tr>\n",
              "      <th id=\"T_bdaaf_level0_row1\" class=\"row_heading level0 row1\" >Adjusted Passenger Count</th>\n",
              "      <td id=\"T_bdaaf_row1_col0\" class=\"data row1 col0\" >0.994630</td>\n",
              "      <td id=\"T_bdaaf_row1_col1\" class=\"data row1 col1\" >1.000000</td>\n",
              "      <td id=\"T_bdaaf_row1_col2\" class=\"data row1 col2\" >0.056617</td>\n",
              "    </tr>\n",
              "    <tr>\n",
              "      <th id=\"T_bdaaf_level0_row2\" class=\"row_heading level0 row2\" >Year</th>\n",
              "      <td id=\"T_bdaaf_row2_col0\" class=\"data row2 col0\" >0.065385</td>\n",
              "      <td id=\"T_bdaaf_row2_col1\" class=\"data row2 col1\" >0.056617</td>\n",
              "      <td id=\"T_bdaaf_row2_col2\" class=\"data row2 col2\" >1.000000</td>\n",
              "    </tr>\n",
              "  </tbody>\n",
              "</table>\n"
            ]
          },
          "metadata": {},
          "execution_count": 246
        }
      ]
    },
    {
      "cell_type": "markdown",
      "source": [
        "***ANÁLISIS DEL ALGORITMO DE KMEANS***"
      ],
      "metadata": {
        "id": "7KKoKx1U-v_B"
      }
    },
    {
      "cell_type": "code",
      "source": [
        "from pyspark.sql import SparkSession"
      ],
      "metadata": {
        "id": "6D1ogqno_Kxc"
      },
      "execution_count": null,
      "outputs": []
    },
    {
      "cell_type": "code",
      "source": [
        "spark=SparkSession.builder.appName(\"my_app\").getOrCreate()"
      ],
      "metadata": {
        "id": "L1hfMwqp_e2r"
      },
      "execution_count": null,
      "outputs": []
    },
    {
      "cell_type": "code",
      "source": [
        "df=spark.read.csv(\"/drive/MyDrive/Air_Traffic_Passenger_Statistics.csv\",header=True,inferSchema=True)"
      ],
      "metadata": {
        "id": "eSbv8cZECkAq"
      },
      "execution_count": null,
      "outputs": []
    },
    {
      "cell_type": "code",
      "source": [
        "df.printSchema()"
      ],
      "metadata": {
        "id": "mcBKcItlN6iV",
        "colab": {
          "base_uri": "https://localhost:8080/"
        },
        "outputId": "ff1e445e-5d00-45c5-ef26-6ff5a72293e3"
      },
      "execution_count": null,
      "outputs": [
        {
          "output_type": "stream",
          "name": "stdout",
          "text": [
            "root\n",
            " |-- Activity Period: integer (nullable = true)\n",
            " |-- Operating Airline: string (nullable = true)\n",
            " |-- Operating Airline IATA Code: string (nullable = true)\n",
            " |-- Published Airline: string (nullable = true)\n",
            " |-- Published Airline IATA Code: string (nullable = true)\n",
            " |-- GEO Summary: string (nullable = true)\n",
            " |-- GEO Region: string (nullable = true)\n",
            " |-- Activity Type Code: string (nullable = true)\n",
            " |-- Price Category Code: string (nullable = true)\n",
            " |-- Terminal: string (nullable = true)\n",
            " |-- Boarding Area: string (nullable = true)\n",
            " |-- Passenger Count: integer (nullable = true)\n",
            " |-- Adjusted Activity Type Code: string (nullable = true)\n",
            " |-- Adjusted Passenger Count: integer (nullable = true)\n",
            " |-- Year: integer (nullable = true)\n",
            " |-- Month: string (nullable = true)\n",
            "\n"
          ]
        }
      ]
    },
    {
      "cell_type": "code",
      "source": [
        "df.show(5)"
      ],
      "metadata": {
        "id": "TOBCUrvCDKiJ",
        "colab": {
          "base_uri": "https://localhost:8080/"
        },
        "outputId": "b30fd1b8-8116-462e-d9c3-54f03f8cba66"
      },
      "execution_count": null,
      "outputs": [
        {
          "output_type": "stream",
          "name": "stdout",
          "text": [
            "+---------------+-----------------+---------------------------+-----------------+---------------------------+-------------+----------+------------------+-------------------+----------+-------------+---------------+---------------------------+------------------------+----+-----+\n",
            "|Activity Period|Operating Airline|Operating Airline IATA Code|Published Airline|Published Airline IATA Code|  GEO Summary|GEO Region|Activity Type Code|Price Category Code|  Terminal|Boarding Area|Passenger Count|Adjusted Activity Type Code|Adjusted Passenger Count|Year|Month|\n",
            "+---------------+-----------------+---------------------------+-----------------+---------------------------+-------------+----------+------------------+-------------------+----------+-------------+---------------+---------------------------+------------------------+----+-----+\n",
            "|         200507|     ATA Airlines|                         TZ|     ATA Airlines|                         TZ|     Domestic|        US|          Deplaned|           Low Fare|Terminal 1|            B|          27271|                   Deplaned|                   27271|2005| July|\n",
            "|         200507|     ATA Airlines|                         TZ|     ATA Airlines|                         TZ|     Domestic|        US|          Enplaned|           Low Fare|Terminal 1|            B|          29131|                   Enplaned|                   29131|2005| July|\n",
            "|         200507|     ATA Airlines|                         TZ|     ATA Airlines|                         TZ|     Domestic|        US|    Thru / Transit|           Low Fare|Terminal 1|            B|           5415|         Thru / Transit * 2|                   10830|2005| July|\n",
            "|         200507|      Air Canada |                         AC|      Air Canada |                         AC|International|    Canada|          Deplaned|              Other|Terminal 1|            B|          35156|                   Deplaned|                   35156|2005| July|\n",
            "|         200507|      Air Canada |                         AC|      Air Canada |                         AC|International|    Canada|          Enplaned|              Other|Terminal 1|            B|          34090|                   Enplaned|                   34090|2005| July|\n",
            "+---------------+-----------------+---------------------------+-----------------+---------------------------+-------------+----------+------------------+-------------------+----------+-------------+---------------+---------------------------+------------------------+----+-----+\n",
            "only showing top 5 rows\n",
            "\n"
          ]
        }
      ]
    },
    {
      "cell_type": "code",
      "source": [
        "df.describe().toPandas()"
      ],
      "metadata": {
        "id": "nLi-Db2WDihG",
        "colab": {
          "base_uri": "https://localhost:8080/",
          "height": 296
        },
        "outputId": "b6ea41dc-9858-410b-d97f-49d831992f16"
      },
      "execution_count": null,
      "outputs": [
        {
          "output_type": "execute_result",
          "data": {
            "text/plain": [
              "  summary     Activity Period Operating Airline Operating Airline IATA Code  \\\n",
              "0   count               15007             15007                       14953   \n",
              "1    mean  201045.07336576266              None                        None   \n",
              "2  stddev  313.33619609986414              None                        None   \n",
              "3     min              200507      ATA Airlines                          4T   \n",
              "4     max              201603      Xtra Airways                          YX   \n",
              "\n",
              "  Published Airline Published Airline IATA Code    GEO Summary GEO Region  \\\n",
              "0             15007                       14953          15007      15007   \n",
              "1              None                        None           None       None   \n",
              "2              None                        None           None       None   \n",
              "3      ATA Airlines                          4T       Domestic       Asia   \n",
              "4      Xtra Airways                          YX  International         US   \n",
              "\n",
              "  Activity Type Code Price Category Code       Terminal Boarding Area  \\\n",
              "0              15007               15007          15007         15007   \n",
              "1               None                None           None          None   \n",
              "2               None                None           None          None   \n",
              "3           Deplaned            Low Fare  International             A   \n",
              "4     Thru / Transit               Other     Terminal 3         Other   \n",
              "\n",
              "      Passenger Count Adjusted Activity Type Code Adjusted Passenger Count  \\\n",
              "0               15007                       15007                    15007   \n",
              "1  29240.521090157927                        None       29331.917105350836   \n",
              "2  58319.509284123524                        None         58284.1822186625   \n",
              "3                   1                    Deplaned                        1   \n",
              "4              659837          Thru / Transit * 2                   659837   \n",
              "\n",
              "                Year      Month  \n",
              "0              15007      15007  \n",
              "1  2010.385220230559       None  \n",
              "2  3.137589043169972       None  \n",
              "3               2005      April  \n",
              "4               2016  September  "
            ],
            "text/html": [
              "\n",
              "  <div id=\"df-6517b685-f014-4c69-acb7-8064a839bd84\" class=\"colab-df-container\">\n",
              "    <div>\n",
              "<style scoped>\n",
              "    .dataframe tbody tr th:only-of-type {\n",
              "        vertical-align: middle;\n",
              "    }\n",
              "\n",
              "    .dataframe tbody tr th {\n",
              "        vertical-align: top;\n",
              "    }\n",
              "\n",
              "    .dataframe thead th {\n",
              "        text-align: right;\n",
              "    }\n",
              "</style>\n",
              "<table border=\"1\" class=\"dataframe\">\n",
              "  <thead>\n",
              "    <tr style=\"text-align: right;\">\n",
              "      <th></th>\n",
              "      <th>summary</th>\n",
              "      <th>Activity Period</th>\n",
              "      <th>Operating Airline</th>\n",
              "      <th>Operating Airline IATA Code</th>\n",
              "      <th>Published Airline</th>\n",
              "      <th>Published Airline IATA Code</th>\n",
              "      <th>GEO Summary</th>\n",
              "      <th>GEO Region</th>\n",
              "      <th>Activity Type Code</th>\n",
              "      <th>Price Category Code</th>\n",
              "      <th>Terminal</th>\n",
              "      <th>Boarding Area</th>\n",
              "      <th>Passenger Count</th>\n",
              "      <th>Adjusted Activity Type Code</th>\n",
              "      <th>Adjusted Passenger Count</th>\n",
              "      <th>Year</th>\n",
              "      <th>Month</th>\n",
              "    </tr>\n",
              "  </thead>\n",
              "  <tbody>\n",
              "    <tr>\n",
              "      <th>0</th>\n",
              "      <td>count</td>\n",
              "      <td>15007</td>\n",
              "      <td>15007</td>\n",
              "      <td>14953</td>\n",
              "      <td>15007</td>\n",
              "      <td>14953</td>\n",
              "      <td>15007</td>\n",
              "      <td>15007</td>\n",
              "      <td>15007</td>\n",
              "      <td>15007</td>\n",
              "      <td>15007</td>\n",
              "      <td>15007</td>\n",
              "      <td>15007</td>\n",
              "      <td>15007</td>\n",
              "      <td>15007</td>\n",
              "      <td>15007</td>\n",
              "      <td>15007</td>\n",
              "    </tr>\n",
              "    <tr>\n",
              "      <th>1</th>\n",
              "      <td>mean</td>\n",
              "      <td>201045.07336576266</td>\n",
              "      <td>None</td>\n",
              "      <td>None</td>\n",
              "      <td>None</td>\n",
              "      <td>None</td>\n",
              "      <td>None</td>\n",
              "      <td>None</td>\n",
              "      <td>None</td>\n",
              "      <td>None</td>\n",
              "      <td>None</td>\n",
              "      <td>None</td>\n",
              "      <td>29240.521090157927</td>\n",
              "      <td>None</td>\n",
              "      <td>29331.917105350836</td>\n",
              "      <td>2010.385220230559</td>\n",
              "      <td>None</td>\n",
              "    </tr>\n",
              "    <tr>\n",
              "      <th>2</th>\n",
              "      <td>stddev</td>\n",
              "      <td>313.33619609986414</td>\n",
              "      <td>None</td>\n",
              "      <td>None</td>\n",
              "      <td>None</td>\n",
              "      <td>None</td>\n",
              "      <td>None</td>\n",
              "      <td>None</td>\n",
              "      <td>None</td>\n",
              "      <td>None</td>\n",
              "      <td>None</td>\n",
              "      <td>None</td>\n",
              "      <td>58319.509284123524</td>\n",
              "      <td>None</td>\n",
              "      <td>58284.1822186625</td>\n",
              "      <td>3.137589043169972</td>\n",
              "      <td>None</td>\n",
              "    </tr>\n",
              "    <tr>\n",
              "      <th>3</th>\n",
              "      <td>min</td>\n",
              "      <td>200507</td>\n",
              "      <td>ATA Airlines</td>\n",
              "      <td>4T</td>\n",
              "      <td>ATA Airlines</td>\n",
              "      <td>4T</td>\n",
              "      <td>Domestic</td>\n",
              "      <td>Asia</td>\n",
              "      <td>Deplaned</td>\n",
              "      <td>Low Fare</td>\n",
              "      <td>International</td>\n",
              "      <td>A</td>\n",
              "      <td>1</td>\n",
              "      <td>Deplaned</td>\n",
              "      <td>1</td>\n",
              "      <td>2005</td>\n",
              "      <td>April</td>\n",
              "    </tr>\n",
              "    <tr>\n",
              "      <th>4</th>\n",
              "      <td>max</td>\n",
              "      <td>201603</td>\n",
              "      <td>Xtra Airways</td>\n",
              "      <td>YX</td>\n",
              "      <td>Xtra Airways</td>\n",
              "      <td>YX</td>\n",
              "      <td>International</td>\n",
              "      <td>US</td>\n",
              "      <td>Thru / Transit</td>\n",
              "      <td>Other</td>\n",
              "      <td>Terminal 3</td>\n",
              "      <td>Other</td>\n",
              "      <td>659837</td>\n",
              "      <td>Thru / Transit * 2</td>\n",
              "      <td>659837</td>\n",
              "      <td>2016</td>\n",
              "      <td>September</td>\n",
              "    </tr>\n",
              "  </tbody>\n",
              "</table>\n",
              "</div>\n",
              "    <div class=\"colab-df-buttons\">\n",
              "\n",
              "  <div class=\"colab-df-container\">\n",
              "    <button class=\"colab-df-convert\" onclick=\"convertToInteractive('df-6517b685-f014-4c69-acb7-8064a839bd84')\"\n",
              "            title=\"Convert this dataframe to an interactive table.\"\n",
              "            style=\"display:none;\">\n",
              "\n",
              "  <svg xmlns=\"http://www.w3.org/2000/svg\" height=\"24px\" viewBox=\"0 -960 960 960\">\n",
              "    <path d=\"M120-120v-720h720v720H120Zm60-500h600v-160H180v160Zm220 220h160v-160H400v160Zm0 220h160v-160H400v160ZM180-400h160v-160H180v160Zm440 0h160v-160H620v160ZM180-180h160v-160H180v160Zm440 0h160v-160H620v160Z\"/>\n",
              "  </svg>\n",
              "    </button>\n",
              "\n",
              "  <style>\n",
              "    .colab-df-container {\n",
              "      display:flex;\n",
              "      gap: 12px;\n",
              "    }\n",
              "\n",
              "    .colab-df-convert {\n",
              "      background-color: #E8F0FE;\n",
              "      border: none;\n",
              "      border-radius: 50%;\n",
              "      cursor: pointer;\n",
              "      display: none;\n",
              "      fill: #1967D2;\n",
              "      height: 32px;\n",
              "      padding: 0 0 0 0;\n",
              "      width: 32px;\n",
              "    }\n",
              "\n",
              "    .colab-df-convert:hover {\n",
              "      background-color: #E2EBFA;\n",
              "      box-shadow: 0px 1px 2px rgba(60, 64, 67, 0.3), 0px 1px 3px 1px rgba(60, 64, 67, 0.15);\n",
              "      fill: #174EA6;\n",
              "    }\n",
              "\n",
              "    .colab-df-buttons div {\n",
              "      margin-bottom: 4px;\n",
              "    }\n",
              "\n",
              "    [theme=dark] .colab-df-convert {\n",
              "      background-color: #3B4455;\n",
              "      fill: #D2E3FC;\n",
              "    }\n",
              "\n",
              "    [theme=dark] .colab-df-convert:hover {\n",
              "      background-color: #434B5C;\n",
              "      box-shadow: 0px 1px 3px 1px rgba(0, 0, 0, 0.15);\n",
              "      filter: drop-shadow(0px 1px 2px rgba(0, 0, 0, 0.3));\n",
              "      fill: #FFFFFF;\n",
              "    }\n",
              "  </style>\n",
              "\n",
              "    <script>\n",
              "      const buttonEl =\n",
              "        document.querySelector('#df-6517b685-f014-4c69-acb7-8064a839bd84 button.colab-df-convert');\n",
              "      buttonEl.style.display =\n",
              "        google.colab.kernel.accessAllowed ? 'block' : 'none';\n",
              "\n",
              "      async function convertToInteractive(key) {\n",
              "        const element = document.querySelector('#df-6517b685-f014-4c69-acb7-8064a839bd84');\n",
              "        const dataTable =\n",
              "          await google.colab.kernel.invokeFunction('convertToInteractive',\n",
              "                                                    [key], {});\n",
              "        if (!dataTable) return;\n",
              "\n",
              "        const docLinkHtml = 'Like what you see? Visit the ' +\n",
              "          '<a target=\"_blank\" href=https://colab.research.google.com/notebooks/data_table.ipynb>data table notebook</a>'\n",
              "          + ' to learn more about interactive tables.';\n",
              "        element.innerHTML = '';\n",
              "        dataTable['output_type'] = 'display_data';\n",
              "        await google.colab.output.renderOutput(dataTable, element);\n",
              "        const docLink = document.createElement('div');\n",
              "        docLink.innerHTML = docLinkHtml;\n",
              "        element.appendChild(docLink);\n",
              "      }\n",
              "    </script>\n",
              "  </div>\n",
              "\n",
              "\n",
              "<div id=\"df-19142b4f-1358-4c58-99f3-410a09328756\">\n",
              "  <button class=\"colab-df-quickchart\" onclick=\"quickchart('df-19142b4f-1358-4c58-99f3-410a09328756')\"\n",
              "            title=\"Suggest charts.\"\n",
              "            style=\"display:none;\">\n",
              "\n",
              "<svg xmlns=\"http://www.w3.org/2000/svg\" height=\"24px\"viewBox=\"0 0 24 24\"\n",
              "     width=\"24px\">\n",
              "    <g>\n",
              "        <path d=\"M19 3H5c-1.1 0-2 .9-2 2v14c0 1.1.9 2 2 2h14c1.1 0 2-.9 2-2V5c0-1.1-.9-2-2-2zM9 17H7v-7h2v7zm4 0h-2V7h2v10zm4 0h-2v-4h2v4z\"/>\n",
              "    </g>\n",
              "</svg>\n",
              "  </button>\n",
              "\n",
              "<style>\n",
              "  .colab-df-quickchart {\n",
              "      --bg-color: #E8F0FE;\n",
              "      --fill-color: #1967D2;\n",
              "      --hover-bg-color: #E2EBFA;\n",
              "      --hover-fill-color: #174EA6;\n",
              "      --disabled-fill-color: #AAA;\n",
              "      --disabled-bg-color: #DDD;\n",
              "  }\n",
              "\n",
              "  [theme=dark] .colab-df-quickchart {\n",
              "      --bg-color: #3B4455;\n",
              "      --fill-color: #D2E3FC;\n",
              "      --hover-bg-color: #434B5C;\n",
              "      --hover-fill-color: #FFFFFF;\n",
              "      --disabled-bg-color: #3B4455;\n",
              "      --disabled-fill-color: #666;\n",
              "  }\n",
              "\n",
              "  .colab-df-quickchart {\n",
              "    background-color: var(--bg-color);\n",
              "    border: none;\n",
              "    border-radius: 50%;\n",
              "    cursor: pointer;\n",
              "    display: none;\n",
              "    fill: var(--fill-color);\n",
              "    height: 32px;\n",
              "    padding: 0;\n",
              "    width: 32px;\n",
              "  }\n",
              "\n",
              "  .colab-df-quickchart:hover {\n",
              "    background-color: var(--hover-bg-color);\n",
              "    box-shadow: 0 1px 2px rgba(60, 64, 67, 0.3), 0 1px 3px 1px rgba(60, 64, 67, 0.15);\n",
              "    fill: var(--button-hover-fill-color);\n",
              "  }\n",
              "\n",
              "  .colab-df-quickchart-complete:disabled,\n",
              "  .colab-df-quickchart-complete:disabled:hover {\n",
              "    background-color: var(--disabled-bg-color);\n",
              "    fill: var(--disabled-fill-color);\n",
              "    box-shadow: none;\n",
              "  }\n",
              "\n",
              "  .colab-df-spinner {\n",
              "    border: 2px solid var(--fill-color);\n",
              "    border-color: transparent;\n",
              "    border-bottom-color: var(--fill-color);\n",
              "    animation:\n",
              "      spin 1s steps(1) infinite;\n",
              "  }\n",
              "\n",
              "  @keyframes spin {\n",
              "    0% {\n",
              "      border-color: transparent;\n",
              "      border-bottom-color: var(--fill-color);\n",
              "      border-left-color: var(--fill-color);\n",
              "    }\n",
              "    20% {\n",
              "      border-color: transparent;\n",
              "      border-left-color: var(--fill-color);\n",
              "      border-top-color: var(--fill-color);\n",
              "    }\n",
              "    30% {\n",
              "      border-color: transparent;\n",
              "      border-left-color: var(--fill-color);\n",
              "      border-top-color: var(--fill-color);\n",
              "      border-right-color: var(--fill-color);\n",
              "    }\n",
              "    40% {\n",
              "      border-color: transparent;\n",
              "      border-right-color: var(--fill-color);\n",
              "      border-top-color: var(--fill-color);\n",
              "    }\n",
              "    60% {\n",
              "      border-color: transparent;\n",
              "      border-right-color: var(--fill-color);\n",
              "    }\n",
              "    80% {\n",
              "      border-color: transparent;\n",
              "      border-right-color: var(--fill-color);\n",
              "      border-bottom-color: var(--fill-color);\n",
              "    }\n",
              "    90% {\n",
              "      border-color: transparent;\n",
              "      border-bottom-color: var(--fill-color);\n",
              "    }\n",
              "  }\n",
              "</style>\n",
              "\n",
              "  <script>\n",
              "    async function quickchart(key) {\n",
              "      const quickchartButtonEl =\n",
              "        document.querySelector('#' + key + ' button');\n",
              "      quickchartButtonEl.disabled = true;  // To prevent multiple clicks.\n",
              "      quickchartButtonEl.classList.add('colab-df-spinner');\n",
              "      try {\n",
              "        const charts = await google.colab.kernel.invokeFunction(\n",
              "            'suggestCharts', [key], {});\n",
              "      } catch (error) {\n",
              "        console.error('Error during call to suggestCharts:', error);\n",
              "      }\n",
              "      quickchartButtonEl.classList.remove('colab-df-spinner');\n",
              "      quickchartButtonEl.classList.add('colab-df-quickchart-complete');\n",
              "    }\n",
              "    (() => {\n",
              "      let quickchartButtonEl =\n",
              "        document.querySelector('#df-19142b4f-1358-4c58-99f3-410a09328756 button');\n",
              "      quickchartButtonEl.style.display =\n",
              "        google.colab.kernel.accessAllowed ? 'block' : 'none';\n",
              "    })();\n",
              "  </script>\n",
              "</div>\n",
              "    </div>\n",
              "  </div>\n"
            ]
          },
          "metadata": {},
          "execution_count": 252
        }
      ]
    },
    {
      "cell_type": "code",
      "source": [
        "from pyspark.ml.linalg import Vectors"
      ],
      "metadata": {
        "id": "-1-R1EyCqaGv"
      },
      "execution_count": null,
      "outputs": []
    },
    {
      "cell_type": "code",
      "source": [
        "from pyspark.ml.feature import VectorAssembler"
      ],
      "metadata": {
        "id": "qMG2wN4usaZK"
      },
      "execution_count": null,
      "outputs": []
    },
    {
      "cell_type": "code",
      "source": [
        "df.columns"
      ],
      "metadata": {
        "id": "QM34dOI_slD_",
        "colab": {
          "base_uri": "https://localhost:8080/"
        },
        "outputId": "813f3923-0fe3-499d-88cd-ac1632b6ebbd"
      },
      "execution_count": null,
      "outputs": [
        {
          "output_type": "execute_result",
          "data": {
            "text/plain": [
              "['Activity Period',\n",
              " 'Operating Airline',\n",
              " 'Operating Airline IATA Code',\n",
              " 'Published Airline',\n",
              " 'Published Airline IATA Code',\n",
              " 'GEO Summary',\n",
              " 'GEO Region',\n",
              " 'Activity Type Code',\n",
              " 'Price Category Code',\n",
              " 'Terminal',\n",
              " 'Boarding Area',\n",
              " 'Passenger Count',\n",
              " 'Adjusted Activity Type Code',\n",
              " 'Adjusted Passenger Count',\n",
              " 'Year',\n",
              " 'Month']"
            ]
          },
          "metadata": {},
          "execution_count": 255
        }
      ]
    },
    {
      "cell_type": "markdown",
      "source": [
        "CREAMOS LA COLUMNA FEAT_COLS"
      ],
      "metadata": {
        "id": "1gj16UYf4Ylx"
      }
    },
    {
      "cell_type": "code",
      "source": [
        "feat_cols=['Activity Period',\n",
        "'Passenger Count',\n",
        "'Adjusted Passenger Count',\n",
        "'Year']"
      ],
      "metadata": {
        "id": "KoSVwydEspv2"
      },
      "execution_count": null,
      "outputs": []
    },
    {
      "cell_type": "code",
      "source": [
        "assembler=VectorAssembler(inputCols=feat_cols,outputCol='features')"
      ],
      "metadata": {
        "id": "CUORAZoMt2c1"
      },
      "execution_count": null,
      "outputs": []
    },
    {
      "cell_type": "code",
      "source": [
        "final_df=assembler.transform(df)"
      ],
      "metadata": {
        "id": "WWx8UFymuMfX"
      },
      "execution_count": null,
      "outputs": []
    },
    {
      "cell_type": "code",
      "source": [
        "final_df.select(\"features\").show(5)"
      ],
      "metadata": {
        "id": "QSHvlkweQyhl",
        "colab": {
          "base_uri": "https://localhost:8080/"
        },
        "outputId": "a0085909-aecb-4980-dd44-377d128a761f"
      },
      "execution_count": null,
      "outputs": [
        {
          "output_type": "stream",
          "name": "stdout",
          "text": [
            "+--------------------+\n",
            "|            features|\n",
            "+--------------------+\n",
            "|[200507.0,27271.0...|\n",
            "|[200507.0,29131.0...|\n",
            "|[200507.0,5415.0,...|\n",
            "|[200507.0,35156.0...|\n",
            "|[200507.0,34090.0...|\n",
            "+--------------------+\n",
            "only showing top 5 rows\n",
            "\n"
          ]
        }
      ]
    },
    {
      "cell_type": "code",
      "source": [
        "from pyspark.ml.feature import StandardScaler"
      ],
      "metadata": {
        "id": "9opjmHcXvZjr"
      },
      "execution_count": null,
      "outputs": []
    },
    {
      "cell_type": "code",
      "source": [
        "scaler=StandardScaler(inputCol='features',\n",
        "                      outputCol='scaled_feat',\n",
        "                      withStd=True,\n",
        "                      withMean=False)"
      ],
      "metadata": {
        "id": "sczJNh4Gv2CV"
      },
      "execution_count": null,
      "outputs": []
    },
    {
      "cell_type": "code",
      "source": [
        "scaled_model=scaler.fit(final_df)"
      ],
      "metadata": {
        "id": "6CdYWd_owelW"
      },
      "execution_count": null,
      "outputs": []
    },
    {
      "cell_type": "code",
      "source": [
        "cluster_df=scaled_model.transform(final_df)"
      ],
      "metadata": {
        "id": "o9Bl3Qmiy800"
      },
      "execution_count": null,
      "outputs": []
    },
    {
      "cell_type": "code",
      "source": [
        "from pyspark.ml.clustering import KMeans\n",
        "from pyspark.ml.evaluation import ClusteringEvaluator"
      ],
      "metadata": {
        "id": "4S3IxjYnzOZH"
      },
      "execution_count": null,
      "outputs": []
    },
    {
      "cell_type": "code",
      "source": [
        "evaluator=ClusteringEvaluator(predictionCol=\"prediction\",\n",
        "                         featuresCol=\"features\",\n",
        "                         metricName=\"silhouette\",\n",
        "                         distanceMeasure=\"squaredEuclidean\")"
      ],
      "metadata": {
        "id": "dxEL09FDzXrZ"
      },
      "execution_count": null,
      "outputs": []
    },
    {
      "cell_type": "code",
      "source": [
        "silhouette_score=[]\n",
        "for i in range(2,10):\n",
        "  kmeans=KMeans(featuresCol='features',k=i)\n",
        "  model=kmeans.fit(final_df)\n",
        "  predictions=model.transform(final_df)\n",
        "  score=evaluator.evaluate(predictions)\n",
        "  silhouette_score.append(score)\n",
        "  print('Silhouette Score for k=',i,'is',score)"
      ],
      "metadata": {
        "id": "hYAIiDF66GAl",
        "colab": {
          "base_uri": "https://localhost:8080/"
        },
        "outputId": "2d639671-3e42-4484-dba3-11497240d037"
      },
      "execution_count": null,
      "outputs": [
        {
          "output_type": "stream",
          "name": "stdout",
          "text": [
            "Silhouette Score for k= 2 is 0.9647493098057984\n",
            "Silhouette Score for k= 3 is 0.9176042673190565\n",
            "Silhouette Score for k= 4 is 0.9005890490985067\n",
            "Silhouette Score for k= 5 is 0.9016522671775614\n",
            "Silhouette Score for k= 6 is 0.8060801744342979\n",
            "Silhouette Score for k= 7 is 0.8567961856374088\n",
            "Silhouette Score for k= 8 is 0.7968349281014988\n",
            "Silhouette Score for k= 9 is 0.7778264481757934\n"
          ]
        }
      ]
    },
    {
      "cell_type": "code",
      "source": [
        "import matplotlib.pyplot as plt\n",
        "plt.plot(range(2,10),silhouette_score)\n",
        "plt.xlabel('k')\n",
        "plt.ylabel('silhouette score')\n",
        "plt.title('Silhouette Score')\n",
        "plt.show()"
      ],
      "metadata": {
        "id": "xXAUWsQx7l53",
        "colab": {
          "base_uri": "https://localhost:8080/",
          "height": 472
        },
        "outputId": "7f52fbd6-b0e3-4b68-9966-7ef07d2c9499"
      },
      "execution_count": null,
      "outputs": [
        {
          "output_type": "display_data",
          "data": {
            "text/plain": [
              "<Figure size 640x480 with 1 Axes>"
            ],
            "image/png": "[encoded data removed]"
          },
          "metadata": {}
        }
      ]
    },
    {
      "cell_type": "markdown",
      "source": [
        "***ENTRENAR EL MODELO***"
      ],
      "metadata": {
        "id": "XzUG-mvy5UYA"
      }
    },
    {
      "cell_type": "code",
      "source": [
        "kmeans=KMeans(featuresCol='features',k=6)\n",
        "model=kmeans.fit(final_df)\n",
        "predictions=model.transform(final_df)"
      ],
      "metadata": {
        "id": "gZmWFM1ySSpt"
      },
      "execution_count": null,
      "outputs": []
    },
    {
      "cell_type": "code",
      "source": [
        "centers=model.clusterCenters()\n",
        "print('cluster Centers')\n",
        "for center in centers:\n",
        "  print (center)"
      ],
      "metadata": {
        "id": "0N98dDipTMBd",
        "colab": {
          "base_uri": "https://localhost:8080/"
        },
        "outputId": "282dd771-ac38-4a2a-bfd5-b3d40c1712c6"
      },
      "execution_count": null,
      "outputs": [
        {
          "output_type": "stream",
          "name": "stdout",
          "text": [
            "cluster Centers\n",
            "[201038.82030192   6946.08196245   7075.07538223   2010.32301142]\n",
            "[200983.89130435 394207.8423913  394207.8423913    2009.76630435]\n",
            "[201169.15466352 134378.10035419 134378.10035419   2011.62455726]\n",
            "[201300.50724638 278092.77536232 278092.77536232   2012.94927536]\n",
            "[201043.71957447  26924.45361702  26940.86297872   2010.37106383]\n",
            "[200991.96360485  68483.47140381  68483.47140381   2009.85355286]\n"
          ]
        }
      ]
    },
    {
      "cell_type": "markdown",
      "source": [
        "***ENTRENAR EL MODELO***"
      ],
      "metadata": {
        "id": "p7TGwcRm8XlQ"
      }
    },
    {
      "cell_type": "code",
      "source": [
        "kmeans=KMeans(featuresCol='features',k=7)\n",
        "model=kmeans.fit(final_df)\n",
        "predictions=model.transform(final_df)"
      ],
      "metadata": {
        "id": "k-XQEJL68WNI"
      },
      "execution_count": null,
      "outputs": []
    },
    {
      "cell_type": "code",
      "source": [
        "centers=model.clusterCenters()\n",
        "print(\"Cluster Centers:\")\n",
        "for center in centers:\n",
        "  print(centers)"
      ],
      "metadata": {
        "id": "Al4U8X3m8907",
        "colab": {
          "base_uri": "https://localhost:8080/"
        },
        "outputId": "7ad79032-4c21-4d31-bfbd-55999b5fd0e1"
      },
      "execution_count": null,
      "outputs": [
        {
          "output_type": "stream",
          "name": "stdout",
          "text": [
            "Cluster Centers:\n",
            "[array([201041.38588092,   8209.80736421,   8327.84279248,   2010.3485376 ]), array([200965.84745763, 378471.16384181, 378471.16384181,   2009.58757062]), array([201322.57142857, 561231.85714286, 561231.85714286,   2013.14285714]), array([200997.99582027,  75313.20376176,  75313.20376176,   2009.91431557]), array([201013.08035714,  37234.4581044 ,  37245.16483516,   2010.06524725]), array([201185.38520408, 136861.07142857, 136861.07142857,   2011.78571429]), array([201305.61068702, 275300.79389313, 275300.79389313,   2013.        ])]\n",
            "[array([201041.38588092,   8209.80736421,   8327.84279248,   2010.3485376 ]), array([200965.84745763, 378471.16384181, 378471.16384181,   2009.58757062]), array([201322.57142857, 561231.85714286, 561231.85714286,   2013.14285714]), array([200997.99582027,  75313.20376176,  75313.20376176,   2009.91431557]), array([201013.08035714,  37234.4581044 ,  37245.16483516,   2010.06524725]), array([201185.38520408, 136861.07142857, 136861.07142857,   2011.78571429]), array([201305.61068702, 275300.79389313, 275300.79389313,   2013.        ])]\n",
            "[array([201041.38588092,   8209.80736421,   8327.84279248,   2010.3485376 ]), array([200965.84745763, 378471.16384181, 378471.16384181,   2009.58757062]), array([201322.57142857, 561231.85714286, 561231.85714286,   2013.14285714]), array([200997.99582027,  75313.20376176,  75313.20376176,   2009.91431557]), array([201013.08035714,  37234.4581044 ,  37245.16483516,   2010.06524725]), array([201185.38520408, 136861.07142857, 136861.07142857,   2011.78571429]), array([201305.61068702, 275300.79389313, 275300.79389313,   2013.        ])]\n",
            "[array([201041.38588092,   8209.80736421,   8327.84279248,   2010.3485376 ]), array([200965.84745763, 378471.16384181, 378471.16384181,   2009.58757062]), array([201322.57142857, 561231.85714286, 561231.85714286,   2013.14285714]), array([200997.99582027,  75313.20376176,  75313.20376176,   2009.91431557]), array([201013.08035714,  37234.4581044 ,  37245.16483516,   2010.06524725]), array([201185.38520408, 136861.07142857, 136861.07142857,   2011.78571429]), array([201305.61068702, 275300.79389313, 275300.79389313,   2013.        ])]\n",
            "[array([201041.38588092,   8209.80736421,   8327.84279248,   2010.3485376 ]), array([200965.84745763, 378471.16384181, 378471.16384181,   2009.58757062]), array([201322.57142857, 561231.85714286, 561231.85714286,   2013.14285714]), array([200997.99582027,  75313.20376176,  75313.20376176,   2009.91431557]), array([201013.08035714,  37234.4581044 ,  37245.16483516,   2010.06524725]), array([201185.38520408, 136861.07142857, 136861.07142857,   2011.78571429]), array([201305.61068702, 275300.79389313, 275300.79389313,   2013.        ])]\n",
            "[array([201041.38588092,   8209.80736421,   8327.84279248,   2010.3485376 ]), array([200965.84745763, 378471.16384181, 378471.16384181,   2009.58757062]), array([201322.57142857, 561231.85714286, 561231.85714286,   2013.14285714]), array([200997.99582027,  75313.20376176,  75313.20376176,   2009.91431557]), array([201013.08035714,  37234.4581044 ,  37245.16483516,   2010.06524725]), array([201185.38520408, 136861.07142857, 136861.07142857,   2011.78571429]), array([201305.61068702, 275300.79389313, 275300.79389313,   2013.        ])]\n",
            "[array([201041.38588092,   8209.80736421,   8327.84279248,   2010.3485376 ]), array([200965.84745763, 378471.16384181, 378471.16384181,   2009.58757062]), array([201322.57142857, 561231.85714286, 561231.85714286,   2013.14285714]), array([200997.99582027,  75313.20376176,  75313.20376176,   2009.91431557]), array([201013.08035714,  37234.4581044 ,  37245.16483516,   2010.06524725]), array([201185.38520408, 136861.07142857, 136861.07142857,   2011.78571429]), array([201305.61068702, 275300.79389313, 275300.79389313,   2013.        ])]\n"
          ]
        }
      ]
    },
    {
      "cell_type": "code",
      "source": [
        "predictions.select('prediction').show(5)"
      ],
      "metadata": {
        "id": "AQGtwH3F9S_o",
        "colab": {
          "base_uri": "https://localhost:8080/"
        },
        "outputId": "7d64fe6a-b663-4c0e-cf99-7cdea36c7e51"
      },
      "execution_count": null,
      "outputs": [
        {
          "output_type": "stream",
          "name": "stdout",
          "text": [
            "+----------+\n",
            "|prediction|\n",
            "+----------+\n",
            "|         4|\n",
            "|         4|\n",
            "|         0|\n",
            "|         4|\n",
            "|         4|\n",
            "+----------+\n",
            "only showing top 5 rows\n",
            "\n"
          ]
        }
      ]
    },
    {
      "cell_type": "code",
      "source": [
        "from pyspark.ml.clustering import KMeans"
      ],
      "metadata": {
        "id": "Y9tWFacg-KvE"
      },
      "execution_count": null,
      "outputs": []
    },
    {
      "cell_type": "code",
      "source": [
        "kmeans=KMeans(k=7)"
      ],
      "metadata": {
        "id": "mv5kwAD9-TG2"
      },
      "execution_count": null,
      "outputs": []
    },
    {
      "cell_type": "code",
      "source": [
        "model=kmeans.fit(final_df.select('features'))"
      ],
      "metadata": {
        "id": "a3m0x-fW-ZMw"
      },
      "execution_count": null,
      "outputs": []
    },
    {
      "cell_type": "code",
      "source": [
        "transformed=model.transform(final_df)"
      ],
      "metadata": {
        "id": "b_ZP4CSF-mKX"
      },
      "execution_count": null,
      "outputs": []
    },
    {
      "cell_type": "code",
      "source": [
        "from pyspark.ml.clustering import BisectingKMeans"
      ],
      "metadata": {
        "id": "P5F-V85J-wfC"
      },
      "execution_count": null,
      "outputs": []
    },
    {
      "cell_type": "code",
      "source": [
        "bkm=BisectingKMeans().setK(7).setSeed(1)"
      ],
      "metadata": {
        "id": "FzqtBu5b-43s"
      },
      "execution_count": null,
      "outputs": []
    },
    {
      "cell_type": "code",
      "source": [
        "model=bkm.fit(final_df)"
      ],
      "metadata": {
        "id": "rtgY8gw8_F8s"
      },
      "execution_count": null,
      "outputs": []
    },
    {
      "cell_type": "code",
      "source": [
        "predictions=model.transform(final_df)"
      ],
      "metadata": {
        "id": "ptYfJ3Q7_NRn"
      },
      "execution_count": null,
      "outputs": []
    },
    {
      "cell_type": "code",
      "source": [
        "from sklearn.cluster import KMeans\n",
        "import pandas as pd\n",
        "from sklearn.preprocessing import MinMaxScaler\n",
        "from matplotlib import pyplot as plt"
      ],
      "metadata": {
        "id": "_e_BzVHmrlCC"
      },
      "execution_count": null,
      "outputs": []
    },
    {
      "cell_type": "code",
      "source": [
        "df=pd.read_csv(\"/drive/MyDrive/Air_Traffic_Passenger_Statistics.csv\")"
      ],
      "metadata": {
        "id": "q87gis-IsCZ8"
      },
      "execution_count": null,
      "outputs": []
    },
    {
      "cell_type": "code",
      "source": [
        "df.head()"
      ],
      "metadata": {
        "id": "J5rg7qu7sUfy",
        "colab": {
          "base_uri": "https://localhost:8080/",
          "height": 296
        },
        "outputId": "1309f1e7-b63c-42dd-f609-32bc765e81a6"
      },
      "execution_count": null,
      "outputs": [
        {
          "output_type": "execute_result",
          "data": {
            "text/plain": [
              "   Activity Period Operating Airline Operating Airline IATA Code  \\\n",
              "0           200507      ATA Airlines                          TZ   \n",
              "1           200507      ATA Airlines                          TZ   \n",
              "2           200507      ATA Airlines                          TZ   \n",
              "3           200507       Air Canada                           AC   \n",
              "4           200507       Air Canada                           AC   \n",
              "\n",
              "  Published Airline Published Airline IATA Code    GEO Summary GEO Region  \\\n",
              "0      ATA Airlines                          TZ       Domestic         US   \n",
              "1      ATA Airlines                          TZ       Domestic         US   \n",
              "2      ATA Airlines                          TZ       Domestic         US   \n",
              "3       Air Canada                           AC  International     Canada   \n",
              "4       Air Canada                           AC  International     Canada   \n",
              "\n",
              "  Activity Type Code Price Category Code    Terminal Boarding Area  \\\n",
              "0           Deplaned            Low Fare  Terminal 1             B   \n",
              "1           Enplaned            Low Fare  Terminal 1             B   \n",
              "2     Thru / Transit            Low Fare  Terminal 1             B   \n",
              "3           Deplaned               Other  Terminal 1             B   \n",
              "4           Enplaned               Other  Terminal 1             B   \n",
              "\n",
              "   Passenger Count Adjusted Activity Type Code  Adjusted Passenger Count  \\\n",
              "0            27271                    Deplaned                     27271   \n",
              "1            29131                    Enplaned                     29131   \n",
              "2             5415          Thru / Transit * 2                     10830   \n",
              "3            35156                    Deplaned                     35156   \n",
              "4            34090                    Enplaned                     34090   \n",
              "\n",
              "   Year Month  \n",
              "0  2005  July  \n",
              "1  2005  July  \n",
              "2  2005  July  \n",
              "3  2005  July  \n",
              "4  2005  July  "
            ],
            "text/html": [
              "\n",
              "  <div id=\"df-41a25362-a1a5-4863-9555-b6700e732de9\" class=\"colab-df-container\">\n",
              "    <div>\n",
              "<style scoped>\n",
              "    .dataframe tbody tr th:only-of-type {\n",
              "        vertical-align: middle;\n",
              "    }\n",
              "\n",
              "    .dataframe tbody tr th {\n",
              "        vertical-align: top;\n",
              "    }\n",
              "\n",
              "    .dataframe thead th {\n",
              "        text-align: right;\n",
              "    }\n",
              "</style>\n",
              "<table border=\"1\" class=\"dataframe\">\n",
              "  <thead>\n",
              "    <tr style=\"text-align: right;\">\n",
              "      <th></th>\n",
              "      <th>Activity Period</th>\n",
              "      <th>Operating Airline</th>\n",
              "      <th>Operating Airline IATA Code</th>\n",
              "      <th>Published Airline</th>\n",
              "      <th>Published Airline IATA Code</th>\n",
              "      <th>GEO Summary</th>\n",
              "      <th>GEO Region</th>\n",
              "      <th>Activity Type Code</th>\n",
              "      <th>Price Category Code</th>\n",
              "      <th>Terminal</th>\n",
              "      <th>Boarding Area</th>\n",
              "      <th>Passenger Count</th>\n",
              "      <th>Adjusted Activity Type Code</th>\n",
              "      <th>Adjusted Passenger Count</th>\n",
              "      <th>Year</th>\n",
              "      <th>Month</th>\n",
              "    </tr>\n",
              "  </thead>\n",
              "  <tbody>\n",
              "    <tr>\n",
              "      <th>0</th>\n",
              "      <td>200507</td>\n",
              "      <td>ATA Airlines</td>\n",
              "      <td>TZ</td>\n",
              "      <td>ATA Airlines</td>\n",
              "      <td>TZ</td>\n",
              "      <td>Domestic</td>\n",
              "      <td>US</td>\n",
              "      <td>Deplaned</td>\n",
              "      <td>Low Fare</td>\n",
              "      <td>Terminal 1</td>\n",
              "      <td>B</td>\n",
              "      <td>27271</td>\n",
              "      <td>Deplaned</td>\n",
              "      <td>27271</td>\n",
              "      <td>2005</td>\n",
              "      <td>July</td>\n",
              "    </tr>\n",
              "    <tr>\n",
              "      <th>1</th>\n",
              "      <td>200507</td>\n",
              "      <td>ATA Airlines</td>\n",
              "      <td>TZ</td>\n",
              "      <td>ATA Airlines</td>\n",
              "      <td>TZ</td>\n",
              "      <td>Domestic</td>\n",
              "      <td>US</td>\n",
              "      <td>Enplaned</td>\n",
              "      <td>Low Fare</td>\n",
              "      <td>Terminal 1</td>\n",
              "      <td>B</td>\n",
              "      <td>29131</td>\n",
              "      <td>Enplaned</td>\n",
              "      <td>29131</td>\n",
              "      <td>2005</td>\n",
              "      <td>July</td>\n",
              "    </tr>\n",
              "    <tr>\n",
              "      <th>2</th>\n",
              "      <td>200507</td>\n",
              "      <td>ATA Airlines</td>\n",
              "      <td>TZ</td>\n",
              "      <td>ATA Airlines</td>\n",
              "      <td>TZ</td>\n",
              "      <td>Domestic</td>\n",
              "      <td>US</td>\n",
              "      <td>Thru / Transit</td>\n",
              "      <td>Low Fare</td>\n",
              "      <td>Terminal 1</td>\n",
              "      <td>B</td>\n",
              "      <td>5415</td>\n",
              "      <td>Thru / Transit * 2</td>\n",
              "      <td>10830</td>\n",
              "      <td>2005</td>\n",
              "      <td>July</td>\n",
              "    </tr>\n",
              "    <tr>\n",
              "      <th>3</th>\n",
              "      <td>200507</td>\n",
              "      <td>Air Canada</td>\n",
              "      <td>AC</td>\n",
              "      <td>Air Canada</td>\n",
              "      <td>AC</td>\n",
              "      <td>International</td>\n",
              "      <td>Canada</td>\n",
              "      <td>Deplaned</td>\n",
              "      <td>Other</td>\n",
              "      <td>Terminal 1</td>\n",
              "      <td>B</td>\n",
              "      <td>35156</td>\n",
              "      <td>Deplaned</td>\n",
              "      <td>35156</td>\n",
              "      <td>2005</td>\n",
              "      <td>July</td>\n",
              "    </tr>\n",
              "    <tr>\n",
              "      <th>4</th>\n",
              "      <td>200507</td>\n",
              "      <td>Air Canada</td>\n",
              "      <td>AC</td>\n",
              "      <td>Air Canada</td>\n",
              "      <td>AC</td>\n",
              "      <td>International</td>\n",
              "      <td>Canada</td>\n",
              "      <td>Enplaned</td>\n",
              "      <td>Other</td>\n",
              "      <td>Terminal 1</td>\n",
              "      <td>B</td>\n",
              "      <td>34090</td>\n",
              "      <td>Enplaned</td>\n",
              "      <td>34090</td>\n",
              "      <td>2005</td>\n",
              "      <td>July</td>\n",
              "    </tr>\n",
              "  </tbody>\n",
              "</table>\n",
              "</div>\n",
              "    <div class=\"colab-df-buttons\">\n",
              "\n",
              "  <div class=\"colab-df-container\">\n",
              "    <button class=\"colab-df-convert\" onclick=\"convertToInteractive('df-41a25362-a1a5-4863-9555-b6700e732de9')\"\n",
              "            title=\"Convert this dataframe to an interactive table.\"\n",
              "            style=\"display:none;\">\n",
              "\n",
              "  <svg xmlns=\"http://www.w3.org/2000/svg\" height=\"24px\" viewBox=\"0 -960 960 960\">\n",
              "    <path d=\"M120-120v-720h720v720H120Zm60-500h600v-160H180v160Zm220 220h160v-160H400v160Zm0 220h160v-160H400v160ZM180-400h160v-160H180v160Zm440 0h160v-160H620v160ZM180-180h160v-160H180v160Zm440 0h160v-160H620v160Z\"/>\n",
              "  </svg>\n",
              "    </button>\n",
              "\n",
              "  <style>\n",
              "    .colab-df-container {\n",
              "      display:flex;\n",
              "      gap: 12px;\n",
              "    }\n",
              "\n",
              "    .colab-df-convert {\n",
              "      background-color: #E8F0FE;\n",
              "      border: none;\n",
              "      border-radius: 50%;\n",
              "      cursor: pointer;\n",
              "      display: none;\n",
              "      fill: #1967D2;\n",
              "      height: 32px;\n",
              "      padding: 0 0 0 0;\n",
              "      width: 32px;\n",
              "    }\n",
              "\n",
              "    .colab-df-convert:hover {\n",
              "      background-color: #E2EBFA;\n",
              "      box-shadow: 0px 1px 2px rgba(60, 64, 67, 0.3), 0px 1px 3px 1px rgba(60, 64, 67, 0.15);\n",
              "      fill: #174EA6;\n",
              "    }\n",
              "\n",
              "    .colab-df-buttons div {\n",
              "      margin-bottom: 4px;\n",
              "    }\n",
              "\n",
              "    [theme=dark] .colab-df-convert {\n",
              "      background-color: #3B4455;\n",
              "      fill: #D2E3FC;\n",
              "    }\n",
              "\n",
              "    [theme=dark] .colab-df-convert:hover {\n",
              "      background-color: #434B5C;\n",
              "      box-shadow: 0px 1px 3px 1px rgba(0, 0, 0, 0.15);\n",
              "      filter: drop-shadow(0px 1px 2px rgba(0, 0, 0, 0.3));\n",
              "      fill: #FFFFFF;\n",
              "    }\n",
              "  </style>\n",
              "\n",
              "    <script>\n",
              "      const buttonEl =\n",
              "        document.querySelector('#df-41a25362-a1a5-4863-9555-b6700e732de9 button.colab-df-convert');\n",
              "      buttonEl.style.display =\n",
              "        google.colab.kernel.accessAllowed ? 'block' : 'none';\n",
              "\n",
              "      async function convertToInteractive(key) {\n",
              "        const element = document.querySelector('#df-41a25362-a1a5-4863-9555-b6700e732de9');\n",
              "        const dataTable =\n",
              "          await google.colab.kernel.invokeFunction('convertToInteractive',\n",
              "                                                    [key], {});\n",
              "        if (!dataTable) return;\n",
              "\n",
              "        const docLinkHtml = 'Like what you see? Visit the ' +\n",
              "          '<a target=\"_blank\" href=https://colab.research.google.com/notebooks/data_table.ipynb>data table notebook</a>'\n",
              "          + ' to learn more about interactive tables.';\n",
              "        element.innerHTML = '';\n",
              "        dataTable['output_type'] = 'display_data';\n",
              "        await google.colab.output.renderOutput(dataTable, element);\n",
              "        const docLink = document.createElement('div');\n",
              "        docLink.innerHTML = docLinkHtml;\n",
              "        element.appendChild(docLink);\n",
              "      }\n",
              "    </script>\n",
              "  </div>\n",
              "\n",
              "\n",
              "<div id=\"df-9d4e0202-85e1-42f3-9777-d6e4aa4b209b\">\n",
              "  <button class=\"colab-df-quickchart\" onclick=\"quickchart('df-9d4e0202-85e1-42f3-9777-d6e4aa4b209b')\"\n",
              "            title=\"Suggest charts.\"\n",
              "            style=\"display:none;\">\n",
              "\n",
              "<svg xmlns=\"http://www.w3.org/2000/svg\" height=\"24px\"viewBox=\"0 0 24 24\"\n",
              "     width=\"24px\">\n",
              "    <g>\n",
              "        <path d=\"M19 3H5c-1.1 0-2 .9-2 2v14c0 1.1.9 2 2 2h14c1.1 0 2-.9 2-2V5c0-1.1-.9-2-2-2zM9 17H7v-7h2v7zm4 0h-2V7h2v10zm4 0h-2v-4h2v4z\"/>\n",
              "    </g>\n",
              "</svg>\n",
              "  </button>\n",
              "\n",
              "<style>\n",
              "  .colab-df-quickchart {\n",
              "      --bg-color: #E8F0FE;\n",
              "      --fill-color: #1967D2;\n",
              "      --hover-bg-color: #E2EBFA;\n",
              "      --hover-fill-color: #174EA6;\n",
              "      --disabled-fill-color: #AAA;\n",
              "      --disabled-bg-color: #DDD;\n",
              "  }\n",
              "\n",
              "  [theme=dark] .colab-df-quickchart {\n",
              "      --bg-color: #3B4455;\n",
              "      --fill-color: #D2E3FC;\n",
              "      --hover-bg-color: #434B5C;\n",
              "      --hover-fill-color: #FFFFFF;\n",
              "      --disabled-bg-color: #3B4455;\n",
              "      --disabled-fill-color: #666;\n",
              "  }\n",
              "\n",
              "  .colab-df-quickchart {\n",
              "    background-color: var(--bg-color);\n",
              "    border: none;\n",
              "    border-radius: 50%;\n",
              "    cursor: pointer;\n",
              "    display: none;\n",
              "    fill: var(--fill-color);\n",
              "    height: 32px;\n",
              "    padding: 0;\n",
              "    width: 32px;\n",
              "  }\n",
              "\n",
              "  .colab-df-quickchart:hover {\n",
              "    background-color: var(--hover-bg-color);\n",
              "    box-shadow: 0 1px 2px rgba(60, 64, 67, 0.3), 0 1px 3px 1px rgba(60, 64, 67, 0.15);\n",
              "    fill: var(--button-hover-fill-color);\n",
              "  }\n",
              "\n",
              "  .colab-df-quickchart-complete:disabled,\n",
              "  .colab-df-quickchart-complete:disabled:hover {\n",
              "    background-color: var(--disabled-bg-color);\n",
              "    fill: var(--disabled-fill-color);\n",
              "    box-shadow: none;\n",
              "  }\n",
              "\n",
              "  .colab-df-spinner {\n",
              "    border: 2px solid var(--fill-color);\n",
              "    border-color: transparent;\n",
              "    border-bottom-color: var(--fill-color);\n",
              "    animation:\n",
              "      spin 1s steps(1) infinite;\n",
              "  }\n",
              "\n",
              "  @keyframes spin {\n",
              "    0% {\n",
              "      border-color: transparent;\n",
              "      border-bottom-color: var(--fill-color);\n",
              "      border-left-color: var(--fill-color);\n",
              "    }\n",
              "    20% {\n",
              "      border-color: transparent;\n",
              "      border-left-color: var(--fill-color);\n",
              "      border-top-color: var(--fill-color);\n",
              "    }\n",
              "    30% {\n",
              "      border-color: transparent;\n",
              "      border-left-color: var(--fill-color);\n",
              "      border-top-color: var(--fill-color);\n",
              "      border-right-color: var(--fill-color);\n",
              "    }\n",
              "    40% {\n",
              "      border-color: transparent;\n",
              "      border-right-color: var(--fill-color);\n",
              "      border-top-color: var(--fill-color);\n",
              "    }\n",
              "    60% {\n",
              "      border-color: transparent;\n",
              "      border-right-color: var(--fill-color);\n",
              "    }\n",
              "    80% {\n",
              "      border-color: transparent;\n",
              "      border-right-color: var(--fill-color);\n",
              "      border-bottom-color: var(--fill-color);\n",
              "    }\n",
              "    90% {\n",
              "      border-color: transparent;\n",
              "      border-bottom-color: var(--fill-color);\n",
              "    }\n",
              "  }\n",
              "</style>\n",
              "\n",
              "  <script>\n",
              "    async function quickchart(key) {\n",
              "      const quickchartButtonEl =\n",
              "        document.querySelector('#' + key + ' button');\n",
              "      quickchartButtonEl.disabled = true;  // To prevent multiple clicks.\n",
              "      quickchartButtonEl.classList.add('colab-df-spinner');\n",
              "      try {\n",
              "        const charts = await google.colab.kernel.invokeFunction(\n",
              "            'suggestCharts', [key], {});\n",
              "      } catch (error) {\n",
              "        console.error('Error during call to suggestCharts:', error);\n",
              "      }\n",
              "      quickchartButtonEl.classList.remove('colab-df-spinner');\n",
              "      quickchartButtonEl.classList.add('colab-df-quickchart-complete');\n",
              "    }\n",
              "    (() => {\n",
              "      let quickchartButtonEl =\n",
              "        document.querySelector('#df-9d4e0202-85e1-42f3-9777-d6e4aa4b209b button');\n",
              "      quickchartButtonEl.style.display =\n",
              "        google.colab.kernel.accessAllowed ? 'block' : 'none';\n",
              "    })();\n",
              "  </script>\n",
              "</div>\n",
              "    </div>\n",
              "  </div>\n"
            ]
          },
          "metadata": {},
          "execution_count": 283
        }
      ]
    },
    {
      "cell_type": "code",
      "source": [
        "plt.scatter(df.Year,df['Passenger Count'])\n",
        "plt.xlabel('Year')\n",
        "plt.ylabel('Passenger Count(5)')"
      ],
      "metadata": {
        "id": "DARZJ2Hbsb0f",
        "colab": {
          "base_uri": "https://localhost:8080/",
          "height": 467
        },
        "outputId": "b855b1f0-d273-48f4-d339-daa4ef712801"
      },
      "execution_count": null,
      "outputs": [
        {
          "output_type": "execute_result",
          "data": {
            "text/plain": [
              "Text(0, 0.5, 'Passenger Count(5)')"
            ]
          },
          "metadata": {},
          "execution_count": 284
        },
        {
          "output_type": "display_data",
          "data": {
            "text/plain": [
              "<Figure size 640x480 with 1 Axes>"
            ],
            "image/png": "[encoded data removed]"
          },
          "metadata": {}
        }
      ]
    },
    {
      "cell_type": "code",
      "source": [
        "km=KMeans(n_clusters=3)\n",
        "y_predicted=km.fit_predict(df[['Year','Passenger Count']])\n",
        "y_predicted"
      ],
      "metadata": {
        "id": "TRuSpTXJywPZ",
        "colab": {
          "base_uri": "https://localhost:8080/"
        },
        "outputId": "7ef0392b-6bd8-4262-c5db-47cf5789fff9"
      },
      "execution_count": null,
      "outputs": [
        {
          "output_type": "stream",
          "name": "stderr",
          "text": [
            "/usr/local/lib/python3.10/dist-packages/sklearn/cluster/_kmeans.py:870: FutureWarning: The default value of `n_init` will change from 10 to 'auto' in 1.4. Set the value of `n_init` explicitly to suppress the warning\n",
            "  warnings.warn(\n"
          ]
        },
        {
          "output_type": "execute_result",
          "data": {
            "text/plain": [
              "array([0, 0, 0, ..., 0, 0, 0], dtype=int32)"
            ]
          },
          "metadata": {},
          "execution_count": 285
        }
      ]
    },
    {
      "cell_type": "code",
      "source": [
        "df['cluster']=y_predicted\n",
        "df.head()"
      ],
      "metadata": {
        "id": "DAqhacsSzQ_K",
        "colab": {
          "base_uri": "https://localhost:8080/",
          "height": 296
        },
        "outputId": "a88e3c9f-7f73-45ec-ca86-beb0b07caffd"
      },
      "execution_count": null,
      "outputs": [
        {
          "output_type": "execute_result",
          "data": {
            "text/plain": [
              "   Activity Period Operating Airline Operating Airline IATA Code  \\\n",
              "0           200507      ATA Airlines                          TZ   \n",
              "1           200507      ATA Airlines                          TZ   \n",
              "2           200507      ATA Airlines                          TZ   \n",
              "3           200507       Air Canada                           AC   \n",
              "4           200507       Air Canada                           AC   \n",
              "\n",
              "  Published Airline Published Airline IATA Code    GEO Summary GEO Region  \\\n",
              "0      ATA Airlines                          TZ       Domestic         US   \n",
              "1      ATA Airlines                          TZ       Domestic         US   \n",
              "2      ATA Airlines                          TZ       Domestic         US   \n",
              "3       Air Canada                           AC  International     Canada   \n",
              "4       Air Canada                           AC  International     Canada   \n",
              "\n",
              "  Activity Type Code Price Category Code    Terminal Boarding Area  \\\n",
              "0           Deplaned            Low Fare  Terminal 1             B   \n",
              "1           Enplaned            Low Fare  Terminal 1             B   \n",
              "2     Thru / Transit            Low Fare  Terminal 1             B   \n",
              "3           Deplaned               Other  Terminal 1             B   \n",
              "4           Enplaned               Other  Terminal 1             B   \n",
              "\n",
              "   Passenger Count Adjusted Activity Type Code  Adjusted Passenger Count  \\\n",
              "0            27271                    Deplaned                     27271   \n",
              "1            29131                    Enplaned                     29131   \n",
              "2             5415          Thru / Transit * 2                     10830   \n",
              "3            35156                    Deplaned                     35156   \n",
              "4            34090                    Enplaned                     34090   \n",
              "\n",
              "   Year Month  cluster  \n",
              "0  2005  July        0  \n",
              "1  2005  July        0  \n",
              "2  2005  July        0  \n",
              "3  2005  July        0  \n",
              "4  2005  July        0  "
            ],
            "text/html": [
              "\n",
              "  <div id=\"df-b3ccdaac-1ecb-475c-8abe-18032d06e83e\" class=\"colab-df-container\">\n",
              "    <div>\n",
              "<style scoped>\n",
              "    .dataframe tbody tr th:only-of-type {\n",
              "        vertical-align: middle;\n",
              "    }\n",
              "\n",
              "    .dataframe tbody tr th {\n",
              "        vertical-align: top;\n",
              "    }\n",
              "\n",
              "    .dataframe thead th {\n",
              "        text-align: right;\n",
              "    }\n",
              "</style>\n",
              "<table border=\"1\" class=\"dataframe\">\n",
              "  <thead>\n",
              "    <tr style=\"text-align: right;\">\n",
              "      <th></th>\n",
              "      <th>Activity Period</th>\n",
              "      <th>Operating Airline</th>\n",
              "      <th>Operating Airline IATA Code</th>\n",
              "      <th>Published Airline</th>\n",
              "      <th>Published Airline IATA Code</th>\n",
              "      <th>GEO Summary</th>\n",
              "      <th>GEO Region</th>\n",
              "      <th>Activity Type Code</th>\n",
              "      <th>Price Category Code</th>\n",
              "      <th>Terminal</th>\n",
              "      <th>Boarding Area</th>\n",
              "      <th>Passenger Count</th>\n",
              "      <th>Adjusted Activity Type Code</th>\n",
              "      <th>Adjusted Passenger Count</th>\n",
              "      <th>Year</th>\n",
              "      <th>Month</th>\n",
              "      <th>cluster</th>\n",
              "    </tr>\n",
              "  </thead>\n",
              "  <tbody>\n",
              "    <tr>\n",
              "      <th>0</th>\n",
              "      <td>200507</td>\n",
              "      <td>ATA Airlines</td>\n",
              "      <td>TZ</td>\n",
              "      <td>ATA Airlines</td>\n",
              "      <td>TZ</td>\n",
              "      <td>Domestic</td>\n",
              "      <td>US</td>\n",
              "      <td>Deplaned</td>\n",
              "      <td>Low Fare</td>\n",
              "      <td>Terminal 1</td>\n",
              "      <td>B</td>\n",
              "      <td>27271</td>\n",
              "      <td>Deplaned</td>\n",
              "      <td>27271</td>\n",
              "      <td>2005</td>\n",
              "      <td>July</td>\n",
              "      <td>0</td>\n",
              "    </tr>\n",
              "    <tr>\n",
              "      <th>1</th>\n",
              "      <td>200507</td>\n",
              "      <td>ATA Airlines</td>\n",
              "      <td>TZ</td>\n",
              "      <td>ATA Airlines</td>\n",
              "      <td>TZ</td>\n",
              "      <td>Domestic</td>\n",
              "      <td>US</td>\n",
              "      <td>Enplaned</td>\n",
              "      <td>Low Fare</td>\n",
              "      <td>Terminal 1</td>\n",
              "      <td>B</td>\n",
              "      <td>29131</td>\n",
              "      <td>Enplaned</td>\n",
              "      <td>29131</td>\n",
              "      <td>2005</td>\n",
              "      <td>July</td>\n",
              "      <td>0</td>\n",
              "    </tr>\n",
              "    <tr>\n",
              "      <th>2</th>\n",
              "      <td>200507</td>\n",
              "      <td>ATA Airlines</td>\n",
              "      <td>TZ</td>\n",
              "      <td>ATA Airlines</td>\n",
              "      <td>TZ</td>\n",
              "      <td>Domestic</td>\n",
              "      <td>US</td>\n",
              "      <td>Thru / Transit</td>\n",
              "      <td>Low Fare</td>\n",
              "      <td>Terminal 1</td>\n",
              "      <td>B</td>\n",
              "      <td>5415</td>\n",
              "      <td>Thru / Transit * 2</td>\n",
              "      <td>10830</td>\n",
              "      <td>2005</td>\n",
              "      <td>July</td>\n",
              "      <td>0</td>\n",
              "    </tr>\n",
              "    <tr>\n",
              "      <th>3</th>\n",
              "      <td>200507</td>\n",
              "      <td>Air Canada</td>\n",
              "      <td>AC</td>\n",
              "      <td>Air Canada</td>\n",
              "      <td>AC</td>\n",
              "      <td>International</td>\n",
              "      <td>Canada</td>\n",
              "      <td>Deplaned</td>\n",
              "      <td>Other</td>\n",
              "      <td>Terminal 1</td>\n",
              "      <td>B</td>\n",
              "      <td>35156</td>\n",
              "      <td>Deplaned</td>\n",
              "      <td>35156</td>\n",
              "      <td>2005</td>\n",
              "      <td>July</td>\n",
              "      <td>0</td>\n",
              "    </tr>\n",
              "    <tr>\n",
              "      <th>4</th>\n",
              "      <td>200507</td>\n",
              "      <td>Air Canada</td>\n",
              "      <td>AC</td>\n",
              "      <td>Air Canada</td>\n",
              "      <td>AC</td>\n",
              "      <td>International</td>\n",
              "      <td>Canada</td>\n",
              "      <td>Enplaned</td>\n",
              "      <td>Other</td>\n",
              "      <td>Terminal 1</td>\n",
              "      <td>B</td>\n",
              "      <td>34090</td>\n",
              "      <td>Enplaned</td>\n",
              "      <td>34090</td>\n",
              "      <td>2005</td>\n",
              "      <td>July</td>\n",
              "      <td>0</td>\n",
              "    </tr>\n",
              "  </tbody>\n",
              "</table>\n",
              "</div>\n",
              "    <div class=\"colab-df-buttons\">\n",
              "\n",
              "  <div class=\"colab-df-container\">\n",
              "    <button class=\"colab-df-convert\" onclick=\"convertToInteractive('df-b3ccdaac-1ecb-475c-8abe-18032d06e83e')\"\n",
              "            title=\"Convert this dataframe to an interactive table.\"\n",
              "            style=\"display:none;\">\n",
              "\n",
              "  <svg xmlns=\"http://www.w3.org/2000/svg\" height=\"24px\" viewBox=\"0 -960 960 960\">\n",
              "    <path d=\"M120-120v-720h720v720H120Zm60-500h600v-160H180v160Zm220 220h160v-160H400v160Zm0 220h160v-160H400v160ZM180-400h160v-160H180v160Zm440 0h160v-160H620v160ZM180-180h160v-160H180v160Zm440 0h160v-160H620v160Z\"/>\n",
              "  </svg>\n",
              "    </button>\n",
              "\n",
              "  <style>\n",
              "    .colab-df-container {\n",
              "      display:flex;\n",
              "      gap: 12px;\n",
              "    }\n",
              "\n",
              "    .colab-df-convert {\n",
              "      background-color: #E8F0FE;\n",
              "      border: none;\n",
              "      border-radius: 50%;\n",
              "      cursor: pointer;\n",
              "      display: none;\n",
              "      fill: #1967D2;\n",
              "      height: 32px;\n",
              "      padding: 0 0 0 0;\n",
              "      width: 32px;\n",
              "    }\n",
              "\n",
              "    .colab-df-convert:hover {\n",
              "      background-color: #E2EBFA;\n",
              "      box-shadow: 0px 1px 2px rgba(60, 64, 67, 0.3), 0px 1px 3px 1px rgba(60, 64, 67, 0.15);\n",
              "      fill: #174EA6;\n",
              "    }\n",
              "\n",
              "    .colab-df-buttons div {\n",
              "      margin-bottom: 4px;\n",
              "    }\n",
              "\n",
              "    [theme=dark] .colab-df-convert {\n",
              "      background-color: #3B4455;\n",
              "      fill: #D2E3FC;\n",
              "    }\n",
              "\n",
              "    [theme=dark] .colab-df-convert:hover {\n",
              "      background-color: #434B5C;\n",
              "      box-shadow: 0px 1px 3px 1px rgba(0, 0, 0, 0.15);\n",
              "      filter: drop-shadow(0px 1px 2px rgba(0, 0, 0, 0.3));\n",
              "      fill: #FFFFFF;\n",
              "    }\n",
              "  </style>\n",
              "\n",
              "    <script>\n",
              "      const buttonEl =\n",
              "        document.querySelector('#df-b3ccdaac-1ecb-475c-8abe-18032d06e83e button.colab-df-convert');\n",
              "      buttonEl.style.display =\n",
              "        google.colab.kernel.accessAllowed ? 'block' : 'none';\n",
              "\n",
              "      async function convertToInteractive(key) {\n",
              "        const element = document.querySelector('#df-b3ccdaac-1ecb-475c-8abe-18032d06e83e');\n",
              "        const dataTable =\n",
              "          await google.colab.kernel.invokeFunction('convertToInteractive',\n",
              "                                                    [key], {});\n",
              "        if (!dataTable) return;\n",
              "\n",
              "        const docLinkHtml = 'Like what you see? Visit the ' +\n",
              "          '<a target=\"_blank\" href=https://colab.research.google.com/notebooks/data_table.ipynb>data table notebook</a>'\n",
              "          + ' to learn more about interactive tables.';\n",
              "        element.innerHTML = '';\n",
              "        dataTable['output_type'] = 'display_data';\n",
              "        await google.colab.output.renderOutput(dataTable, element);\n",
              "        const docLink = document.createElement('div');\n",
              "        docLink.innerHTML = docLinkHtml;\n",
              "        element.appendChild(docLink);\n",
              "      }\n",
              "    </script>\n",
              "  </div>\n",
              "\n",
              "\n",
              "<div id=\"df-07718d0f-3af5-47b7-84a8-2d8f505d9e5c\">\n",
              "  <button class=\"colab-df-quickchart\" onclick=\"quickchart('df-07718d0f-3af5-47b7-84a8-2d8f505d9e5c')\"\n",
              "            title=\"Suggest charts.\"\n",
              "            style=\"display:none;\">\n",
              "\n",
              "<svg xmlns=\"http://www.w3.org/2000/svg\" height=\"24px\"viewBox=\"0 0 24 24\"\n",
              "     width=\"24px\">\n",
              "    <g>\n",
              "        <path d=\"M19 3H5c-1.1 0-2 .9-2 2v14c0 1.1.9 2 2 2h14c1.1 0 2-.9 2-2V5c0-1.1-.9-2-2-2zM9 17H7v-7h2v7zm4 0h-2V7h2v10zm4 0h-2v-4h2v4z\"/>\n",
              "    </g>\n",
              "</svg>\n",
              "  </button>\n",
              "\n",
              "<style>\n",
              "  .colab-df-quickchart {\n",
              "      --bg-color: #E8F0FE;\n",
              "      --fill-color: #1967D2;\n",
              "      --hover-bg-color: #E2EBFA;\n",
              "      --hover-fill-color: #174EA6;\n",
              "      --disabled-fill-color: #AAA;\n",
              "      --disabled-bg-color: #DDD;\n",
              "  }\n",
              "\n",
              "  [theme=dark] .colab-df-quickchart {\n",
              "      --bg-color: #3B4455;\n",
              "      --fill-color: #D2E3FC;\n",
              "      --hover-bg-color: #434B5C;\n",
              "      --hover-fill-color: #FFFFFF;\n",
              "      --disabled-bg-color: #3B4455;\n",
              "      --disabled-fill-color: #666;\n",
              "  }\n",
              "\n",
              "  .colab-df-quickchart {\n",
              "    background-color: var(--bg-color);\n",
              "    border: none;\n",
              "    border-radius: 50%;\n",
              "    cursor: pointer;\n",
              "    display: none;\n",
              "    fill: var(--fill-color);\n",
              "    height: 32px;\n",
              "    padding: 0;\n",
              "    width: 32px;\n",
              "  }\n",
              "\n",
              "  .colab-df-quickchart:hover {\n",
              "    background-color: var(--hover-bg-color);\n",
              "    box-shadow: 0 1px 2px rgba(60, 64, 67, 0.3), 0 1px 3px 1px rgba(60, 64, 67, 0.15);\n",
              "    fill: var(--button-hover-fill-color);\n",
              "  }\n",
              "\n",
              "  .colab-df-quickchart-complete:disabled,\n",
              "  .colab-df-quickchart-complete:disabled:hover {\n",
              "    background-color: var(--disabled-bg-color);\n",
              "    fill: var(--disabled-fill-color);\n",
              "    box-shadow: none;\n",
              "  }\n",
              "\n",
              "  .colab-df-spinner {\n",
              "    border: 2px solid var(--fill-color);\n",
              "    border-color: transparent;\n",
              "    border-bottom-color: var(--fill-color);\n",
              "    animation:\n",
              "      spin 1s steps(1) infinite;\n",
              "  }\n",
              "\n",
              "  @keyframes spin {\n",
              "    0% {\n",
              "      border-color: transparent;\n",
              "      border-bottom-color: var(--fill-color);\n",
              "      border-left-color: var(--fill-color);\n",
              "    }\n",
              "    20% {\n",
              "      border-color: transparent;\n",
              "      border-left-color: var(--fill-color);\n",
              "      border-top-color: var(--fill-color);\n",
              "    }\n",
              "    30% {\n",
              "      border-color: transparent;\n",
              "      border-left-color: var(--fill-color);\n",
              "      border-top-color: var(--fill-color);\n",
              "      border-right-color: var(--fill-color);\n",
              "    }\n",
              "    40% {\n",
              "      border-color: transparent;\n",
              "      border-right-color: var(--fill-color);\n",
              "      border-top-color: var(--fill-color);\n",
              "    }\n",
              "    60% {\n",
              "      border-color: transparent;\n",
              "      border-right-color: var(--fill-color);\n",
              "    }\n",
              "    80% {\n",
              "      border-color: transparent;\n",
              "      border-right-color: var(--fill-color);\n",
              "      border-bottom-color: var(--fill-color);\n",
              "    }\n",
              "    90% {\n",
              "      border-color: transparent;\n",
              "      border-bottom-color: var(--fill-color);\n",
              "    }\n",
              "  }\n",
              "</style>\n",
              "\n",
              "  <script>\n",
              "    async function quickchart(key) {\n",
              "      const quickchartButtonEl =\n",
              "        document.querySelector('#' + key + ' button');\n",
              "      quickchartButtonEl.disabled = true;  // To prevent multiple clicks.\n",
              "      quickchartButtonEl.classList.add('colab-df-spinner');\n",
              "      try {\n",
              "        const charts = await google.colab.kernel.invokeFunction(\n",
              "            'suggestCharts', [key], {});\n",
              "      } catch (error) {\n",
              "        console.error('Error during call to suggestCharts:', error);\n",
              "      }\n",
              "      quickchartButtonEl.classList.remove('colab-df-spinner');\n",
              "      quickchartButtonEl.classList.add('colab-df-quickchart-complete');\n",
              "    }\n",
              "    (() => {\n",
              "      let quickchartButtonEl =\n",
              "        document.querySelector('#df-07718d0f-3af5-47b7-84a8-2d8f505d9e5c button');\n",
              "      quickchartButtonEl.style.display =\n",
              "        google.colab.kernel.accessAllowed ? 'block' : 'none';\n",
              "    })();\n",
              "  </script>\n",
              "</div>\n",
              "    </div>\n",
              "  </div>\n"
            ]
          },
          "metadata": {},
          "execution_count": 286
        }
      ]
    },
    {
      "cell_type": "code",
      "source": [
        "scaler=MinMaxScaler()\n"
      ],
      "metadata": {
        "id": "40n2P8YuzeEC"
      },
      "execution_count": null,
      "outputs": []
    }
  ]
}