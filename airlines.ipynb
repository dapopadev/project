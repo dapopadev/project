{
  "nbformat": 4,
  "nbformat_minor": 0,
  "metadata": {
    "colab": {
      "provenance": [],
      "include_colab_link": true
    },
    "kernelspec": {
      "name": "python3",
      "display_name": "Python 3"
    },
    "language_info": {
      "name": "python"
    }
  },
  "cells": [
    {
      "cell_type": "markdown",
      "metadata": {
        "id": "view-in-github",
        "colab_type": "text"
      },
      "source": [
        "<a href=\"https://colab.research.google.com/github/dapopadev/project/blob/main/airlines.ipynb\" target=\"_parent\"><img src=\"https://colab.research.google.com/assets/colab-badge.svg\" alt=\"Open In Colab\"/></a>"
      ]
    },
    {
      "cell_type": "code",
      "execution_count": 1,
      "metadata": {
        "id": "GoaCoPI3R7RG",
        "colab": {
          "base_uri": "https://localhost:8080/"
        },
        "outputId": "f6718ea5-3ef9-4cbb-ce0b-1d03af080a7a"
      },
      "outputs": [
        {
          "output_type": "stream",
          "name": "stdout",
          "text": [
            "Collecting pyspark\n",
            "  Downloading pyspark-3.4.1.tar.gz (310.8 MB)\n",
            "\u001b[2K     \u001b[90m━━━━━━━━━━━━━━━━━━━━━━━━━━━━━━━━━━━━━━━\u001b[0m \u001b[32m310.8/310.8 MB\u001b[0m \u001b[31m3.1 MB/s\u001b[0m eta \u001b[36m0:00:00\u001b[0m\n",
            "\u001b[?25h  Preparing metadata (setup.py) ... \u001b[?25l\u001b[?25hdone\n",
            "Requirement already satisfied: py4j==0.10.9.7 in /usr/local/lib/python3.10/dist-packages (from pyspark) (0.10.9.7)\n",
            "Building wheels for collected packages: pyspark\n",
            "  Building wheel for pyspark (setup.py) ... \u001b[?25l\u001b[?25hdone\n",
            "  Created wheel for pyspark: filename=pyspark-3.4.1-py2.py3-none-any.whl size=311285387 sha256=af2208ad99b3aa47c0b35b7a0e24261dbadae4d4f5d1fb25771d64cd388b656e\n",
            "  Stored in directory: /root/.cache/pip/wheels/0d/77/a3/ff2f74cc9ab41f8f594dabf0579c2a7c6de920d584206e0834\n",
            "Successfully built pyspark\n",
            "Installing collected packages: pyspark\n",
            "Successfully installed pyspark-3.4.1\n"
          ]
        }
      ],
      "source": [
        "!pip install pyspark"
      ]
    },
    {
      "cell_type": "markdown",
      "source": [
        "# New section"
      ],
      "metadata": {
        "id": "gX9TPM1lxZWj"
      }
    },
    {
      "cell_type": "markdown",
      "source": [
        "\n",
        "\n",
        "\n",
        "\n",
        "**2.INSTALAMOS EL MÓDULO PYSPARK**\n",
        "\n"
      ],
      "metadata": {
        "id": "pCyO5RPbe5aa"
      }
    },
    {
      "cell_type": "markdown",
      "source": [
        "3.**CREAMOS LA SESIÓN PYSPARK***"
      ],
      "metadata": {
        "id": "qjXjLjnqfHTI"
      }
    },
    {
      "cell_type": "code",
      "source": [
        "from pyspark.sql import SparkSession"
      ],
      "metadata": {
        "id": "eflvuMECSJE8"
      },
      "execution_count": 2,
      "outputs": []
    },
    {
      "cell_type": "code",
      "source": [
        "from pyspark.sql.functions import col,sum"
      ],
      "metadata": {
        "id": "wtx0cf261i3C"
      },
      "execution_count": 3,
      "outputs": []
    },
    {
      "cell_type": "code",
      "source": [
        "from google.colab import drive"
      ],
      "metadata": {
        "id": "awxCEo3-SWHS"
      },
      "execution_count": 4,
      "outputs": []
    },
    {
      "cell_type": "markdown",
      "source": [
        " **DISEÑAMOS UNA UNIDAD PERSONAL DE GOOGLE DRIVE**"
      ],
      "metadata": {
        "id": "-mX2Dlp6ldAC"
      }
    },
    {
      "cell_type": "code",
      "source": [
        "drive.mount(\"/drive\")"
      ],
      "metadata": {
        "id": "toyStXuoScU9",
        "colab": {
          "base_uri": "https://localhost:8080/"
        },
        "outputId": "29e430d3-bce7-4eaf-b599-9a30bcc40f66"
      },
      "execution_count": 5,
      "outputs": [
        {
          "output_type": "stream",
          "name": "stdout",
          "text": [
            "Mounted at /drive\n"
          ]
        }
      ]
    },
    {
      "cell_type": "code",
      "source": [
        "spark=SparkSession.builder.appName(\"my_app\").getOrCreate()"
      ],
      "metadata": {
        "id": "HpztO3AISs-D"
      },
      "execution_count": 6,
      "outputs": []
    },
    {
      "cell_type": "markdown",
      "source": [
        "**3.1.CARGAMOS EL ARCHIVO Air_Traffic_Passenge_Statisitics**"
      ],
      "metadata": {
        "id": "0pl0Mn7yfeqZ"
      }
    },
    {
      "cell_type": "code",
      "source": [
        "df=spark.read.option(\"Header\",True).csv(\"/drive/MyDrive/Air_Traffic_Passenger_Statistics.csv\")"
      ],
      "metadata": {
        "id": "JBcTTBS5S_wX"
      },
      "execution_count": 7,
      "outputs": []
    },
    {
      "cell_type": "code",
      "source": [
        "df.show()"
      ],
      "metadata": {
        "id": "i48wTG04Dsqd",
        "colab": {
          "base_uri": "https://localhost:8080/"
        },
        "outputId": "b24dbbab-cbd4-46d1-80c8-d6e61d83fbdd"
      },
      "execution_count": 8,
      "outputs": [
        {
          "output_type": "stream",
          "name": "stdout",
          "text": [
            "+---------------+-----------------+---------------------------+-----------------+---------------------------+-------------+-------------------+------------------+-------------------+-------------+-------------+---------------+---------------------------+------------------------+----+-----+\n",
            "|Activity Period|Operating Airline|Operating Airline IATA Code|Published Airline|Published Airline IATA Code|  GEO Summary|         GEO Region|Activity Type Code|Price Category Code|     Terminal|Boarding Area|Passenger Count|Adjusted Activity Type Code|Adjusted Passenger Count|Year|Month|\n",
            "+---------------+-----------------+---------------------------+-----------------+---------------------------+-------------+-------------------+------------------+-------------------+-------------+-------------+---------------+---------------------------+------------------------+----+-----+\n",
            "|         200507|     ATA Airlines|                         TZ|     ATA Airlines|                         TZ|     Domestic|                 US|          Deplaned|           Low Fare|   Terminal 1|            B|          27271|                   Deplaned|                   27271|2005| July|\n",
            "|         200507|     ATA Airlines|                         TZ|     ATA Airlines|                         TZ|     Domestic|                 US|          Enplaned|           Low Fare|   Terminal 1|            B|          29131|                   Enplaned|                   29131|2005| July|\n",
            "|         200507|     ATA Airlines|                         TZ|     ATA Airlines|                         TZ|     Domestic|                 US|    Thru / Transit|           Low Fare|   Terminal 1|            B|           5415|         Thru / Transit * 2|                   10830|2005| July|\n",
            "|         200507|      Air Canada |                         AC|      Air Canada |                         AC|International|             Canada|          Deplaned|              Other|   Terminal 1|            B|          35156|                   Deplaned|                   35156|2005| July|\n",
            "|         200507|      Air Canada |                         AC|      Air Canada |                         AC|International|             Canada|          Enplaned|              Other|   Terminal 1|            B|          34090|                   Enplaned|                   34090|2005| July|\n",
            "|         200507|        Air China|                         CA|        Air China|                         CA|International|               Asia|          Deplaned|              Other|International|            G|           6263|                   Deplaned|                    6263|2005| July|\n",
            "|         200507|        Air China|                         CA|        Air China|                         CA|International|               Asia|          Enplaned|              Other|International|            G|           5500|                   Enplaned|                    5500|2005| July|\n",
            "|         200507|       Air France|                         AF|       Air France|                         AF|International|             Europe|          Deplaned|              Other|International|            A|          12050|                   Deplaned|                   12050|2005| July|\n",
            "|         200507|       Air France|                         AF|       Air France|                         AF|International|             Europe|          Enplaned|              Other|International|            A|          11638|                   Enplaned|                   11638|2005| July|\n",
            "|         200507|  Air New Zealand|                         NZ|  Air New Zealand|                         NZ|International|Australia / Oceania|          Deplaned|              Other|International|            G|           4998|                   Deplaned|                    4998|2005| July|\n",
            "|         200507|  Air New Zealand|                         NZ|  Air New Zealand|                         NZ|International|Australia / Oceania|          Enplaned|              Other|International|            G|           4962|                   Enplaned|                    4962|2005| July|\n",
            "|         200507|  AirTran Airways|                         FL|  AirTran Airways|                         FL|     Domestic|                 US|          Deplaned|           Low Fare|International|            A|           8055|                   Deplaned|                    8055|2005| July|\n",
            "|         200507|  AirTran Airways|                         FL|  AirTran Airways|                         FL|     Domestic|                 US|          Enplaned|           Low Fare|International|            A|           7984|                   Enplaned|                    7984|2005| July|\n",
            "|         200507|  Alaska Airlines|                         AS|  Alaska Airlines|                         AS|     Domestic|                 US|          Deplaned|              Other|International|            A|          36641|                   Deplaned|                   36641|2005| July|\n",
            "|         200507|  Alaska Airlines|                         AS|  Alaska Airlines|                         AS|     Domestic|                 US|          Enplaned|              Other|International|            A|          39379|                   Enplaned|                   39379|2005| July|\n",
            "|         200507|  Alaska Airlines|                         AS|  Alaska Airlines|                         AS|     Domestic|                 US|    Thru / Transit|              Other|International|            A|           3678|         Thru / Transit * 2|                    7356|2005| July|\n",
            "|         200507|  Alaska Airlines|                         AS|  Alaska Airlines|                         AS|International|             Canada|          Deplaned|              Other|International|            A|           7977|                   Deplaned|                    7977|2005| July|\n",
            "|         200507|  Alaska Airlines|                         AS|  Alaska Airlines|                         AS|International|             Canada|          Enplaned|              Other|International|            A|           8837|                   Enplaned|                    8837|2005| July|\n",
            "|         200507|  Alaska Airlines|                         AS|  Alaska Airlines|                         AS|International|             Mexico|          Deplaned|              Other|International|            A|           6969|                   Deplaned|                    6969|2005| July|\n",
            "|         200507|  Alaska Airlines|                         AS|  Alaska Airlines|                         AS|International|             Mexico|          Enplaned|              Other|International|            A|          10046|                   Enplaned|                   10046|2005| July|\n",
            "+---------------+-----------------+---------------------------+-----------------+---------------------------+-------------+-------------------+------------------+-------------------+-------------+-------------+---------------+---------------------------+------------------------+----+-----+\n",
            "only showing top 20 rows\n",
            "\n"
          ]
        }
      ]
    },
    {
      "cell_type": "markdown",
      "source": [
        "*COPIAMOS EL ARCHIVO Y LE ASIGNAMOS OTRO NOMBRE PARA HACER OTRAS TRANSFORMACIONES MÁS ADELANTE"
      ],
      "metadata": {
        "id": "GJOqvED2vH5x"
      }
    },
    {
      "cell_type": "code",
      "source": [
        "df2=df"
      ],
      "metadata": {
        "id": "_wsQoaDdeIb3"
      },
      "execution_count": 9,
      "outputs": []
    },
    {
      "cell_type": "code",
      "source": [
        "df2.show()"
      ],
      "metadata": {
        "id": "brIHNVCMFHY6",
        "colab": {
          "base_uri": "https://localhost:8080/"
        },
        "outputId": "50a6728c-5945-4c43-a027-ab5ff2be5b05"
      },
      "execution_count": 10,
      "outputs": [
        {
          "output_type": "stream",
          "name": "stdout",
          "text": [
            "+---------------+-----------------+---------------------------+-----------------+---------------------------+-------------+-------------------+------------------+-------------------+-------------+-------------+---------------+---------------------------+------------------------+----+-----+\n",
            "|Activity Period|Operating Airline|Operating Airline IATA Code|Published Airline|Published Airline IATA Code|  GEO Summary|         GEO Region|Activity Type Code|Price Category Code|     Terminal|Boarding Area|Passenger Count|Adjusted Activity Type Code|Adjusted Passenger Count|Year|Month|\n",
            "+---------------+-----------------+---------------------------+-----------------+---------------------------+-------------+-------------------+------------------+-------------------+-------------+-------------+---------------+---------------------------+------------------------+----+-----+\n",
            "|         200507|     ATA Airlines|                         TZ|     ATA Airlines|                         TZ|     Domestic|                 US|          Deplaned|           Low Fare|   Terminal 1|            B|          27271|                   Deplaned|                   27271|2005| July|\n",
            "|         200507|     ATA Airlines|                         TZ|     ATA Airlines|                         TZ|     Domestic|                 US|          Enplaned|           Low Fare|   Terminal 1|            B|          29131|                   Enplaned|                   29131|2005| July|\n",
            "|         200507|     ATA Airlines|                         TZ|     ATA Airlines|                         TZ|     Domestic|                 US|    Thru / Transit|           Low Fare|   Terminal 1|            B|           5415|         Thru / Transit * 2|                   10830|2005| July|\n",
            "|         200507|      Air Canada |                         AC|      Air Canada |                         AC|International|             Canada|          Deplaned|              Other|   Terminal 1|            B|          35156|                   Deplaned|                   35156|2005| July|\n",
            "|         200507|      Air Canada |                         AC|      Air Canada |                         AC|International|             Canada|          Enplaned|              Other|   Terminal 1|            B|          34090|                   Enplaned|                   34090|2005| July|\n",
            "|         200507|        Air China|                         CA|        Air China|                         CA|International|               Asia|          Deplaned|              Other|International|            G|           6263|                   Deplaned|                    6263|2005| July|\n",
            "|         200507|        Air China|                         CA|        Air China|                         CA|International|               Asia|          Enplaned|              Other|International|            G|           5500|                   Enplaned|                    5500|2005| July|\n",
            "|         200507|       Air France|                         AF|       Air France|                         AF|International|             Europe|          Deplaned|              Other|International|            A|          12050|                   Deplaned|                   12050|2005| July|\n",
            "|         200507|       Air France|                         AF|       Air France|                         AF|International|             Europe|          Enplaned|              Other|International|            A|          11638|                   Enplaned|                   11638|2005| July|\n",
            "|         200507|  Air New Zealand|                         NZ|  Air New Zealand|                         NZ|International|Australia / Oceania|          Deplaned|              Other|International|            G|           4998|                   Deplaned|                    4998|2005| July|\n",
            "|         200507|  Air New Zealand|                         NZ|  Air New Zealand|                         NZ|International|Australia / Oceania|          Enplaned|              Other|International|            G|           4962|                   Enplaned|                    4962|2005| July|\n",
            "|         200507|  AirTran Airways|                         FL|  AirTran Airways|                         FL|     Domestic|                 US|          Deplaned|           Low Fare|International|            A|           8055|                   Deplaned|                    8055|2005| July|\n",
            "|         200507|  AirTran Airways|                         FL|  AirTran Airways|                         FL|     Domestic|                 US|          Enplaned|           Low Fare|International|            A|           7984|                   Enplaned|                    7984|2005| July|\n",
            "|         200507|  Alaska Airlines|                         AS|  Alaska Airlines|                         AS|     Domestic|                 US|          Deplaned|              Other|International|            A|          36641|                   Deplaned|                   36641|2005| July|\n",
            "|         200507|  Alaska Airlines|                         AS|  Alaska Airlines|                         AS|     Domestic|                 US|          Enplaned|              Other|International|            A|          39379|                   Enplaned|                   39379|2005| July|\n",
            "|         200507|  Alaska Airlines|                         AS|  Alaska Airlines|                         AS|     Domestic|                 US|    Thru / Transit|              Other|International|            A|           3678|         Thru / Transit * 2|                    7356|2005| July|\n",
            "|         200507|  Alaska Airlines|                         AS|  Alaska Airlines|                         AS|International|             Canada|          Deplaned|              Other|International|            A|           7977|                   Deplaned|                    7977|2005| July|\n",
            "|         200507|  Alaska Airlines|                         AS|  Alaska Airlines|                         AS|International|             Canada|          Enplaned|              Other|International|            A|           8837|                   Enplaned|                    8837|2005| July|\n",
            "|         200507|  Alaska Airlines|                         AS|  Alaska Airlines|                         AS|International|             Mexico|          Deplaned|              Other|International|            A|           6969|                   Deplaned|                    6969|2005| July|\n",
            "|         200507|  Alaska Airlines|                         AS|  Alaska Airlines|                         AS|International|             Mexico|          Enplaned|              Other|International|            A|          10046|                   Enplaned|                   10046|2005| July|\n",
            "+---------------+-----------------+---------------------------+-----------------+---------------------------+-------------+-------------------+------------------+-------------------+-------------+-------------+---------------+---------------------------+------------------------+----+-----+\n",
            "only showing top 20 rows\n",
            "\n"
          ]
        }
      ]
    },
    {
      "cell_type": "code",
      "source": [
        "df.count()"
      ],
      "metadata": {
        "id": "H2yKsOMcGtLD",
        "colab": {
          "base_uri": "https://localhost:8080/"
        },
        "outputId": "0175f46b-4c3c-44ae-ad7e-03449acc391b"
      },
      "execution_count": 11,
      "outputs": [
        {
          "output_type": "execute_result",
          "data": {
            "text/plain": [
              "15007"
            ]
          },
          "metadata": {},
          "execution_count": 11
        }
      ]
    },
    {
      "cell_type": "code",
      "source": [
        "df1=df.where(col(\"GEO Region\").isNotNull())"
      ],
      "metadata": {
        "id": "FU0QdzWzHFLw"
      },
      "execution_count": 12,
      "outputs": []
    },
    {
      "cell_type": "code",
      "source": [
        "df1.count()"
      ],
      "metadata": {
        "id": "X97MjE6YHzvV",
        "colab": {
          "base_uri": "https://localhost:8080/"
        },
        "outputId": "daf28bf7-2d9f-4f0e-8854-94f77128d545"
      },
      "execution_count": 13,
      "outputs": [
        {
          "output_type": "execute_result",
          "data": {
            "text/plain": [
              "15007"
            ]
          },
          "metadata": {},
          "execution_count": 13
        }
      ]
    },
    {
      "cell_type": "markdown",
      "source": [
        "*QUITAMOS ALGUNAS DE LAS COLUMNAS QUE NO NECESITAMOS PARA NUESTRO ANÁLISIS"
      ],
      "metadata": {
        "id": "WG9CaUdo_Pwd"
      }
    },
    {
      "cell_type": "code",
      "source": [
        "df = df.drop(\"Published Airline IATA Code\",\"Published airline\",\"Activity Type Code\",\"Price Category Code\",\"Terminal\",\"Boarding Area\",\"Adjusted Activity Type Code\")\n"
      ],
      "metadata": {
        "id": "UPxYTCRk6QO7"
      },
      "execution_count": 14,
      "outputs": []
    },
    {
      "cell_type": "code",
      "source": [
        "df.show()"
      ],
      "metadata": {
        "id": "1M_FAxXY_AEJ",
        "colab": {
          "base_uri": "https://localhost:8080/"
        },
        "outputId": "756fc627-1982-466e-a99e-dd0e5d14e58b"
      },
      "execution_count": 15,
      "outputs": [
        {
          "output_type": "stream",
          "name": "stdout",
          "text": [
            "+---------------+-----------------+---------------------------+-------------+-------------------+---------------+------------------------+----+-----+\n",
            "|Activity Period|Operating Airline|Operating Airline IATA Code|  GEO Summary|         GEO Region|Passenger Count|Adjusted Passenger Count|Year|Month|\n",
            "+---------------+-----------------+---------------------------+-------------+-------------------+---------------+------------------------+----+-----+\n",
            "|         200507|     ATA Airlines|                         TZ|     Domestic|                 US|          27271|                   27271|2005| July|\n",
            "|         200507|     ATA Airlines|                         TZ|     Domestic|                 US|          29131|                   29131|2005| July|\n",
            "|         200507|     ATA Airlines|                         TZ|     Domestic|                 US|           5415|                   10830|2005| July|\n",
            "|         200507|      Air Canada |                         AC|International|             Canada|          35156|                   35156|2005| July|\n",
            "|         200507|      Air Canada |                         AC|International|             Canada|          34090|                   34090|2005| July|\n",
            "|         200507|        Air China|                         CA|International|               Asia|           6263|                    6263|2005| July|\n",
            "|         200507|        Air China|                         CA|International|               Asia|           5500|                    5500|2005| July|\n",
            "|         200507|       Air France|                         AF|International|             Europe|          12050|                   12050|2005| July|\n",
            "|         200507|       Air France|                         AF|International|             Europe|          11638|                   11638|2005| July|\n",
            "|         200507|  Air New Zealand|                         NZ|International|Australia / Oceania|           4998|                    4998|2005| July|\n",
            "|         200507|  Air New Zealand|                         NZ|International|Australia / Oceania|           4962|                    4962|2005| July|\n",
            "|         200507|  AirTran Airways|                         FL|     Domestic|                 US|           8055|                    8055|2005| July|\n",
            "|         200507|  AirTran Airways|                         FL|     Domestic|                 US|           7984|                    7984|2005| July|\n",
            "|         200507|  Alaska Airlines|                         AS|     Domestic|                 US|          36641|                   36641|2005| July|\n",
            "|         200507|  Alaska Airlines|                         AS|     Domestic|                 US|          39379|                   39379|2005| July|\n",
            "|         200507|  Alaska Airlines|                         AS|     Domestic|                 US|           3678|                    7356|2005| July|\n",
            "|         200507|  Alaska Airlines|                         AS|International|             Canada|           7977|                    7977|2005| July|\n",
            "|         200507|  Alaska Airlines|                         AS|International|             Canada|           8837|                    8837|2005| July|\n",
            "|         200507|  Alaska Airlines|                         AS|International|             Mexico|           6969|                    6969|2005| July|\n",
            "|         200507|  Alaska Airlines|                         AS|International|             Mexico|          10046|                   10046|2005| July|\n",
            "+---------------+-----------------+---------------------------+-------------+-------------------+---------------+------------------------+----+-----+\n",
            "only showing top 20 rows\n",
            "\n"
          ]
        }
      ]
    },
    {
      "cell_type": "code",
      "source": [
        "df.dtypes\n"
      ],
      "metadata": {
        "id": "9_Lp5OIpPUlr",
        "colab": {
          "base_uri": "https://localhost:8080/"
        },
        "outputId": "51a1bbae-8bf0-4398-e140-db9877ffc840"
      },
      "execution_count": 16,
      "outputs": [
        {
          "output_type": "execute_result",
          "data": {
            "text/plain": [
              "[('Activity Period', 'string'),\n",
              " ('Operating Airline', 'string'),\n",
              " ('Operating Airline IATA Code', 'string'),\n",
              " ('GEO Summary', 'string'),\n",
              " ('GEO Region', 'string'),\n",
              " ('Passenger Count', 'string'),\n",
              " ('Adjusted Passenger Count', 'string'),\n",
              " ('Year', 'string'),\n",
              " ('Month', 'string')]"
            ]
          },
          "metadata": {},
          "execution_count": 16
        }
      ]
    },
    {
      "cell_type": "markdown",
      "source": [
        "*CONVERTIMOS ALGUNAS COLUMNAS DE TIPO STRING A NÚMERICAS PARA PODER HACER OPERACIONES CON ELLAS"
      ],
      "metadata": {
        "id": "JXROqtjK_jTW"
      }
    },
    {
      "cell_type": "code",
      "source": [
        "df=df.withColumn(\"Year\",df[\"Year\"].cast(\"int\"))"
      ],
      "metadata": {
        "id": "kHlgW_RwCD04"
      },
      "execution_count": 17,
      "outputs": []
    },
    {
      "cell_type": "code",
      "source": [
        "df=df.withColumn(\"Passenger Count\",df[\"Passenger Count\"].cast(\"int\"))"
      ],
      "metadata": {
        "id": "QHpKmY1rFzvu"
      },
      "execution_count": 18,
      "outputs": []
    },
    {
      "cell_type": "code",
      "source": [
        "df=df.withColumn(\"Adjusted Passenger Count\",df[\"Adjusted Passenger Count\"].cast(\"int\"))"
      ],
      "metadata": {
        "id": "bqX_VEmjRFZU"
      },
      "execution_count": 19,
      "outputs": []
    },
    {
      "cell_type": "code",
      "source": [
        "df.printSchema()"
      ],
      "metadata": {
        "id": "3d5kmdQcC2WM",
        "colab": {
          "base_uri": "https://localhost:8080/"
        },
        "outputId": "80b942fd-3763-4112-f5d6-bcd21947e856"
      },
      "execution_count": 20,
      "outputs": [
        {
          "output_type": "stream",
          "name": "stdout",
          "text": [
            "root\n",
            " |-- Activity Period: string (nullable = true)\n",
            " |-- Operating Airline: string (nullable = true)\n",
            " |-- Operating Airline IATA Code: string (nullable = true)\n",
            " |-- GEO Summary: string (nullable = true)\n",
            " |-- GEO Region: string (nullable = true)\n",
            " |-- Passenger Count: integer (nullable = true)\n",
            " |-- Adjusted Passenger Count: integer (nullable = true)\n",
            " |-- Year: integer (nullable = true)\n",
            " |-- Month: string (nullable = true)\n",
            "\n"
          ]
        }
      ]
    },
    {
      "cell_type": "markdown",
      "source": [
        "**3.2¿CUÁNTAS COMPAÑÍAS DIFERENTES APARECEN EN EL FICHERO?**"
      ],
      "metadata": {
        "id": "QAibm38Eihpd"
      }
    },
    {
      "cell_type": "code",
      "source": [
        "from pyspark.sql import SparkSession"
      ],
      "metadata": {
        "id": "Ndz_3pvPrTc8"
      },
      "execution_count": 21,
      "outputs": []
    },
    {
      "cell_type": "code",
      "source": [
        "from pyspark.sql.functions import count_distinct"
      ],
      "metadata": {
        "id": "ghbY3FVkWGFW"
      },
      "execution_count": 22,
      "outputs": []
    },
    {
      "cell_type": "code",
      "source": [
        "spark=SparkSession.builder.appName(\"DistinctCountExample\").getOrCreate()"
      ],
      "metadata": {
        "id": "EgsphvLQcAZ5"
      },
      "execution_count": 23,
      "outputs": []
    },
    {
      "cell_type": "markdown",
      "source": [
        "*EL RESULTADO SEGÚN NUESTRA CONSULTA ES:77 COMPAÑIAS AEREAS"
      ],
      "metadata": {
        "id": "89UZqZ0PAZrc"
      }
    },
    {
      "cell_type": "code",
      "source": [
        "distinct_companies_count=df.select(count_distinct(\"Operating Airline\")).show()"
      ],
      "metadata": {
        "id": "A4t9Qx1DGPMH",
        "colab": {
          "base_uri": "https://localhost:8080/"
        },
        "outputId": "cca38ca9-62cf-4b96-b0b7-382214bb6192"
      },
      "execution_count": 24,
      "outputs": [
        {
          "output_type": "stream",
          "name": "stdout",
          "text": [
            "+---------------------------------+\n",
            "|count(DISTINCT Operating Airline)|\n",
            "+---------------------------------+\n",
            "|                               77|\n",
            "+---------------------------------+\n",
            "\n"
          ]
        }
      ]
    },
    {
      "cell_type": "markdown",
      "source": [
        "*TENEMOS 9 REGIONES DIFERENTES DONDE DICHAS COMPAÑIAS OPERAN EN EL MARCO GEO REGION"
      ],
      "metadata": {
        "id": "F-cVKwq2Arv0"
      }
    },
    {
      "cell_type": "code",
      "source": [
        "df.select(\"GEO Region\").distinct().count()"
      ],
      "metadata": {
        "id": "It58IRO9ZA52",
        "colab": {
          "base_uri": "https://localhost:8080/"
        },
        "outputId": "d4166c14-3848-4563-fcbb-65e9abfae6f1"
      },
      "execution_count": 25,
      "outputs": [
        {
          "output_type": "execute_result",
          "data": {
            "text/plain": [
              "9"
            ]
          },
          "metadata": {},
          "execution_count": 25
        }
      ]
    },
    {
      "cell_type": "markdown",
      "source": [
        "*HE DESCUBIERTO LA FUNCIÓN DESCRIBE QUE ME INDICA UN RESUMEN DE LAS PRINCIPALES OPERACIONES A REALIZAR"
      ],
      "metadata": {
        "id": "QlimmSWoA5D1"
      }
    },
    {
      "cell_type": "code",
      "source": [
        "df.describe().show()"
      ],
      "metadata": {
        "id": "0PLgkv9bfUdQ",
        "colab": {
          "base_uri": "https://localhost:8080/"
        },
        "outputId": "92749fc5-d0fb-4271-fd72-9abc6cb2345c"
      },
      "execution_count": 26,
      "outputs": [
        {
          "output_type": "stream",
          "name": "stdout",
          "text": [
            "+-------+------------------+-----------------+---------------------------+-------------+----------+------------------+------------------------+-----------------+---------+\n",
            "|summary|   Activity Period|Operating Airline|Operating Airline IATA Code|  GEO Summary|GEO Region|   Passenger Count|Adjusted Passenger Count|             Year|    Month|\n",
            "+-------+------------------+-----------------+---------------------------+-------------+----------+------------------+------------------------+-----------------+---------+\n",
            "|  count|             15007|            15007|                      14953|        15007|     15007|             15007|                   15007|            15007|    15007|\n",
            "|   mean|201045.07336576266|             null|                       null|         null|      null|29240.521090157927|      29331.917105350836|2010.385220230559|     null|\n",
            "| stddev|313.33619609986414|             null|                       null|         null|      null|58319.509284123524|        58284.1822186625|3.137589043169972|     null|\n",
            "|    min|            200507|     ATA Airlines|                         4T|     Domestic|      Asia|                 1|                       1|             2005|    April|\n",
            "|    max|            201603|     Xtra Airways|                         YX|International|        US|            659837|                  659837|             2016|September|\n",
            "+-------+------------------+-----------------+---------------------------+-------------+----------+------------------+------------------------+-----------------+---------+\n",
            "\n"
          ]
        }
      ]
    },
    {
      "cell_type": "markdown",
      "source": [
        "**3.3.¿CUÁNTOS PASAJEROS HAY DE MEDIA LOS VUELOS?**"
      ],
      "metadata": {
        "id": "3uQ7qY7NkRBC"
      }
    },
    {
      "cell_type": "code",
      "source": [
        "from pyspark.sql.functions import sum,count,avg,max"
      ],
      "metadata": {
        "id": "L1QP1qVOkhfu"
      },
      "execution_count": 27,
      "outputs": []
    },
    {
      "cell_type": "code",
      "source": [
        "df.select(avg(\"Passenger Count\")).show()"
      ],
      "metadata": {
        "id": "bbr02AWIkuqX",
        "colab": {
          "base_uri": "https://localhost:8080/"
        },
        "outputId": "0edb306d-91af-4763-a403-ffe2b74179a3"
      },
      "execution_count": 28,
      "outputs": [
        {
          "output_type": "stream",
          "name": "stdout",
          "text": [
            "+--------------------+\n",
            "|avg(Passenger Count)|\n",
            "+--------------------+\n",
            "|  29240.521090157927|\n",
            "+--------------------+\n",
            "\n"
          ]
        }
      ]
    },
    {
      "cell_type": "code",
      "source": [
        "df.select(avg(\"Adjusted Passenger Count\")).show()"
      ],
      "metadata": {
        "id": "rTZAFMNUCdVT",
        "colab": {
          "base_uri": "https://localhost:8080/"
        },
        "outputId": "c36693f1-d033-47c1-cfe6-de49eea424dc"
      },
      "execution_count": 29,
      "outputs": [
        {
          "output_type": "stream",
          "name": "stdout",
          "text": [
            "+-----------------------------+\n",
            "|avg(Adjusted Passenger Count)|\n",
            "+-----------------------------+\n",
            "|           29331.917105350836|\n",
            "+-----------------------------+\n",
            "\n"
          ]
        }
      ]
    },
    {
      "cell_type": "markdown",
      "source": [
        "**3.3¿CUÁNTOS PASAJEROS TIENEN DE MEDIA LOS VUELOS DE CADA COMPAÑIA?**"
      ],
      "metadata": {
        "id": "8QeIp6EIntpl"
      }
    },
    {
      "cell_type": "code",
      "source": [
        "MediaCompania=df.groupBy(\"Operating Airline\").agg({\"Passenger Count\":\"avg\",\"Adjusted Passenger Count\":\"avg\"})"
      ],
      "metadata": {
        "id": "PsAC4zNolcw9"
      },
      "execution_count": 30,
      "outputs": []
    },
    {
      "cell_type": "code",
      "source": [
        "MediaCompania.write.mode(\"overwrite\").csv(\"resultados media compañia.csv\",header=True)"
      ],
      "metadata": {
        "id": "3diTzL1gPM4W"
      },
      "execution_count": 31,
      "outputs": []
    },
    {
      "cell_type": "markdown",
      "source": [
        "*CALCULAMOS LA MEDIA DE PASAJEROS POR REGIÓN"
      ],
      "metadata": {
        "id": "MpzKW8uwweQ6"
      }
    },
    {
      "cell_type": "code",
      "source": [
        "df.groupBy(\"GEO Region\").agg({\"Passenger Count\":\"avg\"}).show()"
      ],
      "metadata": {
        "id": "x2uzJqm4Jv_-",
        "colab": {
          "base_uri": "https://localhost:8080/"
        },
        "outputId": "09db5b96-2297-4252-85ad-5b1a893e1ee2"
      },
      "execution_count": 32,
      "outputs": [
        {
          "output_type": "stream",
          "name": "stdout",
          "text": [
            "+-------------------+--------------------+\n",
            "|         GEO Region|avg(Passenger Count)|\n",
            "+-------------------+--------------------+\n",
            "|             Europe|  12755.652465294399|\n",
            "|    Central America|   4946.715328467153|\n",
            "|                 US|   58330.34345351044|\n",
            "|      South America|   2786.011111111111|\n",
            "|             Mexico|    7173.62062780269|\n",
            "|        Middle East|    8658.61214953271|\n",
            "|             Canada|     9777.9682651622|\n",
            "|Australia / Oceania|   6417.016282225238|\n",
            "|               Asia|   13435.00458295142|\n",
            "+-------------------+--------------------+\n",
            "\n"
          ]
        }
      ]
    },
    {
      "cell_type": "code",
      "source": [
        "MediaRegion=df.groupBy(\"GEO Region\").agg({\"Passenger Count\":\"avg\"})"
      ],
      "metadata": {
        "id": "OVyPIlsL1g6G"
      },
      "execution_count": 33,
      "outputs": []
    },
    {
      "cell_type": "code",
      "source": [
        "MediaRegion.write.mode(\"overwrite\").csv(\"resultados media region.csv\",header=True)"
      ],
      "metadata": {
        "id": "AYSjY1YWTQ5m"
      },
      "execution_count": 34,
      "outputs": []
    },
    {
      "cell_type": "markdown",
      "source": [
        "*CALCULAMOS LA MEDIA POR COMPANIA AÉREA"
      ],
      "metadata": {
        "id": "jev1lZVKwuQ7"
      }
    },
    {
      "cell_type": "code",
      "source": [
        "MediaCompania=df.groupBy(\"Operating Airline\").agg({\"Passenger Count\":\"avg\"}).show()"
      ],
      "metadata": {
        "id": "AwHuPTI4DirF",
        "colab": {
          "base_uri": "https://localhost:8080/"
        },
        "outputId": "31bf0f70-31d7-40d6-ac5a-4afe87bf1e62"
      },
      "execution_count": 35,
      "outputs": [
        {
          "output_type": "stream",
          "name": "stdout",
          "text": [
            "+--------------------+--------------------+\n",
            "|   Operating Airline|avg(Passenger Count)|\n",
            "+--------------------+--------------------+\n",
            "|          Icelandair|              2799.7|\n",
            "|         Ameriflight|                 5.0|\n",
            "|      Cathay Pacific|  17121.325581395347|\n",
            "|          Aeromexico|   5463.822222222222|\n",
            "|      Etihad Airways|   6476.088235294118|\n",
            "| Philippine Airlines|  10248.635658914729|\n",
            "|United Airlines -...|   48915.46750232126|\n",
            "|    Turkish Airlines|   8162.416666666667|\n",
            "| Swiss International|   6061.640287769784|\n",
            "|    Independence Air|              6391.3|\n",
            "|Miami Air Interna...|             107.375|\n",
            "|          Air France|  11589.077519379845|\n",
            "|      Japan Airlines|   6470.332046332046|\n",
            "|    Midwest Airlines|              3883.0|\n",
            "|      Atlas Air, Inc|                34.0|\n",
            "|    JetBlue Airways |   35261.13963963964|\n",
            "|       China Eastern|   5498.402777777777|\n",
            "|   Mexicana Airlines|   7993.806451612903|\n",
            "|         Air Canada |  18251.560109289618|\n",
            "|       Allegiant Air|           1516.8125|\n",
            "+--------------------+--------------------+\n",
            "only showing top 20 rows\n",
            "\n"
          ]
        }
      ]
    },
    {
      "cell_type": "markdown",
      "source": [
        " **3.4 ELIMINAMOS LOS REGISTROS DUPLICADOS POR EL CAMPO \"GEO REGION\", MANTENIENDO ÚNICAMENTE AQUEL CON MAYOR NÚMERO DE PASAJEROS**"
      ],
      "metadata": {
        "id": "MX3cYH-Mlo6C"
      }
    },
    {
      "cell_type": "code",
      "source": [
        "df.dropDuplicates([\"GEO Region\"]).select(\"GEO Region\").show()"
      ],
      "metadata": {
        "id": "A4VfWIt5l411",
        "colab": {
          "base_uri": "https://localhost:8080/"
        },
        "outputId": "75c3e34e-9a09-4b39-8118-559e10979185"
      },
      "execution_count": 36,
      "outputs": [
        {
          "output_type": "stream",
          "name": "stdout",
          "text": [
            "+-------------------+\n",
            "|         GEO Region|\n",
            "+-------------------+\n",
            "|             Europe|\n",
            "|    Central America|\n",
            "|                 US|\n",
            "|      South America|\n",
            "|             Mexico|\n",
            "|        Middle East|\n",
            "|             Canada|\n",
            "|Australia / Oceania|\n",
            "|               Asia|\n",
            "+-------------------+\n",
            "\n"
          ]
        }
      ]
    },
    {
      "cell_type": "code",
      "source": [
        "maximo=df.groupBy('GEO Region').agg({\"Passenger Count\":\"max\"}).alias(\"maximo\")"
      ],
      "metadata": {
        "id": "EcuYlrwDB4Gx"
      },
      "execution_count": 37,
      "outputs": []
    },
    {
      "cell_type": "markdown",
      "source": [
        "*AVERIGUAMOS LA FUNCIÓN\"col.COLUMNS\" PARA SABER EXACTAMENTE EL NOMBRE DE LA COLUMNA MAXIMO"
      ],
      "metadata": {
        "id": "TjLqjUpWEGTc"
      }
    },
    {
      "cell_type": "code",
      "source": [
        "maximo.columns"
      ],
      "metadata": {
        "id": "DGONkrCfMvia",
        "colab": {
          "base_uri": "https://localhost:8080/"
        },
        "outputId": "09431643-3551-4067-db5a-7799061dc6e6"
      },
      "execution_count": 38,
      "outputs": [
        {
          "output_type": "execute_result",
          "data": {
            "text/plain": [
              "['GEO Region', 'max(Passenger Count)']"
            ]
          },
          "metadata": {},
          "execution_count": 38
        }
      ]
    },
    {
      "cell_type": "code",
      "source": [
        "from pyspark.sql.functions import desc"
      ],
      "metadata": {
        "id": "q6rnS6Ka41Cj"
      },
      "execution_count": 39,
      "outputs": []
    },
    {
      "cell_type": "markdown",
      "source": [
        "*GUARDAMOS LA COLUMNA CON MAYOR NUMERO DE PASAJEROS ORDENANDO LA CONSULTA DE MAYOR A MENOR LIMITANDOLA A 1 PARA GUARDARLA EN UN NUEVO CSV"
      ],
      "metadata": {
        "id": "8UoiMl3vIq1a"
      }
    },
    {
      "cell_type": "code",
      "source": [
        "maximo.orderBy(desc(\"max(Passenger Count)\")).limit(1).write.mode(\"overwrite\").csv(\"maximo pasajeros por region.csv\",header=True)"
      ],
      "metadata": {
        "id": "8Y7NWL_v35bk"
      },
      "execution_count": 40,
      "outputs": []
    },
    {
      "cell_type": "markdown",
      "source": [
        "*OTRA FORMA DE ELIMINAR DUPLICADOS"
      ],
      "metadata": {
        "id": "w1gDSQR1JKhI"
      }
    },
    {
      "cell_type": "code",
      "source": [
        "dropDisDF=df.dropDuplicates([\"GEO Region\"])"
      ],
      "metadata": {
        "id": "aWmDA8Pqjozm"
      },
      "execution_count": 41,
      "outputs": []
    },
    {
      "cell_type": "code",
      "source": [
        "df.dropDuplicates().show()"
      ],
      "metadata": {
        "id": "DlVfQ8uTk5h3",
        "colab": {
          "base_uri": "https://localhost:8080/"
        },
        "outputId": "8ef0e54e-8f72-4a91-f524-aac46b1c898e"
      },
      "execution_count": 42,
      "outputs": [
        {
          "output_type": "stream",
          "name": "stdout",
          "text": [
            "+---------------+--------------------+---------------------------+-------------+----------+---------------+------------------------+----+---------+\n",
            "|Activity Period|   Operating Airline|Operating Airline IATA Code|  GEO Summary|GEO Region|Passenger Count|Adjusted Passenger Count|Year|    Month|\n",
            "+---------------+--------------------+---------------------------+-------------+----------+---------------+------------------------+----+---------+\n",
            "|         200508|        ATA Airlines|                         TZ|     Domestic|        US|          26535|                   26535|2005|   August|\n",
            "|         200508|        ATA Airlines|                         TZ|     Domestic|        US|           5712|                   11424|2005|   August|\n",
            "|         200510|United Airlines -...|                         UA|International|    Europe|          27617|                   27617|2005|  October|\n",
            "|         200512|    SkyWest Airlines|                         OO|     Domestic|        US|          90500|                   90500|2005| December|\n",
            "|         200603|American Eagle Ai...|                         MQ|     Domestic|        US|           4432|                    4432|2006|    March|\n",
            "|         200604| Philippine Airlines|                         PR|International|      Asia|          13143|                   13143|2006|    April|\n",
            "|         200608|      China Airlines|                         CI|International|      Asia|          11965|                   11965|2006|   August|\n",
            "|         200701|           Air China|                         CA|International|      Asia|           4397|                    4397|2007|  January|\n",
            "|         200702|  Northwest Airlines|                         NW|     Domestic|        US|          36931|                   36931|2007| February|\n",
            "|         200703|     Alaska Airlines|                         AS|     Domestic|        US|          47844|                   47844|2007|    March|\n",
            "|         200704|    SkyWest Airlines|                         OO|     Domestic|        US|           5929|                    5929|2007|    April|\n",
            "|         200706|    Midwest Airlines|                         YX|     Domestic|        US|          10072|                   10072|2007|     June|\n",
            "|         200708|Lufthansa German ...|                         LH|International|    Europe|          18278|                   18278|2007|   August|\n",
            "|         200709|         Air Canada |                         AC|International|    Canada|          29614|                   29614|2007|September|\n",
            "|         200710|  Singapore Airlines|                         SQ|International|      Asia|          12962|                   12962|2007|  October|\n",
            "|         200802|     Alaska Airlines|                         AS|     Domestic|        US|          32165|                   32165|2008| February|\n",
            "|         200803|United Airlines -...|                         UA|International|      Asia|          78589|                   78589|2008|    March|\n",
            "|         200806|         Air Canada |                         AC|International|    Canada|          26682|                   26682|2008|     June|\n",
            "|         200807|Sun Country Airlines|                         SY|     Domestic|        US|           4596|                    4596|2008|     July|\n",
            "|         200808|     Virgin Atlantic|                         VS|International|    Europe|          10116|                   10116|2008|   August|\n",
            "+---------------+--------------------+---------------------------+-------------+----------+---------------+------------------------+----+---------+\n",
            "only showing top 20 rows\n",
            "\n"
          ]
        }
      ]
    },
    {
      "cell_type": "code",
      "source": [
        "print(\"Distinct count of GEO Region:\"+str(dropDisDF.count()))"
      ],
      "metadata": {
        "id": "1a8NPhyukCfb",
        "colab": {
          "base_uri": "https://localhost:8080/"
        },
        "outputId": "bcb551c9-d72d-4535-fcdd-25cc06189be1"
      },
      "execution_count": 43,
      "outputs": [
        {
          "output_type": "stream",
          "name": "stdout",
          "text": [
            "Distinct count of GEO Region:9\n"
          ]
        }
      ]
    },
    {
      "cell_type": "code",
      "source": [
        "distinctDF=df.distinct()"
      ],
      "metadata": {
        "id": "gsfQSAgQhT1T"
      },
      "execution_count": 44,
      "outputs": []
    },
    {
      "cell_type": "code",
      "source": [
        "print(\"Distinct count:\"+str(distinctDF.count()))"
      ],
      "metadata": {
        "id": "zYH3gJEQjHnh",
        "colab": {
          "base_uri": "https://localhost:8080/"
        },
        "outputId": "d7f205f5-61b2-41c2-b5ba-330cad4a4dc7"
      },
      "execution_count": 45,
      "outputs": [
        {
          "output_type": "stream",
          "name": "stdout",
          "text": [
            "Distinct count:14975\n"
          ]
        }
      ]
    },
    {
      "cell_type": "code",
      "source": [
        "distinctDF.show(truncate=False)"
      ],
      "metadata": {
        "id": "wCK9fGnmjcAp",
        "colab": {
          "base_uri": "https://localhost:8080/"
        },
        "outputId": "36230b06-332a-4394-a9ee-e32551f8740c"
      },
      "execution_count": 46,
      "outputs": [
        {
          "output_type": "stream",
          "name": "stdout",
          "text": [
            "+---------------+--------------------------------+---------------------------+-------------+----------+---------------+------------------------+----+---------+\n",
            "|Activity Period|Operating Airline               |Operating Airline IATA Code|GEO Summary  |GEO Region|Passenger Count|Adjusted Passenger Count|Year|Month    |\n",
            "+---------------+--------------------------------+---------------------------+-------------+----------+---------------+------------------------+----+---------+\n",
            "|200508         |ATA Airlines                    |TZ                         |Domestic     |US        |26535          |26535                   |2005|August   |\n",
            "|200508         |ATA Airlines                    |TZ                         |Domestic     |US        |5712           |11424                   |2005|August   |\n",
            "|200510         |United Airlines - Pre 07/01/2013|UA                         |International|Europe    |27617          |27617                   |2005|October  |\n",
            "|200512         |SkyWest Airlines                |OO                         |Domestic     |US        |90500          |90500                   |2005|December |\n",
            "|200603         |American Eagle Airlines         |MQ                         |Domestic     |US        |4432           |4432                    |2006|March    |\n",
            "|200604         |Philippine Airlines             |PR                         |International|Asia      |13143          |13143                   |2006|April    |\n",
            "|200608         |China Airlines                  |CI                         |International|Asia      |11965          |11965                   |2006|August   |\n",
            "|200701         |Air China                       |CA                         |International|Asia      |4397           |4397                    |2007|January  |\n",
            "|200702         |Northwest Airlines              |NW                         |Domestic     |US        |36931          |36931                   |2007|February |\n",
            "|200703         |Alaska Airlines                 |AS                         |Domestic     |US        |47844          |47844                   |2007|March    |\n",
            "|200704         |SkyWest Airlines                |OO                         |Domestic     |US        |5929           |5929                    |2007|April    |\n",
            "|200706         |Midwest Airlines                |YX                         |Domestic     |US        |10072          |10072                   |2007|June     |\n",
            "|200708         |Lufthansa German Airlines       |LH                         |International|Europe    |18278          |18278                   |2007|August   |\n",
            "|200709         |Air Canada                      |AC                         |International|Canada    |29614          |29614                   |2007|September|\n",
            "|200710         |Singapore Airlines              |SQ                         |International|Asia      |12962          |12962                   |2007|October  |\n",
            "|200802         |Alaska Airlines                 |AS                         |Domestic     |US        |32165          |32165                   |2008|February |\n",
            "|200803         |United Airlines - Pre 07/01/2013|UA                         |International|Asia      |78589          |78589                   |2008|March    |\n",
            "|200806         |Air Canada                      |AC                         |International|Canada    |26682          |26682                   |2008|June     |\n",
            "|200807         |Sun Country Airlines            |SY                         |Domestic     |US        |4596           |4596                    |2008|July     |\n",
            "|200808         |Virgin Atlantic                 |VS                         |International|Europe    |10116          |10116                   |2008|August   |\n",
            "+---------------+--------------------------------+---------------------------+-------------+----------+---------------+------------------------+----+---------+\n",
            "only showing top 20 rows\n",
            "\n"
          ]
        }
      ]
    },
    {
      "cell_type": "markdown",
      "source": [
        "**4. ANÁLISIS DESCRIPTIVO DE LOS DATOS**"
      ],
      "metadata": {
        "id": "xHIGdMAocjHD"
      }
    },
    {
      "cell_type": "markdown",
      "source": [
        "*VISUALIZAMOS LOS DIFERENTES TIPOS DE DATOS POR SI NECESITAMOS HACER MÁS CAMBIOS DE TIPO DE DATO"
      ],
      "metadata": {
        "id": "i8wgLwxKJqK6"
      }
    },
    {
      "cell_type": "code",
      "source": [
        "df.printSchema()"
      ],
      "metadata": {
        "id": "ussphVaJDCvN",
        "colab": {
          "base_uri": "https://localhost:8080/"
        },
        "outputId": "cba05c06-28eb-4f5e-dcb6-72a1be0c023f"
      },
      "execution_count": 47,
      "outputs": [
        {
          "output_type": "stream",
          "name": "stdout",
          "text": [
            "root\n",
            " |-- Activity Period: string (nullable = true)\n",
            " |-- Operating Airline: string (nullable = true)\n",
            " |-- Operating Airline IATA Code: string (nullable = true)\n",
            " |-- GEO Summary: string (nullable = true)\n",
            " |-- GEO Region: string (nullable = true)\n",
            " |-- Passenger Count: integer (nullable = true)\n",
            " |-- Adjusted Passenger Count: integer (nullable = true)\n",
            " |-- Year: integer (nullable = true)\n",
            " |-- Month: string (nullable = true)\n",
            "\n"
          ]
        }
      ]
    },
    {
      "cell_type": "markdown",
      "source": [
        "**CALCULAR LA MEDIA EN FUNCIÓN DE LOS DIFERENTES CAMPOS**"
      ],
      "metadata": {
        "id": "zd3XXuoKc1q_"
      }
    },
    {
      "cell_type": "code",
      "source": [
        "from pyspark.sql import SparkSession"
      ],
      "metadata": {
        "id": "0K-_1y_QcwP2"
      },
      "execution_count": 48,
      "outputs": []
    },
    {
      "cell_type": "code",
      "source": [
        "from pyspark.sql import functions as F"
      ],
      "metadata": {
        "id": "kzELX2jjnyaD"
      },
      "execution_count": 49,
      "outputs": []
    },
    {
      "cell_type": "code",
      "source": [
        "from pyspark.sql.functions import count,sum,avg,round,mean,asc"
      ],
      "metadata": {
        "id": "lubVdevkw-jO"
      },
      "execution_count": 50,
      "outputs": []
    },
    {
      "cell_type": "code",
      "source": [
        "mediaYear=df.groupBy(\"Year\").agg({\"Passenger Count\":\"mean\",\"Adjusted Passenger Count\":\"mean\"}).alias(\"Year\")"
      ],
      "metadata": {
        "id": "IBGJaB4KtOx9"
      },
      "execution_count": 51,
      "outputs": []
    },
    {
      "cell_type": "code",
      "source": [
        "mediaYear.columns"
      ],
      "metadata": {
        "id": "iEsZcNGXMe8C",
        "colab": {
          "base_uri": "https://localhost:8080/"
        },
        "outputId": "d1fc5097-da24-4c2c-a2a9-fd07dca3747a"
      },
      "execution_count": 52,
      "outputs": [
        {
          "output_type": "execute_result",
          "data": {
            "text/plain": [
              "['Year', 'avg(Passenger Count)', 'avg(Adjusted Passenger Count)']"
            ]
          },
          "metadata": {},
          "execution_count": 52
        }
      ]
    },
    {
      "cell_type": "code",
      "source": [
        "mediaYear.orderBy(asc(\"Year\")).show()"
      ],
      "metadata": {
        "id": "eI-FZNMKMjyS",
        "colab": {
          "base_uri": "https://localhost:8080/"
        },
        "outputId": "0023a276-a227-4c22-a726-2d7351d4723e"
      },
      "execution_count": 53,
      "outputs": [
        {
          "output_type": "stream",
          "name": "stdout",
          "text": [
            "+----+--------------------+-----------------------------+\n",
            "|Year|avg(Passenger Count)|avg(Adjusted Passenger Count)|\n",
            "+----+--------------------+-----------------------------+\n",
            "|2005|  24779.903597122302|           25002.343884892085|\n",
            "|2006|  24348.407596785975|            24529.88458728999|\n",
            "|2007|   25233.55713271824|           25401.585521646557|\n",
            "|2008|   25983.72505233775|           26100.866015352407|\n",
            "|2009|  26804.696338837042|            26887.03086862886|\n",
            "|2010|  28383.224150397687|           28482.454085321766|\n",
            "|2011|   29444.45035971223|            29529.08705035971|\n",
            "|2012|  32220.526124818578|           32276.639332365747|\n",
            "|2013|   33097.02503681885|            33145.62886597938|\n",
            "|2014|   34440.51973684211|           34470.102339181285|\n",
            "|2015|   34286.22397260274|             34292.5301369863|\n",
            "|2016|  30808.212938005392|           30811.854447439353|\n",
            "+----+--------------------+-----------------------------+\n",
            "\n"
          ]
        }
      ]
    },
    {
      "cell_type": "markdown",
      "source": [
        "*EL AÑO QUE MÁS PASAJEROS POR VUELOS HUBO FUE 2016. PODEMOS OBSERVAR QUE CADA AÑO LA TENDENCIA ES ASCENDENTE CON RESPETO AL ANTERIOR"
      ],
      "metadata": {
        "id": "UM9YcfFdPMoL"
      }
    },
    {
      "cell_type": "code",
      "source": [
        "mediaCompania=df.groupBy(\"Operating Airline\").agg({\"Passenger Count\":\"mean\",\"Adjusted Passenger Count\":\"mean\"}).alias(\"media Compania\")"
      ],
      "metadata": {
        "id": "b0rgNqnB-MhU"
      },
      "execution_count": 54,
      "outputs": []
    },
    {
      "cell_type": "code",
      "source": [
        "mediaCompania.orderBy(desc(\"avg(Passenger Count)\")).show()"
      ],
      "metadata": {
        "id": "Rtno95OfN-LK",
        "colab": {
          "base_uri": "https://localhost:8080/"
        },
        "outputId": "95c0f1e1-9d36-4951-dc77-20745023d249"
      },
      "execution_count": 55,
      "outputs": [
        {
          "output_type": "stream",
          "name": "stdout",
          "text": [
            "+--------------------+--------------------+-----------------------------+\n",
            "|   Operating Airline|avg(Passenger Count)|avg(Adjusted Passenger Count)|\n",
            "+--------------------+--------------------+-----------------------------+\n",
            "|   American Airlines|  127164.38970588235|           127164.38970588235|\n",
            "|  Southwest Airlines|   81188.15857605178|             81223.3495145631|\n",
            "|      Virgin America|   74405.35359116022|            74405.35359116022|\n",
            "|     United Airlines|   72732.05829596413|            72827.21973094171|\n",
            "|     Delta Air Lines|   68498.49740932643|            68515.41968911917|\n",
            "|          US Airways|   55317.81578947369|            55317.81578947369|\n",
            "|United Airlines -...|   48915.46750232126|            49365.51671309192|\n",
            "|    SkyWest Airlines|   37083.83904465213|             37083.8764278297|\n",
            "|    JetBlue Airways |   35261.13963963964|            35261.13963963964|\n",
            "|  Northwest Airlines|            26109.25|           26205.504166666666|\n",
            "|    Compass Airlines|   23358.55681818182|           23359.840909090908|\n",
            "|Lufthansa German ...|   19301.96511627907|            19301.96511627907|\n",
            "|         Air Canada |  18251.560109289618|           18251.560109289618|\n",
            "|   Frontier Airlines|  17787.676923076924|           17787.676923076924|\n",
            "|     British Airways|  17625.124031007752|           17625.124031007752|\n",
            "|     Alaska Airlines|  17251.637816245006|            17564.67776298269|\n",
            "|      Cathay Pacific|  17121.325581395347|           17121.325581395347|\n",
            "|  Singapore Airlines|  14746.647286821706|           14746.647286821706|\n",
            "|         EVA Airways|  13116.356589147286|           13116.356589147286|\n",
            "|          Air France|  11589.077519379845|           11589.077519379845|\n",
            "+--------------------+--------------------+-----------------------------+\n",
            "only showing top 20 rows\n",
            "\n"
          ]
        }
      ]
    },
    {
      "cell_type": "code",
      "source": [
        "mediaCompania.orderBy(asc(\"avg(Passenger Count)\")).show()"
      ],
      "metadata": {
        "id": "yPXRxhDVPkyN",
        "colab": {
          "base_uri": "https://localhost:8080/"
        },
        "outputId": "10db65de-5bda-41b8-8617-684fbb7cc1ef"
      },
      "execution_count": 56,
      "outputs": [
        {
          "output_type": "stream",
          "name": "stdout",
          "text": [
            "+--------------------+--------------------+-----------------------------+\n",
            "|   Operating Airline|avg(Passenger Count)|avg(Adjusted Passenger Count)|\n",
            "+--------------------+--------------------+-----------------------------+\n",
            "|Evergreen Interna...|                 2.0|                          2.0|\n",
            "|         Ameriflight|                 5.0|            5.363636363636363|\n",
            "|      Boeing Company|                18.0|                         18.0|\n",
            "|      Atlas Air, Inc|                34.0|                         35.5|\n",
            "|        Xtra Airways|                73.0|                         73.0|\n",
            "|           Servisair|   90.05555555555556|            90.05555555555556|\n",
            "|Miami Air Interna...|             107.375|                      107.375|\n",
            "|    Pacific Aviation|               160.0|                        160.0|\n",
            "|       Swissport USA|               258.6|                        264.8|\n",
            "|       World Airways|   261.6666666666667|            261.6666666666667|\n",
            "|     Air Canada Jazz|   294.2142857142857|            294.2142857142857|\n",
            "|     BelAir Airlines|   415.3636363636364|                        428.0|\n",
            "|       Allegiant Air|           1516.8125|                    1516.8125|\n",
            "|Atlantic Southeas...|   2176.909090909091|            2176.909090909091|\n",
            "|   XL Airways France|  2223.1612903225805|           2240.1290322580644|\n",
            "|          Air Berlin|             2320.75|                      2320.75|\n",
            "|   Republic Airlines|              2452.5|                       2452.5|\n",
            "|            LAN Peru|   2786.011111111111|            2786.011111111111|\n",
            "|          Icelandair|              2799.7|                       2799.7|\n",
            "|   Air India Limited|              2834.5|                       2834.5|\n",
            "+--------------------+--------------------+-----------------------------+\n",
            "only showing top 20 rows\n",
            "\n"
          ]
        }
      ]
    },
    {
      "cell_type": "markdown",
      "source": [
        "* CON REFERENCIA A LAS COMPANIAS QUE MÁS VUELOS HAN REALIZADO SE ENCUENTRA EN LA CABEZA AMERICAN AIRLINES CON 127.164 PASAJEROS SEGUIDA DE LEJOS DE SOUTHWEST AIRLINES CON 81188 PASAJEROS Y LAS QUE MENOS VUELOS HAN REALIZADO HAN SIDO EVERGREEN INTERNATIONAL CON 2 PASAJEROS?¿?? Y AMERICAN FLIGHT CON 5 PASAJEROS?¿?¿?  "
      ],
      "metadata": {
        "id": "twb8IQPdQWnD"
      }
    },
    {
      "cell_type": "code",
      "source": [
        "mediaRegion=df.groupBy(\"GEO REgion\").agg({\"Passenger Count\":\"mean\",\"Adjusted Passenger Count\":\"mean\"}).alias(\"media Region\")"
      ],
      "metadata": {
        "id": "_Kjr9nFqRE_8"
      },
      "execution_count": 57,
      "outputs": []
    },
    {
      "cell_type": "code",
      "source": [
        "mediaRegion.orderBy(desc(\"avg(Passenger Count)\")).show()"
      ],
      "metadata": {
        "id": "Z8oXZwj-TK4O",
        "colab": {
          "base_uri": "https://localhost:8080/"
        },
        "outputId": "e68551b7-fa7a-4cb8-84fa-34123f1a7dd1"
      },
      "execution_count": 58,
      "outputs": [
        {
          "output_type": "stream",
          "name": "stdout",
          "text": [
            "+-------------------+--------------------+-----------------------------+\n",
            "|         GEO REgion|avg(Passenger Count)|avg(Adjusted Passenger Count)|\n",
            "+-------------------+--------------------+-----------------------------+\n",
            "|                 US|   58330.34345351044|            58485.87838537175|\n",
            "|               Asia|   13435.00458295142|           13508.552703941337|\n",
            "|             Europe|  12755.652465294399|           12779.055050263283|\n",
            "|             Canada|     9777.9682651622|             9803.79125528914|\n",
            "|        Middle East|    8658.61214953271|             8658.61214953271|\n",
            "|             Mexico|    7173.62062780269|            7250.898654708521|\n",
            "|Australia / Oceania|   6417.016282225238|            6495.104477611941|\n",
            "|    Central America|   4946.715328467153|            4946.715328467153|\n",
            "|      South America|   2786.011111111111|            2786.011111111111|\n",
            "+-------------------+--------------------+-----------------------------+\n",
            "\n"
          ]
        }
      ]
    },
    {
      "cell_type": "markdown",
      "source": [
        "*LA REGIÓN QUE MÁS VUELOS DE MEDIA REALIZA ES US Y LA QUE MENOS SOUTH AMERICA"
      ],
      "metadata": {
        "id": "s-6loO-RTiCk"
      }
    },
    {
      "cell_type": "code",
      "source": [
        "mediaTipo=df.groupBy(\"GEO Summary\").agg({\"Passenger Count\":\"mean\",\"Adjusted Passenger Count\":\"mean\"}).alias(\"media Tipo\")"
      ],
      "metadata": {
        "id": "gmF3nsVMT16-"
      },
      "execution_count": 59,
      "outputs": []
    },
    {
      "cell_type": "code",
      "source": [
        "mediaTipo.orderBy(asc(\"avg(Passenger Count)\")).show()"
      ],
      "metadata": {
        "id": "f6-cASh_UbFy",
        "colab": {
          "base_uri": "https://localhost:8080/"
        },
        "outputId": "356eac5b-d568-4df7-9ada-35981fa404cf"
      },
      "execution_count": 60,
      "outputs": [
        {
          "output_type": "stream",
          "name": "stdout",
          "text": [
            "+-------------+--------------------+-----------------------------+\n",
            "|  GEO Summary|avg(Passenger Count)|avg(Adjusted Passenger Count)|\n",
            "+-------------+--------------------+-----------------------------+\n",
            "|International|  10930.673072747015|           10981.698479913139|\n",
            "|     Domestic|   58330.34345351044|            58485.87838537175|\n",
            "+-------------+--------------------+-----------------------------+\n",
            "\n"
          ]
        }
      ]
    },
    {
      "cell_type": "markdown",
      "source": [
        "*SEGÚN ESTA CONSULTA EN CONCRETO LA MEDIA DE LOS VUELOS INTERNACIONALES DOBLAN A LOS VUELOS NACIONALES"
      ],
      "metadata": {
        "id": "UHGpA5-XU3WQ"
      }
    },
    {
      "cell_type": "markdown",
      "source": [
        "***LA FORMULA DE LA MEDIA TOMANDO EN CUENTA SOLAMENTE EL CAMPO QUE NOS INTERESA***"
      ],
      "metadata": {
        "id": "ZA9Ac1UPx7_V"
      }
    },
    {
      "cell_type": "code",
      "source": [
        "df.agg({'Passenger Count':'mean'}).show()"
      ],
      "metadata": {
        "id": "jWhFpD3V3htE",
        "colab": {
          "base_uri": "https://localhost:8080/"
        },
        "outputId": "2bd6ee85-02d8-4bb3-9281-50077eb49477"
      },
      "execution_count": 61,
      "outputs": [
        {
          "output_type": "stream",
          "name": "stdout",
          "text": [
            "+--------------------+\n",
            "|avg(Passenger Count)|\n",
            "+--------------------+\n",
            "|  29240.521090157927|\n",
            "+--------------------+\n",
            "\n"
          ]
        }
      ]
    },
    {
      "cell_type": "code",
      "source": [
        "df.agg({'Adjusted Passenger Count':'mean'}).show()"
      ],
      "metadata": {
        "id": "gofblySn2l7W",
        "colab": {
          "base_uri": "https://localhost:8080/"
        },
        "outputId": "b806f946-3e76-420d-b860-117d4e4e5366"
      },
      "execution_count": 62,
      "outputs": [
        {
          "output_type": "stream",
          "name": "stdout",
          "text": [
            "+-----------------------------+\n",
            "|avg(Adjusted Passenger Count)|\n",
            "+-----------------------------+\n",
            "|           29331.917105350836|\n",
            "+-----------------------------+\n",
            "\n"
          ]
        }
      ]
    },
    {
      "cell_type": "markdown",
      "source": [
        "*CALCULAMOS EL MÁXIMO Y EL MINIMO DE NÚMERO DE PASAJEROS QUE HEMOS AGRUPADO ANTERIORMENTE"
      ],
      "metadata": {
        "id": "1aBniTijYqUz"
      }
    },
    {
      "cell_type": "code",
      "source": [
        "df.agg({'Adjusted Passenger Count':'max'}).show()"
      ],
      "metadata": {
        "id": "omVzE5oV6PcW",
        "colab": {
          "base_uri": "https://localhost:8080/"
        },
        "outputId": "3c1f6fa7-5ec7-4788-cb09-f690db6bd068"
      },
      "execution_count": 63,
      "outputs": [
        {
          "output_type": "stream",
          "name": "stdout",
          "text": [
            "+-----------------------------+\n",
            "|max(Adjusted Passenger Count)|\n",
            "+-----------------------------+\n",
            "|                       659837|\n",
            "+-----------------------------+\n",
            "\n"
          ]
        }
      ]
    },
    {
      "cell_type": "code",
      "source": [
        "df.agg({'Passenger Count':'max'}).show()"
      ],
      "metadata": {
        "id": "fRv-9Sbc6i5W",
        "colab": {
          "base_uri": "https://localhost:8080/"
        },
        "outputId": "db850454-ff17-4a66-8616-de708be80b86"
      },
      "execution_count": 64,
      "outputs": [
        {
          "output_type": "stream",
          "name": "stdout",
          "text": [
            "+--------------------+\n",
            "|max(Passenger Count)|\n",
            "+--------------------+\n",
            "|              659837|\n",
            "+--------------------+\n",
            "\n"
          ]
        }
      ]
    },
    {
      "cell_type": "code",
      "source": [
        "df.agg({'Passenger Count':'min'}).show()"
      ],
      "metadata": {
        "id": "QijGy2D8YKtE",
        "colab": {
          "base_uri": "https://localhost:8080/"
        },
        "outputId": "2d6571ac-0c4c-40cb-ff57-8baf7556a938"
      },
      "execution_count": 65,
      "outputs": [
        {
          "output_type": "stream",
          "name": "stdout",
          "text": [
            "+--------------------+\n",
            "|min(Passenger Count)|\n",
            "+--------------------+\n",
            "|                   1|\n",
            "+--------------------+\n",
            "\n"
          ]
        }
      ]
    },
    {
      "cell_type": "code",
      "source": [
        "df.agg({'Adjusted Passenger Count':'min'}).show()"
      ],
      "metadata": {
        "id": "ZVid8_UrZhlw",
        "colab": {
          "base_uri": "https://localhost:8080/"
        },
        "outputId": "6c3a1051-faca-465b-97ca-b6d1c60d7f18"
      },
      "execution_count": 66,
      "outputs": [
        {
          "output_type": "stream",
          "name": "stdout",
          "text": [
            "+-----------------------------+\n",
            "|min(Adjusted Passenger Count)|\n",
            "+-----------------------------+\n",
            "|                            1|\n",
            "+-----------------------------+\n",
            "\n"
          ]
        }
      ]
    },
    {
      "cell_type": "markdown",
      "source": [
        "***4.1 CALCULAMOS LA DESVIACIÓN ESTÁNDAR EN FUNCIÓN DE LAS DIFERENTES COLUMNAS***"
      ],
      "metadata": {
        "id": "c0mRrJz0a1YD"
      }
    },
    {
      "cell_type": "code",
      "source": [
        "desviacionRegion=df.groupBy(\"GEO Region\").agg({\"Passenger Count\":\"std\",\"Adjusted Passenger Count\":\"std\"}).alias(\"desviacion Region\")"
      ],
      "metadata": {
        "id": "qcD72Ly-bKza"
      },
      "execution_count": 67,
      "outputs": []
    },
    {
      "cell_type": "code",
      "source": [
        "desviacionRegion.columns"
      ],
      "metadata": {
        "id": "WnbVlD_Ib-Kx",
        "colab": {
          "base_uri": "https://localhost:8080/"
        },
        "outputId": "e0356b6f-cc76-48d0-8fd7-32046656063d"
      },
      "execution_count": 68,
      "outputs": [
        {
          "output_type": "execute_result",
          "data": {
            "text/plain": [
              "['GEO Region', 'stddev(Passenger Count)', 'stddev(Adjusted Passenger Count)']"
            ]
          },
          "metadata": {},
          "execution_count": 68
        }
      ]
    },
    {
      "cell_type": "code",
      "source": [
        "desviacionRegion.orderBy(desc(\"stddev(Passenger Count)\")).show()"
      ],
      "metadata": {
        "id": "yh_2Rn8Gbzy7",
        "colab": {
          "base_uri": "https://localhost:8080/"
        },
        "outputId": "c3642581-c854-457f-a767-480b7e8b0810"
      },
      "execution_count": 69,
      "outputs": [
        {
          "output_type": "stream",
          "name": "stdout",
          "text": [
            "+-------------------+-----------------------+--------------------------------+\n",
            "|         GEO Region|stddev(Passenger Count)|stddev(Adjusted Passenger Count)|\n",
            "+-------------------+-----------------------+--------------------------------+\n",
            "|                 US|      84951.31664013123|               84859.99154024843|\n",
            "|               Asia|     16188.148775860833|              16147.810666731062|\n",
            "|             Europe|      8634.076411562175|                8602.12804355499|\n",
            "|             Canada|      7833.110588404248|               7805.730643538237|\n",
            "|             Mexico|      5336.223001980255|               5274.346847133504|\n",
            "|Australia / Oceania|     2799.8406500183883|               2650.383265187285|\n",
            "|        Middle East|        2732.7195183986|                 2732.7195183986|\n",
            "|    Central America|     1220.8403125914656|              1220.8403125914656|\n",
            "|      South America|      396.7586506195526|               396.7586506195526|\n",
            "+-------------------+-----------------------+--------------------------------+\n",
            "\n"
          ]
        }
      ]
    },
    {
      "cell_type": "markdown",
      "source": [
        "*LA MAYOR DESVIACIÓN SEGÚN LA REGIÓN LA TIENE US Y LA QUE MENOS SOUTH AMERICA"
      ],
      "metadata": {
        "id": "yGCbDFeIctwY"
      }
    },
    {
      "cell_type": "code",
      "source": [
        "desviacionCompania=df.groupBy(\"Operating Airline\").agg({\"passenger Count\":\"std\",\"Adjusted Passenger Count\":\"std\"}).alias(\"desviacion Compania\")"
      ],
      "metadata": {
        "id": "gHtD38YOc_q7"
      },
      "execution_count": 70,
      "outputs": []
    },
    {
      "cell_type": "code",
      "source": [
        "desviacionCompania.orderBy(desc(\"stddev(Passenger Count)\")).show()"
      ],
      "metadata": {
        "id": "CUdNLkPjdeMr",
        "colab": {
          "base_uri": "https://localhost:8080/"
        },
        "outputId": "413b9696-cd80-4752-e595-329cf302d52e"
      },
      "execution_count": 71,
      "outputs": [
        {
          "output_type": "stream",
          "name": "stdout",
          "text": [
            "+--------------------+-----------------------+--------------------------------+\n",
            "|   Operating Airline|stddev(passenger Count)|stddev(Adjusted Passenger Count)|\n",
            "+--------------------+-----------------------+--------------------------------+\n",
            "|     United Airlines|      111407.6096590275|              111353.44506100845|\n",
            "|United Airlines -...|     101345.43251928187|              101159.04786282202|\n",
            "|      Virgin America|      68539.60912970702|               68539.60912970702|\n",
            "|  Southwest Airlines|      60358.22460648464|              60310.953620260676|\n",
            "|     Delta Air Lines|     52441.708028502915|              52420.016941335474|\n",
            "|    SkyWest Airlines|     47114.391824800696|               47114.36241270175|\n",
            "|  Northwest Airlines|      23299.20468096906|              23201.110752157398|\n",
            "|   American Airlines|     22044.236526572004|              22044.236526572004|\n",
            "|          US Airways|     17368.956304696872|              17368.956304696872|\n",
            "|     Alaska Airlines|     16964.719658926915|              16729.119711928208|\n",
            "|    JetBlue Airways |     15781.559972653462|              15781.559972653462|\n",
            "|    Compass Airlines|     13643.171391063379|               13640.95590903843|\n",
            "|        ATA Airlines|      8883.122531587927|                8595.72732407883|\n",
            "|         Air Canada |     8036.2267292755105|              8036.2267292755105|\n",
            "|     AirTran Airways|      6649.343369117933|               6649.343369117933|\n",
            "|   Frontier Airlines|      4894.093465088834|               4894.093465088834|\n",
            "|          Air France|       4566.33970456309|                4566.33970456309|\n",
            "|      Cathay Pacific|     4000.2209037499756|              4000.2209037499756|\n",
            "|          Aeromexico|     3718.8715161582777|              3718.8715161582777|\n",
            "|    Independence Air|      3566.162520444381|               3566.162520444381|\n",
            "+--------------------+-----------------------+--------------------------------+\n",
            "only showing top 20 rows\n",
            "\n"
          ]
        }
      ]
    },
    {
      "cell_type": "code",
      "source": [
        "desviacionCompania.orderBy(asc(\"stddev(Passenger Count)\")).show()"
      ],
      "metadata": {
        "id": "SC8YCSvVd40N",
        "colab": {
          "base_uri": "https://localhost:8080/"
        },
        "outputId": "32ad6b84-5969-46bc-f477-0763de7f7283"
      },
      "execution_count": 72,
      "outputs": [
        {
          "output_type": "stream",
          "name": "stdout",
          "text": [
            "+--------------------+-----------------------+--------------------------------+\n",
            "|   Operating Airline|stddev(passenger Count)|stddev(Adjusted Passenger Count)|\n",
            "+--------------------+-----------------------+--------------------------------+\n",
            "|      Boeing Company|                   null|                            null|\n",
            "|Evergreen Interna...|                    0.0|                             0.0|\n",
            "|    Pacific Aviation|                    0.0|                             0.0|\n",
            "|        Xtra Airways|                    0.0|                             0.0|\n",
            "|         Ameriflight|      2.811540841738193|               3.619332410758523|\n",
            "|       World Airways|       8.32666399786453|                8.32666399786453|\n",
            "|      Atlas Air, Inc|     43.840620433565945|               41.71930009000631|\n",
            "|Miami Air Interna...|     57.147615873280316|              57.147615873280316|\n",
            "|           Servisair|      58.46461417910078|               58.46461417910078|\n",
            "|       Swissport USA|     108.63161865418637|              100.88267584533175|\n",
            "|     Air Canada Jazz|     123.74612881057895|              123.74612881057895|\n",
            "|       Allegiant Air|        296.28594718616|                 296.28594718616|\n",
            "|     BelAir Airlines|       307.386920044947|              298.41374282154277|\n",
            "|   Air India Limited|     332.53657156555187|              332.53657156555187|\n",
            "|            LAN Peru|      396.7586506195526|               396.7586506195526|\n",
            "|  All Nippon Airways|      729.6152772279747|               729.6152772279747|\n",
            "|          Air Berlin|      752.8463464934738|               752.8463464934738|\n",
            "|Atlantic Southeas...|      805.7488034115435|               805.7488034115435|\n",
            "| COPA Airlines, Inc.|      925.0276889232697|               925.0276889232697|\n",
            "|American Eagle Ai...|      972.0801476612352|               972.0801476612352|\n",
            "+--------------------+-----------------------+--------------------------------+\n",
            "only showing top 20 rows\n",
            "\n"
          ]
        }
      ]
    },
    {
      "cell_type": "markdown",
      "source": [
        "*LA MAYOR DESVIACIÓN EN FUNCIÓN DE CADA COMPAÑIA ES LA DE UNITED AIRLINES Y LA QUE MENOS ES LA DE AMERICAN FLIGHT"
      ],
      "metadata": {
        "id": "yLQ1NsEzecej"
      }
    },
    {
      "cell_type": "code",
      "source": [
        "desviacionTipo=df.groupBy(\"GEO Summary\").agg({\"Passenger Count\":\"std\",\"Adjusted Passenger Count\":\"std\"}).alias(\"desviacion Tipo\")"
      ],
      "metadata": {
        "id": "n8OpUqx0e_cF"
      },
      "execution_count": 73,
      "outputs": []
    },
    {
      "cell_type": "code",
      "source": [
        "desviacionTipo.orderBy(asc(\"stddev(Passenger Count)\")).show()"
      ],
      "metadata": {
        "id": "rU8BzQ_IgA_p",
        "colab": {
          "base_uri": "https://localhost:8080/"
        },
        "outputId": "3274e0b8-9db3-46cd-89ed-cdf4d2657890"
      },
      "execution_count": 74,
      "outputs": [
        {
          "output_type": "stream",
          "name": "stdout",
          "text": [
            "+-------------+-----------------------+--------------------------------+\n",
            "|  GEO Summary|stddev(Passenger Count)|stddev(Adjusted Passenger Count)|\n",
            "+-------------+-----------------------+--------------------------------+\n",
            "|International|     11493.706383971215|              11459.569919328736|\n",
            "|     Domestic|      84951.31664013123|               84859.99154024843|\n",
            "+-------------+-----------------------+--------------------------------+\n",
            "\n"
          ]
        }
      ]
    },
    {
      "cell_type": "code",
      "source": [
        "desviacionYear=df.groupBy(\"Year\").agg({\"Passenger Count\":\"std\",\"Adjusted Passenger Count\":\"std\"}).alias(\"deviacion Year\")"
      ],
      "metadata": {
        "id": "waSiuwyohTRh"
      },
      "execution_count": 75,
      "outputs": []
    },
    {
      "cell_type": "code",
      "source": [
        "desviacionYear.orderBy(asc(\"stddev(Passenger Count)\")).show()"
      ],
      "metadata": {
        "id": "gUUO2iSKhwcc",
        "colab": {
          "base_uri": "https://localhost:8080/"
        },
        "outputId": "51b5a65b-3c93-4a45-8a67-2a04fa30f0b5"
      },
      "execution_count": 76,
      "outputs": [
        {
          "output_type": "stream",
          "name": "stdout",
          "text": [
            "+----+-----------------------+--------------------------------+\n",
            "|Year|stddev(Passenger Count)|stddev(Adjusted Passenger Count)|\n",
            "+----+-----------------------+--------------------------------+\n",
            "|2008|       50774.2273603889|               50726.95614634388|\n",
            "|2007|     52686.333022728555|               52626.74622716829|\n",
            "|2006|      53418.13826968551|               53358.71428377348|\n",
            "|2005|      54774.38414321783|               54707.74430644306|\n",
            "|2009|      55096.04274953367|               55063.05908647803|\n",
            "|2016|     56351.917740411474|               56349.96176502073|\n",
            "|2010|       57782.3443543718|               57745.14106412592|\n",
            "|2011|     57938.886803724185|               57905.04645191029|\n",
            "|2012|     58612.368565066805|                58587.4853792429|\n",
            "|2015|     62735.130892386165|               62731.74505650158|\n",
            "|2014|      63694.36786274649|               63681.87984916423|\n",
            "|2013|      69500.20489950952|               69484.16000796498|\n",
            "+----+-----------------------+--------------------------------+\n",
            "\n"
          ]
        }
      ]
    },
    {
      "cell_type": "markdown",
      "source": [
        "LA MENOR DESVIACIÓN TOMANDO EN CONSIDERACIÓN EL AÑO ES 2008 Y LA QUE MÁS 2013"
      ],
      "metadata": {
        "id": "mSt-CJmGyl6G"
      }
    },
    {
      "cell_type": "markdown",
      "source": [
        "*LA FORMULA DE LA DESVIACIÓN EN FUNCIÓN DE CADA CAMPO EN CONCRETO"
      ],
      "metadata": {
        "id": "kQwzAgPOy1yg"
      }
    },
    {
      "cell_type": "code",
      "source": [
        "df.agg({'Passenger count':'std'}).show()"
      ],
      "metadata": {
        "id": "BlB6yc1NUHov",
        "colab": {
          "base_uri": "https://localhost:8080/"
        },
        "outputId": "b0d2732f-66d5-42e2-83f6-1f9b0191f09b"
      },
      "execution_count": 77,
      "outputs": [
        {
          "output_type": "stream",
          "name": "stdout",
          "text": [
            "+-----------------------+\n",
            "|stddev(Passenger count)|\n",
            "+-----------------------+\n",
            "|     58319.509284123524|\n",
            "+-----------------------+\n",
            "\n"
          ]
        }
      ]
    },
    {
      "cell_type": "code",
      "source": [
        "df.agg({'Adjusted Passenger count':'std'}).show()"
      ],
      "metadata": {
        "id": "gGukChDLWXR6",
        "colab": {
          "base_uri": "https://localhost:8080/"
        },
        "outputId": "5893964e-2e72-4dfc-ee1e-a39cbe0a1674"
      },
      "execution_count": 78,
      "outputs": [
        {
          "output_type": "stream",
          "name": "stdout",
          "text": [
            "+--------------------------------+\n",
            "|stddev(Adjusted Passenger count)|\n",
            "+--------------------------------+\n",
            "|                58284.1822186625|\n",
            "+--------------------------------+\n",
            "\n"
          ]
        }
      ]
    },
    {
      "cell_type": "markdown",
      "source": [
        "**4.2 ANÁLISIS DE CORRELACIÓN**"
      ],
      "metadata": {
        "id": "QiEfHp-feNrw"
      }
    },
    {
      "cell_type": "code",
      "source": [
        "df.printSchema()"
      ],
      "metadata": {
        "id": "QGeQuqkOqMDk",
        "colab": {
          "base_uri": "https://localhost:8080/"
        },
        "outputId": "c336a292-da4b-49a9-b7b0-45d413872fb5"
      },
      "execution_count": 79,
      "outputs": [
        {
          "output_type": "stream",
          "name": "stdout",
          "text": [
            "root\n",
            " |-- Activity Period: string (nullable = true)\n",
            " |-- Operating Airline: string (nullable = true)\n",
            " |-- Operating Airline IATA Code: string (nullable = true)\n",
            " |-- GEO Summary: string (nullable = true)\n",
            " |-- GEO Region: string (nullable = true)\n",
            " |-- Passenger Count: integer (nullable = true)\n",
            " |-- Adjusted Passenger Count: integer (nullable = true)\n",
            " |-- Year: integer (nullable = true)\n",
            " |-- Month: string (nullable = true)\n",
            "\n"
          ]
        }
      ]
    },
    {
      "cell_type": "code",
      "source": [
        "df.show(6)"
      ],
      "metadata": {
        "id": "QJ7ptH5LV9PV",
        "colab": {
          "base_uri": "https://localhost:8080/"
        },
        "outputId": "ead77ab5-a57c-49e6-d4ec-ef92bfb58495"
      },
      "execution_count": 80,
      "outputs": [
        {
          "output_type": "stream",
          "name": "stdout",
          "text": [
            "+---------------+-----------------+---------------------------+-------------+----------+---------------+------------------------+----+-----+\n",
            "|Activity Period|Operating Airline|Operating Airline IATA Code|  GEO Summary|GEO Region|Passenger Count|Adjusted Passenger Count|Year|Month|\n",
            "+---------------+-----------------+---------------------------+-------------+----------+---------------+------------------------+----+-----+\n",
            "|         200507|     ATA Airlines|                         TZ|     Domestic|        US|          27271|                   27271|2005| July|\n",
            "|         200507|     ATA Airlines|                         TZ|     Domestic|        US|          29131|                   29131|2005| July|\n",
            "|         200507|     ATA Airlines|                         TZ|     Domestic|        US|           5415|                   10830|2005| July|\n",
            "|         200507|      Air Canada |                         AC|International|    Canada|          35156|                   35156|2005| July|\n",
            "|         200507|      Air Canada |                         AC|International|    Canada|          34090|                   34090|2005| July|\n",
            "|         200507|        Air China|                         CA|International|      Asia|           6263|                    6263|2005| July|\n",
            "+---------------+-----------------+---------------------------+-------------+----------+---------------+------------------------+----+-----+\n",
            "only showing top 6 rows\n",
            "\n"
          ]
        }
      ]
    },
    {
      "cell_type": "code",
      "source": [
        "no_str_df=df.drop(\"Activity Period\",\"Operating Airline\",\"Operating Airline IATA Code\",\"GEO Summary\",\"GEO Region\",\"Month\")"
      ],
      "metadata": {
        "id": "CQNfr8IacDjL"
      },
      "execution_count": 81,
      "outputs": []
    },
    {
      "cell_type": "code",
      "source": [
        "from pyspark.ml.feature import VectorAssembler\n",
        "from pyspark.ml.stat import Correlation"
      ],
      "metadata": {
        "id": "CFOl1lf4Z0tu"
      },
      "execution_count": 82,
      "outputs": []
    },
    {
      "cell_type": "code",
      "source": [
        "vector_col=\"corr_vars\""
      ],
      "metadata": {
        "id": "aLTPTrppaNQ_"
      },
      "execution_count": 83,
      "outputs": []
    },
    {
      "cell_type": "code",
      "source": [
        "assembler=VectorAssembler(inputCols=no_str_df.columns,outputCol=vector_col)"
      ],
      "metadata": {
        "id": "daYO_6VpopzS"
      },
      "execution_count": 84,
      "outputs": []
    },
    {
      "cell_type": "code",
      "source": [
        "no_str_df.columns"
      ],
      "metadata": {
        "id": "thmIHiJrKyee",
        "colab": {
          "base_uri": "https://localhost:8080/"
        },
        "outputId": "d362352f-a376-42dd-db7e-5ccec0604a4f"
      },
      "execution_count": 85,
      "outputs": [
        {
          "output_type": "execute_result",
          "data": {
            "text/plain": [
              "['Passenger Count', 'Adjusted Passenger Count', 'Year']"
            ]
          },
          "metadata": {},
          "execution_count": 85
        }
      ]
    },
    {
      "cell_type": "code",
      "source": [
        "no_str_df.show()"
      ],
      "metadata": {
        "id": "eF9UQBmgH3b1",
        "colab": {
          "base_uri": "https://localhost:8080/"
        },
        "outputId": "b6ade8df-a3b5-4cbd-ebfd-f88eb4298e14"
      },
      "execution_count": 86,
      "outputs": [
        {
          "output_type": "stream",
          "name": "stdout",
          "text": [
            "+---------------+------------------------+----+\n",
            "|Passenger Count|Adjusted Passenger Count|Year|\n",
            "+---------------+------------------------+----+\n",
            "|          27271|                   27271|2005|\n",
            "|          29131|                   29131|2005|\n",
            "|           5415|                   10830|2005|\n",
            "|          35156|                   35156|2005|\n",
            "|          34090|                   34090|2005|\n",
            "|           6263|                    6263|2005|\n",
            "|           5500|                    5500|2005|\n",
            "|          12050|                   12050|2005|\n",
            "|          11638|                   11638|2005|\n",
            "|           4998|                    4998|2005|\n",
            "|           4962|                    4962|2005|\n",
            "|           8055|                    8055|2005|\n",
            "|           7984|                    7984|2005|\n",
            "|          36641|                   36641|2005|\n",
            "|          39379|                   39379|2005|\n",
            "|           3678|                    7356|2005|\n",
            "|           7977|                    7977|2005|\n",
            "|           8837|                    8837|2005|\n",
            "|           6969|                    6969|2005|\n",
            "|          10046|                   10046|2005|\n",
            "+---------------+------------------------+----+\n",
            "only showing top 20 rows\n",
            "\n"
          ]
        }
      ]
    },
    {
      "cell_type": "code",
      "source": [
        "no_str_df.printSchema()"
      ],
      "metadata": {
        "id": "oLsKyLFHJGIH",
        "colab": {
          "base_uri": "https://localhost:8080/"
        },
        "outputId": "93690402-4b42-4068-ddea-1f4be9b5d37e"
      },
      "execution_count": 87,
      "outputs": [
        {
          "output_type": "stream",
          "name": "stdout",
          "text": [
            "root\n",
            " |-- Passenger Count: integer (nullable = true)\n",
            " |-- Adjusted Passenger Count: integer (nullable = true)\n",
            " |-- Year: integer (nullable = true)\n",
            "\n"
          ]
        }
      ]
    },
    {
      "cell_type": "code",
      "source": [
        "df_vector=assembler.transform(no_str_df).select(vector_col)"
      ],
      "metadata": {
        "id": "jpqGPHW_pBrc"
      },
      "execution_count": 88,
      "outputs": []
    },
    {
      "cell_type": "code",
      "source": [
        "corr_matrix=Correlation.corr(df_vector,vector_col).collect()[0][0].toArray().tolist()"
      ],
      "metadata": {
        "id": "8Z1jZfHCpOtJ"
      },
      "execution_count": 89,
      "outputs": []
    },
    {
      "cell_type": "code",
      "source": [
        "corr_matrix_df=spark.createDataFrame(corr_matrix,no_str_df.columns)"
      ],
      "metadata": {
        "id": "X0Q5oxa8p3Ki"
      },
      "execution_count": 90,
      "outputs": []
    },
    {
      "cell_type": "code",
      "source": [
        "corr_matrix_df.show()"
      ],
      "metadata": {
        "id": "5-JEUhWkqHkk",
        "colab": {
          "base_uri": "https://localhost:8080/"
        },
        "outputId": "b2a7edee-2937-4aaf-a8c6-9f1d6b8b73f0"
      },
      "execution_count": 91,
      "outputs": [
        {
          "output_type": "stream",
          "name": "stdout",
          "text": [
            "+-------------------+------------------------+--------------------+\n",
            "|    Passenger Count|Adjusted Passenger Count|                Year|\n",
            "+-------------------+------------------------+--------------------+\n",
            "|                1.0|      0.9999408877427237| 0.06006904043285836|\n",
            "| 0.9999408877427237|                     1.0|0.059096234917787455|\n",
            "|0.06006904043285836|    0.059096234917787455|                 1.0|\n",
            "+-------------------+------------------------+--------------------+\n",
            "\n"
          ]
        }
      ]
    },
    {
      "cell_type": "markdown",
      "source": [
        "REALIZAMOS UNA CORRELACIÓN DE LAS COLUMNAS NÚMERICAS.HAY UNA CORRELACIÓN POSITIVA ENTRE EL CAMPO AÑO Y EL CAMPO DEL Nº DE PASAJEROS/Nº DE PASAJEROS AJUSTADO"
      ],
      "metadata": {
        "id": "eJXUN24w0vyk"
      }
    },
    {
      "cell_type": "markdown",
      "source": [
        "INTENTAMOS CORRELACIONAR LOS CAMPOS CATEGORICOS AHORA PARA VER DE QUE MANERA ESTÁN CORRELACIONADOS.\n",
        "VOLVEMOS A CARGAR EL DATAFRAME ORIGINAL CON TODAS SUS COLUMNAS"
      ],
      "metadata": {
        "id": "ZahIRh_c1cl2"
      }
    },
    {
      "cell_type": "code",
      "source": [
        "df2.show()"
      ],
      "metadata": {
        "id": "_gtB50GHB8Zv",
        "colab": {
          "base_uri": "https://localhost:8080/"
        },
        "outputId": "fde0e6c9-b11e-4783-b4a1-b0c666da01e2"
      },
      "execution_count": 92,
      "outputs": [
        {
          "output_type": "stream",
          "name": "stdout",
          "text": [
            "+---------------+-----------------+---------------------------+-----------------+---------------------------+-------------+-------------------+------------------+-------------------+-------------+-------------+---------------+---------------------------+------------------------+----+-----+\n",
            "|Activity Period|Operating Airline|Operating Airline IATA Code|Published Airline|Published Airline IATA Code|  GEO Summary|         GEO Region|Activity Type Code|Price Category Code|     Terminal|Boarding Area|Passenger Count|Adjusted Activity Type Code|Adjusted Passenger Count|Year|Month|\n",
            "+---------------+-----------------+---------------------------+-----------------+---------------------------+-------------+-------------------+------------------+-------------------+-------------+-------------+---------------+---------------------------+------------------------+----+-----+\n",
            "|         200507|     ATA Airlines|                         TZ|     ATA Airlines|                         TZ|     Domestic|                 US|          Deplaned|           Low Fare|   Terminal 1|            B|          27271|                   Deplaned|                   27271|2005| July|\n",
            "|         200507|     ATA Airlines|                         TZ|     ATA Airlines|                         TZ|     Domestic|                 US|          Enplaned|           Low Fare|   Terminal 1|            B|          29131|                   Enplaned|                   29131|2005| July|\n",
            "|         200507|     ATA Airlines|                         TZ|     ATA Airlines|                         TZ|     Domestic|                 US|    Thru / Transit|           Low Fare|   Terminal 1|            B|           5415|         Thru / Transit * 2|                   10830|2005| July|\n",
            "|         200507|      Air Canada |                         AC|      Air Canada |                         AC|International|             Canada|          Deplaned|              Other|   Terminal 1|            B|          35156|                   Deplaned|                   35156|2005| July|\n",
            "|         200507|      Air Canada |                         AC|      Air Canada |                         AC|International|             Canada|          Enplaned|              Other|   Terminal 1|            B|          34090|                   Enplaned|                   34090|2005| July|\n",
            "|         200507|        Air China|                         CA|        Air China|                         CA|International|               Asia|          Deplaned|              Other|International|            G|           6263|                   Deplaned|                    6263|2005| July|\n",
            "|         200507|        Air China|                         CA|        Air China|                         CA|International|               Asia|          Enplaned|              Other|International|            G|           5500|                   Enplaned|                    5500|2005| July|\n",
            "|         200507|       Air France|                         AF|       Air France|                         AF|International|             Europe|          Deplaned|              Other|International|            A|          12050|                   Deplaned|                   12050|2005| July|\n",
            "|         200507|       Air France|                         AF|       Air France|                         AF|International|             Europe|          Enplaned|              Other|International|            A|          11638|                   Enplaned|                   11638|2005| July|\n",
            "|         200507|  Air New Zealand|                         NZ|  Air New Zealand|                         NZ|International|Australia / Oceania|          Deplaned|              Other|International|            G|           4998|                   Deplaned|                    4998|2005| July|\n",
            "|         200507|  Air New Zealand|                         NZ|  Air New Zealand|                         NZ|International|Australia / Oceania|          Enplaned|              Other|International|            G|           4962|                   Enplaned|                    4962|2005| July|\n",
            "|         200507|  AirTran Airways|                         FL|  AirTran Airways|                         FL|     Domestic|                 US|          Deplaned|           Low Fare|International|            A|           8055|                   Deplaned|                    8055|2005| July|\n",
            "|         200507|  AirTran Airways|                         FL|  AirTran Airways|                         FL|     Domestic|                 US|          Enplaned|           Low Fare|International|            A|           7984|                   Enplaned|                    7984|2005| July|\n",
            "|         200507|  Alaska Airlines|                         AS|  Alaska Airlines|                         AS|     Domestic|                 US|          Deplaned|              Other|International|            A|          36641|                   Deplaned|                   36641|2005| July|\n",
            "|         200507|  Alaska Airlines|                         AS|  Alaska Airlines|                         AS|     Domestic|                 US|          Enplaned|              Other|International|            A|          39379|                   Enplaned|                   39379|2005| July|\n",
            "|         200507|  Alaska Airlines|                         AS|  Alaska Airlines|                         AS|     Domestic|                 US|    Thru / Transit|              Other|International|            A|           3678|         Thru / Transit * 2|                    7356|2005| July|\n",
            "|         200507|  Alaska Airlines|                         AS|  Alaska Airlines|                         AS|International|             Canada|          Deplaned|              Other|International|            A|           7977|                   Deplaned|                    7977|2005| July|\n",
            "|         200507|  Alaska Airlines|                         AS|  Alaska Airlines|                         AS|International|             Canada|          Enplaned|              Other|International|            A|           8837|                   Enplaned|                    8837|2005| July|\n",
            "|         200507|  Alaska Airlines|                         AS|  Alaska Airlines|                         AS|International|             Mexico|          Deplaned|              Other|International|            A|           6969|                   Deplaned|                    6969|2005| July|\n",
            "|         200507|  Alaska Airlines|                         AS|  Alaska Airlines|                         AS|International|             Mexico|          Enplaned|              Other|International|            A|          10046|                   Enplaned|                   10046|2005| July|\n",
            "+---------------+-----------------+---------------------------+-----------------+---------------------------+-------------+-------------------+------------------+-------------------+-------------+-------------+---------------+---------------------------+------------------------+----+-----+\n",
            "only showing top 20 rows\n",
            "\n"
          ]
        }
      ]
    },
    {
      "cell_type": "markdown",
      "source": [
        "CRUZAMOS 2 CAMPOS CATEGORICOS:LA CATEGORIA DEL PRECIO Y EL TIPO DE ACTIVIDAD"
      ],
      "metadata": {
        "id": "KNHqcaIn1ytA"
      }
    },
    {
      "cell_type": "code",
      "source": [
        "df2.crosstab(\"Price Category Code\",\"Activity Type code\").show()"
      ],
      "metadata": {
        "id": "nabS-nVoAxIP",
        "colab": {
          "base_uri": "https://localhost:8080/"
        },
        "outputId": "f496d298-38a9-4012-ab48-a93e2cd6343a"
      },
      "execution_count": 93,
      "outputs": [
        {
          "output_type": "stream",
          "name": "stdout",
          "text": [
            "+--------------------------------------+--------+--------+--------------+\n",
            "|Price Category Code_Activity Type code|Deplaned|Enplaned|Thru / Transit|\n",
            "+--------------------------------------+--------+--------+--------------+\n",
            "|                                 Other|    6168|    6112|           807|\n",
            "|                              Low Fare|     903|     904|           113|\n",
            "+--------------------------------------+--------+--------+--------------+\n",
            "\n"
          ]
        }
      ]
    },
    {
      "cell_type": "code",
      "source": [
        "df2.crosstab(\"GEO Summary\",\"GEO Region\").show()"
      ],
      "metadata": {
        "id": "32Lb3qTsLni1",
        "colab": {
          "base_uri": "https://localhost:8080/"
        },
        "outputId": "c064aef2-41db-4476-988e-6fe6934714b9"
      },
      "execution_count": 94,
      "outputs": [
        {
          "output_type": "stream",
          "name": "stdout",
          "text": [
            "+----------------------+----+-------------------+------+---------------+------+------+-----------+-------------+----+\n",
            "|GEO Summary_GEO Region|Asia|Australia / Oceania|Canada|Central America|Europe|Mexico|Middle East|South America|  US|\n",
            "+----------------------+----+-------------------+------+---------------+------+------+-----------+-------------+----+\n",
            "|         International|3273|                737|  1418|            274|  2089|  1115|        214|           90|   0|\n",
            "|              Domestic|   0|                  0|     0|              0|     0|     0|          0|            0|5797|\n",
            "+----------------------+----+-------------------+------+---------------+------+------+-----------+-------------+----+\n",
            "\n"
          ]
        }
      ]
    },
    {
      "cell_type": "code",
      "source": [
        "df2.crosstab(\"GEO Region\",\"Price Category Code\").show()"
      ],
      "metadata": {
        "id": "tsPqaA4W2OL3",
        "colab": {
          "base_uri": "https://localhost:8080/"
        },
        "outputId": "eecff71d-bd16-4825-e742-04a698ee89a0"
      },
      "execution_count": 95,
      "outputs": [
        {
          "output_type": "stream",
          "name": "stdout",
          "text": [
            "+------------------------------+--------+-----+\n",
            "|GEO Region_Price Category Code|Low Fare|Other|\n",
            "+------------------------------+--------+-----+\n",
            "|                        Europe|       2| 2087|\n",
            "|               Central America|       0|  274|\n",
            "|                            US|    1746| 4051|\n",
            "|                 South America|       0|   90|\n",
            "|                        Mexico|     140|  975|\n",
            "|                   Middle East|       2|  212|\n",
            "|                        Canada|      26| 1392|\n",
            "|           Australia / Oceania|       2|  735|\n",
            "|                          Asia|       2| 3271|\n",
            "+------------------------------+--------+-----+\n",
            "\n"
          ]
        }
      ]
    },
    {
      "cell_type": "markdown",
      "source": [
        "HACEMOS LA MATRÍZ DE CORRELACIÓN ENTRE PASSENGR COUNT/ADJUSTED PASSENGER COUNT Y EL AÑO Y VEMOS QUE NO HAY CASI CORRELACIÓN. eSTÁ PROXIMA A LA NULA 0.06 LO QUE NOS INDICA UE NO TIENEN UNA INFLUENCIA UNA SOBRE LA OTRA"
      ],
      "metadata": {
        "id": "a-umLccC2316"
      }
    },
    {
      "cell_type": "code",
      "source": [
        "plot_corr=corr_matrix_df.toPandas()\n",
        "plot_corr.index=corr_matrix_df.columns\n",
        "plot_corr.style.background_gradient(cmap='Blues')"
      ],
      "metadata": {
        "id": "Zzo-tPCKqeyS",
        "colab": {
          "base_uri": "https://localhost:8080/",
          "height": 142
        },
        "outputId": "ad9c6b2c-755c-4ed9-c528-e918e5e5c204"
      },
      "execution_count": 96,
      "outputs": [
        {
          "output_type": "execute_result",
          "data": {
            "text/plain": [
              "<pandas.io.formats.style.Styler at 0x7e65956dffa0>"
            ],
            "text/html": [
              "<style type=\"text/css\">\n",
              "#T_c74b8_row0_col0, #T_c74b8_row0_col1, #T_c74b8_row1_col0, #T_c74b8_row1_col1, #T_c74b8_row2_col2 {\n",
              "  background-color: #08306b;\n",
              "  color: #f1f1f1;\n",
              "}\n",
              "#T_c74b8_row0_col2, #T_c74b8_row1_col2, #T_c74b8_row2_col0, #T_c74b8_row2_col1 {\n",
              "  background-color: #f7fbff;\n",
              "  color: #000000;\n",
              "}\n",
              "</style>\n",
              "<table id=\"T_c74b8\" class=\"dataframe\">\n",
              "  <thead>\n",
              "    <tr>\n",
              "      <th class=\"blank level0\" >&nbsp;</th>\n",
              "      <th id=\"T_c74b8_level0_col0\" class=\"col_heading level0 col0\" >Passenger Count</th>\n",
              "      <th id=\"T_c74b8_level0_col1\" class=\"col_heading level0 col1\" >Adjusted Passenger Count</th>\n",
              "      <th id=\"T_c74b8_level0_col2\" class=\"col_heading level0 col2\" >Year</th>\n",
              "    </tr>\n",
              "  </thead>\n",
              "  <tbody>\n",
              "    <tr>\n",
              "      <th id=\"T_c74b8_level0_row0\" class=\"row_heading level0 row0\" >Passenger Count</th>\n",
              "      <td id=\"T_c74b8_row0_col0\" class=\"data row0 col0\" >1.000000</td>\n",
              "      <td id=\"T_c74b8_row0_col1\" class=\"data row0 col1\" >0.999941</td>\n",
              "      <td id=\"T_c74b8_row0_col2\" class=\"data row0 col2\" >0.060069</td>\n",
              "    </tr>\n",
              "    <tr>\n",
              "      <th id=\"T_c74b8_level0_row1\" class=\"row_heading level0 row1\" >Adjusted Passenger Count</th>\n",
              "      <td id=\"T_c74b8_row1_col0\" class=\"data row1 col0\" >0.999941</td>\n",
              "      <td id=\"T_c74b8_row1_col1\" class=\"data row1 col1\" >1.000000</td>\n",
              "      <td id=\"T_c74b8_row1_col2\" class=\"data row1 col2\" >0.059096</td>\n",
              "    </tr>\n",
              "    <tr>\n",
              "      <th id=\"T_c74b8_level0_row2\" class=\"row_heading level0 row2\" >Year</th>\n",
              "      <td id=\"T_c74b8_row2_col0\" class=\"data row2 col0\" >0.060069</td>\n",
              "      <td id=\"T_c74b8_row2_col1\" class=\"data row2 col1\" >0.059096</td>\n",
              "      <td id=\"T_c74b8_row2_col2\" class=\"data row2 col2\" >1.000000</td>\n",
              "    </tr>\n",
              "  </tbody>\n",
              "</table>\n"
            ]
          },
          "metadata": {},
          "execution_count": 96
        }
      ]
    },
    {
      "cell_type": "code",
      "source": [
        "corr_matrix_s=Correlation.corr(df_vector,vector_col,\"spearman\").collect()[0][0].toArray().tolist()"
      ],
      "metadata": {
        "id": "OAcixW__rETE"
      },
      "execution_count": 97,
      "outputs": []
    },
    {
      "cell_type": "code",
      "source": [
        "corr_matrix_s_df=spark.createDataFrame(corr_matrix_s,no_str_df.columns)"
      ],
      "metadata": {
        "id": "esnWy-399EPL"
      },
      "execution_count": 98,
      "outputs": []
    },
    {
      "cell_type": "code",
      "source": [
        "corr_matrix_s_df.show()"
      ],
      "metadata": {
        "id": "rFTHo3hS9Tfa",
        "colab": {
          "base_uri": "https://localhost:8080/"
        },
        "outputId": "04565c50-0262-428d-d4b6-33c378a5c6b8"
      },
      "execution_count": 99,
      "outputs": [
        {
          "output_type": "stream",
          "name": "stdout",
          "text": [
            "+-------------------+------------------------+-------------------+\n",
            "|    Passenger Count|Adjusted Passenger Count|               Year|\n",
            "+-------------------+------------------------+-------------------+\n",
            "|                1.0|      0.9946303895085199|0.06538464949207762|\n",
            "| 0.9946303895085199|                     1.0|0.05661651859812159|\n",
            "|0.06538464949207762|     0.05661651859812159|                1.0|\n",
            "+-------------------+------------------------+-------------------+\n",
            "\n"
          ]
        }
      ]
    },
    {
      "cell_type": "code",
      "source": [
        "plot_corr_s=corr_matrix_s_df.toPandas()"
      ],
      "metadata": {
        "id": "KjYviHH49f1S"
      },
      "execution_count": 100,
      "outputs": []
    },
    {
      "cell_type": "code",
      "source": [
        "plot_corr_s.index=corr_matrix_s_df.columns"
      ],
      "metadata": {
        "id": "2HI0QL8X9oen"
      },
      "execution_count": 101,
      "outputs": []
    },
    {
      "cell_type": "code",
      "source": [
        "plot_corr_s.style.background_gradient(cmap='Reds')"
      ],
      "metadata": {
        "id": "iWWXir2W9y6H",
        "colab": {
          "base_uri": "https://localhost:8080/",
          "height": 142
        },
        "outputId": "ea12c344-15bb-4aa1-e3ed-7ecd595e4cc5"
      },
      "execution_count": 102,
      "outputs": [
        {
          "output_type": "execute_result",
          "data": {
            "text/plain": [
              "<pandas.io.formats.style.Styler at 0x7e658db95c60>"
            ],
            "text/html": [
              "<style type=\"text/css\">\n",
              "#T_e180a_row0_col0, #T_e180a_row1_col1, #T_e180a_row2_col2 {\n",
              "  background-color: #67000d;\n",
              "  color: #f1f1f1;\n",
              "}\n",
              "#T_e180a_row0_col1, #T_e180a_row1_col0 {\n",
              "  background-color: #69000d;\n",
              "  color: #f1f1f1;\n",
              "}\n",
              "#T_e180a_row0_col2 {\n",
              "  background-color: #fff4ee;\n",
              "  color: #000000;\n",
              "}\n",
              "#T_e180a_row1_col2, #T_e180a_row2_col0, #T_e180a_row2_col1 {\n",
              "  background-color: #fff5f0;\n",
              "  color: #000000;\n",
              "}\n",
              "</style>\n",
              "<table id=\"T_e180a\" class=\"dataframe\">\n",
              "  <thead>\n",
              "    <tr>\n",
              "      <th class=\"blank level0\" >&nbsp;</th>\n",
              "      <th id=\"T_e180a_level0_col0\" class=\"col_heading level0 col0\" >Passenger Count</th>\n",
              "      <th id=\"T_e180a_level0_col1\" class=\"col_heading level0 col1\" >Adjusted Passenger Count</th>\n",
              "      <th id=\"T_e180a_level0_col2\" class=\"col_heading level0 col2\" >Year</th>\n",
              "    </tr>\n",
              "  </thead>\n",
              "  <tbody>\n",
              "    <tr>\n",
              "      <th id=\"T_e180a_level0_row0\" class=\"row_heading level0 row0\" >Passenger Count</th>\n",
              "      <td id=\"T_e180a_row0_col0\" class=\"data row0 col0\" >1.000000</td>\n",
              "      <td id=\"T_e180a_row0_col1\" class=\"data row0 col1\" >0.994630</td>\n",
              "      <td id=\"T_e180a_row0_col2\" class=\"data row0 col2\" >0.065385</td>\n",
              "    </tr>\n",
              "    <tr>\n",
              "      <th id=\"T_e180a_level0_row1\" class=\"row_heading level0 row1\" >Adjusted Passenger Count</th>\n",
              "      <td id=\"T_e180a_row1_col0\" class=\"data row1 col0\" >0.994630</td>\n",
              "      <td id=\"T_e180a_row1_col1\" class=\"data row1 col1\" >1.000000</td>\n",
              "      <td id=\"T_e180a_row1_col2\" class=\"data row1 col2\" >0.056617</td>\n",
              "    </tr>\n",
              "    <tr>\n",
              "      <th id=\"T_e180a_level0_row2\" class=\"row_heading level0 row2\" >Year</th>\n",
              "      <td id=\"T_e180a_row2_col0\" class=\"data row2 col0\" >0.065385</td>\n",
              "      <td id=\"T_e180a_row2_col1\" class=\"data row2 col1\" >0.056617</td>\n",
              "      <td id=\"T_e180a_row2_col2\" class=\"data row2 col2\" >1.000000</td>\n",
              "    </tr>\n",
              "  </tbody>\n",
              "</table>\n"
            ]
          },
          "metadata": {},
          "execution_count": 102
        }
      ]
    },
    {
      "cell_type": "markdown",
      "source": [
        "***ANÁLISIS DEL ALGORITMO DE KMEANS***"
      ],
      "metadata": {
        "id": "7KKoKx1U-v_B"
      }
    },
    {
      "cell_type": "code",
      "source": [
        "from pyspark.sql import SparkSession"
      ],
      "metadata": {
        "id": "6D1ogqno_Kxc"
      },
      "execution_count": 103,
      "outputs": []
    },
    {
      "cell_type": "code",
      "source": [
        "spark=SparkSession.builder.appName(\"my_app\").getOrCreate()"
      ],
      "metadata": {
        "id": "L1hfMwqp_e2r"
      },
      "execution_count": 104,
      "outputs": []
    },
    {
      "cell_type": "code",
      "source": [
        "df=spark.read.csv(\"/drive/MyDrive/Air_Traffic_Passenger_Statistics.csv\",header=True,inferSchema=True)"
      ],
      "metadata": {
        "id": "eSbv8cZECkAq"
      },
      "execution_count": 105,
      "outputs": []
    },
    {
      "cell_type": "code",
      "source": [
        "df.printSchema()"
      ],
      "metadata": {
        "id": "mcBKcItlN6iV",
        "colab": {
          "base_uri": "https://localhost:8080/"
        },
        "outputId": "043ad58e-1b30-461a-8d14-6f01a764ee0d"
      },
      "execution_count": 106,
      "outputs": [
        {
          "output_type": "stream",
          "name": "stdout",
          "text": [
            "root\n",
            " |-- Activity Period: integer (nullable = true)\n",
            " |-- Operating Airline: string (nullable = true)\n",
            " |-- Operating Airline IATA Code: string (nullable = true)\n",
            " |-- Published Airline: string (nullable = true)\n",
            " |-- Published Airline IATA Code: string (nullable = true)\n",
            " |-- GEO Summary: string (nullable = true)\n",
            " |-- GEO Region: string (nullable = true)\n",
            " |-- Activity Type Code: string (nullable = true)\n",
            " |-- Price Category Code: string (nullable = true)\n",
            " |-- Terminal: string (nullable = true)\n",
            " |-- Boarding Area: string (nullable = true)\n",
            " |-- Passenger Count: integer (nullable = true)\n",
            " |-- Adjusted Activity Type Code: string (nullable = true)\n",
            " |-- Adjusted Passenger Count: integer (nullable = true)\n",
            " |-- Year: integer (nullable = true)\n",
            " |-- Month: string (nullable = true)\n",
            "\n"
          ]
        }
      ]
    },
    {
      "cell_type": "code",
      "source": [
        "df.show(5)"
      ],
      "metadata": {
        "id": "TOBCUrvCDKiJ",
        "colab": {
          "base_uri": "https://localhost:8080/"
        },
        "outputId": "559b15a9-6182-4a70-b5e6-f86e4e34fc3e"
      },
      "execution_count": 107,
      "outputs": [
        {
          "output_type": "stream",
          "name": "stdout",
          "text": [
            "+---------------+-----------------+---------------------------+-----------------+---------------------------+-------------+----------+------------------+-------------------+----------+-------------+---------------+---------------------------+------------------------+----+-----+\n",
            "|Activity Period|Operating Airline|Operating Airline IATA Code|Published Airline|Published Airline IATA Code|  GEO Summary|GEO Region|Activity Type Code|Price Category Code|  Terminal|Boarding Area|Passenger Count|Adjusted Activity Type Code|Adjusted Passenger Count|Year|Month|\n",
            "+---------------+-----------------+---------------------------+-----------------+---------------------------+-------------+----------+------------------+-------------------+----------+-------------+---------------+---------------------------+------------------------+----+-----+\n",
            "|         200507|     ATA Airlines|                         TZ|     ATA Airlines|                         TZ|     Domestic|        US|          Deplaned|           Low Fare|Terminal 1|            B|          27271|                   Deplaned|                   27271|2005| July|\n",
            "|         200507|     ATA Airlines|                         TZ|     ATA Airlines|                         TZ|     Domestic|        US|          Enplaned|           Low Fare|Terminal 1|            B|          29131|                   Enplaned|                   29131|2005| July|\n",
            "|         200507|     ATA Airlines|                         TZ|     ATA Airlines|                         TZ|     Domestic|        US|    Thru / Transit|           Low Fare|Terminal 1|            B|           5415|         Thru / Transit * 2|                   10830|2005| July|\n",
            "|         200507|      Air Canada |                         AC|      Air Canada |                         AC|International|    Canada|          Deplaned|              Other|Terminal 1|            B|          35156|                   Deplaned|                   35156|2005| July|\n",
            "|         200507|      Air Canada |                         AC|      Air Canada |                         AC|International|    Canada|          Enplaned|              Other|Terminal 1|            B|          34090|                   Enplaned|                   34090|2005| July|\n",
            "+---------------+-----------------+---------------------------+-----------------+---------------------------+-------------+----------+------------------+-------------------+----------+-------------+---------------+---------------------------+------------------------+----+-----+\n",
            "only showing top 5 rows\n",
            "\n"
          ]
        }
      ]
    },
    {
      "cell_type": "code",
      "source": [
        "df.describe().toPandas()"
      ],
      "metadata": {
        "id": "nLi-Db2WDihG",
        "colab": {
          "base_uri": "https://localhost:8080/",
          "height": 238
        },
        "outputId": "e16ec450-1837-473b-e249-8eb5392e492c"
      },
      "execution_count": 108,
      "outputs": [
        {
          "output_type": "execute_result",
          "data": {
            "text/plain": [
              "  summary     Activity Period Operating Airline Operating Airline IATA Code  \\\n",
              "0   count               15007             15007                       14953   \n",
              "1    mean  201045.07336576266              None                        None   \n",
              "2  stddev  313.33619609986414              None                        None   \n",
              "3     min              200507      ATA Airlines                          4T   \n",
              "4     max              201603      Xtra Airways                          YX   \n",
              "\n",
              "  Published Airline Published Airline IATA Code    GEO Summary GEO Region  \\\n",
              "0             15007                       14953          15007      15007   \n",
              "1              None                        None           None       None   \n",
              "2              None                        None           None       None   \n",
              "3      ATA Airlines                          4T       Domestic       Asia   \n",
              "4      Xtra Airways                          YX  International         US   \n",
              "\n",
              "  Activity Type Code Price Category Code       Terminal Boarding Area  \\\n",
              "0              15007               15007          15007         15007   \n",
              "1               None                None           None          None   \n",
              "2               None                None           None          None   \n",
              "3           Deplaned            Low Fare  International             A   \n",
              "4     Thru / Transit               Other     Terminal 3         Other   \n",
              "\n",
              "      Passenger Count Adjusted Activity Type Code Adjusted Passenger Count  \\\n",
              "0               15007                       15007                    15007   \n",
              "1  29240.521090157927                        None       29331.917105350836   \n",
              "2  58319.509284123524                        None         58284.1822186625   \n",
              "3                   1                    Deplaned                        1   \n",
              "4              659837          Thru / Transit * 2                   659837   \n",
              "\n",
              "                Year      Month  \n",
              "0              15007      15007  \n",
              "1  2010.385220230559       None  \n",
              "2  3.137589043169972       None  \n",
              "3               2005      April  \n",
              "4               2016  September  "
            ],
            "text/html": [
              "\n",
              "  <div id=\"df-b7038ac5-94b9-4552-95cd-bed1bf3e9966\" class=\"colab-df-container\">\n",
              "    <div>\n",
              "<style scoped>\n",
              "    .dataframe tbody tr th:only-of-type {\n",
              "        vertical-align: middle;\n",
              "    }\n",
              "\n",
              "    .dataframe tbody tr th {\n",
              "        vertical-align: top;\n",
              "    }\n",
              "\n",
              "    .dataframe thead th {\n",
              "        text-align: right;\n",
              "    }\n",
              "</style>\n",
              "<table border=\"1\" class=\"dataframe\">\n",
              "  <thead>\n",
              "    <tr style=\"text-align: right;\">\n",
              "      <th></th>\n",
              "      <th>summary</th>\n",
              "      <th>Activity Period</th>\n",
              "      <th>Operating Airline</th>\n",
              "      <th>Operating Airline IATA Code</th>\n",
              "      <th>Published Airline</th>\n",
              "      <th>Published Airline IATA Code</th>\n",
              "      <th>GEO Summary</th>\n",
              "      <th>GEO Region</th>\n",
              "      <th>Activity Type Code</th>\n",
              "      <th>Price Category Code</th>\n",
              "      <th>Terminal</th>\n",
              "      <th>Boarding Area</th>\n",
              "      <th>Passenger Count</th>\n",
              "      <th>Adjusted Activity Type Code</th>\n",
              "      <th>Adjusted Passenger Count</th>\n",
              "      <th>Year</th>\n",
              "      <th>Month</th>\n",
              "    </tr>\n",
              "  </thead>\n",
              "  <tbody>\n",
              "    <tr>\n",
              "      <th>0</th>\n",
              "      <td>count</td>\n",
              "      <td>15007</td>\n",
              "      <td>15007</td>\n",
              "      <td>14953</td>\n",
              "      <td>15007</td>\n",
              "      <td>14953</td>\n",
              "      <td>15007</td>\n",
              "      <td>15007</td>\n",
              "      <td>15007</td>\n",
              "      <td>15007</td>\n",
              "      <td>15007</td>\n",
              "      <td>15007</td>\n",
              "      <td>15007</td>\n",
              "      <td>15007</td>\n",
              "      <td>15007</td>\n",
              "      <td>15007</td>\n",
              "      <td>15007</td>\n",
              "    </tr>\n",
              "    <tr>\n",
              "      <th>1</th>\n",
              "      <td>mean</td>\n",
              "      <td>201045.07336576266</td>\n",
              "      <td>None</td>\n",
              "      <td>None</td>\n",
              "      <td>None</td>\n",
              "      <td>None</td>\n",
              "      <td>None</td>\n",
              "      <td>None</td>\n",
              "      <td>None</td>\n",
              "      <td>None</td>\n",
              "      <td>None</td>\n",
              "      <td>None</td>\n",
              "      <td>29240.521090157927</td>\n",
              "      <td>None</td>\n",
              "      <td>29331.917105350836</td>\n",
              "      <td>2010.385220230559</td>\n",
              "      <td>None</td>\n",
              "    </tr>\n",
              "    <tr>\n",
              "      <th>2</th>\n",
              "      <td>stddev</td>\n",
              "      <td>313.33619609986414</td>\n",
              "      <td>None</td>\n",
              "      <td>None</td>\n",
              "      <td>None</td>\n",
              "      <td>None</td>\n",
              "      <td>None</td>\n",
              "      <td>None</td>\n",
              "      <td>None</td>\n",
              "      <td>None</td>\n",
              "      <td>None</td>\n",
              "      <td>None</td>\n",
              "      <td>58319.509284123524</td>\n",
              "      <td>None</td>\n",
              "      <td>58284.1822186625</td>\n",
              "      <td>3.137589043169972</td>\n",
              "      <td>None</td>\n",
              "    </tr>\n",
              "    <tr>\n",
              "      <th>3</th>\n",
              "      <td>min</td>\n",
              "      <td>200507</td>\n",
              "      <td>ATA Airlines</td>\n",
              "      <td>4T</td>\n",
              "      <td>ATA Airlines</td>\n",
              "      <td>4T</td>\n",
              "      <td>Domestic</td>\n",
              "      <td>Asia</td>\n",
              "      <td>Deplaned</td>\n",
              "      <td>Low Fare</td>\n",
              "      <td>International</td>\n",
              "      <td>A</td>\n",
              "      <td>1</td>\n",
              "      <td>Deplaned</td>\n",
              "      <td>1</td>\n",
              "      <td>2005</td>\n",
              "      <td>April</td>\n",
              "    </tr>\n",
              "    <tr>\n",
              "      <th>4</th>\n",
              "      <td>max</td>\n",
              "      <td>201603</td>\n",
              "      <td>Xtra Airways</td>\n",
              "      <td>YX</td>\n",
              "      <td>Xtra Airways</td>\n",
              "      <td>YX</td>\n",
              "      <td>International</td>\n",
              "      <td>US</td>\n",
              "      <td>Thru / Transit</td>\n",
              "      <td>Other</td>\n",
              "      <td>Terminal 3</td>\n",
              "      <td>Other</td>\n",
              "      <td>659837</td>\n",
              "      <td>Thru / Transit * 2</td>\n",
              "      <td>659837</td>\n",
              "      <td>2016</td>\n",
              "      <td>September</td>\n",
              "    </tr>\n",
              "  </tbody>\n",
              "</table>\n",
              "</div>\n",
              "    <div class=\"colab-df-buttons\">\n",
              "\n",
              "  <div class=\"colab-df-container\">\n",
              "    <button class=\"colab-df-convert\" onclick=\"convertToInteractive('df-b7038ac5-94b9-4552-95cd-bed1bf3e9966')\"\n",
              "            title=\"Convert this dataframe to an interactive table.\"\n",
              "            style=\"display:none;\">\n",
              "\n",
              "  <svg xmlns=\"http://www.w3.org/2000/svg\" height=\"24px\" viewBox=\"0 -960 960 960\">\n",
              "    <path d=\"M120-120v-720h720v720H120Zm60-500h600v-160H180v160Zm220 220h160v-160H400v160Zm0 220h160v-160H400v160ZM180-400h160v-160H180v160Zm440 0h160v-160H620v160ZM180-180h160v-160H180v160Zm440 0h160v-160H620v160Z\"/>\n",
              "  </svg>\n",
              "    </button>\n",
              "\n",
              "  <style>\n",
              "    .colab-df-container {\n",
              "      display:flex;\n",
              "      gap: 12px;\n",
              "    }\n",
              "\n",
              "    .colab-df-convert {\n",
              "      background-color: #E8F0FE;\n",
              "      border: none;\n",
              "      border-radius: 50%;\n",
              "      cursor: pointer;\n",
              "      display: none;\n",
              "      fill: #1967D2;\n",
              "      height: 32px;\n",
              "      padding: 0 0 0 0;\n",
              "      width: 32px;\n",
              "    }\n",
              "\n",
              "    .colab-df-convert:hover {\n",
              "      background-color: #E2EBFA;\n",
              "      box-shadow: 0px 1px 2px rgba(60, 64, 67, 0.3), 0px 1px 3px 1px rgba(60, 64, 67, 0.15);\n",
              "      fill: #174EA6;\n",
              "    }\n",
              "\n",
              "    .colab-df-buttons div {\n",
              "      margin-bottom: 4px;\n",
              "    }\n",
              "\n",
              "    [theme=dark] .colab-df-convert {\n",
              "      background-color: #3B4455;\n",
              "      fill: #D2E3FC;\n",
              "    }\n",
              "\n",
              "    [theme=dark] .colab-df-convert:hover {\n",
              "      background-color: #434B5C;\n",
              "      box-shadow: 0px 1px 3px 1px rgba(0, 0, 0, 0.15);\n",
              "      filter: drop-shadow(0px 1px 2px rgba(0, 0, 0, 0.3));\n",
              "      fill: #FFFFFF;\n",
              "    }\n",
              "  </style>\n",
              "\n",
              "    <script>\n",
              "      const buttonEl =\n",
              "        document.querySelector('#df-b7038ac5-94b9-4552-95cd-bed1bf3e9966 button.colab-df-convert');\n",
              "      buttonEl.style.display =\n",
              "        google.colab.kernel.accessAllowed ? 'block' : 'none';\n",
              "\n",
              "      async function convertToInteractive(key) {\n",
              "        const element = document.querySelector('#df-b7038ac5-94b9-4552-95cd-bed1bf3e9966');\n",
              "        const dataTable =\n",
              "          await google.colab.kernel.invokeFunction('convertToInteractive',\n",
              "                                                    [key], {});\n",
              "        if (!dataTable) return;\n",
              "\n",
              "        const docLinkHtml = 'Like what you see? Visit the ' +\n",
              "          '<a target=\"_blank\" href=https://colab.research.google.com/notebooks/data_table.ipynb>data table notebook</a>'\n",
              "          + ' to learn more about interactive tables.';\n",
              "        element.innerHTML = '';\n",
              "        dataTable['output_type'] = 'display_data';\n",
              "        await google.colab.output.renderOutput(dataTable, element);\n",
              "        const docLink = document.createElement('div');\n",
              "        docLink.innerHTML = docLinkHtml;\n",
              "        element.appendChild(docLink);\n",
              "      }\n",
              "    </script>\n",
              "  </div>\n",
              "\n",
              "\n",
              "<div id=\"df-da24c23b-0c05-42cc-a2d5-2e616d219ee8\">\n",
              "  <button class=\"colab-df-quickchart\" onclick=\"quickchart('df-da24c23b-0c05-42cc-a2d5-2e616d219ee8')\"\n",
              "            title=\"Suggest charts.\"\n",
              "            style=\"display:none;\">\n",
              "\n",
              "<svg xmlns=\"http://www.w3.org/2000/svg\" height=\"24px\"viewBox=\"0 0 24 24\"\n",
              "     width=\"24px\">\n",
              "    <g>\n",
              "        <path d=\"M19 3H5c-1.1 0-2 .9-2 2v14c0 1.1.9 2 2 2h14c1.1 0 2-.9 2-2V5c0-1.1-.9-2-2-2zM9 17H7v-7h2v7zm4 0h-2V7h2v10zm4 0h-2v-4h2v4z\"/>\n",
              "    </g>\n",
              "</svg>\n",
              "  </button>\n",
              "\n",
              "<style>\n",
              "  .colab-df-quickchart {\n",
              "      --bg-color: #E8F0FE;\n",
              "      --fill-color: #1967D2;\n",
              "      --hover-bg-color: #E2EBFA;\n",
              "      --hover-fill-color: #174EA6;\n",
              "      --disabled-fill-color: #AAA;\n",
              "      --disabled-bg-color: #DDD;\n",
              "  }\n",
              "\n",
              "  [theme=dark] .colab-df-quickchart {\n",
              "      --bg-color: #3B4455;\n",
              "      --fill-color: #D2E3FC;\n",
              "      --hover-bg-color: #434B5C;\n",
              "      --hover-fill-color: #FFFFFF;\n",
              "      --disabled-bg-color: #3B4455;\n",
              "      --disabled-fill-color: #666;\n",
              "  }\n",
              "\n",
              "  .colab-df-quickchart {\n",
              "    background-color: var(--bg-color);\n",
              "    border: none;\n",
              "    border-radius: 50%;\n",
              "    cursor: pointer;\n",
              "    display: none;\n",
              "    fill: var(--fill-color);\n",
              "    height: 32px;\n",
              "    padding: 0;\n",
              "    width: 32px;\n",
              "  }\n",
              "\n",
              "  .colab-df-quickchart:hover {\n",
              "    background-color: var(--hover-bg-color);\n",
              "    box-shadow: 0 1px 2px rgba(60, 64, 67, 0.3), 0 1px 3px 1px rgba(60, 64, 67, 0.15);\n",
              "    fill: var(--button-hover-fill-color);\n",
              "  }\n",
              "\n",
              "  .colab-df-quickchart-complete:disabled,\n",
              "  .colab-df-quickchart-complete:disabled:hover {\n",
              "    background-color: var(--disabled-bg-color);\n",
              "    fill: var(--disabled-fill-color);\n",
              "    box-shadow: none;\n",
              "  }\n",
              "\n",
              "  .colab-df-spinner {\n",
              "    border: 2px solid var(--fill-color);\n",
              "    border-color: transparent;\n",
              "    border-bottom-color: var(--fill-color);\n",
              "    animation:\n",
              "      spin 1s steps(1) infinite;\n",
              "  }\n",
              "\n",
              "  @keyframes spin {\n",
              "    0% {\n",
              "      border-color: transparent;\n",
              "      border-bottom-color: var(--fill-color);\n",
              "      border-left-color: var(--fill-color);\n",
              "    }\n",
              "    20% {\n",
              "      border-color: transparent;\n",
              "      border-left-color: var(--fill-color);\n",
              "      border-top-color: var(--fill-color);\n",
              "    }\n",
              "    30% {\n",
              "      border-color: transparent;\n",
              "      border-left-color: var(--fill-color);\n",
              "      border-top-color: var(--fill-color);\n",
              "      border-right-color: var(--fill-color);\n",
              "    }\n",
              "    40% {\n",
              "      border-color: transparent;\n",
              "      border-right-color: var(--fill-color);\n",
              "      border-top-color: var(--fill-color);\n",
              "    }\n",
              "    60% {\n",
              "      border-color: transparent;\n",
              "      border-right-color: var(--fill-color);\n",
              "    }\n",
              "    80% {\n",
              "      border-color: transparent;\n",
              "      border-right-color: var(--fill-color);\n",
              "      border-bottom-color: var(--fill-color);\n",
              "    }\n",
              "    90% {\n",
              "      border-color: transparent;\n",
              "      border-bottom-color: var(--fill-color);\n",
              "    }\n",
              "  }\n",
              "</style>\n",
              "\n",
              "  <script>\n",
              "    async function quickchart(key) {\n",
              "      const quickchartButtonEl =\n",
              "        document.querySelector('#' + key + ' button');\n",
              "      quickchartButtonEl.disabled = true;  // To prevent multiple clicks.\n",
              "      quickchartButtonEl.classList.add('colab-df-spinner');\n",
              "      try {\n",
              "        const charts = await google.colab.kernel.invokeFunction(\n",
              "            'suggestCharts', [key], {});\n",
              "      } catch (error) {\n",
              "        console.error('Error during call to suggestCharts:', error);\n",
              "      }\n",
              "      quickchartButtonEl.classList.remove('colab-df-spinner');\n",
              "      quickchartButtonEl.classList.add('colab-df-quickchart-complete');\n",
              "    }\n",
              "    (() => {\n",
              "      let quickchartButtonEl =\n",
              "        document.querySelector('#df-da24c23b-0c05-42cc-a2d5-2e616d219ee8 button');\n",
              "      quickchartButtonEl.style.display =\n",
              "        google.colab.kernel.accessAllowed ? 'block' : 'none';\n",
              "    })();\n",
              "  </script>\n",
              "</div>\n",
              "    </div>\n",
              "  </div>\n"
            ]
          },
          "metadata": {},
          "execution_count": 108
        }
      ]
    },
    {
      "cell_type": "code",
      "source": [
        "from pyspark.ml.linalg import Vectors"
      ],
      "metadata": {
        "id": "-1-R1EyCqaGv"
      },
      "execution_count": 109,
      "outputs": []
    },
    {
      "cell_type": "code",
      "source": [
        "from pyspark.ml.feature import VectorAssembler"
      ],
      "metadata": {
        "id": "qMG2wN4usaZK"
      },
      "execution_count": 110,
      "outputs": []
    },
    {
      "cell_type": "code",
      "source": [
        "df.columns"
      ],
      "metadata": {
        "id": "QM34dOI_slD_",
        "colab": {
          "base_uri": "https://localhost:8080/"
        },
        "outputId": "fbe29518-e20c-49d7-d0f9-e3e2031417d4"
      },
      "execution_count": 111,
      "outputs": [
        {
          "output_type": "execute_result",
          "data": {
            "text/plain": [
              "['Activity Period',\n",
              " 'Operating Airline',\n",
              " 'Operating Airline IATA Code',\n",
              " 'Published Airline',\n",
              " 'Published Airline IATA Code',\n",
              " 'GEO Summary',\n",
              " 'GEO Region',\n",
              " 'Activity Type Code',\n",
              " 'Price Category Code',\n",
              " 'Terminal',\n",
              " 'Boarding Area',\n",
              " 'Passenger Count',\n",
              " 'Adjusted Activity Type Code',\n",
              " 'Adjusted Passenger Count',\n",
              " 'Year',\n",
              " 'Month']"
            ]
          },
          "metadata": {},
          "execution_count": 111
        }
      ]
    },
    {
      "cell_type": "markdown",
      "source": [
        "CREAMOS LA COLUMNA FEAT_COLS"
      ],
      "metadata": {
        "id": "1gj16UYf4Ylx"
      }
    },
    {
      "cell_type": "code",
      "source": [
        "feat_cols=['Activity Period',\n",
        "'Passenger Count',\n",
        "'Adjusted Passenger Count',\n",
        "'Year']"
      ],
      "metadata": {
        "id": "KoSVwydEspv2"
      },
      "execution_count": 112,
      "outputs": []
    },
    {
      "cell_type": "code",
      "source": [
        "assembler=VectorAssembler(inputCols=feat_cols,outputCol='features')"
      ],
      "metadata": {
        "id": "CUORAZoMt2c1"
      },
      "execution_count": 113,
      "outputs": []
    },
    {
      "cell_type": "code",
      "source": [
        "final_df=assembler.transform(df)"
      ],
      "metadata": {
        "id": "WWx8UFymuMfX"
      },
      "execution_count": 114,
      "outputs": []
    },
    {
      "cell_type": "code",
      "source": [
        "final_df.select(\"features\").show(5)"
      ],
      "metadata": {
        "id": "QSHvlkweQyhl",
        "colab": {
          "base_uri": "https://localhost:8080/"
        },
        "outputId": "21652f59-1e30-4233-da1c-3beadbaea068"
      },
      "execution_count": 115,
      "outputs": [
        {
          "output_type": "stream",
          "name": "stdout",
          "text": [
            "+--------------------+\n",
            "|            features|\n",
            "+--------------------+\n",
            "|[200507.0,27271.0...|\n",
            "|[200507.0,29131.0...|\n",
            "|[200507.0,5415.0,...|\n",
            "|[200507.0,35156.0...|\n",
            "|[200507.0,34090.0...|\n",
            "+--------------------+\n",
            "only showing top 5 rows\n",
            "\n"
          ]
        }
      ]
    },
    {
      "cell_type": "code",
      "source": [
        "from pyspark.ml.feature import StandardScaler"
      ],
      "metadata": {
        "id": "9opjmHcXvZjr"
      },
      "execution_count": 116,
      "outputs": []
    },
    {
      "cell_type": "code",
      "source": [
        "scaler=StandardScaler(inputCol='features',\n",
        "                      outputCol='scaled_feat',\n",
        "                      withStd=True,\n",
        "                      withMean=False)"
      ],
      "metadata": {
        "id": "sczJNh4Gv2CV"
      },
      "execution_count": 117,
      "outputs": []
    },
    {
      "cell_type": "code",
      "source": [
        "scaled_model=scaler.fit(final_df)"
      ],
      "metadata": {
        "id": "6CdYWd_owelW"
      },
      "execution_count": 118,
      "outputs": []
    },
    {
      "cell_type": "code",
      "source": [
        "cluster_df=scaled_model.transform(final_df)"
      ],
      "metadata": {
        "id": "o9Bl3Qmiy800"
      },
      "execution_count": 119,
      "outputs": []
    },
    {
      "cell_type": "code",
      "source": [
        "from pyspark.ml.clustering import KMeans\n",
        "from pyspark.ml.evaluation import ClusteringEvaluator"
      ],
      "metadata": {
        "id": "4S3IxjYnzOZH"
      },
      "execution_count": 120,
      "outputs": []
    },
    {
      "cell_type": "code",
      "source": [
        "evaluator=ClusteringEvaluator(predictionCol=\"prediction\",\n",
        "                         featuresCol=\"features\",\n",
        "                         metricName=\"silhouette\",\n",
        "                         distanceMeasure=\"squaredEuclidean\")"
      ],
      "metadata": {
        "id": "dxEL09FDzXrZ"
      },
      "execution_count": 121,
      "outputs": []
    },
    {
      "cell_type": "code",
      "source": [
        "silhouette_score=[]\n",
        "for i in range(2,10):\n",
        "  kmeans=KMeans(featuresCol='features',k=i)\n",
        "  model=kmeans.fit(final_df)\n",
        "  predictions=model.transform(final_df)\n",
        "  score=evaluator.evaluate(predictions)\n",
        "  silhouette_score.append(score)\n",
        "  print('Silhouette Score for k=',i,'is',score)"
      ],
      "metadata": {
        "id": "hYAIiDF66GAl",
        "colab": {
          "base_uri": "https://localhost:8080/"
        },
        "outputId": "c2ae08ff-c261-4970-fae8-581724c7b16d"
      },
      "execution_count": 122,
      "outputs": [
        {
          "output_type": "stream",
          "name": "stdout",
          "text": [
            "Silhouette Score for k= 2 is 0.9647493098057984\n",
            "Silhouette Score for k= 3 is 0.9176042673190565\n",
            "Silhouette Score for k= 4 is 0.9138377727117977\n",
            "Silhouette Score for k= 5 is 0.8132033674792459\n",
            "Silhouette Score for k= 6 is 0.8564045430654645\n",
            "Silhouette Score for k= 7 is 0.7934972167116727\n",
            "Silhouette Score for k= 8 is 0.8002262724932235\n",
            "Silhouette Score for k= 9 is 0.8018168484503501\n"
          ]
        }
      ]
    },
    {
      "cell_type": "code",
      "source": [
        "import matplotlib.pyplot as plt\n",
        "plt.plot(range(2,10),silhouette_score)\n",
        "plt.xlabel('k')\n",
        "plt.ylabel('silhouette score')\n",
        "plt.title('Silhouette Score')\n",
        "plt.show()"
      ],
      "metadata": {
        "id": "xXAUWsQx7l53",
        "colab": {
          "base_uri": "https://localhost:8080/",
          "height": 472
        },
        "outputId": "bb0c7dd7-25ab-409f-e866-74d6ac2597b7"
      },
      "execution_count": 123,
      "outputs": [
        {
          "output_type": "display_data",
          "data": {
            "text/plain": [
              "<Figure size 640x480 with 1 Axes>"
            ],
            "image/png": "[encoded data removed]"
          },
          "metadata": {}
        }
      ]
    },
    {
      "cell_type": "markdown",
      "source": [
        "***ENTRENAR EL MODELO***"
      ],
      "metadata": {
        "id": "XzUG-mvy5UYA"
      }
    },
    {
      "cell_type": "code",
      "source": [
        "kmeans=KMeans(featuresCol='features',k=6)\n",
        "model=kmeans.fit(final_df)\n",
        "predictions=model.transform(final_df)"
      ],
      "metadata": {
        "id": "gZmWFM1ySSpt"
      },
      "execution_count": 124,
      "outputs": []
    },
    {
      "cell_type": "code",
      "source": [
        "centers=model.clusterCenters()\n",
        "print('cluster Centers')\n",
        "for center in centers:\n",
        "  print (center)"
      ],
      "metadata": {
        "id": "0N98dDipTMBd",
        "colab": {
          "base_uri": "https://localhost:8080/"
        },
        "outputId": "4afd5585-2167-4992-849f-877776158e33"
      },
      "execution_count": 125,
      "outputs": [
        {
          "output_type": "stream",
          "name": "stdout",
          "text": [
            "cluster Centers\n",
            "[201041.49544073   8244.51984368   8362.2785063    2010.34963092]\n",
            "[201199.79090909 141615.02727273 141615.02727273   2011.92987013]\n",
            "[201084.08214286 345624.18571429 345624.18571429   2010.775     ]\n",
            "[200998.96659708  77522.53235908  77522.53235908   2009.92379958]\n",
            "[201012.03265306  38050.80204082  38061.40680272   2010.05510204]\n",
            "[201322.57142857 561231.85714286 561231.85714286   2013.14285714]\n"
          ]
        }
      ]
    },
    {
      "cell_type": "markdown",
      "source": [
        "***ENTRENAR EL MODELO***"
      ],
      "metadata": {
        "id": "p7TGwcRm8XlQ"
      }
    },
    {
      "cell_type": "code",
      "source": [
        "kmeans=KMeans(featuresCol='features',k=7)\n",
        "model=kmeans.fit(final_df)\n",
        "predictions=model.transform(final_df)"
      ],
      "metadata": {
        "id": "k-XQEJL68WNI"
      },
      "execution_count": 126,
      "outputs": []
    },
    {
      "cell_type": "code",
      "source": [
        "centers=model.clusterCenters()\n",
        "print(\"Cluster Centers:\")\n",
        "for center in centers:\n",
        "  print(centers)"
      ],
      "metadata": {
        "id": "Al4U8X3m8907",
        "colab": {
          "base_uri": "https://localhost:8080/"
        },
        "outputId": "7e283509-8aa4-4fb7-d5f0-7d442d9f3821"
      },
      "execution_count": 127,
      "outputs": [
        {
          "output_type": "stream",
          "name": "stdout",
          "text": [
            "Cluster Centers:\n",
            "[array([201054.28828484,  22448.3797856 ,  22471.14701378,   2010.47664625]), array([201035.58190759,   6430.91547997,   6565.33941195,   2010.29064645]), array([200985.37704918, 394524.59016393, 394524.59016393,   2009.78142077]), array([201010.07815126,  57281.52521008,  57281.52521008,   2010.03445378]), array([201293.95588235, 280029.61764706, 280029.61764706,   2012.88235294]), array([201198.38056013, 143944.62602965, 143944.62602965,   2011.91268534]), array([201033.95366795,  99582.5       ,  99582.5       ,   2010.27992278])]\n",
            "[array([201054.28828484,  22448.3797856 ,  22471.14701378,   2010.47664625]), array([201035.58190759,   6430.91547997,   6565.33941195,   2010.29064645]), array([200985.37704918, 394524.59016393, 394524.59016393,   2009.78142077]), array([201010.07815126,  57281.52521008,  57281.52521008,   2010.03445378]), array([201293.95588235, 280029.61764706, 280029.61764706,   2012.88235294]), array([201198.38056013, 143944.62602965, 143944.62602965,   2011.91268534]), array([201033.95366795,  99582.5       ,  99582.5       ,   2010.27992278])]\n",
            "[array([201054.28828484,  22448.3797856 ,  22471.14701378,   2010.47664625]), array([201035.58190759,   6430.91547997,   6565.33941195,   2010.29064645]), array([200985.37704918, 394524.59016393, 394524.59016393,   2009.78142077]), array([201010.07815126,  57281.52521008,  57281.52521008,   2010.03445378]), array([201293.95588235, 280029.61764706, 280029.61764706,   2012.88235294]), array([201198.38056013, 143944.62602965, 143944.62602965,   2011.91268534]), array([201033.95366795,  99582.5       ,  99582.5       ,   2010.27992278])]\n",
            "[array([201054.28828484,  22448.3797856 ,  22471.14701378,   2010.47664625]), array([201035.58190759,   6430.91547997,   6565.33941195,   2010.29064645]), array([200985.37704918, 394524.59016393, 394524.59016393,   2009.78142077]), array([201010.07815126,  57281.52521008,  57281.52521008,   2010.03445378]), array([201293.95588235, 280029.61764706, 280029.61764706,   2012.88235294]), array([201198.38056013, 143944.62602965, 143944.62602965,   2011.91268534]), array([201033.95366795,  99582.5       ,  99582.5       ,   2010.27992278])]\n",
            "[array([201054.28828484,  22448.3797856 ,  22471.14701378,   2010.47664625]), array([201035.58190759,   6430.91547997,   6565.33941195,   2010.29064645]), array([200985.37704918, 394524.59016393, 394524.59016393,   2009.78142077]), array([201010.07815126,  57281.52521008,  57281.52521008,   2010.03445378]), array([201293.95588235, 280029.61764706, 280029.61764706,   2012.88235294]), array([201198.38056013, 143944.62602965, 143944.62602965,   2011.91268534]), array([201033.95366795,  99582.5       ,  99582.5       ,   2010.27992278])]\n",
            "[array([201054.28828484,  22448.3797856 ,  22471.14701378,   2010.47664625]), array([201035.58190759,   6430.91547997,   6565.33941195,   2010.29064645]), array([200985.37704918, 394524.59016393, 394524.59016393,   2009.78142077]), array([201010.07815126,  57281.52521008,  57281.52521008,   2010.03445378]), array([201293.95588235, 280029.61764706, 280029.61764706,   2012.88235294]), array([201198.38056013, 143944.62602965, 143944.62602965,   2011.91268534]), array([201033.95366795,  99582.5       ,  99582.5       ,   2010.27992278])]\n",
            "[array([201054.28828484,  22448.3797856 ,  22471.14701378,   2010.47664625]), array([201035.58190759,   6430.91547997,   6565.33941195,   2010.29064645]), array([200985.37704918, 394524.59016393, 394524.59016393,   2009.78142077]), array([201010.07815126,  57281.52521008,  57281.52521008,   2010.03445378]), array([201293.95588235, 280029.61764706, 280029.61764706,   2012.88235294]), array([201198.38056013, 143944.62602965, 143944.62602965,   2011.91268534]), array([201033.95366795,  99582.5       ,  99582.5       ,   2010.27992278])]\n"
          ]
        }
      ]
    },
    {
      "cell_type": "code",
      "source": [
        "predictions.select('prediction').show(5)"
      ],
      "metadata": {
        "id": "AQGtwH3F9S_o",
        "colab": {
          "base_uri": "https://localhost:8080/"
        },
        "outputId": "26e2d338-f9e8-4a60-e3d9-a39a0a81ebd2"
      },
      "execution_count": 128,
      "outputs": [
        {
          "output_type": "stream",
          "name": "stdout",
          "text": [
            "+----------+\n",
            "|prediction|\n",
            "+----------+\n",
            "|         0|\n",
            "|         0|\n",
            "|         1|\n",
            "|         0|\n",
            "|         0|\n",
            "+----------+\n",
            "only showing top 5 rows\n",
            "\n"
          ]
        }
      ]
    },
    {
      "cell_type": "code",
      "source": [
        "from pyspark.ml.clustering import KMeans"
      ],
      "metadata": {
        "id": "Y9tWFacg-KvE"
      },
      "execution_count": 129,
      "outputs": []
    },
    {
      "cell_type": "code",
      "source": [
        "kmeans=KMeans(k=7)"
      ],
      "metadata": {
        "id": "mv5kwAD9-TG2"
      },
      "execution_count": 130,
      "outputs": []
    },
    {
      "cell_type": "code",
      "source": [
        "model=kmeans.fit(final_df.select('features'))"
      ],
      "metadata": {
        "id": "a3m0x-fW-ZMw"
      },
      "execution_count": 131,
      "outputs": []
    },
    {
      "cell_type": "code",
      "source": [
        "transformed=model.transform(final_df)"
      ],
      "metadata": {
        "id": "b_ZP4CSF-mKX"
      },
      "execution_count": 132,
      "outputs": []
    },
    {
      "cell_type": "code",
      "source": [
        "from pyspark.ml.clustering import BisectingKMeans"
      ],
      "metadata": {
        "id": "P5F-V85J-wfC"
      },
      "execution_count": 133,
      "outputs": []
    },
    {
      "cell_type": "code",
      "source": [
        "bkm=BisectingKMeans().setK(7).setSeed(1)"
      ],
      "metadata": {
        "id": "FzqtBu5b-43s"
      },
      "execution_count": 134,
      "outputs": []
    },
    {
      "cell_type": "code",
      "source": [
        "model=bkm.fit(final_df)"
      ],
      "metadata": {
        "id": "rtgY8gw8_F8s"
      },
      "execution_count": 135,
      "outputs": []
    },
    {
      "cell_type": "code",
      "source": [
        "predictions=model.transform(final_df)"
      ],
      "metadata": {
        "id": "ptYfJ3Q7_NRn"
      },
      "execution_count": 136,
      "outputs": []
    },
    {
      "cell_type": "code",
      "source": [
        "from sklearn.cluster import KMeans\n",
        "import pandas as pd\n",
        "from sklearn.preprocessing import MinMaxScaler\n",
        "from matplotlib import pyplot as plt"
      ],
      "metadata": {
        "id": "_e_BzVHmrlCC"
      },
      "execution_count": 137,
      "outputs": []
    },
    {
      "cell_type": "code",
      "source": [
        "df=pd.read_csv(\"/drive/MyDrive/Air_Traffic_Passenger_Statistics.csv\")"
      ],
      "metadata": {
        "id": "q87gis-IsCZ8"
      },
      "execution_count": 138,
      "outputs": []
    },
    {
      "cell_type": "code",
      "source": [
        "df.head()"
      ],
      "metadata": {
        "id": "J5rg7qu7sUfy",
        "colab": {
          "base_uri": "https://localhost:8080/",
          "height": 221
        },
        "outputId": "b145a5ef-1927-43ab-baa9-10041424534f"
      },
      "execution_count": 139,
      "outputs": [
        {
          "output_type": "execute_result",
          "data": {
            "text/plain": [
              "   Activity Period Operating Airline Operating Airline IATA Code  \\\n",
              "0           200507      ATA Airlines                          TZ   \n",
              "1           200507      ATA Airlines                          TZ   \n",
              "2           200507      ATA Airlines                          TZ   \n",
              "3           200507       Air Canada                           AC   \n",
              "4           200507       Air Canada                           AC   \n",
              "\n",
              "  Published Airline Published Airline IATA Code    GEO Summary GEO Region  \\\n",
              "0      ATA Airlines                          TZ       Domestic         US   \n",
              "1      ATA Airlines                          TZ       Domestic         US   \n",
              "2      ATA Airlines                          TZ       Domestic         US   \n",
              "3       Air Canada                           AC  International     Canada   \n",
              "4       Air Canada                           AC  International     Canada   \n",
              "\n",
              "  Activity Type Code Price Category Code    Terminal Boarding Area  \\\n",
              "0           Deplaned            Low Fare  Terminal 1             B   \n",
              "1           Enplaned            Low Fare  Terminal 1             B   \n",
              "2     Thru / Transit            Low Fare  Terminal 1             B   \n",
              "3           Deplaned               Other  Terminal 1             B   \n",
              "4           Enplaned               Other  Terminal 1             B   \n",
              "\n",
              "   Passenger Count Adjusted Activity Type Code  Adjusted Passenger Count  \\\n",
              "0            27271                    Deplaned                     27271   \n",
              "1            29131                    Enplaned                     29131   \n",
              "2             5415          Thru / Transit * 2                     10830   \n",
              "3            35156                    Deplaned                     35156   \n",
              "4            34090                    Enplaned                     34090   \n",
              "\n",
              "   Year Month  \n",
              "0  2005  July  \n",
              "1  2005  July  \n",
              "2  2005  July  \n",
              "3  2005  July  \n",
              "4  2005  July  "
            ],
            "text/html": [
              "\n",
              "  <div id=\"df-c1d42744-30f6-401f-aa8a-e34b187d9063\" class=\"colab-df-container\">\n",
              "    <div>\n",
              "<style scoped>\n",
              "    .dataframe tbody tr th:only-of-type {\n",
              "        vertical-align: middle;\n",
              "    }\n",
              "\n",
              "    .dataframe tbody tr th {\n",
              "        vertical-align: top;\n",
              "    }\n",
              "\n",
              "    .dataframe thead th {\n",
              "        text-align: right;\n",
              "    }\n",
              "</style>\n",
              "<table border=\"1\" class=\"dataframe\">\n",
              "  <thead>\n",
              "    <tr style=\"text-align: right;\">\n",
              "      <th></th>\n",
              "      <th>Activity Period</th>\n",
              "      <th>Operating Airline</th>\n",
              "      <th>Operating Airline IATA Code</th>\n",
              "      <th>Published Airline</th>\n",
              "      <th>Published Airline IATA Code</th>\n",
              "      <th>GEO Summary</th>\n",
              "      <th>GEO Region</th>\n",
              "      <th>Activity Type Code</th>\n",
              "      <th>Price Category Code</th>\n",
              "      <th>Terminal</th>\n",
              "      <th>Boarding Area</th>\n",
              "      <th>Passenger Count</th>\n",
              "      <th>Adjusted Activity Type Code</th>\n",
              "      <th>Adjusted Passenger Count</th>\n",
              "      <th>Year</th>\n",
              "      <th>Month</th>\n",
              "    </tr>\n",
              "  </thead>\n",
              "  <tbody>\n",
              "    <tr>\n",
              "      <th>0</th>\n",
              "      <td>200507</td>\n",
              "      <td>ATA Airlines</td>\n",
              "      <td>TZ</td>\n",
              "      <td>ATA Airlines</td>\n",
              "      <td>TZ</td>\n",
              "      <td>Domestic</td>\n",
              "      <td>US</td>\n",
              "      <td>Deplaned</td>\n",
              "      <td>Low Fare</td>\n",
              "      <td>Terminal 1</td>\n",
              "      <td>B</td>\n",
              "      <td>27271</td>\n",
              "      <td>Deplaned</td>\n",
              "      <td>27271</td>\n",
              "      <td>2005</td>\n",
              "      <td>July</td>\n",
              "    </tr>\n",
              "    <tr>\n",
              "      <th>1</th>\n",
              "      <td>200507</td>\n",
              "      <td>ATA Airlines</td>\n",
              "      <td>TZ</td>\n",
              "      <td>ATA Airlines</td>\n",
              "      <td>TZ</td>\n",
              "      <td>Domestic</td>\n",
              "      <td>US</td>\n",
              "      <td>Enplaned</td>\n",
              "      <td>Low Fare</td>\n",
              "      <td>Terminal 1</td>\n",
              "      <td>B</td>\n",
              "      <td>29131</td>\n",
              "      <td>Enplaned</td>\n",
              "      <td>29131</td>\n",
              "      <td>2005</td>\n",
              "      <td>July</td>\n",
              "    </tr>\n",
              "    <tr>\n",
              "      <th>2</th>\n",
              "      <td>200507</td>\n",
              "      <td>ATA Airlines</td>\n",
              "      <td>TZ</td>\n",
              "      <td>ATA Airlines</td>\n",
              "      <td>TZ</td>\n",
              "      <td>Domestic</td>\n",
              "      <td>US</td>\n",
              "      <td>Thru / Transit</td>\n",
              "      <td>Low Fare</td>\n",
              "      <td>Terminal 1</td>\n",
              "      <td>B</td>\n",
              "      <td>5415</td>\n",
              "      <td>Thru / Transit * 2</td>\n",
              "      <td>10830</td>\n",
              "      <td>2005</td>\n",
              "      <td>July</td>\n",
              "    </tr>\n",
              "    <tr>\n",
              "      <th>3</th>\n",
              "      <td>200507</td>\n",
              "      <td>Air Canada</td>\n",
              "      <td>AC</td>\n",
              "      <td>Air Canada</td>\n",
              "      <td>AC</td>\n",
              "      <td>International</td>\n",
              "      <td>Canada</td>\n",
              "      <td>Deplaned</td>\n",
              "      <td>Other</td>\n",
              "      <td>Terminal 1</td>\n",
              "      <td>B</td>\n",
              "      <td>35156</td>\n",
              "      <td>Deplaned</td>\n",
              "      <td>35156</td>\n",
              "      <td>2005</td>\n",
              "      <td>July</td>\n",
              "    </tr>\n",
              "    <tr>\n",
              "      <th>4</th>\n",
              "      <td>200507</td>\n",
              "      <td>Air Canada</td>\n",
              "      <td>AC</td>\n",
              "      <td>Air Canada</td>\n",
              "      <td>AC</td>\n",
              "      <td>International</td>\n",
              "      <td>Canada</td>\n",
              "      <td>Enplaned</td>\n",
              "      <td>Other</td>\n",
              "      <td>Terminal 1</td>\n",
              "      <td>B</td>\n",
              "      <td>34090</td>\n",
              "      <td>Enplaned</td>\n",
              "      <td>34090</td>\n",
              "      <td>2005</td>\n",
              "      <td>July</td>\n",
              "    </tr>\n",
              "  </tbody>\n",
              "</table>\n",
              "</div>\n",
              "    <div class=\"colab-df-buttons\">\n",
              "\n",
              "  <div class=\"colab-df-container\">\n",
              "    <button class=\"colab-df-convert\" onclick=\"convertToInteractive('df-c1d42744-30f6-401f-aa8a-e34b187d9063')\"\n",
              "            title=\"Convert this dataframe to an interactive table.\"\n",
              "            style=\"display:none;\">\n",
              "\n",
              "  <svg xmlns=\"http://www.w3.org/2000/svg\" height=\"24px\" viewBox=\"0 -960 960 960\">\n",
              "    <path d=\"M120-120v-720h720v720H120Zm60-500h600v-160H180v160Zm220 220h160v-160H400v160Zm0 220h160v-160H400v160ZM180-400h160v-160H180v160Zm440 0h160v-160H620v160ZM180-180h160v-160H180v160Zm440 0h160v-160H620v160Z\"/>\n",
              "  </svg>\n",
              "    </button>\n",
              "\n",
              "  <style>\n",
              "    .colab-df-container {\n",
              "      display:flex;\n",
              "      gap: 12px;\n",
              "    }\n",
              "\n",
              "    .colab-df-convert {\n",
              "      background-color: #E8F0FE;\n",
              "      border: none;\n",
              "      border-radius: 50%;\n",
              "      cursor: pointer;\n",
              "      display: none;\n",
              "      fill: #1967D2;\n",
              "      height: 32px;\n",
              "      padding: 0 0 0 0;\n",
              "      width: 32px;\n",
              "    }\n",
              "\n",
              "    .colab-df-convert:hover {\n",
              "      background-color: #E2EBFA;\n",
              "      box-shadow: 0px 1px 2px rgba(60, 64, 67, 0.3), 0px 1px 3px 1px rgba(60, 64, 67, 0.15);\n",
              "      fill: #174EA6;\n",
              "    }\n",
              "\n",
              "    .colab-df-buttons div {\n",
              "      margin-bottom: 4px;\n",
              "    }\n",
              "\n",
              "    [theme=dark] .colab-df-convert {\n",
              "      background-color: #3B4455;\n",
              "      fill: #D2E3FC;\n",
              "    }\n",
              "\n",
              "    [theme=dark] .colab-df-convert:hover {\n",
              "      background-color: #434B5C;\n",
              "      box-shadow: 0px 1px 3px 1px rgba(0, 0, 0, 0.15);\n",
              "      filter: drop-shadow(0px 1px 2px rgba(0, 0, 0, 0.3));\n",
              "      fill: #FFFFFF;\n",
              "    }\n",
              "  </style>\n",
              "\n",
              "    <script>\n",
              "      const buttonEl =\n",
              "        document.querySelector('#df-c1d42744-30f6-401f-aa8a-e34b187d9063 button.colab-df-convert');\n",
              "      buttonEl.style.display =\n",
              "        google.colab.kernel.accessAllowed ? 'block' : 'none';\n",
              "\n",
              "      async function convertToInteractive(key) {\n",
              "        const element = document.querySelector('#df-c1d42744-30f6-401f-aa8a-e34b187d9063');\n",
              "        const dataTable =\n",
              "          await google.colab.kernel.invokeFunction('convertToInteractive',\n",
              "                                                    [key], {});\n",
              "        if (!dataTable) return;\n",
              "\n",
              "        const docLinkHtml = 'Like what you see? Visit the ' +\n",
              "          '<a target=\"_blank\" href=https://colab.research.google.com/notebooks/data_table.ipynb>data table notebook</a>'\n",
              "          + ' to learn more about interactive tables.';\n",
              "        element.innerHTML = '';\n",
              "        dataTable['output_type'] = 'display_data';\n",
              "        await google.colab.output.renderOutput(dataTable, element);\n",
              "        const docLink = document.createElement('div');\n",
              "        docLink.innerHTML = docLinkHtml;\n",
              "        element.appendChild(docLink);\n",
              "      }\n",
              "    </script>\n",
              "  </div>\n",
              "\n",
              "\n",
              "<div id=\"df-8b188a4d-95f3-46a4-957c-79874b044294\">\n",
              "  <button class=\"colab-df-quickchart\" onclick=\"quickchart('df-8b188a4d-95f3-46a4-957c-79874b044294')\"\n",
              "            title=\"Suggest charts.\"\n",
              "            style=\"display:none;\">\n",
              "\n",
              "<svg xmlns=\"http://www.w3.org/2000/svg\" height=\"24px\"viewBox=\"0 0 24 24\"\n",
              "     width=\"24px\">\n",
              "    <g>\n",
              "        <path d=\"M19 3H5c-1.1 0-2 .9-2 2v14c0 1.1.9 2 2 2h14c1.1 0 2-.9 2-2V5c0-1.1-.9-2-2-2zM9 17H7v-7h2v7zm4 0h-2V7h2v10zm4 0h-2v-4h2v4z\"/>\n",
              "    </g>\n",
              "</svg>\n",
              "  </button>\n",
              "\n",
              "<style>\n",
              "  .colab-df-quickchart {\n",
              "      --bg-color: #E8F0FE;\n",
              "      --fill-color: #1967D2;\n",
              "      --hover-bg-color: #E2EBFA;\n",
              "      --hover-fill-color: #174EA6;\n",
              "      --disabled-fill-color: #AAA;\n",
              "      --disabled-bg-color: #DDD;\n",
              "  }\n",
              "\n",
              "  [theme=dark] .colab-df-quickchart {\n",
              "      --bg-color: #3B4455;\n",
              "      --fill-color: #D2E3FC;\n",
              "      --hover-bg-color: #434B5C;\n",
              "      --hover-fill-color: #FFFFFF;\n",
              "      --disabled-bg-color: #3B4455;\n",
              "      --disabled-fill-color: #666;\n",
              "  }\n",
              "\n",
              "  .colab-df-quickchart {\n",
              "    background-color: var(--bg-color);\n",
              "    border: none;\n",
              "    border-radius: 50%;\n",
              "    cursor: pointer;\n",
              "    display: none;\n",
              "    fill: var(--fill-color);\n",
              "    height: 32px;\n",
              "    padding: 0;\n",
              "    width: 32px;\n",
              "  }\n",
              "\n",
              "  .colab-df-quickchart:hover {\n",
              "    background-color: var(--hover-bg-color);\n",
              "    box-shadow: 0 1px 2px rgba(60, 64, 67, 0.3), 0 1px 3px 1px rgba(60, 64, 67, 0.15);\n",
              "    fill: var(--button-hover-fill-color);\n",
              "  }\n",
              "\n",
              "  .colab-df-quickchart-complete:disabled,\n",
              "  .colab-df-quickchart-complete:disabled:hover {\n",
              "    background-color: var(--disabled-bg-color);\n",
              "    fill: var(--disabled-fill-color);\n",
              "    box-shadow: none;\n",
              "  }\n",
              "\n",
              "  .colab-df-spinner {\n",
              "    border: 2px solid var(--fill-color);\n",
              "    border-color: transparent;\n",
              "    border-bottom-color: var(--fill-color);\n",
              "    animation:\n",
              "      spin 1s steps(1) infinite;\n",
              "  }\n",
              "\n",
              "  @keyframes spin {\n",
              "    0% {\n",
              "      border-color: transparent;\n",
              "      border-bottom-color: var(--fill-color);\n",
              "      border-left-color: var(--fill-color);\n",
              "    }\n",
              "    20% {\n",
              "      border-color: transparent;\n",
              "      border-left-color: var(--fill-color);\n",
              "      border-top-color: var(--fill-color);\n",
              "    }\n",
              "    30% {\n",
              "      border-color: transparent;\n",
              "      border-left-color: var(--fill-color);\n",
              "      border-top-color: var(--fill-color);\n",
              "      border-right-color: var(--fill-color);\n",
              "    }\n",
              "    40% {\n",
              "      border-color: transparent;\n",
              "      border-right-color: var(--fill-color);\n",
              "      border-top-color: var(--fill-color);\n",
              "    }\n",
              "    60% {\n",
              "      border-color: transparent;\n",
              "      border-right-color: var(--fill-color);\n",
              "    }\n",
              "    80% {\n",
              "      border-color: transparent;\n",
              "      border-right-color: var(--fill-color);\n",
              "      border-bottom-color: var(--fill-color);\n",
              "    }\n",
              "    90% {\n",
              "      border-color: transparent;\n",
              "      border-bottom-color: var(--fill-color);\n",
              "    }\n",
              "  }\n",
              "</style>\n",
              "\n",
              "  <script>\n",
              "    async function quickchart(key) {\n",
              "      const quickchartButtonEl =\n",
              "        document.querySelector('#' + key + ' button');\n",
              "      quickchartButtonEl.disabled = true;  // To prevent multiple clicks.\n",
              "      quickchartButtonEl.classList.add('colab-df-spinner');\n",
              "      try {\n",
              "        const charts = await google.colab.kernel.invokeFunction(\n",
              "            'suggestCharts', [key], {});\n",
              "      } catch (error) {\n",
              "        console.error('Error during call to suggestCharts:', error);\n",
              "      }\n",
              "      quickchartButtonEl.classList.remove('colab-df-spinner');\n",
              "      quickchartButtonEl.classList.add('colab-df-quickchart-complete');\n",
              "    }\n",
              "    (() => {\n",
              "      let quickchartButtonEl =\n",
              "        document.querySelector('#df-8b188a4d-95f3-46a4-957c-79874b044294 button');\n",
              "      quickchartButtonEl.style.display =\n",
              "        google.colab.kernel.accessAllowed ? 'block' : 'none';\n",
              "    })();\n",
              "  </script>\n",
              "</div>\n",
              "    </div>\n",
              "  </div>\n"
            ]
          },
          "metadata": {},
          "execution_count": 139
        }
      ]
    },
    {
      "cell_type": "code",
      "source": [
        "plt.scatter(df.Year,df['Passenger Count'])\n",
        "plt.xlabel('Year')\n",
        "plt.ylabel('Passenger Count(5)')"
      ],
      "metadata": {
        "id": "DARZJ2Hbsb0f",
        "colab": {
          "base_uri": "https://localhost:8080/",
          "height": 466
        },
        "outputId": "0691cc3c-cc0b-4980-9db9-b7057f9510a3"
      },
      "execution_count": 140,
      "outputs": [
        {
          "output_type": "execute_result",
          "data": {
            "text/plain": [
              "Text(0, 0.5, 'Passenger Count(5)')"
            ]
          },
          "metadata": {},
          "execution_count": 140
        },
        {
          "output_type": "display_data",
          "data": {
            "text/plain": [
              "<Figure size 640x480 with 1 Axes>"
            ],
            "image/png": "[encoded data removed]"
          },
          "metadata": {}
        }
      ]
    },
    {
      "cell_type": "code",
      "source": [
        "km=KMeans(n_clusters=3)\n",
        "y_predicted=km.fit_predict(df[['Year','Passenger Count']])\n",
        "y_predicted"
      ],
      "metadata": {
        "id": "TRuSpTXJywPZ",
        "colab": {
          "base_uri": "https://localhost:8080/"
        },
        "outputId": "260d990f-2f23-4bfd-c085-ffd7cbd7e095"
      },
      "execution_count": 141,
      "outputs": [
        {
          "output_type": "stream",
          "name": "stderr",
          "text": [
            "/usr/local/lib/python3.10/dist-packages/sklearn/cluster/_kmeans.py:870: FutureWarning: The default value of `n_init` will change from 10 to 'auto' in 1.4. Set the value of `n_init` explicitly to suppress the warning\n",
            "  warnings.warn(\n"
          ]
        },
        {
          "output_type": "execute_result",
          "data": {
            "text/plain": [
              "array([0, 0, 0, ..., 0, 0, 0], dtype=int32)"
            ]
          },
          "metadata": {},
          "execution_count": 141
        }
      ]
    },
    {
      "cell_type": "code",
      "source": [
        "df['cluster']=y_predicted\n",
        "df.head()"
      ],
      "metadata": {
        "id": "DAqhacsSzQ_K",
        "colab": {
          "base_uri": "https://localhost:8080/",
          "height": 221
        },
        "outputId": "82b7b8df-889a-4e49-9638-7e38095bf4dd"
      },
      "execution_count": 142,
      "outputs": [
        {
          "output_type": "execute_result",
          "data": {
            "text/plain": [
              "   Activity Period Operating Airline Operating Airline IATA Code  \\\n",
              "0           200507      ATA Airlines                          TZ   \n",
              "1           200507      ATA Airlines                          TZ   \n",
              "2           200507      ATA Airlines                          TZ   \n",
              "3           200507       Air Canada                           AC   \n",
              "4           200507       Air Canada                           AC   \n",
              "\n",
              "  Published Airline Published Airline IATA Code    GEO Summary GEO Region  \\\n",
              "0      ATA Airlines                          TZ       Domestic         US   \n",
              "1      ATA Airlines                          TZ       Domestic         US   \n",
              "2      ATA Airlines                          TZ       Domestic         US   \n",
              "3       Air Canada                           AC  International     Canada   \n",
              "4       Air Canada                           AC  International     Canada   \n",
              "\n",
              "  Activity Type Code Price Category Code    Terminal Boarding Area  \\\n",
              "0           Deplaned            Low Fare  Terminal 1             B   \n",
              "1           Enplaned            Low Fare  Terminal 1             B   \n",
              "2     Thru / Transit            Low Fare  Terminal 1             B   \n",
              "3           Deplaned               Other  Terminal 1             B   \n",
              "4           Enplaned               Other  Terminal 1             B   \n",
              "\n",
              "   Passenger Count Adjusted Activity Type Code  Adjusted Passenger Count  \\\n",
              "0            27271                    Deplaned                     27271   \n",
              "1            29131                    Enplaned                     29131   \n",
              "2             5415          Thru / Transit * 2                     10830   \n",
              "3            35156                    Deplaned                     35156   \n",
              "4            34090                    Enplaned                     34090   \n",
              "\n",
              "   Year Month  cluster  \n",
              "0  2005  July        0  \n",
              "1  2005  July        0  \n",
              "2  2005  July        0  \n",
              "3  2005  July        0  \n",
              "4  2005  July        0  "
            ],
            "text/html": [
              "\n",
              "  <div id=\"df-0696ea77-85f6-46f7-8449-cf09b1eec436\" class=\"colab-df-container\">\n",
              "    <div>\n",
              "<style scoped>\n",
              "    .dataframe tbody tr th:only-of-type {\n",
              "        vertical-align: middle;\n",
              "    }\n",
              "\n",
              "    .dataframe tbody tr th {\n",
              "        vertical-align: top;\n",
              "    }\n",
              "\n",
              "    .dataframe thead th {\n",
              "        text-align: right;\n",
              "    }\n",
              "</style>\n",
              "<table border=\"1\" class=\"dataframe\">\n",
              "  <thead>\n",
              "    <tr style=\"text-align: right;\">\n",
              "      <th></th>\n",
              "      <th>Activity Period</th>\n",
              "      <th>Operating Airline</th>\n",
              "      <th>Operating Airline IATA Code</th>\n",
              "      <th>Published Airline</th>\n",
              "      <th>Published Airline IATA Code</th>\n",
              "      <th>GEO Summary</th>\n",
              "      <th>GEO Region</th>\n",
              "      <th>Activity Type Code</th>\n",
              "      <th>Price Category Code</th>\n",
              "      <th>Terminal</th>\n",
              "      <th>Boarding Area</th>\n",
              "      <th>Passenger Count</th>\n",
              "      <th>Adjusted Activity Type Code</th>\n",
              "      <th>Adjusted Passenger Count</th>\n",
              "      <th>Year</th>\n",
              "      <th>Month</th>\n",
              "      <th>cluster</th>\n",
              "    </tr>\n",
              "  </thead>\n",
              "  <tbody>\n",
              "    <tr>\n",
              "      <th>0</th>\n",
              "      <td>200507</td>\n",
              "      <td>ATA Airlines</td>\n",
              "      <td>TZ</td>\n",
              "      <td>ATA Airlines</td>\n",
              "      <td>TZ</td>\n",
              "      <td>Domestic</td>\n",
              "      <td>US</td>\n",
              "      <td>Deplaned</td>\n",
              "      <td>Low Fare</td>\n",
              "      <td>Terminal 1</td>\n",
              "      <td>B</td>\n",
              "      <td>27271</td>\n",
              "      <td>Deplaned</td>\n",
              "      <td>27271</td>\n",
              "      <td>2005</td>\n",
              "      <td>July</td>\n",
              "      <td>0</td>\n",
              "    </tr>\n",
              "    <tr>\n",
              "      <th>1</th>\n",
              "      <td>200507</td>\n",
              "      <td>ATA Airlines</td>\n",
              "      <td>TZ</td>\n",
              "      <td>ATA Airlines</td>\n",
              "      <td>TZ</td>\n",
              "      <td>Domestic</td>\n",
              "      <td>US</td>\n",
              "      <td>Enplaned</td>\n",
              "      <td>Low Fare</td>\n",
              "      <td>Terminal 1</td>\n",
              "      <td>B</td>\n",
              "      <td>29131</td>\n",
              "      <td>Enplaned</td>\n",
              "      <td>29131</td>\n",
              "      <td>2005</td>\n",
              "      <td>July</td>\n",
              "      <td>0</td>\n",
              "    </tr>\n",
              "    <tr>\n",
              "      <th>2</th>\n",
              "      <td>200507</td>\n",
              "      <td>ATA Airlines</td>\n",
              "      <td>TZ</td>\n",
              "      <td>ATA Airlines</td>\n",
              "      <td>TZ</td>\n",
              "      <td>Domestic</td>\n",
              "      <td>US</td>\n",
              "      <td>Thru / Transit</td>\n",
              "      <td>Low Fare</td>\n",
              "      <td>Terminal 1</td>\n",
              "      <td>B</td>\n",
              "      <td>5415</td>\n",
              "      <td>Thru / Transit * 2</td>\n",
              "      <td>10830</td>\n",
              "      <td>2005</td>\n",
              "      <td>July</td>\n",
              "      <td>0</td>\n",
              "    </tr>\n",
              "    <tr>\n",
              "      <th>3</th>\n",
              "      <td>200507</td>\n",
              "      <td>Air Canada</td>\n",
              "      <td>AC</td>\n",
              "      <td>Air Canada</td>\n",
              "      <td>AC</td>\n",
              "      <td>International</td>\n",
              "      <td>Canada</td>\n",
              "      <td>Deplaned</td>\n",
              "      <td>Other</td>\n",
              "      <td>Terminal 1</td>\n",
              "      <td>B</td>\n",
              "      <td>35156</td>\n",
              "      <td>Deplaned</td>\n",
              "      <td>35156</td>\n",
              "      <td>2005</td>\n",
              "      <td>July</td>\n",
              "      <td>0</td>\n",
              "    </tr>\n",
              "    <tr>\n",
              "      <th>4</th>\n",
              "      <td>200507</td>\n",
              "      <td>Air Canada</td>\n",
              "      <td>AC</td>\n",
              "      <td>Air Canada</td>\n",
              "      <td>AC</td>\n",
              "      <td>International</td>\n",
              "      <td>Canada</td>\n",
              "      <td>Enplaned</td>\n",
              "      <td>Other</td>\n",
              "      <td>Terminal 1</td>\n",
              "      <td>B</td>\n",
              "      <td>34090</td>\n",
              "      <td>Enplaned</td>\n",
              "      <td>34090</td>\n",
              "      <td>2005</td>\n",
              "      <td>July</td>\n",
              "      <td>0</td>\n",
              "    </tr>\n",
              "  </tbody>\n",
              "</table>\n",
              "</div>\n",
              "    <div class=\"colab-df-buttons\">\n",
              "\n",
              "  <div class=\"colab-df-container\">\n",
              "    <button class=\"colab-df-convert\" onclick=\"convertToInteractive('df-0696ea77-85f6-46f7-8449-cf09b1eec436')\"\n",
              "            title=\"Convert this dataframe to an interactive table.\"\n",
              "            style=\"display:none;\">\n",
              "\n",
              "  <svg xmlns=\"http://www.w3.org/2000/svg\" height=\"24px\" viewBox=\"0 -960 960 960\">\n",
              "    <path d=\"M120-120v-720h720v720H120Zm60-500h600v-160H180v160Zm220 220h160v-160H400v160Zm0 220h160v-160H400v160ZM180-400h160v-160H180v160Zm440 0h160v-160H620v160ZM180-180h160v-160H180v160Zm440 0h160v-160H620v160Z\"/>\n",
              "  </svg>\n",
              "    </button>\n",
              "\n",
              "  <style>\n",
              "    .colab-df-container {\n",
              "      display:flex;\n",
              "      gap: 12px;\n",
              "    }\n",
              "\n",
              "    .colab-df-convert {\n",
              "      background-color: #E8F0FE;\n",
              "      border: none;\n",
              "      border-radius: 50%;\n",
              "      cursor: pointer;\n",
              "      display: none;\n",
              "      fill: #1967D2;\n",
              "      height: 32px;\n",
              "      padding: 0 0 0 0;\n",
              "      width: 32px;\n",
              "    }\n",
              "\n",
              "    .colab-df-convert:hover {\n",
              "      background-color: #E2EBFA;\n",
              "      box-shadow: 0px 1px 2px rgba(60, 64, 67, 0.3), 0px 1px 3px 1px rgba(60, 64, 67, 0.15);\n",
              "      fill: #174EA6;\n",
              "    }\n",
              "\n",
              "    .colab-df-buttons div {\n",
              "      margin-bottom: 4px;\n",
              "    }\n",
              "\n",
              "    [theme=dark] .colab-df-convert {\n",
              "      background-color: #3B4455;\n",
              "      fill: #D2E3FC;\n",
              "    }\n",
              "\n",
              "    [theme=dark] .colab-df-convert:hover {\n",
              "      background-color: #434B5C;\n",
              "      box-shadow: 0px 1px 3px 1px rgba(0, 0, 0, 0.15);\n",
              "      filter: drop-shadow(0px 1px 2px rgba(0, 0, 0, 0.3));\n",
              "      fill: #FFFFFF;\n",
              "    }\n",
              "  </style>\n",
              "\n",
              "    <script>\n",
              "      const buttonEl =\n",
              "        document.querySelector('#df-0696ea77-85f6-46f7-8449-cf09b1eec436 button.colab-df-convert');\n",
              "      buttonEl.style.display =\n",
              "        google.colab.kernel.accessAllowed ? 'block' : 'none';\n",
              "\n",
              "      async function convertToInteractive(key) {\n",
              "        const element = document.querySelector('#df-0696ea77-85f6-46f7-8449-cf09b1eec436');\n",
              "        const dataTable =\n",
              "          await google.colab.kernel.invokeFunction('convertToInteractive',\n",
              "                                                    [key], {});\n",
              "        if (!dataTable) return;\n",
              "\n",
              "        const docLinkHtml = 'Like what you see? Visit the ' +\n",
              "          '<a target=\"_blank\" href=https://colab.research.google.com/notebooks/data_table.ipynb>data table notebook</a>'\n",
              "          + ' to learn more about interactive tables.';\n",
              "        element.innerHTML = '';\n",
              "        dataTable['output_type'] = 'display_data';\n",
              "        await google.colab.output.renderOutput(dataTable, element);\n",
              "        const docLink = document.createElement('div');\n",
              "        docLink.innerHTML = docLinkHtml;\n",
              "        element.appendChild(docLink);\n",
              "      }\n",
              "    </script>\n",
              "  </div>\n",
              "\n",
              "\n",
              "<div id=\"df-b7c5ea21-fcaa-4660-aa95-cf6250250208\">\n",
              "  <button class=\"colab-df-quickchart\" onclick=\"quickchart('df-b7c5ea21-fcaa-4660-aa95-cf6250250208')\"\n",
              "            title=\"Suggest charts.\"\n",
              "            style=\"display:none;\">\n",
              "\n",
              "<svg xmlns=\"http://www.w3.org/2000/svg\" height=\"24px\"viewBox=\"0 0 24 24\"\n",
              "     width=\"24px\">\n",
              "    <g>\n",
              "        <path d=\"M19 3H5c-1.1 0-2 .9-2 2v14c0 1.1.9 2 2 2h14c1.1 0 2-.9 2-2V5c0-1.1-.9-2-2-2zM9 17H7v-7h2v7zm4 0h-2V7h2v10zm4 0h-2v-4h2v4z\"/>\n",
              "    </g>\n",
              "</svg>\n",
              "  </button>\n",
              "\n",
              "<style>\n",
              "  .colab-df-quickchart {\n",
              "      --bg-color: #E8F0FE;\n",
              "      --fill-color: #1967D2;\n",
              "      --hover-bg-color: #E2EBFA;\n",
              "      --hover-fill-color: #174EA6;\n",
              "      --disabled-fill-color: #AAA;\n",
              "      --disabled-bg-color: #DDD;\n",
              "  }\n",
              "\n",
              "  [theme=dark] .colab-df-quickchart {\n",
              "      --bg-color: #3B4455;\n",
              "      --fill-color: #D2E3FC;\n",
              "      --hover-bg-color: #434B5C;\n",
              "      --hover-fill-color: #FFFFFF;\n",
              "      --disabled-bg-color: #3B4455;\n",
              "      --disabled-fill-color: #666;\n",
              "  }\n",
              "\n",
              "  .colab-df-quickchart {\n",
              "    background-color: var(--bg-color);\n",
              "    border: none;\n",
              "    border-radius: 50%;\n",
              "    cursor: pointer;\n",
              "    display: none;\n",
              "    fill: var(--fill-color);\n",
              "    height: 32px;\n",
              "    padding: 0;\n",
              "    width: 32px;\n",
              "  }\n",
              "\n",
              "  .colab-df-quickchart:hover {\n",
              "    background-color: var(--hover-bg-color);\n",
              "    box-shadow: 0 1px 2px rgba(60, 64, 67, 0.3), 0 1px 3px 1px rgba(60, 64, 67, 0.15);\n",
              "    fill: var(--button-hover-fill-color);\n",
              "  }\n",
              "\n",
              "  .colab-df-quickchart-complete:disabled,\n",
              "  .colab-df-quickchart-complete:disabled:hover {\n",
              "    background-color: var(--disabled-bg-color);\n",
              "    fill: var(--disabled-fill-color);\n",
              "    box-shadow: none;\n",
              "  }\n",
              "\n",
              "  .colab-df-spinner {\n",
              "    border: 2px solid var(--fill-color);\n",
              "    border-color: transparent;\n",
              "    border-bottom-color: var(--fill-color);\n",
              "    animation:\n",
              "      spin 1s steps(1) infinite;\n",
              "  }\n",
              "\n",
              "  @keyframes spin {\n",
              "    0% {\n",
              "      border-color: transparent;\n",
              "      border-bottom-color: var(--fill-color);\n",
              "      border-left-color: var(--fill-color);\n",
              "    }\n",
              "    20% {\n",
              "      border-color: transparent;\n",
              "      border-left-color: var(--fill-color);\n",
              "      border-top-color: var(--fill-color);\n",
              "    }\n",
              "    30% {\n",
              "      border-color: transparent;\n",
              "      border-left-color: var(--fill-color);\n",
              "      border-top-color: var(--fill-color);\n",
              "      border-right-color: var(--fill-color);\n",
              "    }\n",
              "    40% {\n",
              "      border-color: transparent;\n",
              "      border-right-color: var(--fill-color);\n",
              "      border-top-color: var(--fill-color);\n",
              "    }\n",
              "    60% {\n",
              "      border-color: transparent;\n",
              "      border-right-color: var(--fill-color);\n",
              "    }\n",
              "    80% {\n",
              "      border-color: transparent;\n",
              "      border-right-color: var(--fill-color);\n",
              "      border-bottom-color: var(--fill-color);\n",
              "    }\n",
              "    90% {\n",
              "      border-color: transparent;\n",
              "      border-bottom-color: var(--fill-color);\n",
              "    }\n",
              "  }\n",
              "</style>\n",
              "\n",
              "  <script>\n",
              "    async function quickchart(key) {\n",
              "      const quickchartButtonEl =\n",
              "        document.querySelector('#' + key + ' button');\n",
              "      quickchartButtonEl.disabled = true;  // To prevent multiple clicks.\n",
              "      quickchartButtonEl.classList.add('colab-df-spinner');\n",
              "      try {\n",
              "        const charts = await google.colab.kernel.invokeFunction(\n",
              "            'suggestCharts', [key], {});\n",
              "      } catch (error) {\n",
              "        console.error('Error during call to suggestCharts:', error);\n",
              "      }\n",
              "      quickchartButtonEl.classList.remove('colab-df-spinner');\n",
              "      quickchartButtonEl.classList.add('colab-df-quickchart-complete');\n",
              "    }\n",
              "    (() => {\n",
              "      let quickchartButtonEl =\n",
              "        document.querySelector('#df-b7c5ea21-fcaa-4660-aa95-cf6250250208 button');\n",
              "      quickchartButtonEl.style.display =\n",
              "        google.colab.kernel.accessAllowed ? 'block' : 'none';\n",
              "    })();\n",
              "  </script>\n",
              "</div>\n",
              "    </div>\n",
              "  </div>\n"
            ]
          },
          "metadata": {},
          "execution_count": 142
        }
      ]
    },
    {
      "cell_type": "code",
      "source": [
        "scaler=MinMaxScaler()\n"
      ],
      "metadata": {
        "id": "40n2P8YuzeEC"
      },
      "execution_count": 143,
      "outputs": []
    }
  ]
}