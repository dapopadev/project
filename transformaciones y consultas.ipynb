{
  "nbformat": 4,
  "nbformat_minor": 0,
  "metadata": {
    "colab": {
      "provenance": [],
      "authorship_tag": "ABX9TyNLU6HQf/3MqXWa2Snpd64Q",
      "include_colab_link": true
    },
    "kernelspec": {
      "name": "python3",
      "display_name": "Python 3"
    },
    "language_info": {
      "name": "python"
    }
  },
  "cells": [
    {
      "cell_type": "markdown",
      "metadata": {
        "id": "view-in-github",
        "colab_type": "text"
      },
      "source": [
        "<a href=\"https://colab.research.google.com/github/dapopadev/project/blob/main/transformaciones%20y%20consultas.ipynb\" target=\"_parent\"><img src=\"https://colab.research.google.com/assets/colab-badge.svg\" alt=\"Open In Colab\"/></a>"
      ]
    },
    {
      "cell_type": "markdown",
      "source": [],
      "metadata": {
        "id": "bSu-_fhn24Ht"
      }
    },
    {
      "cell_type": "code",
      "source": [
        "from google.colab import drive\n",
        "drive.mount('/content/drive')"
      ],
      "metadata": {
        "colab": {
          "base_uri": "https://localhost:8080/"
        },
        "id": "IfFZWOzjO4vQ",
        "outputId": "a1d94df5-a122-4132-f2b5-a9186a90eff8"
      },
      "execution_count": 1,
      "outputs": [
        {
          "output_type": "stream",
          "name": "stdout",
          "text": [
            "Mounted at /content/drive\n"
          ]
        }
      ]
    },
    {
      "cell_type": "markdown",
      "source": [
        "# Nueva sección"
      ],
      "metadata": {
        "id": "-XbSHixxQqYQ"
      }
    },
    {
      "cell_type": "code",
      "source": [
        "!pip install pyspark\n"
      ],
      "metadata": {
        "colab": {
          "base_uri": "https://localhost:8080/"
        },
        "id": "xFv2KequTjak",
        "outputId": "afb8d080-12ea-49d4-b43b-3c6b5252fe20"
      },
      "execution_count": 2,
      "outputs": [
        {
          "output_type": "stream",
          "name": "stdout",
          "text": [
            "Collecting pyspark\n",
            "  Downloading pyspark-3.4.1.tar.gz (310.8 MB)\n",
            "\u001b[2K     \u001b[90m━━━━━━━━━━━━━━━━━━━━━━━━━━━━━━━━━━━━━━━\u001b[0m \u001b[32m310.8/310.8 MB\u001b[0m \u001b[31m3.4 MB/s\u001b[0m eta \u001b[36m0:00:00\u001b[0m\n",
            "\u001b[?25h  Preparing metadata (setup.py) ... \u001b[?25l\u001b[?25hdone\n",
            "Requirement already satisfied: py4j==0.10.9.7 in /usr/local/lib/python3.10/dist-packages (from pyspark) (0.10.9.7)\n",
            "Building wheels for collected packages: pyspark\n",
            "  Building wheel for pyspark (setup.py) ... \u001b[?25l\u001b[?25hdone\n",
            "  Created wheel for pyspark: filename=pyspark-3.4.1-py2.py3-none-any.whl size=311285387 sha256=64195effc8c6304289a451d4ca7c15b72596690042da0cdb4c43b4a5a12a7179\n",
            "  Stored in directory: /root/.cache/pip/wheels/0d/77/a3/ff2f74cc9ab41f8f594dabf0579c2a7c6de920d584206e0834\n",
            "Successfully built pyspark\n",
            "Installing collected packages: pyspark\n",
            "Successfully installed pyspark-3.4.1\n"
          ]
        }
      ]
    },
    {
      "cell_type": "code",
      "source": [
        "from pyspark.sql import SparkSession"
      ],
      "metadata": {
        "id": "yo4eLPYyX_iL"
      },
      "execution_count": 3,
      "outputs": []
    },
    {
      "cell_type": "code",
      "source": [
        "spark=SparkSession.builder\\\n",
        "      .master('local')\\\n",
        "      .appName('Colab')\\\n",
        "      .config('spark.vi.port',4050)\\\n",
        "      .getOrCreate()\n"
      ],
      "metadata": {
        "id": "p5S9OfpbYqDS"
      },
      "execution_count": 4,
      "outputs": []
    },
    {
      "cell_type": "code",
      "source": [
        "spark"
      ],
      "metadata": {
        "colab": {
          "base_uri": "https://localhost:8080/",
          "height": 216
        },
        "id": "sb1UpOSRag3_",
        "outputId": "f362755d-85b2-4392-adac-d1cd943054d4"
      },
      "execution_count": 5,
      "outputs": [
        {
          "output_type": "execute_result",
          "data": {
            "text/plain": [
              "<pyspark.sql.session.SparkSession at 0x7d62d67897e0>"
            ],
            "text/html": [
              "\n",
              "            <div>\n",
              "                <p><b>SparkSession - in-memory</b></p>\n",
              "                \n",
              "        <div>\n",
              "            <p><b>SparkContext</b></p>\n",
              "\n",
              "            <p><a href=\"http://cc316147d6fb:4040\">Spark UI</a></p>\n",
              "\n",
              "            <dl>\n",
              "              <dt>Version</dt>\n",
              "                <dd><code>v3.4.1</code></dd>\n",
              "              <dt>Master</dt>\n",
              "                <dd><code>local</code></dd>\n",
              "              <dt>AppName</dt>\n",
              "                <dd><code>Colab</code></dd>\n",
              "            </dl>\n",
              "        </div>\n",
              "        \n",
              "            </div>\n",
              "        "
            ]
          },
          "metadata": {},
          "execution_count": 5
        }
      ]
    },
    {
      "cell_type": "markdown",
      "source": [
        "Cargar datos de un fichero"
      ],
      "metadata": {
        "id": "xhDr_w6nbshb"
      }
    },
    {
      "cell_type": "code",
      "source": [
        "spark.readStream"
      ],
      "metadata": {
        "colab": {
          "base_uri": "https://localhost:8080/"
        },
        "id": "Sq6FiZP5bw9F",
        "outputId": "f52bc6e7-b603-432e-d2c1-c82ef48b348d"
      },
      "execution_count": 6,
      "outputs": [
        {
          "output_type": "execute_result",
          "data": {
            "text/plain": [
              "<pyspark.sql.streaming.readwriter.DataStreamReader at 0x7d62d67894e0>"
            ]
          },
          "metadata": {},
          "execution_count": 6
        }
      ]
    },
    {
      "cell_type": "code",
      "source": [
        "df=spark.read.csv('/content/sample_data/california_housing_test.csv',header=True)"
      ],
      "metadata": {
        "id": "-IdNinQAdB9g"
      },
      "execution_count": 7,
      "outputs": []
    },
    {
      "cell_type": "markdown",
      "source": [
        "Funciones para ver los datos\n",
        "  columns\n",
        "  show()\n",
        "  printSchema()\n",
        "  select()\n",
        "  filter()\n",
        "  count()\n",
        "  groupBy()"
      ],
      "metadata": {
        "id": "uAnNiyxaglsg"
      }
    },
    {
      "cell_type": "code",
      "source": [
        "df.show()"
      ],
      "metadata": {
        "colab": {
          "base_uri": "https://localhost:8080/"
        },
        "id": "UcMNUYKOiGL-",
        "outputId": "4bf2242c-bb33-4d59-b3de-530e828863fa"
      },
      "execution_count": 8,
      "outputs": [
        {
          "output_type": "stream",
          "name": "stdout",
          "text": [
            "+-----------+---------+------------------+-----------+--------------+-----------+-----------+-------------+------------------+\n",
            "|  longitude| latitude|housing_median_age|total_rooms|total_bedrooms| population| households|median_income|median_house_value|\n",
            "+-----------+---------+------------------+-----------+--------------+-----------+-----------+-------------+------------------+\n",
            "|-122.050000|37.370000|         27.000000|3885.000000|    661.000000|1537.000000| 606.000000|     6.608500|     344700.000000|\n",
            "|-118.300000|34.260000|         43.000000|1510.000000|    310.000000| 809.000000| 277.000000|     3.599000|     176500.000000|\n",
            "|-117.810000|33.780000|         27.000000|3589.000000|    507.000000|1484.000000| 495.000000|     5.793400|     270500.000000|\n",
            "|-118.360000|33.820000|         28.000000|  67.000000|     15.000000|  49.000000|  11.000000|     6.135900|     330000.000000|\n",
            "|-119.670000|36.330000|         19.000000|1241.000000|    244.000000| 850.000000| 237.000000|     2.937500|      81700.000000|\n",
            "|-119.560000|36.510000|         37.000000|1018.000000|    213.000000| 663.000000| 204.000000|     1.663500|      67000.000000|\n",
            "|-121.430000|38.630000|         43.000000|1009.000000|    225.000000| 604.000000| 218.000000|     1.664100|      67000.000000|\n",
            "|-120.650000|35.480000|         19.000000|2310.000000|    471.000000|1341.000000| 441.000000|     3.225000|     166900.000000|\n",
            "|-122.840000|38.400000|         15.000000|3080.000000|    617.000000|1446.000000| 599.000000|     3.669600|     194400.000000|\n",
            "|-118.020000|34.080000|         31.000000|2402.000000|    632.000000|2830.000000| 603.000000|     2.333300|     164200.000000|\n",
            "|-118.240000|33.980000|         45.000000| 972.000000|    249.000000|1288.000000| 261.000000|     2.205400|     125000.000000|\n",
            "|-119.120000|35.850000|         37.000000| 736.000000|    166.000000| 564.000000| 138.000000|     2.416700|      58300.000000|\n",
            "|-121.930000|37.250000|         36.000000|1089.000000|    182.000000| 535.000000| 170.000000|     4.690000|     252600.000000|\n",
            "|-117.030000|32.970000|         16.000000|3936.000000|    694.000000|1935.000000| 659.000000|     4.562500|     231200.000000|\n",
            "|-117.970000|33.730000|         27.000000|2097.000000|    325.000000|1217.000000| 331.000000|     5.712100|     222500.000000|\n",
            "|-117.990000|33.810000|         42.000000| 161.000000|     40.000000| 157.000000|  50.000000|     2.200000|     153100.000000|\n",
            "|-120.810000|37.530000|         15.000000| 570.000000|    123.000000| 189.000000| 107.000000|     1.875000|     181300.000000|\n",
            "|-121.200000|38.690000|         26.000000|3077.000000|    607.000000|1603.000000| 595.000000|     2.717400|     137500.000000|\n",
            "|-118.880000|34.210000|         26.000000|1590.000000|    196.000000| 654.000000| 199.000000|     6.585100|     300000.000000|\n",
            "|-122.590000|38.010000|         35.000000|8814.000000|   1307.000000|3450.000000|1258.000000|     6.172400|     414300.000000|\n",
            "+-----------+---------+------------------+-----------+--------------+-----------+-----------+-------------+------------------+\n",
            "only showing top 20 rows\n",
            "\n"
          ]
        }
      ]
    },
    {
      "cell_type": "code",
      "source": [
        "df.printSchema()"
      ],
      "metadata": {
        "colab": {
          "base_uri": "https://localhost:8080/"
        },
        "id": "g9NjT5ApkR9W",
        "outputId": "0e833eb4-1cf0-4514-ced0-cec1b51a5b3c"
      },
      "execution_count": 9,
      "outputs": [
        {
          "output_type": "stream",
          "name": "stdout",
          "text": [
            "root\n",
            " |-- longitude: string (nullable = true)\n",
            " |-- latitude: string (nullable = true)\n",
            " |-- housing_median_age: string (nullable = true)\n",
            " |-- total_rooms: string (nullable = true)\n",
            " |-- total_bedrooms: string (nullable = true)\n",
            " |-- population: string (nullable = true)\n",
            " |-- households: string (nullable = true)\n",
            " |-- median_income: string (nullable = true)\n",
            " |-- median_house_value: string (nullable = true)\n",
            "\n"
          ]
        }
      ]
    },
    {
      "cell_type": "code",
      "source": [],
      "metadata": {
        "id": "LTjvUtQDkXC3"
      },
      "execution_count": 9,
      "outputs": []
    },
    {
      "cell_type": "code",
      "source": [
        "df.select(\"total_bedrooms\",\"households\").show()"
      ],
      "metadata": {
        "colab": {
          "base_uri": "https://localhost:8080/"
        },
        "id": "PD-K9zjUkZnf",
        "outputId": "7ffe7b58-cfff-4df6-f81c-4bd16ec0cd5c"
      },
      "execution_count": 10,
      "outputs": [
        {
          "output_type": "stream",
          "name": "stdout",
          "text": [
            "+--------------+-----------+\n",
            "|total_bedrooms| households|\n",
            "+--------------+-----------+\n",
            "|    661.000000| 606.000000|\n",
            "|    310.000000| 277.000000|\n",
            "|    507.000000| 495.000000|\n",
            "|     15.000000|  11.000000|\n",
            "|    244.000000| 237.000000|\n",
            "|    213.000000| 204.000000|\n",
            "|    225.000000| 218.000000|\n",
            "|    471.000000| 441.000000|\n",
            "|    617.000000| 599.000000|\n",
            "|    632.000000| 603.000000|\n",
            "|    249.000000| 261.000000|\n",
            "|    166.000000| 138.000000|\n",
            "|    182.000000| 170.000000|\n",
            "|    694.000000| 659.000000|\n",
            "|    325.000000| 331.000000|\n",
            "|     40.000000|  50.000000|\n",
            "|    123.000000| 107.000000|\n",
            "|    607.000000| 595.000000|\n",
            "|    196.000000| 199.000000|\n",
            "|   1307.000000|1258.000000|\n",
            "+--------------+-----------+\n",
            "only showing top 20 rows\n",
            "\n"
          ]
        }
      ]
    },
    {
      "cell_type": "code",
      "source": [
        "df.filter(\"total_rooms<=67\").select(\"total_rooms\",\"total_bedrooms\").show()"
      ],
      "metadata": {
        "colab": {
          "base_uri": "https://localhost:8080/"
        },
        "id": "RW_fsgtqSh7o",
        "outputId": "0fed68b7-cbb5-414f-e589-a876fe5563bb"
      },
      "execution_count": 11,
      "outputs": [
        {
          "output_type": "stream",
          "name": "stdout",
          "text": [
            "+-----------+--------------+\n",
            "|total_rooms|total_bedrooms|\n",
            "+-----------+--------------+\n",
            "|  67.000000|     15.000000|\n",
            "|  19.000000|     19.000000|\n",
            "|  40.000000|      8.000000|\n",
            "|  38.000000|      8.000000|\n",
            "|  16.000000|      4.000000|\n",
            "|  41.000000|     17.000000|\n",
            "|   6.000000|      2.000000|\n",
            "|  60.000000|     11.000000|\n",
            "|  48.000000|     12.000000|\n",
            "|  25.000000|      5.000000|\n",
            "|  42.000000|     14.000000|\n",
            "|  32.000000|      8.000000|\n",
            "|  32.000000|      7.000000|\n",
            "|  49.000000|     14.000000|\n",
            "|  45.000000|      8.000000|\n",
            "|  18.000000|      3.000000|\n",
            "|  21.000000|      7.000000|\n",
            "|  48.000000|      8.000000|\n",
            "|  66.000000|     22.000000|\n",
            "+-----------+--------------+\n",
            "\n"
          ]
        }
      ]
    },
    {
      "cell_type": "code",
      "source": [
        "df_filtrado=df.filter(\"total_rooms<=67\").select(\"total_rooms\",\"total_bedrooms\")\n",
        "df_filtrado.show()"
      ],
      "metadata": {
        "colab": {
          "base_uri": "https://localhost:8080/"
        },
        "id": "E2p53nuKX1yh",
        "outputId": "228e9d1b-0b09-465e-88ca-3363ae0003d3"
      },
      "execution_count": 12,
      "outputs": [
        {
          "output_type": "stream",
          "name": "stdout",
          "text": [
            "+-----------+--------------+\n",
            "|total_rooms|total_bedrooms|\n",
            "+-----------+--------------+\n",
            "|  67.000000|     15.000000|\n",
            "|  19.000000|     19.000000|\n",
            "|  40.000000|      8.000000|\n",
            "|  38.000000|      8.000000|\n",
            "|  16.000000|      4.000000|\n",
            "|  41.000000|     17.000000|\n",
            "|   6.000000|      2.000000|\n",
            "|  60.000000|     11.000000|\n",
            "|  48.000000|     12.000000|\n",
            "|  25.000000|      5.000000|\n",
            "|  42.000000|     14.000000|\n",
            "|  32.000000|      8.000000|\n",
            "|  32.000000|      7.000000|\n",
            "|  49.000000|     14.000000|\n",
            "|  45.000000|      8.000000|\n",
            "|  18.000000|      3.000000|\n",
            "|  21.000000|      7.000000|\n",
            "|  48.000000|      8.000000|\n",
            "|  66.000000|     22.000000|\n",
            "+-----------+--------------+\n",
            "\n"
          ]
        }
      ]
    },
    {
      "cell_type": "code",
      "source": [
        "df.select(\"housing_median_age\",\"median_income\",\"population\"). show()"
      ],
      "metadata": {
        "id": "YeoQOLoRXHoN",
        "colab": {
          "base_uri": "https://localhost:8080/"
        },
        "outputId": "025b69e0-1503-48f8-d303-f0428e4f6dac"
      },
      "execution_count": 13,
      "outputs": [
        {
          "output_type": "stream",
          "name": "stdout",
          "text": [
            "+------------------+-------------+-----------+\n",
            "|housing_median_age|median_income| population|\n",
            "+------------------+-------------+-----------+\n",
            "|         27.000000|     6.608500|1537.000000|\n",
            "|         43.000000|     3.599000| 809.000000|\n",
            "|         27.000000|     5.793400|1484.000000|\n",
            "|         28.000000|     6.135900|  49.000000|\n",
            "|         19.000000|     2.937500| 850.000000|\n",
            "|         37.000000|     1.663500| 663.000000|\n",
            "|         43.000000|     1.664100| 604.000000|\n",
            "|         19.000000|     3.225000|1341.000000|\n",
            "|         15.000000|     3.669600|1446.000000|\n",
            "|         31.000000|     2.333300|2830.000000|\n",
            "|         45.000000|     2.205400|1288.000000|\n",
            "|         37.000000|     2.416700| 564.000000|\n",
            "|         36.000000|     4.690000| 535.000000|\n",
            "|         16.000000|     4.562500|1935.000000|\n",
            "|         27.000000|     5.712100|1217.000000|\n",
            "|         42.000000|     2.200000| 157.000000|\n",
            "|         15.000000|     1.875000| 189.000000|\n",
            "|         26.000000|     2.717400|1603.000000|\n",
            "|         26.000000|     6.585100| 654.000000|\n",
            "|         35.000000|     6.172400|3450.000000|\n",
            "+------------------+-------------+-----------+\n",
            "only showing top 20 rows\n",
            "\n"
          ]
        }
      ]
    },
    {
      "cell_type": "code",
      "source": [
        "df.select(\"housing_median_age\",\"median_income\",\"population\").show"
      ],
      "metadata": {
        "colab": {
          "base_uri": "https://localhost:8080/"
        },
        "id": "Xyxgsd1aZnzp",
        "outputId": "19bfaae3-1be2-480b-fe2d-64a78c417447"
      },
      "execution_count": 14,
      "outputs": [
        {
          "output_type": "execute_result",
          "data": {
            "text/plain": [
              "<bound method DataFrame.show of DataFrame[housing_median_age: string, median_income: string, population: string]>"
            ]
          },
          "metadata": {},
          "execution_count": 14
        }
      ]
    },
    {
      "cell_type": "code",
      "source": [
        "df.select(\"housing_median_age\",\"median_income\",\"population\").show()"
      ],
      "metadata": {
        "colab": {
          "base_uri": "https://localhost:8080/"
        },
        "id": "Xpw-FB-KeZOd",
        "outputId": "4963a92e-7797-4d1b-8bac-ee0089ea3f6a"
      },
      "execution_count": 15,
      "outputs": [
        {
          "output_type": "stream",
          "name": "stdout",
          "text": [
            "+------------------+-------------+-----------+\n",
            "|housing_median_age|median_income| population|\n",
            "+------------------+-------------+-----------+\n",
            "|         27.000000|     6.608500|1537.000000|\n",
            "|         43.000000|     3.599000| 809.000000|\n",
            "|         27.000000|     5.793400|1484.000000|\n",
            "|         28.000000|     6.135900|  49.000000|\n",
            "|         19.000000|     2.937500| 850.000000|\n",
            "|         37.000000|     1.663500| 663.000000|\n",
            "|         43.000000|     1.664100| 604.000000|\n",
            "|         19.000000|     3.225000|1341.000000|\n",
            "|         15.000000|     3.669600|1446.000000|\n",
            "|         31.000000|     2.333300|2830.000000|\n",
            "|         45.000000|     2.205400|1288.000000|\n",
            "|         37.000000|     2.416700| 564.000000|\n",
            "|         36.000000|     4.690000| 535.000000|\n",
            "|         16.000000|     4.562500|1935.000000|\n",
            "|         27.000000|     5.712100|1217.000000|\n",
            "|         42.000000|     2.200000| 157.000000|\n",
            "|         15.000000|     1.875000| 189.000000|\n",
            "|         26.000000|     2.717400|1603.000000|\n",
            "|         26.000000|     6.585100| 654.000000|\n",
            "|         35.000000|     6.172400|3450.000000|\n",
            "+------------------+-------------+-----------+\n",
            "only showing top 20 rows\n",
            "\n"
          ]
        }
      ]
    },
    {
      "cell_type": "code",
      "source": [
        "df.count()"
      ],
      "metadata": {
        "colab": {
          "base_uri": "https://localhost:8080/"
        },
        "id": "ZnUqACz_gTZ8",
        "outputId": "844a7393-714f-4d82-c0b7-e85617a5011d"
      },
      "execution_count": 16,
      "outputs": [
        {
          "output_type": "execute_result",
          "data": {
            "text/plain": [
              "3000"
            ]
          },
          "metadata": {},
          "execution_count": 16
        }
      ]
    },
    {
      "cell_type": "code",
      "source": [
        "df.filter (\"housing_median_age>10\").count()"
      ],
      "metadata": {
        "colab": {
          "base_uri": "https://localhost:8080/"
        },
        "id": "ujowTYq9gszY",
        "outputId": "70de79db-c19f-4a6b-8cd1-e0bd1f410762"
      },
      "execution_count": 17,
      "outputs": [
        {
          "output_type": "execute_result",
          "data": {
            "text/plain": [
              "2786"
            ]
          },
          "metadata": {},
          "execution_count": 17
        }
      ]
    },
    {
      "cell_type": "code",
      "source": [
        "df.filter(\"housing_median_age<10\").count()"
      ],
      "metadata": {
        "colab": {
          "base_uri": "https://localhost:8080/"
        },
        "id": "soXqhzgsi56y",
        "outputId": "b0a133a1-f445-41d8-eddd-1c7ef6ff3486"
      },
      "execution_count": 18,
      "outputs": [
        {
          "output_type": "execute_result",
          "data": {
            "text/plain": [
              "184"
            ]
          },
          "metadata": {},
          "execution_count": 18
        }
      ]
    },
    {
      "cell_type": "code",
      "source": [
        "df=df.filter(\"housing_median_age>10\")"
      ],
      "metadata": {
        "id": "S3VIoH5ZloIZ"
      },
      "execution_count": 19,
      "outputs": []
    },
    {
      "cell_type": "code",
      "source": [
        "df.count()"
      ],
      "metadata": {
        "colab": {
          "base_uri": "https://localhost:8080/"
        },
        "id": "9m8pzx-GmVr8",
        "outputId": "3f79571b-2003-4355-d7e0-6bf1c194ec87"
      },
      "execution_count": 20,
      "outputs": [
        {
          "output_type": "execute_result",
          "data": {
            "text/plain": [
              "2786"
            ]
          },
          "metadata": {},
          "execution_count": 20
        }
      ]
    },
    {
      "cell_type": "code",
      "source": [],
      "metadata": {
        "id": "ADqswVrnnWIf"
      },
      "execution_count": 20,
      "outputs": []
    }
  ]
}